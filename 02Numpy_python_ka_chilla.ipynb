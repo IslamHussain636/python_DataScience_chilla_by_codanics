{
 "cells": [
  {
   "cell_type": "markdown",
   "id": "636fc7b5",
   "metadata": {},
   "source": [
    "# NumPy \n",
    "- Numerical Python\n",
    "- NumPy is the fundamental package for scientific computing in Python that provides (Open-Source)\n",
    "- Library that provides a multidimensional array object, various derived objects(Universal standard for working with numerical data)\n",
    "- and an assortment of routines for fast operations on arrays,\n",
    "- including mathematical, \n",
    "- logical, shape manipulation,\n",
    "- sorting, selecting, I/O, \n",
    "- discrete Fourier transforms, \n",
    "- basic linear algebra, \n",
    "- basic statistical operations, \n",
    "- random simulation and many more like them."
   ]
  },
  {
   "cell_type": "markdown",
   "id": "27b6fa4f",
   "metadata": {},
   "source": [
    "## NumPy Installation \n",
    "* conda install numpy- In command prompt\n",
    "* pip install numpy - In VsCode\n",
    "- Both of the above command can be used for installation \n"
   ]
  },
  {
   "cell_type": "markdown",
   "id": "04b818a3",
   "metadata": {},
   "source": [
    "###### LIST vs Numpy\n",
    "- similar to list in shape \n",
    "- Faster than List\n",
    "- less memory consumable\n",
    "- Numpy works on same data type while list can work with different data type\n",
    "- for short code list can be used"
   ]
  },
  {
   "cell_type": "code",
   "execution_count": 60,
   "id": "72f88178",
   "metadata": {},
   "outputs": [
    {
     "data": {
      "text/plain": [
       "['islam', 'khan', 1, 2, 3, 2.4]"
      ]
     },
     "execution_count": 60,
     "metadata": {},
     "output_type": "execute_result"
    }
   ],
   "source": [
    "#list\n",
    "aa=['islam','khan',1,2,3,2.4]\n",
    "aa"
   ]
  },
  {
   "cell_type": "code",
   "execution_count": 59,
   "id": "39021f14",
   "metadata": {},
   "outputs": [
    {
     "data": {
      "text/plain": [
       "array([1, 2, 3, 4, 5, 6, 7])"
      ]
     },
     "execution_count": 59,
     "metadata": {},
     "output_type": "execute_result"
    }
   ],
   "source": [
    "#numpy\n",
    "a=np.array([1,2,3,4,5,6,7])\n",
    "a"
   ]
  },
  {
   "cell_type": "code",
   "execution_count": 74,
   "id": "63a77820",
   "metadata": {},
   "outputs": [
    {
     "data": {
      "text/plain": [
       "array([1, 1, 1, 1, 1], dtype=int16)"
      ]
     },
     "execution_count": 74,
     "metadata": {},
     "output_type": "execute_result"
    }
   ],
   "source": [
    "k=np.ones(5, dtype=np.int16)\n",
    "k"
   ]
  },
  {
   "cell_type": "code",
   "execution_count": 73,
   "id": "0223b772",
   "metadata": {},
   "outputs": [
    {
     "data": {
      "text/plain": [
       "array([1, 1, 1, 1, 1], dtype=int8)"
      ]
     },
     "execution_count": 73,
     "metadata": {},
     "output_type": "execute_result"
    }
   ],
   "source": [
    "k=np.ones(5, dtype=np.int8)\n",
    "k"
   ]
  },
  {
   "cell_type": "code",
   "execution_count": 75,
   "id": "a1aec9c1",
   "metadata": {},
   "outputs": [
    {
     "data": {
      "text/plain": [
       "array([1, 1, 1, 1, 1])"
      ]
     },
     "execution_count": 75,
     "metadata": {},
     "output_type": "execute_result"
    }
   ],
   "source": [
    "k=np.ones(5, dtype=np.int32)\n",
    "k"
   ]
  },
  {
   "cell_type": "code",
   "execution_count": 61,
   "id": "998558e1",
   "metadata": {},
   "outputs": [
    {
     "data": {
      "text/plain": [
       "list"
      ]
     },
     "execution_count": 61,
     "metadata": {},
     "output_type": "execute_result"
    }
   ],
   "source": [
    "type(aa)"
   ]
  },
  {
   "cell_type": "markdown",
   "id": "ce3fecea",
   "metadata": {},
   "source": [
    "### Statring with our first line of code in numpy\n",
    "- the first step is to import the numpy library \n",
    "- let gets started with an example"
   ]
  },
  {
   "cell_type": "code",
   "execution_count": 2,
   "id": "79e13721",
   "metadata": {},
   "outputs": [
    {
     "name": "stdout",
     "output_type": "stream",
     "text": [
      "[0 1 2 3 4 5 6 7 8 9]\n"
     ]
    }
   ],
   "source": [
    "#Importing the numpy library\n",
    "import numpy as np\n",
    "\n",
    "#now we are going to print some number using numpy let's see how it works\n",
    "a=np.arange(10)\n",
    "print(a)"
   ]
  },
  {
   "cell_type": "markdown",
   "id": "813d6470",
   "metadata": {},
   "source": [
    "- In the above example we just use a single of code to print first 10 positive integers"
   ]
  },
  {
   "cell_type": "markdown",
   "id": "f39d5d0e",
   "metadata": {},
   "source": [
    "#### Array\n",
    "- Array is a data structure which can store data of same data type like string, integer, float etc.\n",
    "- \n"
   ]
  },
  {
   "cell_type": "code",
   "execution_count": 10,
   "id": "167c8492",
   "metadata": {},
   "outputs": [
    {
     "data": {
      "text/plain": [
       "array(['Sami khan', 'Amir', ' Xeshan', 'Fawad', 'Abdullah'], dtype='<U9')"
      ]
     },
     "execution_count": 10,
     "metadata": {},
     "output_type": "execute_result"
    }
   ],
   "source": [
    "#Example of an array\n",
    "#array conataing names of my friends \n",
    "my_friends=np.array(['Sami khan','Amir', ' Xeshan','Fawad','Abdullah'])\n",
    "my_friends"
   ]
  },
  {
   "cell_type": "code",
   "execution_count": 6,
   "id": "afe7e4f4",
   "metadata": {},
   "outputs": [
    {
     "data": {
      "text/plain": [
       "array([1, 2, 3, 4, 5, 6])"
      ]
     },
     "execution_count": 6,
     "metadata": {},
     "output_type": "execute_result"
    }
   ],
   "source": [
    "num=np.array([1,2,3,4,5,6])\n",
    "num"
   ]
  },
  {
   "cell_type": "markdown",
   "id": "fd1e2b8e",
   "metadata": {},
   "source": [
    "##### Dimensions of  array\n",
    "- 1D\n",
    "- 2D\n",
    "- 3D\n"
   ]
  },
  {
   "cell_type": "code",
   "execution_count": 11,
   "id": "1a041754",
   "metadata": {},
   "outputs": [
    {
     "data": {
      "text/plain": [
       "array([1, 2, 3, 4, 5, 6])"
      ]
     },
     "execution_count": 11,
     "metadata": {},
     "output_type": "execute_result"
    }
   ],
   "source": [
    "#1Dimensional array\n",
    "num=np.array([1,2,3,4,5,6])\n",
    "num"
   ]
  },
  {
   "cell_type": "code",
   "execution_count": 12,
   "id": "a86d2200",
   "metadata": {},
   "outputs": [
    {
     "data": {
      "text/plain": [
       "array([[ 1,  2,  3,  4],\n",
       "       [ 5,  6,  7,  8],\n",
       "       [ 9, 10, 11, 12]])"
      ]
     },
     "execution_count": 12,
     "metadata": {},
     "output_type": "execute_result"
    }
   ],
   "source": [
    "#2Dimensional array\n",
    "a = np.array([[1, 2, 3, 4], [5, 6, 7, 8], [9, 10, 11, 12]])\n",
    "a"
   ]
  },
  {
   "cell_type": "markdown",
   "id": "fabdafcd",
   "metadata": {},
   "source": [
    "### Tensors \n",
    "- 3D is known as tensor "
   ]
  },
  {
   "cell_type": "code",
   "execution_count": 13,
   "id": "d6150ede",
   "metadata": {},
   "outputs": [
    {
     "data": {
      "text/plain": [
       "array([[[0, 1, 2, 3],\n",
       "        [4, 5, 6, 7]],\n",
       "\n",
       "       [[0, 1, 2, 3],\n",
       "        [4, 5, 6, 7]],\n",
       "\n",
       "       [[0, 1, 2, 3],\n",
       "        [4, 5, 6, 7]]])"
      ]
     },
     "execution_count": 13,
     "metadata": {},
     "output_type": "execute_result"
    }
   ],
   "source": [
    "#3Dimensional array - tensor\n",
    "N3_d= np.array([[[0, 1, 2, 3],\n",
    "                           [4, 5, 6, 7]],\n",
    "\n",
    "                          [[0, 1, 2, 3],\n",
    "                           [4, 5, 6, 7]],\n",
    "\n",
    "                          [[0 ,1 ,2, 3],\n",
    "                           [4, 5, 6, 7]]])\n",
    "N3_d\n"
   ]
  },
  {
   "cell_type": "code",
   "execution_count": 78,
   "id": "67a53c17",
   "metadata": {},
   "outputs": [
    {
     "data": {
      "text/plain": [
       "array([[[ 0,  1],\n",
       "        [ 2,  3],\n",
       "        [ 4,  5],\n",
       "        [ 6,  7]],\n",
       "\n",
       "       [[ 8,  9],\n",
       "        [10, 11],\n",
       "        [12, 13],\n",
       "        [14, 15]],\n",
       "\n",
       "       [[16, 17],\n",
       "        [18, 19],\n",
       "        [20, 21],\n",
       "        [22, 23]]])"
      ]
     },
     "execution_count": 78,
     "metadata": {},
     "output_type": "execute_result"
    }
   ],
   "source": [
    "#Assignment of making 3d array\n",
    "assign_chilla=np.arange(24).reshape(3,4,2)\n",
    "assign_chilla"
   ]
  },
  {
   "cell_type": "code",
   "execution_count": 72,
   "id": "d0b5899d",
   "metadata": {},
   "outputs": [
    {
     "data": {
      "text/plain": [
       "array([[[0, 1, 2, 3],\n",
       "        [4, 5, 6, 7]]])"
      ]
     },
     "execution_count": 72,
     "metadata": {},
     "output_type": "execute_result"
    }
   ],
   "source": [
    "N3_d[1:2:3]"
   ]
  },
  {
   "cell_type": "markdown",
   "id": "39bef13f",
   "metadata": {},
   "source": [
    "- Arrays of different type using various function. \n",
    "- let's see few example\n"
   ]
  },
  {
   "cell_type": "markdown",
   "id": "6a853e3b",
   "metadata": {},
   "source": [
    "### Vector\n",
    "- one dimensional array is known as Vector \n"
   ]
  },
  {
   "cell_type": "code",
   "execution_count": 65,
   "id": "63d75d35",
   "metadata": {},
   "outputs": [
    {
     "data": {
      "text/plain": [
       "array([1, 2, 3, 4, 5, 6, 7])"
      ]
     },
     "execution_count": 65,
     "metadata": {},
     "output_type": "execute_result"
    }
   ],
   "source": [
    "#vector\n",
    "vector=np.array([1,2,3,4,5,6,7])\n",
    "vector"
   ]
  },
  {
   "cell_type": "markdown",
   "id": "2590ba02",
   "metadata": {},
   "source": [
    "### matrix\n",
    "- An array with two dimension is know as matrix"
   ]
  },
  {
   "cell_type": "code",
   "execution_count": 66,
   "id": "ccb77549",
   "metadata": {},
   "outputs": [
    {
     "data": {
      "text/plain": [
       "array([[ 1,  2,  3,  4,  5],\n",
       "       [ 6,  7,  8,  9,  0],\n",
       "       [11, 22, 33, 44, 55]])"
      ]
     },
     "execution_count": 66,
     "metadata": {},
     "output_type": "execute_result"
    }
   ],
   "source": [
    "#matrix\n",
    "matrix=np.array([[1,2,3,4,5],[6,7,8,9,0],[11,22,33,44,55]])\n",
    "matrix"
   ]
  },
  {
   "cell_type": "markdown",
   "id": "34b79d16",
   "metadata": {},
   "source": [
    "## Functions of an array"
   ]
  },
  {
   "cell_type": "code",
   "execution_count": 68,
   "id": "6748d2c9",
   "metadata": {},
   "outputs": [
    {
     "data": {
      "text/plain": [
       "array([1, 2, 3, 4, 5])"
      ]
     },
     "execution_count": 68,
     "metadata": {},
     "output_type": "execute_result"
    }
   ],
   "source": [
    "import numpy as np \n",
    "n=np.array([1,2,3,4,5])\n",
    "n"
   ]
  },
  {
   "cell_type": "code",
   "execution_count": 69,
   "id": "cfd09e65",
   "metadata": {},
   "outputs": [
    {
     "data": {
      "text/plain": [
       "array([0., 0., 0., 0., 0., 0.])"
      ]
     },
     "execution_count": 69,
     "metadata": {},
     "output_type": "execute_result"
    }
   ],
   "source": [
    "#array of zeros\n",
    "zero_array= np.zeros(6)\n",
    "zero_array"
   ]
  },
  {
   "cell_type": "code",
   "execution_count": 20,
   "id": "d7ebe93f",
   "metadata": {},
   "outputs": [
    {
     "data": {
      "text/plain": [
       "array([1., 1., 1., 1., 1.])"
      ]
     },
     "execution_count": 20,
     "metadata": {},
     "output_type": "execute_result"
    }
   ],
   "source": [
    "#array of ones\n",
    "\n",
    "one_array=np.ones(5) \n",
    "#(5) this argument specify how much time you want to print the one\n",
    "one_array"
   ]
  },
  {
   "cell_type": "code",
   "execution_count": 70,
   "id": "1493b72b",
   "metadata": {},
   "outputs": [
    {
     "data": {
      "text/plain": [
       "7"
      ]
     },
     "execution_count": 70,
     "metadata": {},
     "output_type": "execute_result"
    }
   ],
   "source": [
    "len(a)"
   ]
  },
  {
   "cell_type": "code",
   "execution_count": 71,
   "id": "bbfbbbd9",
   "metadata": {},
   "outputs": [
    {
     "data": {
      "text/plain": [
       "numpy.ndarray"
      ]
     },
     "execution_count": 71,
     "metadata": {},
     "output_type": "execute_result"
    }
   ],
   "source": [
    "type(a)"
   ]
  },
  {
   "cell_type": "code",
   "execution_count": 22,
   "id": "03b08a04",
   "metadata": {},
   "outputs": [
    {
     "data": {
      "text/plain": [
       "array([2.04710282e-110, 7.93104460e+212])"
      ]
     },
     "execution_count": 22,
     "metadata": {},
     "output_type": "execute_result"
    }
   ],
   "source": [
    "#empty array\n",
    "empty_array=np.empty(2)\n",
    "#it will produce an array with any random two numbers\n",
    "empty_array\n",
    "\n",
    "#your results can be differnt than this "
   ]
  },
  {
   "cell_type": "code",
   "execution_count": null,
   "id": "57da09b4",
   "metadata": {},
   "outputs": [],
   "source": []
  },
  {
   "cell_type": "markdown",
   "id": "e50b80fa",
   "metadata": {},
   "source": [
    "###### Arange function \n",
    "- with arange function one can create a range of elements\n",
    "- with in arange we can also specify limits\n",
    "- even, odd and many other let see with examples\n",
    "- To do this, you will specify the first number, last number, and the step size."
   ]
  },
  {
   "cell_type": "code",
   "execution_count": 23,
   "id": "a92896d4",
   "metadata": {},
   "outputs": [
    {
     "data": {
      "text/plain": [
       "array([0, 1, 2, 3, 4])"
      ]
     },
     "execution_count": 23,
     "metadata": {},
     "output_type": "execute_result"
    }
   ],
   "source": [
    "#arange function\n",
    "nums=np.arange(5)\n",
    "nums"
   ]
  },
  {
   "cell_type": "code",
   "execution_count": 25,
   "id": "48a2eb31",
   "metadata": {},
   "outputs": [
    {
     "data": {
      "text/plain": [
       "array([ 2,  4,  6,  8, 10, 12, 14, 16, 18])"
      ]
     },
     "execution_count": 25,
     "metadata": {},
     "output_type": "execute_result"
    }
   ],
   "source": [
    "#Even numbers with arange function\n",
    "even_nums= np.arange(2,20,2)\n",
    "#specifiy starting from 2 to 20 with gap of 2\n",
    "even_nums"
   ]
  },
  {
   "cell_type": "code",
   "execution_count": 26,
   "id": "cbe17e44",
   "metadata": {},
   "outputs": [
    {
     "data": {
      "text/plain": [
       "array([ 1,  3,  5,  7,  9, 11, 13, 15, 17, 19])"
      ]
     },
     "execution_count": 26,
     "metadata": {},
     "output_type": "execute_result"
    }
   ],
   "source": [
    "#specifying odd numbers \n",
    "odd=np.arange(1,20,2)\n",
    "odd"
   ]
  },
  {
   "cell_type": "code",
   "execution_count": 28,
   "id": "030b98ca",
   "metadata": {},
   "outputs": [
    {
     "data": {
      "text/plain": [
       "array([ 6, 12, 18, 24, 30, 36, 42, 48, 54, 60, 66, 72, 78, 84, 90, 96])"
      ]
     },
     "execution_count": 28,
     "metadata": {},
     "output_type": "execute_result"
    }
   ],
   "source": [
    "#multiples of 6\n",
    "multiple_of_6= np.arange(6,100,6)\n",
    "multiple_of_6"
   ]
  },
  {
   "cell_type": "markdown",
   "id": "7e41f3d7",
   "metadata": {},
   "source": [
    "###### linspace()\n",
    "- linspace function print numbers that are equally spaced"
   ]
  },
  {
   "cell_type": "code",
   "execution_count": 30,
   "id": "9496bca4",
   "metadata": {},
   "outputs": [
    {
     "data": {
      "text/plain": [
       "array([4.        , 4.57142857, 5.14285714, 5.71428571, 6.28571429,\n",
       "       6.85714286, 7.42857143, 8.        ])"
      ]
     },
     "execution_count": 30,
     "metadata": {},
     "output_type": "execute_result"
    }
   ],
   "source": [
    "#using lispace to print 8 nums btw 4 and 8 that are equally spaced\n",
    "k=np.linspace(4, 8, num=8)\n",
    "k"
   ]
  },
  {
   "cell_type": "markdown",
   "id": "c0d6a04e",
   "metadata": {},
   "source": [
    "###### Soting an Array\n",
    "- Adding, \n",
    "- removing, \n",
    "- sorting elements"
   ]
  },
  {
   "cell_type": "code",
   "execution_count": 34,
   "id": "cdd6d99d",
   "metadata": {},
   "outputs": [
    {
     "data": {
      "text/plain": [
       "array([ 0,  1,  2,  3,  4,  5,  6,  7,  8,  9, 10, 11, 12, 13, 14, 15, 16,\n",
       "       17, 18, 19, 20])"
      ]
     },
     "execution_count": 34,
     "metadata": {},
     "output_type": "execute_result"
    }
   ],
   "source": [
    "#sorting first 20  numbers in accending order\n",
    "arr_1 = np.array([2, 16, 5, 3,13, 17, 4,19, 6, 8,12,11,9,15,20,10,14,1,7,0,18])\n",
    "np.sort(arr_1)"
   ]
  },
  {
   "cell_type": "markdown",
   "id": "5789beaa",
   "metadata": {},
   "source": [
    "###### Desecnding order \n",
    "- there is no actual function but with the help of reverse() method we can reverse the sorted array to a different order. "
   ]
  },
  {
   "cell_type": "code",
   "execution_count": 39,
   "id": "888c9e7e",
   "metadata": {},
   "outputs": [
    {
     "data": {
      "text/plain": [
       "[20, 19, 18, 17, 16, 15, 14, 13, 12, 11, 10, 9, 8, 7, 6, 5, 4, 3, 2, 1, 0]"
      ]
     },
     "execution_count": 39,
     "metadata": {},
     "output_type": "execute_result"
    }
   ],
   "source": [
    "#bring the sorted array and apply the reverse method on that to print it in reversed order\n",
    "arr_2=([ 0,  1,  2,  3,  4,  5,  6,  7,  8,  9, 10, 11, 12, 13, 14, 15, 16,\n",
    "       17, 18, 19, 20])\n",
    "arr_2.reverse()\n",
    "arr_2"
   ]
  },
  {
   "cell_type": "markdown",
   "id": "5e535f70",
   "metadata": {},
   "source": [
    "# Adding\n",
    "- with help of concatenate() function we can concatenate two arrays"
   ]
  },
  {
   "cell_type": "code",
   "execution_count": 46,
   "id": "88df8532",
   "metadata": {},
   "outputs": [
    {
     "data": {
      "text/plain": [
       "array([ 0,  1,  2,  3,  4,  5,  6,  7,  8,  9, 10, 11])"
      ]
     },
     "execution_count": 46,
     "metadata": {},
     "output_type": "execute_result"
    }
   ],
   "source": [
    "#adding 2 arrays with the help of concatenate()\n",
    "a = np.array([1, 2, 3, 4,0,11])\n",
    "b = np.array([5, 6, 7, 8,9,10])\n",
    "\n",
    "arr_3=np.concatenate((a,b))\n",
    "#just to sort them as well we just asign it to a new variable\n",
    "np.sort(arr_3)"
   ]
  },
  {
   "cell_type": "markdown",
   "id": "94610b1d",
   "metadata": {},
   "source": [
    "###### Sorting arrays in specific axis\n"
   ]
  },
  {
   "cell_type": "code",
   "execution_count": 3,
   "id": "0f92a4ba",
   "metadata": {},
   "outputs": [
    {
     "data": {
      "text/plain": [
       "array([[1, 2],\n",
       "       [3, 4],\n",
       "       [5, 6]])"
      ]
     },
     "execution_count": 3,
     "metadata": {},
     "output_type": "execute_result"
    }
   ],
   "source": [
    "#adding in a specific order Assignment\n",
    "x = np.array([[1, 2], [3, 4]])\n",
    "y = np.array([[5, 6]])\n",
    "\n",
    "np.concatenate((x,y), axis=0)"
   ]
  },
  {
   "cell_type": "markdown",
   "id": "f2b01a26",
   "metadata": {},
   "source": [
    "###### Shape, Size of an array "
   ]
  },
  {
   "cell_type": "code",
   "execution_count": 4,
   "id": "7a8bbcae",
   "metadata": {},
   "outputs": [],
   "source": [
    "arr_5 = np.array([[[0, 1, 2, 3],\n",
    "                           [4, 5, 6, 7]],\n",
    "\n",
    "                          [[0, 1, 2, 3],\n",
    "                           [4, 5, 6, 7]],\n",
    "\n",
    "                          [[0 ,1 ,2, 3],\n",
    "                           [4, 5, 6, 7]]])"
   ]
  },
  {
   "cell_type": "code",
   "execution_count": 5,
   "id": "e869855d",
   "metadata": {},
   "outputs": [
    {
     "data": {
      "text/plain": [
       "array([[[0, 0, 0],\n",
       "        [4, 4, 4]],\n",
       "\n",
       "       [[1, 1, 1],\n",
       "        [5, 5, 5]],\n",
       "\n",
       "       [[2, 2, 2],\n",
       "        [6, 6, 6]],\n",
       "\n",
       "       [[3, 3, 3],\n",
       "        [7, 7, 7]]])"
      ]
     },
     "execution_count": 5,
     "metadata": {},
     "output_type": "execute_result"
    }
   ],
   "source": [
    "np.transpose(arr_5)"
   ]
  },
  {
   "cell_type": "code",
   "execution_count": 50,
   "id": "15831843",
   "metadata": {},
   "outputs": [
    {
     "data": {
      "text/plain": [
       "3"
      ]
     },
     "execution_count": 50,
     "metadata": {},
     "output_type": "execute_result"
    }
   ],
   "source": [
    "#for dimension \n",
    "arr_5.ndim"
   ]
  },
  {
   "cell_type": "code",
   "execution_count": 52,
   "id": "e9ebcd47",
   "metadata": {},
   "outputs": [
    {
     "data": {
      "text/plain": [
       "(3, 2, 4)"
      ]
     },
     "execution_count": 52,
     "metadata": {},
     "output_type": "execute_result"
    }
   ],
   "source": [
    "#for shape\n",
    "arr_5.shape"
   ]
  },
  {
   "cell_type": "code",
   "execution_count": 53,
   "id": "91207ca5",
   "metadata": {},
   "outputs": [
    {
     "data": {
      "text/plain": [
       "24"
      ]
     },
     "execution_count": 53,
     "metadata": {},
     "output_type": "execute_result"
    }
   ],
   "source": [
    "#for size\n",
    "arr_5.size"
   ]
  },
  {
   "cell_type": "markdown",
   "id": "b5de2837",
   "metadata": {},
   "source": [
    "###### Reshape\n",
    "- the flexablilty of numpy that even you can reshape an array using reshape() function "
   ]
  },
  {
   "cell_type": "code",
   "execution_count": 54,
   "id": "2a43e328",
   "metadata": {},
   "outputs": [
    {
     "data": {
      "text/plain": [
       "array([[0, 1, 2, 3],\n",
       "       [4, 5, 6, 7],\n",
       "       [0, 1, 2, 3],\n",
       "       [4, 5, 6, 7],\n",
       "       [0, 1, 2, 3],\n",
       "       [4, 5, 6, 7]])"
      ]
     },
     "execution_count": 54,
     "metadata": {},
     "output_type": "execute_result"
    }
   ],
   "source": [
    "#working of reshape\n",
    "arr_5 = np.array([[[0, 1, 2, 3],\n",
    "                           [4, 5, 6, 7]],\n",
    "\n",
    "                          [[0, 1, 2, 3],\n",
    "                           [4, 5, 6, 7]],\n",
    "\n",
    "                          [[0 ,1 ,2, 3],\n",
    "                           [4, 5, 6, 7]]])\n",
    "arr_5.reshape(6,4)"
   ]
  },
  {
   "cell_type": "code",
   "execution_count": 55,
   "id": "99fb4526",
   "metadata": {},
   "outputs": [
    {
     "data": {
      "text/plain": [
       "array([[0, 1],\n",
       "       [2, 3],\n",
       "       [4, 5],\n",
       "       [6, 7],\n",
       "       [0, 1],\n",
       "       [2, 3],\n",
       "       [4, 5],\n",
       "       [6, 7],\n",
       "       [0, 1],\n",
       "       [2, 3],\n",
       "       [4, 5],\n",
       "       [6, 7]])"
      ]
     },
     "execution_count": 55,
     "metadata": {},
     "output_type": "execute_result"
    }
   ],
   "source": [
    "arr_5.reshape(12,2)"
   ]
  },
  {
   "cell_type": "code",
   "execution_count": 57,
   "id": "d8aeb479",
   "metadata": {},
   "outputs": [
    {
     "data": {
      "text/plain": [
       "array([0, 1, 2, 3, 4, 5, 6, 7, 0, 1, 2, 3, 4, 5, 6, 7, 0, 1, 2, 3, 4, 5,\n",
       "       6, 7])"
      ]
     },
     "execution_count": 57,
     "metadata": {},
     "output_type": "execute_result"
    }
   ],
   "source": [
    "#to make it a vector\n",
    "arr_5.reshape(24)"
   ]
  },
  {
   "cell_type": "markdown",
   "id": "c3c60218",
   "metadata": {},
   "source": [
    "###### Indexing in Numpy"
   ]
  },
  {
   "cell_type": "code",
   "execution_count": 64,
   "id": "f3dd8cd9",
   "metadata": {},
   "outputs": [
    {
     "data": {
      "text/plain": [
       "array([0, 3, 6, 1, 4, 7, 2, 5])"
      ]
     },
     "execution_count": 64,
     "metadata": {},
     "output_type": "execute_result"
    }
   ],
   "source": [
    "index_array=np.array([0, 1, 2, 3, 4, 5, 6, 7, 0, 1, 2, 3, 4, 5, 6, 7, 0, 1, 2, 3, 4, 5,\n",
    "       6, 7])\n",
    "index_array[:23:3]"
   ]
  },
  {
   "cell_type": "code",
   "execution_count": 80,
   "id": "1b23df68",
   "metadata": {},
   "outputs": [
    {
     "data": {
      "text/plain": [
       "array([ 0,  3,  6,  9, 12, 15, 18])"
      ]
     },
     "execution_count": 80,
     "metadata": {},
     "output_type": "execute_result"
    }
   ],
   "source": [
    "idx=np.array([ 0,  1,  2,  3,  4,  5,  6,  7,  8,  9, 10, 11, 12, 13, 14, 15, 16,\n",
    "       17, 18, 19, 20])\n",
    "idx[:20:3]"
   ]
  },
  {
   "cell_type": "markdown",
   "id": "adecd304",
   "metadata": {},
   "source": [
    "##### Creating array with sequence and other functions"
   ]
  },
  {
   "cell_type": "code",
   "execution_count": 81,
   "id": "5acd100a",
   "metadata": {},
   "outputs": [
    {
     "data": {
      "text/plain": [
       "array([ 127, -128, -127], dtype=int8)"
      ]
     },
     "execution_count": 81,
     "metadata": {},
     "output_type": "execute_result"
    }
   ],
   "source": [
    "a = np.array([127, 128, 129], dtype=np.int8)\n",
    "a"
   ]
  },
  {
   "cell_type": "code",
   "execution_count": 82,
   "id": "3606aa29",
   "metadata": {},
   "outputs": [
    {
     "data": {
      "text/plain": [
       "array([127, 128, 129])"
      ]
     },
     "execution_count": 82,
     "metadata": {},
     "output_type": "execute_result"
    }
   ],
   "source": [
    "a = np.array([127, 128, 129], dtype=np.int32)\n",
    "a"
   ]
  },
  {
   "cell_type": "code",
   "execution_count": 83,
   "id": "8954f674",
   "metadata": {},
   "outputs": [
    {
     "data": {
      "text/plain": [
       "array([127, 128, 129], dtype=int16)"
      ]
     },
     "execution_count": 83,
     "metadata": {},
     "output_type": "execute_result"
    }
   ],
   "source": [
    "a = np.array([127, 128, 129], dtype=np.int16)\n",
    "a"
   ]
  },
  {
   "cell_type": "code",
   "execution_count": 84,
   "id": "f4fd1f1b",
   "metadata": {},
   "outputs": [
    {
     "data": {
      "text/plain": [
       "array([2., 3., 4., 5., 6., 7., 8., 9.])"
      ]
     },
     "execution_count": 84,
     "metadata": {},
     "output_type": "execute_result"
    }
   ],
   "source": [
    "a=np.arange(2, 10, dtype=float)\n",
    "a"
   ]
  },
  {
   "cell_type": "code",
   "execution_count": 85,
   "id": "0384bb9f",
   "metadata": {},
   "outputs": [
    {
     "data": {
      "text/plain": [
       "array([[1., 0., 0.],\n",
       "       [0., 1., 0.],\n",
       "       [0., 0., 1.]])"
      ]
     },
     "execution_count": 85,
     "metadata": {},
     "output_type": "execute_result"
    }
   ],
   "source": [
    "#eye function to print identity \n",
    "a=np.eye(3)\n",
    "a\n"
   ]
  },
  {
   "cell_type": "code",
   "execution_count": 86,
   "id": "94ce215d",
   "metadata": {},
   "outputs": [
    {
     "data": {
      "text/plain": [
       "array([[1., 0., 0., 0.],\n",
       "       [0., 1., 0., 0.],\n",
       "       [0., 0., 1., 0.],\n",
       "       [0., 0., 0., 1.]])"
      ]
     },
     "execution_count": 86,
     "metadata": {},
     "output_type": "execute_result"
    }
   ],
   "source": [
    "a=np.eye(4)\n",
    "a"
   ]
  },
  {
   "cell_type": "code",
   "execution_count": 87,
   "id": "839c8f37",
   "metadata": {},
   "outputs": [
    {
     "data": {
      "text/plain": [
       "array([[1., 0., 0., 0., 0.],\n",
       "       [0., 1., 0., 0., 0.],\n",
       "       [0., 0., 1., 0., 0.],\n",
       "       [0., 0., 0., 1., 0.],\n",
       "       [0., 0., 0., 0., 1.]])"
      ]
     },
     "execution_count": 87,
     "metadata": {},
     "output_type": "execute_result"
    }
   ],
   "source": [
    "a=np.eye(5)\n",
    "a"
   ]
  },
  {
   "cell_type": "code",
   "execution_count": 88,
   "id": "55fa820a",
   "metadata": {},
   "outputs": [
    {
     "data": {
      "text/plain": [
       "array([[1., 0., 0., 0.],\n",
       "       [0., 1., 0., 0.],\n",
       "       [0., 0., 1., 0.]])"
      ]
     },
     "execution_count": 88,
     "metadata": {},
     "output_type": "execute_result"
    }
   ],
   "source": [
    "a=np.eye(3,4)\n",
    "a"
   ]
  },
  {
   "cell_type": "code",
   "execution_count": 90,
   "id": "fa509a3e",
   "metadata": {},
   "outputs": [
    {
     "data": {
      "text/plain": [
       "array([[1., 0., 0., 0., 0., 0.],\n",
       "       [0., 1., 0., 0., 0., 0.],\n",
       "       [0., 0., 1., 0., 0., 0.]])"
      ]
     },
     "execution_count": 90,
     "metadata": {},
     "output_type": "execute_result"
    }
   ],
   "source": [
    "a=np.eye(3,6)\n",
    "a"
   ]
  },
  {
   "cell_type": "code",
   "execution_count": 93,
   "id": "5801e8c2",
   "metadata": {},
   "outputs": [
    {
     "data": {
      "text/plain": [
       "array([[1, 0, 0, 0, 0],\n",
       "       [0, 2, 0, 0, 0],\n",
       "       [0, 0, 3, 0, 0],\n",
       "       [0, 0, 0, 4, 0],\n",
       "       [0, 0, 0, 0, 5]])"
      ]
     },
     "execution_count": 93,
     "metadata": {},
     "output_type": "execute_result"
    }
   ],
   "source": [
    "#diagnol matrix \n",
    "a=np.diag([1,2,3,4,5])\n",
    "a"
   ]
  },
  {
   "cell_type": "code",
   "execution_count": 94,
   "id": "c388aba5",
   "metadata": {},
   "outputs": [
    {
     "data": {
      "text/plain": [
       "array([[1, 0, 0],\n",
       "       [0, 2, 0],\n",
       "       [0, 0, 3]])"
      ]
     },
     "execution_count": 94,
     "metadata": {},
     "output_type": "execute_result"
    }
   ],
   "source": [
    "a=np.diag([1,2,3])\n",
    "a"
   ]
  },
  {
   "cell_type": "code",
   "execution_count": 96,
   "id": "5c6797c1",
   "metadata": {},
   "outputs": [
    {
     "data": {
      "text/plain": [
       "array([0, 3])"
      ]
     },
     "execution_count": 96,
     "metadata": {},
     "output_type": "execute_result"
    }
   ],
   "source": [
    "a=np.array([[0, 1],\n",
    "       [2, 3],\n",
    "       [4, 5],\n",
    "       [6, 7],\n",
    "       [0, 1],\n",
    "       [2, 3],\n",
    "       [4, 5],\n",
    "       [6, 7],\n",
    "       [0, 1],\n",
    "       [2, 3],\n",
    "       [4, 5],\n",
    "       [6, 7]])\n",
    "np.diag(a)"
   ]
  },
  {
   "cell_type": "code",
   "execution_count": 97,
   "id": "ec912dc3",
   "metadata": {},
   "outputs": [
    {
     "data": {
      "text/plain": [
       "array([[1, 1],\n",
       "       [2, 1],\n",
       "       [3, 1],\n",
       "       [4, 1]])"
      ]
     },
     "execution_count": 97,
     "metadata": {},
     "output_type": "execute_result"
    }
   ],
   "source": [
    "#vander function\n",
    "a=np.vander([1, 2, 3, 4], 2)\n",
    "a"
   ]
  },
  {
   "cell_type": "code",
   "execution_count": 100,
   "id": "2953c7b2",
   "metadata": {},
   "outputs": [
    {
     "data": {
      "text/plain": [
       "array([[1, 1, 1, 1],\n",
       "       [8, 4, 2, 1],\n",
       "       [8, 4, 2, 1],\n",
       "       [8, 4, 2, 1]])"
      ]
     },
     "execution_count": 100,
     "metadata": {},
     "output_type": "execute_result"
    }
   ],
   "source": [
    "a=np.vander([1, 2, 2, 2], 4)\n",
    "a"
   ]
  },
  {
   "cell_type": "code",
   "execution_count": null,
   "id": "022b28a7",
   "metadata": {},
   "outputs": [],
   "source": []
  }
 ],
 "metadata": {
  "kernelspec": {
   "display_name": "Python 3",
   "language": "python",
   "name": "python3"
  },
  "language_info": {
   "codemirror_mode": {
    "name": "ipython",
    "version": 3
   },
   "file_extension": ".py",
   "mimetype": "text/x-python",
   "name": "python",
   "nbconvert_exporter": "python",
   "pygments_lexer": "ipython3",
   "version": "3.8.8"
  }
 },
 "nbformat": 4,
 "nbformat_minor": 5
}
