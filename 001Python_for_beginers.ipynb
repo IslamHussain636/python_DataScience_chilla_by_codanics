{
 "cells": [
  {
   "cell_type": "markdown",
   "metadata": {},
   "source": [
    "# Python for Datascience\n",
    "- let's begain with our first line of code with python for datascience\n",
    "### First line of code in python\n",
    "- first program"
   ]
  },
  {
   "cell_type": "code",
   "execution_count": 1,
   "metadata": {},
   "outputs": [
    {
     "name": "stdout",
     "output_type": "stream",
     "text": [
      "hello world\n",
      "I am Islam Hussain\n"
     ]
    }
   ],
   "source": [
    "print(\"hello world\")\n",
    "print('I am Islam Hussain')"
   ]
  },
  {
   "cell_type": "markdown",
   "metadata": {},
   "source": [
    "# Operators "
   ]
  },
  {
   "cell_type": "code",
   "execution_count": 2,
   "metadata": {},
   "outputs": [
    {
     "name": "stdout",
     "output_type": "stream",
     "text": [
      "5\n",
      "1\n",
      "2\n",
      "3.0\n",
      "6\n",
      "1\n",
      "3\n",
      "8\n"
     ]
    }
   ],
   "source": [
    "print(2+3)\n",
    "print(3-2)\n",
    "print(3-1)\n",
    "print(6/2)\n",
    "print(2*3)\n",
    "print(13%2)\n",
    "print(6//2)\n",
    "print(2**3)\n"
   ]
  },
  {
   "cell_type": "markdown",
   "metadata": {},
   "source": [
    "# Strings "
   ]
  },
  {
   "cell_type": "code",
   "execution_count": 3,
   "metadata": {},
   "outputs": [
    {
     "name": "stdout",
     "output_type": "stream",
     "text": [
      "Islam\n",
      "Hello I am learning python with Ammar \n"
     ]
    }
   ],
   "source": [
    "print(\"Islam\")\n",
    "print(\"Hello I am learning python with Ammar \")"
   ]
  },
  {
   "cell_type": "code",
   "execution_count": 4,
   "metadata": {},
   "outputs": [
    {
     "name": "stdout",
     "output_type": "stream",
     "text": [
      "Test for single qoutes\n",
      "test for double qoutes\n",
      "Print for triple qoutes\n",
      "What's up\n"
     ]
    }
   ],
   "source": [
    "print('Test for single qoutes')\n",
    "print(\"test for double qoutes\")\n",
    "print('''Print for triple qoutes''')\n",
    "# Space does matter _ space counts \n",
    "print(\"What's up\")"
   ]
  },
  {
   "cell_type": "markdown",
   "metadata": {},
   "source": [
    "# Comments\n"
   ]
  },
  {
   "cell_type": "code",
   "execution_count": 5,
   "metadata": {},
   "outputs": [
    {
     "name": "stdout",
     "output_type": "stream",
     "text": [
      "How are you\n",
      "6\n"
     ]
    }
   ],
   "source": [
    "print(\"How are you\")\n",
    "#print(\"we are learning python \")\n",
    "print(2+4)"
   ]
  },
  {
   "cell_type": "markdown",
   "metadata": {},
   "source": [
    "# Varible\n",
    "- objects containing specific values"
   ]
  },
  {
   "cell_type": "code",
   "execution_count": 6,
   "metadata": {},
   "outputs": [
    {
     "data": {
      "text/plain": [
       "5"
      ]
     },
     "execution_count": 6,
     "metadata": {},
     "output_type": "execute_result"
    }
   ],
   "source": [
    "x=5\n",
    "x"
   ]
  },
  {
   "cell_type": "code",
   "execution_count": 7,
   "metadata": {},
   "outputs": [
    {
     "data": {
      "text/plain": [
       "'Islam is my first name '"
      ]
     },
     "execution_count": 7,
     "metadata": {},
     "output_type": "execute_result"
    }
   ],
   "source": [
    "#string\n",
    "y='Islam is my first name '\n",
    "y"
   ]
  },
  {
   "cell_type": "code",
   "execution_count": 8,
   "metadata": {},
   "outputs": [
    {
     "data": {
      "text/plain": [
       "15"
      ]
     },
     "execution_count": 8,
     "metadata": {},
     "output_type": "execute_result"
    }
   ],
   "source": [
    "x=15\n",
    "x"
   ]
  },
  {
   "cell_type": "code",
   "execution_count": 9,
   "metadata": {},
   "outputs": [],
   "source": [
    "x=x+10"
   ]
  },
  {
   "cell_type": "code",
   "execution_count": 10,
   "metadata": {},
   "outputs": [
    {
     "data": {
      "text/plain": [
       "25"
      ]
     },
     "execution_count": 10,
     "metadata": {},
     "output_type": "execute_result"
    }
   ],
   "source": [
    "x\n"
   ]
  },
  {
   "cell_type": "code",
   "execution_count": 11,
   "metadata": {},
   "outputs": [
    {
     "data": {
      "text/plain": [
       "int"
      ]
     },
     "execution_count": 11,
     "metadata": {},
     "output_type": "execute_result"
    }
   ],
   "source": [
    "#types of variable \n",
    "type(x)"
   ]
  },
  {
   "cell_type": "code",
   "execution_count": 12,
   "metadata": {},
   "outputs": [
    {
     "data": {
      "text/plain": [
       "str"
      ]
     },
     "execution_count": 12,
     "metadata": {},
     "output_type": "execute_result"
    }
   ],
   "source": [
    "type(y)"
   ]
  },
  {
   "cell_type": "code",
   "execution_count": 14,
   "metadata": {},
   "outputs": [
    {
     "data": {
      "text/plain": [
       "('Mangoes', 'oranges')"
      ]
     },
     "execution_count": 14,
     "metadata": {},
     "output_type": "execute_result"
    }
   ],
   "source": [
    "fruit_basket= 'Mangoes','oranges'\n",
    "fruit_basket"
   ]
  },
  {
   "cell_type": "code",
   "execution_count": 15,
   "metadata": {},
   "outputs": [
    {
     "data": {
      "text/plain": [
       "8"
      ]
     },
     "execution_count": 15,
     "metadata": {},
     "output_type": "execute_result"
    }
   ],
   "source": [
    "fruit_basket= 8\n",
    "fruit_basket"
   ]
  },
  {
   "cell_type": "code",
   "execution_count": 16,
   "metadata": {},
   "outputs": [
    {
     "data": {
      "text/plain": [
       "int"
      ]
     },
     "execution_count": 16,
     "metadata": {},
     "output_type": "execute_result"
    }
   ],
   "source": [
    "type(fruit_basket)"
   ]
  },
  {
   "cell_type": "code",
   "execution_count": 18,
   "metadata": {},
   "outputs": [
    {
     "data": {
      "text/plain": [
       "('Mangoes', 'oranges')"
      ]
     },
     "execution_count": 18,
     "metadata": {},
     "output_type": "execute_result"
    }
   ],
   "source": [
    "fruit_basket= 8\n",
    "fruit_basket= 'Mangoes','oranges'\n",
    "\n",
    "fruit_basket"
   ]
  },
  {
   "cell_type": "markdown",
   "metadata": {},
   "source": [
    "# input Variable"
   ]
  },
  {
   "cell_type": "code",
   "execution_count": 19,
   "metadata": {},
   "outputs": [
    {
     "data": {
      "text/plain": [
       "'islam'"
      ]
     },
     "execution_count": 19,
     "metadata": {},
     "output_type": "execute_result"
    }
   ],
   "source": [
    "name=\"islam\"\n",
    "name"
   ]
  },
  {
   "cell_type": "code",
   "execution_count": 20,
   "metadata": {},
   "outputs": [
    {
     "data": {
      "text/plain": [
       "'islam'"
      ]
     },
     "execution_count": 20,
     "metadata": {},
     "output_type": "execute_result"
    }
   ],
   "source": [
    "name=input(\"what is you name \")\n",
    "name "
   ]
  },
  {
   "cell_type": "code",
   "execution_count": 21,
   "metadata": {},
   "outputs": [
    {
     "name": "stdout",
     "output_type": "stream",
     "text": [
      "Hello islam\n"
     ]
    }
   ],
   "source": [
    "name=input(\"what is you name \")\n",
    "greetings=\"Hello\"\n",
    "print(greetings, name)"
   ]
  },
  {
   "cell_type": "code",
   "execution_count": 22,
   "metadata": {},
   "outputs": [
    {
     "name": "stdout",
     "output_type": "stream",
     "text": [
      "Hello islam\n"
     ]
    }
   ],
   "source": [
    "name=input(\"what is you name \")\n",
    "\n",
    "print(\"Hello\", name)"
   ]
  },
  {
   "cell_type": "code",
   "execution_count": 23,
   "metadata": {},
   "outputs": [
    {
     "name": "stdout",
     "output_type": "stream",
     "text": [
      "32 Hello YOu are still young\n"
     ]
    }
   ],
   "source": [
    "name=input(\"whats is your name \")\n",
    "age=input(\"how old are you\")\n",
    "greetings=input(\"hello\")\n",
    "\n",
    "print(greetings,name, 'YOu are still young')"
   ]
  },
  {
   "cell_type": "markdown",
   "metadata": {},
   "source": [
    "# conditional_logics\n",
    "\n"
   ]
  },
  {
   "cell_type": "code",
   "execution_count": 25,
   "metadata": {},
   "outputs": [
    {
     "data": {
      "text/plain": [
       "True"
      ]
     },
     "execution_count": 25,
     "metadata": {},
     "output_type": "execute_result"
    }
   ],
   "source": [
    "#logical operators \n",
    "# equal to ==\n",
    "# not equal !=\n",
    "# less than <\n",
    "# greater than >\n",
    "# less than are equal <=\n",
    "# greater are equal >=\n",
    "# is equal to \n",
    "\n",
    "4==4\n"
   ]
  },
  {
   "cell_type": "code",
   "execution_count": 26,
   "metadata": {},
   "outputs": [
    {
     "data": {
      "text/plain": [
       "False"
      ]
     },
     "execution_count": 26,
     "metadata": {},
     "output_type": "execute_result"
    }
   ],
   "source": [
    "4!=4"
   ]
  },
  {
   "cell_type": "code",
   "execution_count": 27,
   "metadata": {},
   "outputs": [
    {
     "data": {
      "text/plain": [
       "True"
      ]
     },
     "execution_count": 27,
     "metadata": {},
     "output_type": "execute_result"
    }
   ],
   "source": [
    "4>3"
   ]
  },
  {
   "cell_type": "code",
   "execution_count": 28,
   "metadata": {},
   "outputs": [
    {
     "data": {
      "text/plain": [
       "True"
      ]
     },
     "execution_count": 28,
     "metadata": {},
     "output_type": "execute_result"
    }
   ],
   "source": [
    "4<6"
   ]
  },
  {
   "cell_type": "code",
   "execution_count": 29,
   "metadata": {},
   "outputs": [
    {
     "data": {
      "text/plain": [
       "False"
      ]
     },
     "execution_count": 29,
     "metadata": {},
     "output_type": "execute_result"
    }
   ],
   "source": [
    "3>6"
   ]
  },
  {
   "cell_type": "code",
   "execution_count": 30,
   "metadata": {},
   "outputs": [
    {
     "data": {
      "text/plain": [
       "True"
      ]
     },
     "execution_count": 30,
     "metadata": {},
     "output_type": "execute_result"
    }
   ],
   "source": [
    "3<=5"
   ]
  },
  {
   "cell_type": "code",
   "execution_count": 32,
   "metadata": {},
   "outputs": [
    {
     "data": {
      "text/plain": [
       "False"
      ]
     },
     "execution_count": 32,
     "metadata": {},
     "output_type": "execute_result"
    }
   ],
   "source": [
    "# Application of logical operators \n",
    "islam=int(input('How old are you?'))\n",
    "age_at_school=4\n",
    "islam==age_at_school"
   ]
  },
  {
   "cell_type": "code",
   "execution_count": 33,
   "metadata": {},
   "outputs": [
    {
     "data": {
      "text/plain": [
       "True"
      ]
     },
     "execution_count": 33,
     "metadata": {},
     "output_type": "execute_result"
    }
   ],
   "source": [
    "islam=4\n",
    "age_at_school=4\n",
    "islam==age_at_school"
   ]
  },
  {
   "cell_type": "markdown",
   "metadata": {},
   "source": [
    "# types conversion"
   ]
  },
  {
   "cell_type": "code",
   "execution_count": 34,
   "metadata": {},
   "outputs": [
    {
     "data": {
      "text/plain": [
       "int"
      ]
     },
     "execution_count": 34,
     "metadata": {},
     "output_type": "execute_result"
    }
   ],
   "source": [
    "x=10\n",
    "y=10.2\n",
    "z=\"islam\"\n",
    "type(x)"
   ]
  },
  {
   "cell_type": "code",
   "execution_count": 35,
   "metadata": {},
   "outputs": [
    {
     "data": {
      "text/plain": [
       "float"
      ]
     },
     "execution_count": 35,
     "metadata": {},
     "output_type": "execute_result"
    }
   ],
   "source": [
    "type(y)"
   ]
  },
  {
   "cell_type": "code",
   "execution_count": 36,
   "metadata": {},
   "outputs": [
    {
     "data": {
      "text/plain": [
       "str"
      ]
     },
     "execution_count": 36,
     "metadata": {},
     "output_type": "execute_result"
    }
   ],
   "source": [
    "type(z)"
   ]
  },
  {
   "cell_type": "code",
   "execution_count": 37,
   "metadata": {},
   "outputs": [],
   "source": [
    "#implicit conversion\n",
    "x=x+y"
   ]
  },
  {
   "cell_type": "code",
   "execution_count": 38,
   "metadata": {},
   "outputs": [
    {
     "data": {
      "text/plain": [
       "20.2"
      ]
     },
     "execution_count": 38,
     "metadata": {},
     "output_type": "execute_result"
    }
   ],
   "source": [
    "x"
   ]
  },
  {
   "cell_type": "code",
   "execution_count": 39,
   "metadata": {},
   "outputs": [
    {
     "data": {
      "text/plain": [
       "float"
      ]
     },
     "execution_count": 39,
     "metadata": {},
     "output_type": "execute_result"
    }
   ],
   "source": [
    "type(x)"
   ]
  },
  {
   "cell_type": "code",
   "execution_count": 42,
   "metadata": {},
   "outputs": [
    {
     "name": "stdout",
     "output_type": "stream",
     "text": [
      "12\n"
     ]
    }
   ],
   "source": [
    "#explicit conversion\n",
    "age=int(input('what is your age'))\n",
    "print(age)"
   ]
  },
  {
   "cell_type": "markdown",
   "metadata": {},
   "source": [
    "# if and elif statmment "
   ]
  },
  {
   "cell_type": "code",
   "execution_count": 46,
   "metadata": {},
   "outputs": [
    {
     "name": "stdout",
     "output_type": "stream",
     "text": [
      "islam is kid take care of islam\n"
     ]
    }
   ],
   "source": [
    "islam=1\n",
    "req_age=5\n",
    "if islam==req_age:\n",
    "    print(\"islam can go to school\")\n",
    "elif islam>req_age:\n",
    "    print('Islam join high school')\n",
    "elif islam<=2:\n",
    "    print(\"islam is kid take care of islam\")    \n",
    "else:\n",
    "    print('islam cant go to school')        "
   ]
  },
  {
   "cell_type": "markdown",
   "metadata": {},
   "source": []
  },
  {
   "cell_type": "markdown",
   "metadata": {},
   "source": [
    "# functions "
   ]
  },
  {
   "cell_type": "code",
   "execution_count": 47,
   "metadata": {},
   "outputs": [
    {
     "name": "stdout",
     "output_type": "stream",
     "text": [
      "islam\n",
      "islam\n",
      "islam\n",
      "islam\n",
      "islam\n"
     ]
    }
   ],
   "source": [
    "def print_islam():\n",
    "    print(\"islam\")\n",
    "    print(\"islam\")\n",
    "    print(\"islam\")\n",
    "    print(\"islam\")\n",
    "    print(\"islam\")\n",
    "print_islam()        "
   ]
  },
  {
   "cell_type": "code",
   "execution_count": 48,
   "metadata": {},
   "outputs": [
    {
     "name": "stdout",
     "output_type": "stream",
     "text": [
      "I am student\n"
     ]
    }
   ],
   "source": [
    "def print_islam():\n",
    "    text='I am student'\n",
    "    print(text)\n",
    "    \n",
    "print_islam()   "
   ]
  },
  {
   "cell_type": "code",
   "execution_count": 49,
   "metadata": {},
   "outputs": [
    {
     "name": "stdout",
     "output_type": "stream",
     "text": [
      "I am student\n",
      "I am student\n",
      "I am student\n",
      "I am student\n"
     ]
    }
   ],
   "source": [
    "print_islam()\n",
    "print_islam()   \n",
    "print_islam()   \n",
    "print_islam()   "
   ]
  },
  {
   "cell_type": "code",
   "execution_count": 52,
   "metadata": {},
   "outputs": [
    {
     "name": "stdout",
     "output_type": "stream",
     "text": [
      "islam\n"
     ]
    }
   ],
   "source": [
    "#fucntion\n",
    "def school_cal(age,text):\n",
    "    if age==5:\n",
    "        print(\"islam\")\n",
    "    elif age>5:\n",
    "        print(\"islam\")\n",
    "    else:\n",
    "        print(\"element\") \n",
    "\n",
    "school_cal(6,\"islam\")               "
   ]
  },
  {
   "cell_type": "markdown",
   "metadata": {},
   "source": [
    "# loops "
   ]
  },
  {
   "cell_type": "code",
   "execution_count": 53,
   "metadata": {},
   "outputs": [
    {
     "name": "stdout",
     "output_type": "stream",
     "text": [
      "0\n",
      "1\n",
      "2\n",
      "3\n",
      "4\n",
      "5\n",
      "5\n",
      "6\n",
      "7\n",
      "8\n",
      "9\n",
      "mon\n",
      "tue\n",
      "wed\n",
      "thur\n",
      "sat\n"
     ]
    }
   ],
   "source": [
    "# while loops and for loops \n",
    "#while loops\n",
    "x=0\n",
    "while (x<=5):\n",
    "    print(x)\n",
    "    x=x+1\n",
    "\n",
    "# for loop\n",
    "for x in range(5,10):\n",
    "    print(x)\n",
    "\n",
    "#array\n",
    "days=['mon','tue','wed','thur','fri','sat']\n",
    "for d in days:\n",
    "   # if (d==\"fri\"): break\n",
    "    if(d==\"fri\")  : continue  \n",
    "    print(d)          "
   ]
  },
  {
   "cell_type": "markdown",
   "metadata": {},
   "source": [
    "# import libraries"
   ]
  },
  {
   "cell_type": "code",
   "execution_count": 54,
   "metadata": {},
   "outputs": [
    {
     "name": "stdout",
     "output_type": "stream",
     "text": [
      "Pie is equal 3.141592653589793\n"
     ]
    }
   ],
   "source": [
    "import math\n",
    "\n",
    "print(\"Pie is equal\", math.pi)"
   ]
  },
  {
   "cell_type": "code",
   "execution_count": 55,
   "metadata": {},
   "outputs": [
    {
     "data": {
      "text/plain": [
       "4.5"
      ]
     },
     "execution_count": 55,
     "metadata": {},
     "output_type": "execute_result"
    }
   ],
   "source": [
    "import statistics\n",
    "x=[1,2,3,4,5,6,7,8]\n",
    "statistics.mean(x)\n"
   ]
  },
  {
   "cell_type": "markdown",
   "metadata": {},
   "source": [
    "# program to calculate body mass index"
   ]
  },
  {
   "cell_type": "code",
   "execution_count": null,
   "metadata": {},
   "outputs": [],
   "source": [
    "height=input(\"Enter your height? \" )\n",
    "height=float(height)\n",
    "weight=input('what is your weight? ')\n",
    "weight=float(weight)\n",
    "name=input('what is your name? ')\n",
    "BMI= weight/height**2\n",
    "BMI\n",
    "print(\"MY name is \", name, \"and my BMI is \", BMI)"
   ]
  },
  {
   "cell_type": "code",
   "execution_count": null,
   "metadata": {},
   "outputs": [],
   "source": [
    "# Nump, pandas, matplotlib "
   ]
  },
  {
   "cell_type": "markdown",
   "metadata": {},
   "source": [
    "# trouble shooting\n",
    "-syntax erro\n",
    "- run time eroor\n",
    "-sementics error\n",
    "\n",
    "# data Visulization \n",
    "- fundamental \n",
    "- graphics system for language\n",
    "- codes to graphs\n",
    "- minds to page and plots \n",
    "\n",
    "# Grammer \n",
    "- mapping\n",
    "- asthetics \n",
    "- geometric \n",
    "\n",
    "\n",
    "# Libraries \n",
    "- Pandas - 2d frames\n",
    "- Numpy   - array&matrices\n",
    "- SciPy   - Optimaztion and solving equations \n",
    "\n",
    " # Data Visulization \n",
    " - Matplot - graphs and figures \n",
    " - Seaborn - heat maps, time series and other plots \n",
    "\n",
    "# ML Algorithm\n",
    "- Scikit-learn \n",
    "- Statsmodels "
   ]
  },
  {
   "cell_type": "code",
   "execution_count": 3,
   "metadata": {},
   "outputs": [
    {
     "data": {
      "image/png": "[encoded data removed]",
      "image/svg+xml": "<?xml version=\"1.0\" encoding=\"utf-8\" standalone=\"no\"?>\r\n<!DOCTYPE svg PUBLIC \"-//W3C//DTD SVG 1.1//EN\"\r\n  \"http://www.w3.org/Graphics/SVG/1.1/DTD/svg11.dtd\">\r\n<svg height=\"349.514219pt\" version=\"1.1\" viewBox=\"0 0 422.721044 349.514219\" width=\"422.721044pt\" xmlns=\"http://www.w3.org/2000/svg\" xmlns:xlink=\"http://www.w3.org/1999/xlink\">\r\n <metadata>\r\n  <rdf:RDF xmlns:cc=\"http://creativecommons.org/ns#\" xmlns:dc=\"http://purl.org/dc/elements/1.1/\" xmlns:rdf=\"http://www.w3.org/1999/02/22-rdf-syntax-ns#\">\r\n   <cc:Work>\r\n    <dc:type rdf:resource=\"http://purl.org/dc/dcmitype/StillImage\"/>\r\n    <dc:date>2022-02-04T22:30:18.496282</dc:date>\r\n    <dc:format>image/svg+xml</dc:format>\r\n    <dc:creator>\r\n     <cc:Agent>\r\n      <dc:title>Matplotlib v3.4.3, https://matplotlib.org/</dc:title>\r\n     </cc:Agent>\r\n    </dc:creator>\r\n   </cc:Work>\r\n  </rdf:RDF>\r\n </metadata>\r\n <defs>\r\n  <style type=\"text/css\">*{stroke-linecap:butt;stroke-linejoin:round;}</style>\r\n </defs>\r\n <g id=\"figure_1\">\r\n  <g id=\"patch_1\">\r\n   <path d=\"M 0 349.514219 \r\nL 422.721044 349.514219 \r\nL 422.721044 0 \r\nL 0 0 \r\nz\r\n\" style=\"fill:#ffffff;\"/>\r\n  </g>\r\n  <g id=\"axes_1\">\r\n   <g id=\"patch_2\">\r\n    <path d=\"M 46.964375 307.78 \r\nL 339.676294 307.78 \r\nL 339.676294 7.2 \r\nL 46.964375 7.2 \r\nz\r\n\" style=\"fill:#ffffff;\"/>\r\n   </g>\r\n   <g id=\"matplotlib.axis_1\">\r\n    <g id=\"xtick_1\">\r\n     <g id=\"line2d_1\">\r\n      <defs>\r\n       <path d=\"M 0 0 \r\nL 0 6 \r\n\" id=\"md12be90a9b\" style=\"stroke:#262626;stroke-width:1.25;\"/>\r\n      </defs>\r\n      <g>\r\n       <use style=\"fill:#262626;stroke:#262626;stroke-width:1.25;\" x=\"120.142355\" xlink:href=\"#md12be90a9b\" y=\"307.78\"/>\r\n      </g>\r\n     </g>\r\n     <g id=\"text_1\">\r\n      <!-- male -->\r\n      <g style=\"fill:#262626;\" transform=\"translate(108.221964 325.153594)scale(0.11 -0.11)\">\r\n       <defs>\r\n        <path d=\"M 422 0 \r\nL 422 3319 \r\nL 925 3319 \r\nL 925 2853 \r\nQ 1081 3097 1340 3245 \r\nQ 1600 3394 1931 3394 \r\nQ 2300 3394 2536 3241 \r\nQ 2772 3088 2869 2813 \r\nQ 3263 3394 3894 3394 \r\nQ 4388 3394 4653 3120 \r\nQ 4919 2847 4919 2278 \r\nL 4919 0 \r\nL 4359 0 \r\nL 4359 2091 \r\nQ 4359 2428 4304 2576 \r\nQ 4250 2725 4106 2815 \r\nQ 3963 2906 3769 2906 \r\nQ 3419 2906 3187 2673 \r\nQ 2956 2441 2956 1928 \r\nL 2956 0 \r\nL 2394 0 \r\nL 2394 2156 \r\nQ 2394 2531 2256 2718 \r\nQ 2119 2906 1806 2906 \r\nQ 1569 2906 1367 2781 \r\nQ 1166 2656 1075 2415 \r\nQ 984 2175 984 1722 \r\nL 984 0 \r\nL 422 0 \r\nz\r\n\" id=\"ArialMT-6d\" transform=\"scale(0.015625)\"/>\r\n        <path d=\"M 2588 409 \r\nQ 2275 144 1986 34 \r\nQ 1697 -75 1366 -75 \r\nQ 819 -75 525 192 \r\nQ 231 459 231 875 \r\nQ 231 1119 342 1320 \r\nQ 453 1522 633 1644 \r\nQ 813 1766 1038 1828 \r\nQ 1203 1872 1538 1913 \r\nQ 2219 1994 2541 2106 \r\nQ 2544 2222 2544 2253 \r\nQ 2544 2597 2384 2738 \r\nQ 2169 2928 1744 2928 \r\nQ 1347 2928 1158 2789 \r\nQ 969 2650 878 2297 \r\nL 328 2372 \r\nQ 403 2725 575 2942 \r\nQ 747 3159 1072 3276 \r\nQ 1397 3394 1825 3394 \r\nQ 2250 3394 2515 3294 \r\nQ 2781 3194 2906 3042 \r\nQ 3031 2891 3081 2659 \r\nQ 3109 2516 3109 2141 \r\nL 3109 1391 \r\nQ 3109 606 3145 398 \r\nQ 3181 191 3288 0 \r\nL 2700 0 \r\nQ 2613 175 2588 409 \r\nz\r\nM 2541 1666 \r\nQ 2234 1541 1622 1453 \r\nQ 1275 1403 1131 1340 \r\nQ 988 1278 909 1158 \r\nQ 831 1038 831 891 \r\nQ 831 666 1001 516 \r\nQ 1172 366 1500 366 \r\nQ 1825 366 2078 508 \r\nQ 2331 650 2450 897 \r\nQ 2541 1088 2541 1459 \r\nL 2541 1666 \r\nz\r\n\" id=\"ArialMT-61\" transform=\"scale(0.015625)\"/>\r\n        <path d=\"M 409 0 \r\nL 409 4581 \r\nL 972 4581 \r\nL 972 0 \r\nL 409 0 \r\nz\r\n\" id=\"ArialMT-6c\" transform=\"scale(0.015625)\"/>\r\n        <path d=\"M 2694 1069 \r\nL 3275 997 \r\nQ 3138 488 2766 206 \r\nQ 2394 -75 1816 -75 \r\nQ 1088 -75 661 373 \r\nQ 234 822 234 1631 \r\nQ 234 2469 665 2931 \r\nQ 1097 3394 1784 3394 \r\nQ 2450 3394 2872 2941 \r\nQ 3294 2488 3294 1666 \r\nQ 3294 1616 3291 1516 \r\nL 816 1516 \r\nQ 847 969 1125 678 \r\nQ 1403 388 1819 388 \r\nQ 2128 388 2347 550 \r\nQ 2566 713 2694 1069 \r\nz\r\nM 847 1978 \r\nL 2700 1978 \r\nQ 2663 2397 2488 2606 \r\nQ 2219 2931 1791 2931 \r\nQ 1403 2931 1139 2672 \r\nQ 875 2413 847 1978 \r\nz\r\n\" id=\"ArialMT-65\" transform=\"scale(0.015625)\"/>\r\n       </defs>\r\n       <use xlink:href=\"#ArialMT-6d\"/>\r\n       <use x=\"83.300781\" xlink:href=\"#ArialMT-61\"/>\r\n       <use x=\"138.916016\" xlink:href=\"#ArialMT-6c\"/>\r\n       <use x=\"161.132812\" xlink:href=\"#ArialMT-65\"/>\r\n      </g>\r\n     </g>\r\n    </g>\r\n    <g id=\"xtick_2\">\r\n     <g id=\"line2d_2\">\r\n      <g>\r\n       <use style=\"fill:#262626;stroke:#262626;stroke-width:1.25;\" x=\"266.498314\" xlink:href=\"#md12be90a9b\" y=\"307.78\"/>\r\n      </g>\r\n     </g>\r\n     <g id=\"text_2\">\r\n      <!-- female -->\r\n      <g style=\"fill:#262626;\" transform=\"translate(249.991439 325.153594)scale(0.11 -0.11)\">\r\n       <defs>\r\n        <path d=\"M 556 0 \r\nL 556 2881 \r\nL 59 2881 \r\nL 59 3319 \r\nL 556 3319 \r\nL 556 3672 \r\nQ 556 4006 616 4169 \r\nQ 697 4388 901 4523 \r\nQ 1106 4659 1475 4659 \r\nQ 1713 4659 2000 4603 \r\nL 1916 4113 \r\nQ 1741 4144 1584 4144 \r\nQ 1328 4144 1222 4034 \r\nQ 1116 3925 1116 3625 \r\nL 1116 3319 \r\nL 1763 3319 \r\nL 1763 2881 \r\nL 1116 2881 \r\nL 1116 0 \r\nL 556 0 \r\nz\r\n\" id=\"ArialMT-66\" transform=\"scale(0.015625)\"/>\r\n       </defs>\r\n       <use xlink:href=\"#ArialMT-66\"/>\r\n       <use x=\"27.783203\" xlink:href=\"#ArialMT-65\"/>\r\n       <use x=\"83.398438\" xlink:href=\"#ArialMT-6d\"/>\r\n       <use x=\"166.699219\" xlink:href=\"#ArialMT-61\"/>\r\n       <use x=\"222.314453\" xlink:href=\"#ArialMT-6c\"/>\r\n       <use x=\"244.53125\" xlink:href=\"#ArialMT-65\"/>\r\n      </g>\r\n     </g>\r\n    </g>\r\n    <g id=\"text_3\">\r\n     <!-- sex -->\r\n     <g style=\"fill:#262626;\" transform=\"translate(183.983772 339.929219)scale(0.12 -0.12)\">\r\n      <defs>\r\n       <path d=\"M 197 991 \r\nL 753 1078 \r\nQ 800 744 1014 566 \r\nQ 1228 388 1613 388 \r\nQ 2000 388 2187 545 \r\nQ 2375 703 2375 916 \r\nQ 2375 1106 2209 1216 \r\nQ 2094 1291 1634 1406 \r\nQ 1016 1563 777 1677 \r\nQ 538 1791 414 1992 \r\nQ 291 2194 291 2438 \r\nQ 291 2659 392 2848 \r\nQ 494 3038 669 3163 \r\nQ 800 3259 1026 3326 \r\nQ 1253 3394 1513 3394 \r\nQ 1903 3394 2198 3281 \r\nQ 2494 3169 2634 2976 \r\nQ 2775 2784 2828 2463 \r\nL 2278 2388 \r\nQ 2241 2644 2061 2787 \r\nQ 1881 2931 1553 2931 \r\nQ 1166 2931 1000 2803 \r\nQ 834 2675 834 2503 \r\nQ 834 2394 903 2306 \r\nQ 972 2216 1119 2156 \r\nQ 1203 2125 1616 2013 \r\nQ 2213 1853 2448 1751 \r\nQ 2684 1650 2818 1456 \r\nQ 2953 1263 2953 975 \r\nQ 2953 694 2789 445 \r\nQ 2625 197 2315 61 \r\nQ 2006 -75 1616 -75 \r\nQ 969 -75 630 194 \r\nQ 291 463 197 991 \r\nz\r\n\" id=\"ArialMT-73\" transform=\"scale(0.015625)\"/>\r\n       <path d=\"M 47 0 \r\nL 1259 1725 \r\nL 138 3319 \r\nL 841 3319 \r\nL 1350 2541 \r\nQ 1494 2319 1581 2169 \r\nQ 1719 2375 1834 2534 \r\nL 2394 3319 \r\nL 3066 3319 \r\nL 1919 1756 \r\nL 3153 0 \r\nL 2463 0 \r\nL 1781 1031 \r\nL 1600 1309 \r\nL 728 0 \r\nL 47 0 \r\nz\r\n\" id=\"ArialMT-78\" transform=\"scale(0.015625)\"/>\r\n      </defs>\r\n      <use xlink:href=\"#ArialMT-73\"/>\r\n      <use x=\"50\" xlink:href=\"#ArialMT-65\"/>\r\n      <use x=\"105.615234\" xlink:href=\"#ArialMT-78\"/>\r\n     </g>\r\n    </g>\r\n   </g>\r\n   <g id=\"matplotlib.axis_2\">\r\n    <g id=\"ytick_1\">\r\n     <g id=\"line2d_3\">\r\n      <defs>\r\n       <path d=\"M 0 0 \r\nL -6 0 \r\n\" id=\"me6a052b609\" style=\"stroke:#262626;stroke-width:1.25;\"/>\r\n      </defs>\r\n      <g>\r\n       <use style=\"fill:#262626;stroke:#262626;stroke-width:1.25;\" x=\"46.964375\" xlink:href=\"#me6a052b609\" y=\"307.78\"/>\r\n      </g>\r\n     </g>\r\n     <g id=\"text_4\">\r\n      <!-- 0.0 -->\r\n      <g style=\"fill:#262626;\" transform=\"translate(22.174375 311.716797)scale(0.11 -0.11)\">\r\n       <defs>\r\n        <path d=\"M 266 2259 \r\nQ 266 3072 433 3567 \r\nQ 600 4063 929 4331 \r\nQ 1259 4600 1759 4600 \r\nQ 2128 4600 2406 4451 \r\nQ 2684 4303 2865 4023 \r\nQ 3047 3744 3150 3342 \r\nQ 3253 2941 3253 2259 \r\nQ 3253 1453 3087 958 \r\nQ 2922 463 2592 192 \r\nQ 2263 -78 1759 -78 \r\nQ 1097 -78 719 397 \r\nQ 266 969 266 2259 \r\nz\r\nM 844 2259 \r\nQ 844 1131 1108 757 \r\nQ 1372 384 1759 384 \r\nQ 2147 384 2411 759 \r\nQ 2675 1134 2675 2259 \r\nQ 2675 3391 2411 3762 \r\nQ 2147 4134 1753 4134 \r\nQ 1366 4134 1134 3806 \r\nQ 844 3388 844 2259 \r\nz\r\n\" id=\"ArialMT-30\" transform=\"scale(0.015625)\"/>\r\n        <path d=\"M 581 0 \r\nL 581 641 \r\nL 1222 641 \r\nL 1222 0 \r\nL 581 0 \r\nz\r\n\" id=\"ArialMT-2e\" transform=\"scale(0.015625)\"/>\r\n       </defs>\r\n       <use xlink:href=\"#ArialMT-30\"/>\r\n       <use x=\"55.615234\" xlink:href=\"#ArialMT-2e\"/>\r\n       <use x=\"83.398438\" xlink:href=\"#ArialMT-30\"/>\r\n      </g>\r\n     </g>\r\n    </g>\r\n    <g id=\"ytick_2\">\r\n     <g id=\"line2d_4\">\r\n      <g>\r\n       <use style=\"fill:#262626;stroke:#262626;stroke-width:1.25;\" x=\"46.964375\" xlink:href=\"#me6a052b609\" y=\"250.526667\"/>\r\n      </g>\r\n     </g>\r\n     <g id=\"text_5\">\r\n      <!-- 0.2 -->\r\n      <g style=\"fill:#262626;\" transform=\"translate(22.174375 254.463464)scale(0.11 -0.11)\">\r\n       <defs>\r\n        <path d=\"M 3222 541 \r\nL 3222 0 \r\nL 194 0 \r\nQ 188 203 259 391 \r\nQ 375 700 629 1000 \r\nQ 884 1300 1366 1694 \r\nQ 2113 2306 2375 2664 \r\nQ 2638 3022 2638 3341 \r\nQ 2638 3675 2398 3904 \r\nQ 2159 4134 1775 4134 \r\nQ 1369 4134 1125 3890 \r\nQ 881 3647 878 3216 \r\nL 300 3275 \r\nQ 359 3922 746 4261 \r\nQ 1134 4600 1788 4600 \r\nQ 2447 4600 2831 4234 \r\nQ 3216 3869 3216 3328 \r\nQ 3216 3053 3103 2787 \r\nQ 2991 2522 2730 2228 \r\nQ 2469 1934 1863 1422 \r\nQ 1356 997 1212 845 \r\nQ 1069 694 975 541 \r\nL 3222 541 \r\nz\r\n\" id=\"ArialMT-32\" transform=\"scale(0.015625)\"/>\r\n       </defs>\r\n       <use xlink:href=\"#ArialMT-30\"/>\r\n       <use x=\"55.615234\" xlink:href=\"#ArialMT-2e\"/>\r\n       <use x=\"83.398438\" xlink:href=\"#ArialMT-32\"/>\r\n      </g>\r\n     </g>\r\n    </g>\r\n    <g id=\"ytick_3\">\r\n     <g id=\"line2d_5\">\r\n      <g>\r\n       <use style=\"fill:#262626;stroke:#262626;stroke-width:1.25;\" x=\"46.964375\" xlink:href=\"#me6a052b609\" y=\"193.273333\"/>\r\n      </g>\r\n     </g>\r\n     <g id=\"text_6\">\r\n      <!-- 0.4 -->\r\n      <g style=\"fill:#262626;\" transform=\"translate(22.174375 197.21013)scale(0.11 -0.11)\">\r\n       <defs>\r\n        <path d=\"M 2069 0 \r\nL 2069 1097 \r\nL 81 1097 \r\nL 81 1613 \r\nL 2172 4581 \r\nL 2631 4581 \r\nL 2631 1613 \r\nL 3250 1613 \r\nL 3250 1097 \r\nL 2631 1097 \r\nL 2631 0 \r\nL 2069 0 \r\nz\r\nM 2069 1613 \r\nL 2069 3678 \r\nL 634 1613 \r\nL 2069 1613 \r\nz\r\n\" id=\"ArialMT-34\" transform=\"scale(0.015625)\"/>\r\n       </defs>\r\n       <use xlink:href=\"#ArialMT-30\"/>\r\n       <use x=\"55.615234\" xlink:href=\"#ArialMT-2e\"/>\r\n       <use x=\"83.398438\" xlink:href=\"#ArialMT-34\"/>\r\n      </g>\r\n     </g>\r\n    </g>\r\n    <g id=\"ytick_4\">\r\n     <g id=\"line2d_6\">\r\n      <g>\r\n       <use style=\"fill:#262626;stroke:#262626;stroke-width:1.25;\" x=\"46.964375\" xlink:href=\"#me6a052b609\" y=\"136.02\"/>\r\n      </g>\r\n     </g>\r\n     <g id=\"text_7\">\r\n      <!-- 0.6 -->\r\n      <g style=\"fill:#262626;\" transform=\"translate(22.174375 139.956797)scale(0.11 -0.11)\">\r\n       <defs>\r\n        <path d=\"M 3184 3459 \r\nL 2625 3416 \r\nQ 2550 3747 2413 3897 \r\nQ 2184 4138 1850 4138 \r\nQ 1581 4138 1378 3988 \r\nQ 1113 3794 959 3422 \r\nQ 806 3050 800 2363 \r\nQ 1003 2672 1297 2822 \r\nQ 1591 2972 1913 2972 \r\nQ 2475 2972 2870 2558 \r\nQ 3266 2144 3266 1488 \r\nQ 3266 1056 3080 686 \r\nQ 2894 316 2569 119 \r\nQ 2244 -78 1831 -78 \r\nQ 1128 -78 684 439 \r\nQ 241 956 241 2144 \r\nQ 241 3472 731 4075 \r\nQ 1159 4600 1884 4600 \r\nQ 2425 4600 2770 4297 \r\nQ 3116 3994 3184 3459 \r\nz\r\nM 888 1484 \r\nQ 888 1194 1011 928 \r\nQ 1134 663 1356 523 \r\nQ 1578 384 1822 384 \r\nQ 2178 384 2434 671 \r\nQ 2691 959 2691 1453 \r\nQ 2691 1928 2437 2201 \r\nQ 2184 2475 1800 2475 \r\nQ 1419 2475 1153 2201 \r\nQ 888 1928 888 1484 \r\nz\r\n\" id=\"ArialMT-36\" transform=\"scale(0.015625)\"/>\r\n       </defs>\r\n       <use xlink:href=\"#ArialMT-30\"/>\r\n       <use x=\"55.615234\" xlink:href=\"#ArialMT-2e\"/>\r\n       <use x=\"83.398438\" xlink:href=\"#ArialMT-36\"/>\r\n      </g>\r\n     </g>\r\n    </g>\r\n    <g id=\"ytick_5\">\r\n     <g id=\"line2d_7\">\r\n      <g>\r\n       <use style=\"fill:#262626;stroke:#262626;stroke-width:1.25;\" x=\"46.964375\" xlink:href=\"#me6a052b609\" y=\"78.766667\"/>\r\n      </g>\r\n     </g>\r\n     <g id=\"text_8\">\r\n      <!-- 0.8 -->\r\n      <g style=\"fill:#262626;\" transform=\"translate(22.174375 82.703464)scale(0.11 -0.11)\">\r\n       <defs>\r\n        <path d=\"M 1131 2484 \r\nQ 781 2613 612 2850 \r\nQ 444 3088 444 3419 \r\nQ 444 3919 803 4259 \r\nQ 1163 4600 1759 4600 \r\nQ 2359 4600 2725 4251 \r\nQ 3091 3903 3091 3403 \r\nQ 3091 3084 2923 2848 \r\nQ 2756 2613 2416 2484 \r\nQ 2838 2347 3058 2040 \r\nQ 3278 1734 3278 1309 \r\nQ 3278 722 2862 322 \r\nQ 2447 -78 1769 -78 \r\nQ 1091 -78 675 323 \r\nQ 259 725 259 1325 \r\nQ 259 1772 486 2073 \r\nQ 713 2375 1131 2484 \r\nz\r\nM 1019 3438 \r\nQ 1019 3113 1228 2906 \r\nQ 1438 2700 1772 2700 \r\nQ 2097 2700 2305 2904 \r\nQ 2513 3109 2513 3406 \r\nQ 2513 3716 2298 3927 \r\nQ 2084 4138 1766 4138 \r\nQ 1444 4138 1231 3931 \r\nQ 1019 3725 1019 3438 \r\nz\r\nM 838 1322 \r\nQ 838 1081 952 856 \r\nQ 1066 631 1291 507 \r\nQ 1516 384 1775 384 \r\nQ 2178 384 2440 643 \r\nQ 2703 903 2703 1303 \r\nQ 2703 1709 2433 1975 \r\nQ 2163 2241 1756 2241 \r\nQ 1359 2241 1098 1978 \r\nQ 838 1716 838 1322 \r\nz\r\n\" id=\"ArialMT-38\" transform=\"scale(0.015625)\"/>\r\n       </defs>\r\n       <use xlink:href=\"#ArialMT-30\"/>\r\n       <use x=\"55.615234\" xlink:href=\"#ArialMT-2e\"/>\r\n       <use x=\"83.398438\" xlink:href=\"#ArialMT-38\"/>\r\n      </g>\r\n     </g>\r\n    </g>\r\n    <g id=\"ytick_6\">\r\n     <g id=\"line2d_8\">\r\n      <g>\r\n       <use style=\"fill:#262626;stroke:#262626;stroke-width:1.25;\" x=\"46.964375\" xlink:href=\"#me6a052b609\" y=\"21.513333\"/>\r\n      </g>\r\n     </g>\r\n     <g id=\"text_9\">\r\n      <!-- 1.0 -->\r\n      <g style=\"fill:#262626;\" transform=\"translate(22.174375 25.45013)scale(0.11 -0.11)\">\r\n       <defs>\r\n        <path d=\"M 2384 0 \r\nL 1822 0 \r\nL 1822 3584 \r\nQ 1619 3391 1289 3197 \r\nQ 959 3003 697 2906 \r\nL 697 3450 \r\nQ 1169 3672 1522 3987 \r\nQ 1875 4303 2022 4600 \r\nL 2384 4600 \r\nL 2384 0 \r\nz\r\n\" id=\"ArialMT-31\" transform=\"scale(0.015625)\"/>\r\n       </defs>\r\n       <use xlink:href=\"#ArialMT-31\"/>\r\n       <use x=\"55.615234\" xlink:href=\"#ArialMT-2e\"/>\r\n       <use x=\"83.398438\" xlink:href=\"#ArialMT-30\"/>\r\n      </g>\r\n     </g>\r\n    </g>\r\n    <g id=\"text_10\">\r\n     <!-- survived -->\r\n     <g style=\"fill:#262626;\" transform=\"translate(15.789375 179.830625)rotate(-90)scale(0.12 -0.12)\">\r\n      <defs>\r\n       <path d=\"M 2597 0 \r\nL 2597 488 \r\nQ 2209 -75 1544 -75 \r\nQ 1250 -75 995 37 \r\nQ 741 150 617 320 \r\nQ 494 491 444 738 \r\nQ 409 903 409 1263 \r\nL 409 3319 \r\nL 972 3319 \r\nL 972 1478 \r\nQ 972 1038 1006 884 \r\nQ 1059 663 1231 536 \r\nQ 1403 409 1656 409 \r\nQ 1909 409 2131 539 \r\nQ 2353 669 2445 892 \r\nQ 2538 1116 2538 1541 \r\nL 2538 3319 \r\nL 3100 3319 \r\nL 3100 0 \r\nL 2597 0 \r\nz\r\n\" id=\"ArialMT-75\" transform=\"scale(0.015625)\"/>\r\n       <path d=\"M 416 0 \r\nL 416 3319 \r\nL 922 3319 \r\nL 922 2816 \r\nQ 1116 3169 1280 3281 \r\nQ 1444 3394 1641 3394 \r\nQ 1925 3394 2219 3213 \r\nL 2025 2691 \r\nQ 1819 2813 1613 2813 \r\nQ 1428 2813 1281 2702 \r\nQ 1134 2591 1072 2394 \r\nQ 978 2094 978 1738 \r\nL 978 0 \r\nL 416 0 \r\nz\r\n\" id=\"ArialMT-72\" transform=\"scale(0.015625)\"/>\r\n       <path d=\"M 1344 0 \r\nL 81 3319 \r\nL 675 3319 \r\nL 1388 1331 \r\nQ 1503 1009 1600 663 \r\nQ 1675 925 1809 1294 \r\nL 2547 3319 \r\nL 3125 3319 \r\nL 1869 0 \r\nL 1344 0 \r\nz\r\n\" id=\"ArialMT-76\" transform=\"scale(0.015625)\"/>\r\n       <path d=\"M 425 3934 \r\nL 425 4581 \r\nL 988 4581 \r\nL 988 3934 \r\nL 425 3934 \r\nz\r\nM 425 0 \r\nL 425 3319 \r\nL 988 3319 \r\nL 988 0 \r\nL 425 0 \r\nz\r\n\" id=\"ArialMT-69\" transform=\"scale(0.015625)\"/>\r\n       <path d=\"M 2575 0 \r\nL 2575 419 \r\nQ 2259 -75 1647 -75 \r\nQ 1250 -75 917 144 \r\nQ 584 363 401 755 \r\nQ 219 1147 219 1656 \r\nQ 219 2153 384 2558 \r\nQ 550 2963 881 3178 \r\nQ 1213 3394 1622 3394 \r\nQ 1922 3394 2156 3267 \r\nQ 2391 3141 2538 2938 \r\nL 2538 4581 \r\nL 3097 4581 \r\nL 3097 0 \r\nL 2575 0 \r\nz\r\nM 797 1656 \r\nQ 797 1019 1065 703 \r\nQ 1334 388 1700 388 \r\nQ 2069 388 2326 689 \r\nQ 2584 991 2584 1609 \r\nQ 2584 2291 2321 2609 \r\nQ 2059 2928 1675 2928 \r\nQ 1300 2928 1048 2622 \r\nQ 797 2316 797 1656 \r\nz\r\n\" id=\"ArialMT-64\" transform=\"scale(0.015625)\"/>\r\n      </defs>\r\n      <use xlink:href=\"#ArialMT-73\"/>\r\n      <use x=\"50\" xlink:href=\"#ArialMT-75\"/>\r\n      <use x=\"105.615234\" xlink:href=\"#ArialMT-72\"/>\r\n      <use x=\"138.916016\" xlink:href=\"#ArialMT-76\"/>\r\n      <use x=\"188.916016\" xlink:href=\"#ArialMT-69\"/>\r\n      <use x=\"211.132812\" xlink:href=\"#ArialMT-76\"/>\r\n      <use x=\"261.132812\" xlink:href=\"#ArialMT-65\"/>\r\n      <use x=\"316.748047\" xlink:href=\"#ArialMT-64\"/>\r\n     </g>\r\n    </g>\r\n   </g>\r\n   <g id=\"patch_3\">\r\n    <path clip-path=\"url(#p80ec7acd40)\" d=\"M 61.599971 307.78 \r\nL 100.628227 307.78 \r\nL 100.628227 202.189836 \r\nL 61.599971 202.189836 \r\nz\r\n\" style=\"fill:#5875a4;stroke:#ffffff;stroke-linejoin:miter;\"/>\r\n   </g>\r\n   <g id=\"patch_4\">\r\n    <path clip-path=\"url(#p80ec7acd40)\" d=\"M 207.955931 307.78 \r\nL 246.984186 307.78 \r\nL 246.984186 30.649504 \r\nL 207.955931 30.649504 \r\nz\r\n\" style=\"fill:#5875a4;stroke:#ffffff;stroke-linejoin:miter;\"/>\r\n   </g>\r\n   <g id=\"patch_5\">\r\n    <path clip-path=\"url(#p80ec7acd40)\" d=\"M 100.628227 307.78 \r\nL 139.656483 307.78 \r\nL 139.656483 262.719506 \r\nL 100.628227 262.719506 \r\nz\r\n\" style=\"fill:#cc8963;stroke:#ffffff;stroke-linejoin:miter;\"/>\r\n   </g>\r\n   <g id=\"patch_6\">\r\n    <path clip-path=\"url(#p80ec7acd40)\" d=\"M 246.984186 307.78 \r\nL 286.012442 307.78 \r\nL 286.012442 44.113333 \r\nL 246.984186 44.113333 \r\nz\r\n\" style=\"fill:#cc8963;stroke:#ffffff;stroke-linejoin:miter;\"/>\r\n   </g>\r\n   <g id=\"patch_7\">\r\n    <path clip-path=\"url(#p80ec7acd40)\" d=\"M 139.656483 307.78 \r\nL 178.684739 307.78 \r\nL 178.684739 269.006129 \r\nL 139.656483 269.006129 \r\nz\r\n\" style=\"fill:#5f9e6e;stroke:#ffffff;stroke-linejoin:miter;\"/>\r\n   </g>\r\n   <g id=\"patch_8\">\r\n    <path clip-path=\"url(#p80ec7acd40)\" d=\"M 286.012442 307.78 \r\nL 325.040698 307.78 \r\nL 325.040698 164.646667 \r\nL 286.012442 164.646667 \r\nz\r\n\" style=\"fill:#5f9e6e;stroke:#ffffff;stroke-linejoin:miter;\"/>\r\n   </g>\r\n   <g id=\"line2d_9\">\r\n    <path clip-path=\"url(#p80ec7acd40)\" d=\"M 81.114099 228.000765 \r\nL 81.114099 176.378907 \r\n\" style=\"fill:none;stroke:#424242;stroke-linecap:round;stroke-width:2.7;\"/>\r\n   </g>\r\n   <g id=\"line2d_10\">\r\n    <path clip-path=\"url(#p80ec7acd40)\" d=\"M 227.470058 42.831064 \r\nL 227.470058 21.513333 \r\n\" style=\"fill:none;stroke:#424242;stroke-linecap:round;stroke-width:2.7;\"/>\r\n   </g>\r\n   <g id=\"line2d_11\">\r\n    <path clip-path=\"url(#p80ec7acd40)\" d=\"M 120.142355 281.273827 \r\nL 120.142355 241.514568 \r\n\" style=\"fill:none;stroke:#424242;stroke-linecap:round;stroke-width:2.7;\"/>\r\n   </g>\r\n   <g id=\"line2d_12\">\r\n    <path clip-path=\"url(#p80ec7acd40)\" d=\"M 266.498314 62.946667 \r\nL 266.498314 29.046667 \r\n\" style=\"fill:none;stroke:#424242;stroke-linecap:round;stroke-width:2.7;\"/>\r\n   </g>\r\n   <g id=\"line2d_13\">\r\n    <path clip-path=\"url(#p80ec7acd40)\" d=\"M 159.170611 278.905841 \r\nL 159.170611 258.281441 \r\n\" style=\"fill:none;stroke:#424242;stroke-linecap:round;stroke-width:2.7;\"/>\r\n   </g>\r\n   <g id=\"line2d_14\">\r\n    <path clip-path=\"url(#p80ec7acd40)\" d=\"M 305.52657 190.490185 \r\nL 305.52657 140.791111 \r\n\" style=\"fill:none;stroke:#424242;stroke-linecap:round;stroke-width:2.7;\"/>\r\n   </g>\r\n   <g id=\"patch_9\">\r\n    <path d=\"M 46.964375 307.78 \r\nL 46.964375 7.2 \r\n\" style=\"fill:none;stroke:#262626;stroke-linecap:square;stroke-linejoin:miter;stroke-width:1.25;\"/>\r\n   </g>\r\n   <g id=\"patch_10\">\r\n    <path d=\"M 46.964375 307.78 \r\nL 339.676294 307.78 \r\n\" style=\"fill:none;stroke:#262626;stroke-linecap:square;stroke-linejoin:miter;stroke-width:1.25;\"/>\r\n   </g>\r\n  </g>\r\n  <g id=\"legend_1\">\r\n   <g id=\"text_11\">\r\n    <!-- class -->\r\n    <g style=\"fill:#262626;\" transform=\"translate(365.098622 154.519531)scale(0.12 -0.12)\">\r\n     <defs>\r\n      <path d=\"M 2588 1216 \r\nL 3141 1144 \r\nQ 3050 572 2676 248 \r\nQ 2303 -75 1759 -75 \r\nQ 1078 -75 664 370 \r\nQ 250 816 250 1647 \r\nQ 250 2184 428 2587 \r\nQ 606 2991 970 3192 \r\nQ 1334 3394 1763 3394 \r\nQ 2303 3394 2647 3120 \r\nQ 2991 2847 3088 2344 \r\nL 2541 2259 \r\nQ 2463 2594 2264 2762 \r\nQ 2066 2931 1784 2931 \r\nQ 1359 2931 1093 2626 \r\nQ 828 2322 828 1663 \r\nQ 828 994 1084 691 \r\nQ 1341 388 1753 388 \r\nQ 2084 388 2306 591 \r\nQ 2528 794 2588 1216 \r\nz\r\n\" id=\"ArialMT-63\" transform=\"scale(0.015625)\"/>\r\n     </defs>\r\n     <use xlink:href=\"#ArialMT-63\"/>\r\n     <use x=\"50\" xlink:href=\"#ArialMT-6c\"/>\r\n     <use x=\"72.216797\" xlink:href=\"#ArialMT-61\"/>\r\n     <use x=\"127.832031\" xlink:href=\"#ArialMT-73\"/>\r\n     <use x=\"177.832031\" xlink:href=\"#ArialMT-73\"/>\r\n    </g>\r\n   </g>\r\n   <g id=\"patch_11\">\r\n    <path d=\"M 344.715575 170.278125 \r\nL 366.715575 170.278125 \r\nL 366.715575 162.578125 \r\nL 344.715575 162.578125 \r\nz\r\n\" style=\"fill:#5875a4;stroke:#ffffff;stroke-linejoin:miter;\"/>\r\n   </g>\r\n   <g id=\"text_12\">\r\n    <!-- First -->\r\n    <g style=\"fill:#262626;\" transform=\"translate(375.515575 170.278125)scale(0.11 -0.11)\">\r\n     <defs>\r\n      <path d=\"M 525 0 \r\nL 525 4581 \r\nL 3616 4581 \r\nL 3616 4041 \r\nL 1131 4041 \r\nL 1131 2622 \r\nL 3281 2622 \r\nL 3281 2081 \r\nL 1131 2081 \r\nL 1131 0 \r\nL 525 0 \r\nz\r\n\" id=\"ArialMT-46\" transform=\"scale(0.015625)\"/>\r\n      <path d=\"M 1650 503 \r\nL 1731 6 \r\nQ 1494 -44 1306 -44 \r\nQ 1000 -44 831 53 \r\nQ 663 150 594 308 \r\nQ 525 466 525 972 \r\nL 525 2881 \r\nL 113 2881 \r\nL 113 3319 \r\nL 525 3319 \r\nL 525 4141 \r\nL 1084 4478 \r\nL 1084 3319 \r\nL 1650 3319 \r\nL 1650 2881 \r\nL 1084 2881 \r\nL 1084 941 \r\nQ 1084 700 1114 631 \r\nQ 1144 563 1211 522 \r\nQ 1278 481 1403 481 \r\nQ 1497 481 1650 503 \r\nz\r\n\" id=\"ArialMT-74\" transform=\"scale(0.015625)\"/>\r\n     </defs>\r\n     <use xlink:href=\"#ArialMT-46\"/>\r\n     <use x=\"61.083984\" xlink:href=\"#ArialMT-69\"/>\r\n     <use x=\"83.300781\" xlink:href=\"#ArialMT-72\"/>\r\n     <use x=\"116.601562\" xlink:href=\"#ArialMT-73\"/>\r\n     <use x=\"166.601562\" xlink:href=\"#ArialMT-74\"/>\r\n    </g>\r\n   </g>\r\n   <g id=\"patch_12\">\r\n    <path d=\"M 344.715575 185.837969 \r\nL 366.715575 185.837969 \r\nL 366.715575 178.137969 \r\nL 344.715575 178.137969 \r\nz\r\n\" style=\"fill:#cc8963;stroke:#ffffff;stroke-linejoin:miter;\"/>\r\n   </g>\r\n   <g id=\"text_13\">\r\n    <!-- Second -->\r\n    <g style=\"fill:#262626;\" transform=\"translate(375.515575 185.837969)scale(0.11 -0.11)\">\r\n     <defs>\r\n      <path d=\"M 288 1472 \r\nL 859 1522 \r\nQ 900 1178 1048 958 \r\nQ 1197 738 1509 602 \r\nQ 1822 466 2213 466 \r\nQ 2559 466 2825 569 \r\nQ 3091 672 3220 851 \r\nQ 3350 1031 3350 1244 \r\nQ 3350 1459 3225 1620 \r\nQ 3100 1781 2813 1891 \r\nQ 2628 1963 1997 2114 \r\nQ 1366 2266 1113 2400 \r\nQ 784 2572 623 2826 \r\nQ 463 3081 463 3397 \r\nQ 463 3744 659 4045 \r\nQ 856 4347 1234 4503 \r\nQ 1613 4659 2075 4659 \r\nQ 2584 4659 2973 4495 \r\nQ 3363 4331 3572 4012 \r\nQ 3781 3694 3797 3291 \r\nL 3216 3247 \r\nQ 3169 3681 2898 3903 \r\nQ 2628 4125 2100 4125 \r\nQ 1550 4125 1298 3923 \r\nQ 1047 3722 1047 3438 \r\nQ 1047 3191 1225 3031 \r\nQ 1400 2872 2139 2705 \r\nQ 2878 2538 3153 2413 \r\nQ 3553 2228 3743 1945 \r\nQ 3934 1663 3934 1294 \r\nQ 3934 928 3725 604 \r\nQ 3516 281 3123 101 \r\nQ 2731 -78 2241 -78 \r\nQ 1619 -78 1198 103 \r\nQ 778 284 539 648 \r\nQ 300 1013 288 1472 \r\nz\r\n\" id=\"ArialMT-53\" transform=\"scale(0.015625)\"/>\r\n      <path d=\"M 213 1659 \r\nQ 213 2581 725 3025 \r\nQ 1153 3394 1769 3394 \r\nQ 2453 3394 2887 2945 \r\nQ 3322 2497 3322 1706 \r\nQ 3322 1066 3130 698 \r\nQ 2938 331 2570 128 \r\nQ 2203 -75 1769 -75 \r\nQ 1072 -75 642 372 \r\nQ 213 819 213 1659 \r\nz\r\nM 791 1659 \r\nQ 791 1022 1069 705 \r\nQ 1347 388 1769 388 \r\nQ 2188 388 2466 706 \r\nQ 2744 1025 2744 1678 \r\nQ 2744 2294 2464 2611 \r\nQ 2184 2928 1769 2928 \r\nQ 1347 2928 1069 2612 \r\nQ 791 2297 791 1659 \r\nz\r\n\" id=\"ArialMT-6f\" transform=\"scale(0.015625)\"/>\r\n      <path d=\"M 422 0 \r\nL 422 3319 \r\nL 928 3319 \r\nL 928 2847 \r\nQ 1294 3394 1984 3394 \r\nQ 2284 3394 2536 3286 \r\nQ 2788 3178 2913 3003 \r\nQ 3038 2828 3088 2588 \r\nQ 3119 2431 3119 2041 \r\nL 3119 0 \r\nL 2556 0 \r\nL 2556 2019 \r\nQ 2556 2363 2490 2533 \r\nQ 2425 2703 2258 2804 \r\nQ 2091 2906 1866 2906 \r\nQ 1506 2906 1245 2678 \r\nQ 984 2450 984 1813 \r\nL 984 0 \r\nL 422 0 \r\nz\r\n\" id=\"ArialMT-6e\" transform=\"scale(0.015625)\"/>\r\n     </defs>\r\n     <use xlink:href=\"#ArialMT-53\"/>\r\n     <use x=\"66.699219\" xlink:href=\"#ArialMT-65\"/>\r\n     <use x=\"122.314453\" xlink:href=\"#ArialMT-63\"/>\r\n     <use x=\"172.314453\" xlink:href=\"#ArialMT-6f\"/>\r\n     <use x=\"227.929688\" xlink:href=\"#ArialMT-6e\"/>\r\n     <use x=\"283.544922\" xlink:href=\"#ArialMT-64\"/>\r\n    </g>\r\n   </g>\r\n   <g id=\"patch_13\">\r\n    <path d=\"M 344.715575 201.397812 \r\nL 366.715575 201.397812 \r\nL 366.715575 193.697812 \r\nL 344.715575 193.697812 \r\nz\r\n\" style=\"fill:#5f9e6e;stroke:#ffffff;stroke-linejoin:miter;\"/>\r\n   </g>\r\n   <g id=\"text_14\">\r\n    <!-- Third -->\r\n    <g style=\"fill:#262626;\" transform=\"translate(375.515575 201.397812)scale(0.11 -0.11)\">\r\n     <defs>\r\n      <path d=\"M 1659 0 \r\nL 1659 4041 \r\nL 150 4041 \r\nL 150 4581 \r\nL 3781 4581 \r\nL 3781 4041 \r\nL 2266 4041 \r\nL 2266 0 \r\nL 1659 0 \r\nz\r\n\" id=\"ArialMT-54\" transform=\"scale(0.015625)\"/>\r\n      <path d=\"M 422 0 \r\nL 422 4581 \r\nL 984 4581 \r\nL 984 2938 \r\nQ 1378 3394 1978 3394 \r\nQ 2347 3394 2619 3248 \r\nQ 2891 3103 3008 2847 \r\nQ 3125 2591 3125 2103 \r\nL 3125 0 \r\nL 2563 0 \r\nL 2563 2103 \r\nQ 2563 2525 2380 2717 \r\nQ 2197 2909 1863 2909 \r\nQ 1613 2909 1392 2779 \r\nQ 1172 2650 1078 2428 \r\nQ 984 2206 984 1816 \r\nL 984 0 \r\nL 422 0 \r\nz\r\n\" id=\"ArialMT-68\" transform=\"scale(0.015625)\"/>\r\n     </defs>\r\n     <use xlink:href=\"#ArialMT-54\"/>\r\n     <use x=\"61.083984\" xlink:href=\"#ArialMT-68\"/>\r\n     <use x=\"116.699219\" xlink:href=\"#ArialMT-69\"/>\r\n     <use x=\"138.916016\" xlink:href=\"#ArialMT-72\"/>\r\n     <use x=\"172.216797\" xlink:href=\"#ArialMT-64\"/>\r\n    </g>\r\n   </g>\r\n  </g>\r\n </g>\r\n <defs>\r\n  <clipPath id=\"p80ec7acd40\">\r\n   <rect height=\"300.58\" width=\"292.711919\" x=\"46.964375\" y=\"7.2\"/>\r\n  </clipPath>\r\n </defs>\r\n</svg>\r\n",
      "text/plain": [
       "<Figure size 436.975x360 with 1 Axes>"
      ]
     },
     "metadata": {},
     "output_type": "display_data"
    }
   ],
   "source": [
    "import seaborn as sns\n",
    "import matplotlib.pyplot as plt\n",
    "sns.set_theme(style='ticks',color_codes=True)\n",
    "titanic= sns.load_dataset('titanic')\n",
    "sns.catplot(x='sex', y='survived', hue='class', kind='bar', data=titanic)\n",
    "plt.show()"
   ]
  },
  {
   "cell_type": "code",
   "execution_count": 4,
   "metadata": {},
   "outputs": [
    {
     "data": {
      "image/png": "[encoded data removed]",
      "image/svg+xml": "<?xml version=\"1.0\" encoding=\"utf-8\" standalone=\"no\"?>\r\n<!DOCTYPE svg PUBLIC \"-//W3C//DTD SVG 1.1//EN\"\r\n  \"http://www.w3.org/Graphics/SVG/1.1/DTD/svg11.dtd\">\r\n<svg height=\"280.963594pt\" version=\"1.1\" viewBox=\"0 0 392.025469 280.963594\" width=\"392.025469pt\" xmlns=\"http://www.w3.org/2000/svg\" xmlns:xlink=\"http://www.w3.org/1999/xlink\">\r\n <metadata>\r\n  <rdf:RDF xmlns:cc=\"http://creativecommons.org/ns#\" xmlns:dc=\"http://purl.org/dc/elements/1.1/\" xmlns:rdf=\"http://www.w3.org/1999/02/22-rdf-syntax-ns#\">\r\n   <cc:Work>\r\n    <dc:type rdf:resource=\"http://purl.org/dc/dcmitype/StillImage\"/>\r\n    <dc:date>2022-02-04T22:30:31.496333</dc:date>\r\n    <dc:format>image/svg+xml</dc:format>\r\n    <dc:creator>\r\n     <cc:Agent>\r\n      <dc:title>Matplotlib v3.4.3, https://matplotlib.org/</dc:title>\r\n     </cc:Agent>\r\n    </dc:creator>\r\n   </cc:Work>\r\n  </rdf:RDF>\r\n </metadata>\r\n <defs>\r\n  <style type=\"text/css\">*{stroke-linecap:butt;stroke-linejoin:round;}</style>\r\n </defs>\r\n <g id=\"figure_1\">\r\n  <g id=\"patch_1\">\r\n   <path d=\"M 0 280.963594 \r\nL 392.025469 280.963594 \r\nL 392.025469 0 \r\nL 0 0 \r\nz\r\n\" style=\"fill:#ffffff;\"/>\r\n  </g>\r\n  <g id=\"axes_1\">\r\n   <g id=\"patch_2\">\r\n    <path d=\"M 50.025469 239.229375 \r\nL 384.825469 239.229375 \r\nL 384.825469 21.789375 \r\nL 50.025469 21.789375 \r\nz\r\n\" style=\"fill:#ffffff;\"/>\r\n   </g>\r\n   <g id=\"matplotlib.axis_1\">\r\n    <g id=\"xtick_1\">\r\n     <g id=\"line2d_1\">\r\n      <defs>\r\n       <path d=\"M 0 0 \r\nL 0 6 \r\n\" id=\"m21851b6437\" style=\"stroke:#262626;stroke-width:1.25;\"/>\r\n      </defs>\r\n      <g>\r\n       <use style=\"fill:#262626;stroke:#262626;stroke-width:1.25;\" x=\"133.725469\" xlink:href=\"#m21851b6437\" y=\"239.229375\"/>\r\n      </g>\r\n     </g>\r\n     <g id=\"text_1\">\r\n      <!-- male -->\r\n      <g style=\"fill:#262626;\" transform=\"translate(121.805078 256.602969)scale(0.11 -0.11)\">\r\n       <defs>\r\n        <path d=\"M 422 0 \r\nL 422 3319 \r\nL 925 3319 \r\nL 925 2853 \r\nQ 1081 3097 1340 3245 \r\nQ 1600 3394 1931 3394 \r\nQ 2300 3394 2536 3241 \r\nQ 2772 3088 2869 2813 \r\nQ 3263 3394 3894 3394 \r\nQ 4388 3394 4653 3120 \r\nQ 4919 2847 4919 2278 \r\nL 4919 0 \r\nL 4359 0 \r\nL 4359 2091 \r\nQ 4359 2428 4304 2576 \r\nQ 4250 2725 4106 2815 \r\nQ 3963 2906 3769 2906 \r\nQ 3419 2906 3187 2673 \r\nQ 2956 2441 2956 1928 \r\nL 2956 0 \r\nL 2394 0 \r\nL 2394 2156 \r\nQ 2394 2531 2256 2718 \r\nQ 2119 2906 1806 2906 \r\nQ 1569 2906 1367 2781 \r\nQ 1166 2656 1075 2415 \r\nQ 984 2175 984 1722 \r\nL 984 0 \r\nL 422 0 \r\nz\r\n\" id=\"ArialMT-6d\" transform=\"scale(0.015625)\"/>\r\n        <path d=\"M 2588 409 \r\nQ 2275 144 1986 34 \r\nQ 1697 -75 1366 -75 \r\nQ 819 -75 525 192 \r\nQ 231 459 231 875 \r\nQ 231 1119 342 1320 \r\nQ 453 1522 633 1644 \r\nQ 813 1766 1038 1828 \r\nQ 1203 1872 1538 1913 \r\nQ 2219 1994 2541 2106 \r\nQ 2544 2222 2544 2253 \r\nQ 2544 2597 2384 2738 \r\nQ 2169 2928 1744 2928 \r\nQ 1347 2928 1158 2789 \r\nQ 969 2650 878 2297 \r\nL 328 2372 \r\nQ 403 2725 575 2942 \r\nQ 747 3159 1072 3276 \r\nQ 1397 3394 1825 3394 \r\nQ 2250 3394 2515 3294 \r\nQ 2781 3194 2906 3042 \r\nQ 3031 2891 3081 2659 \r\nQ 3109 2516 3109 2141 \r\nL 3109 1391 \r\nQ 3109 606 3145 398 \r\nQ 3181 191 3288 0 \r\nL 2700 0 \r\nQ 2613 175 2588 409 \r\nz\r\nM 2541 1666 \r\nQ 2234 1541 1622 1453 \r\nQ 1275 1403 1131 1340 \r\nQ 988 1278 909 1158 \r\nQ 831 1038 831 891 \r\nQ 831 666 1001 516 \r\nQ 1172 366 1500 366 \r\nQ 1825 366 2078 508 \r\nQ 2331 650 2450 897 \r\nQ 2541 1088 2541 1459 \r\nL 2541 1666 \r\nz\r\n\" id=\"ArialMT-61\" transform=\"scale(0.015625)\"/>\r\n        <path d=\"M 409 0 \r\nL 409 4581 \r\nL 972 4581 \r\nL 972 0 \r\nL 409 0 \r\nz\r\n\" id=\"ArialMT-6c\" transform=\"scale(0.015625)\"/>\r\n        <path d=\"M 2694 1069 \r\nL 3275 997 \r\nQ 3138 488 2766 206 \r\nQ 2394 -75 1816 -75 \r\nQ 1088 -75 661 373 \r\nQ 234 822 234 1631 \r\nQ 234 2469 665 2931 \r\nQ 1097 3394 1784 3394 \r\nQ 2450 3394 2872 2941 \r\nQ 3294 2488 3294 1666 \r\nQ 3294 1616 3291 1516 \r\nL 816 1516 \r\nQ 847 969 1125 678 \r\nQ 1403 388 1819 388 \r\nQ 2128 388 2347 550 \r\nQ 2566 713 2694 1069 \r\nz\r\nM 847 1978 \r\nL 2700 1978 \r\nQ 2663 2397 2488 2606 \r\nQ 2219 2931 1791 2931 \r\nQ 1403 2931 1139 2672 \r\nQ 875 2413 847 1978 \r\nz\r\n\" id=\"ArialMT-65\" transform=\"scale(0.015625)\"/>\r\n       </defs>\r\n       <use xlink:href=\"#ArialMT-6d\"/>\r\n       <use x=\"83.300781\" xlink:href=\"#ArialMT-61\"/>\r\n       <use x=\"138.916016\" xlink:href=\"#ArialMT-6c\"/>\r\n       <use x=\"161.132812\" xlink:href=\"#ArialMT-65\"/>\r\n      </g>\r\n     </g>\r\n    </g>\r\n    <g id=\"xtick_2\">\r\n     <g id=\"line2d_2\">\r\n      <g>\r\n       <use style=\"fill:#262626;stroke:#262626;stroke-width:1.25;\" x=\"301.125469\" xlink:href=\"#m21851b6437\" y=\"239.229375\"/>\r\n      </g>\r\n     </g>\r\n     <g id=\"text_2\">\r\n      <!-- female -->\r\n      <g style=\"fill:#262626;\" transform=\"translate(284.618594 256.602969)scale(0.11 -0.11)\">\r\n       <defs>\r\n        <path d=\"M 556 0 \r\nL 556 2881 \r\nL 59 2881 \r\nL 59 3319 \r\nL 556 3319 \r\nL 556 3672 \r\nQ 556 4006 616 4169 \r\nQ 697 4388 901 4523 \r\nQ 1106 4659 1475 4659 \r\nQ 1713 4659 2000 4603 \r\nL 1916 4113 \r\nQ 1741 4144 1584 4144 \r\nQ 1328 4144 1222 4034 \r\nQ 1116 3925 1116 3625 \r\nL 1116 3319 \r\nL 1763 3319 \r\nL 1763 2881 \r\nL 1116 2881 \r\nL 1116 0 \r\nL 556 0 \r\nz\r\n\" id=\"ArialMT-66\" transform=\"scale(0.015625)\"/>\r\n       </defs>\r\n       <use xlink:href=\"#ArialMT-66\"/>\r\n       <use x=\"27.783203\" xlink:href=\"#ArialMT-65\"/>\r\n       <use x=\"83.398438\" xlink:href=\"#ArialMT-6d\"/>\r\n       <use x=\"166.699219\" xlink:href=\"#ArialMT-61\"/>\r\n       <use x=\"222.314453\" xlink:href=\"#ArialMT-6c\"/>\r\n       <use x=\"244.53125\" xlink:href=\"#ArialMT-65\"/>\r\n      </g>\r\n     </g>\r\n    </g>\r\n    <g id=\"text_3\">\r\n     <!-- sex -->\r\n     <g style=\"fill:#262626;\" transform=\"translate(208.088906 271.378594)scale(0.12 -0.12)\">\r\n      <defs>\r\n       <path d=\"M 197 991 \r\nL 753 1078 \r\nQ 800 744 1014 566 \r\nQ 1228 388 1613 388 \r\nQ 2000 388 2187 545 \r\nQ 2375 703 2375 916 \r\nQ 2375 1106 2209 1216 \r\nQ 2094 1291 1634 1406 \r\nQ 1016 1563 777 1677 \r\nQ 538 1791 414 1992 \r\nQ 291 2194 291 2438 \r\nQ 291 2659 392 2848 \r\nQ 494 3038 669 3163 \r\nQ 800 3259 1026 3326 \r\nQ 1253 3394 1513 3394 \r\nQ 1903 3394 2198 3281 \r\nQ 2494 3169 2634 2976 \r\nQ 2775 2784 2828 2463 \r\nL 2278 2388 \r\nQ 2241 2644 2061 2787 \r\nQ 1881 2931 1553 2931 \r\nQ 1166 2931 1000 2803 \r\nQ 834 2675 834 2503 \r\nQ 834 2394 903 2306 \r\nQ 972 2216 1119 2156 \r\nQ 1203 2125 1616 2013 \r\nQ 2213 1853 2448 1751 \r\nQ 2684 1650 2818 1456 \r\nQ 2953 1263 2953 975 \r\nQ 2953 694 2789 445 \r\nQ 2625 197 2315 61 \r\nQ 2006 -75 1616 -75 \r\nQ 969 -75 630 194 \r\nQ 291 463 197 991 \r\nz\r\n\" id=\"ArialMT-73\" transform=\"scale(0.015625)\"/>\r\n       <path d=\"M 47 0 \r\nL 1259 1725 \r\nL 138 3319 \r\nL 841 3319 \r\nL 1350 2541 \r\nQ 1494 2319 1581 2169 \r\nQ 1719 2375 1834 2534 \r\nL 2394 3319 \r\nL 3066 3319 \r\nL 1919 1756 \r\nL 3153 0 \r\nL 2463 0 \r\nL 1781 1031 \r\nL 1600 1309 \r\nL 728 0 \r\nL 47 0 \r\nz\r\n\" id=\"ArialMT-78\" transform=\"scale(0.015625)\"/>\r\n      </defs>\r\n      <use xlink:href=\"#ArialMT-73\"/>\r\n      <use x=\"50\" xlink:href=\"#ArialMT-65\"/>\r\n      <use x=\"105.615234\" xlink:href=\"#ArialMT-78\"/>\r\n     </g>\r\n    </g>\r\n   </g>\r\n   <g id=\"matplotlib.axis_2\">\r\n    <g id=\"ytick_1\">\r\n     <g id=\"line2d_3\">\r\n      <defs>\r\n       <path d=\"M 0 0 \r\nL -6 0 \r\n\" id=\"me3fa505113\" style=\"stroke:#262626;stroke-width:1.25;\"/>\r\n      </defs>\r\n      <g>\r\n       <use style=\"fill:#262626;stroke:#262626;stroke-width:1.25;\" x=\"50.025469\" xlink:href=\"#me3fa505113\" y=\"239.229375\"/>\r\n      </g>\r\n     </g>\r\n     <g id=\"text_4\">\r\n      <!-- 0 -->\r\n      <g style=\"fill:#262626;\" transform=\"translate(34.408438 243.166172)scale(0.11 -0.11)\">\r\n       <defs>\r\n        <path d=\"M 266 2259 \r\nQ 266 3072 433 3567 \r\nQ 600 4063 929 4331 \r\nQ 1259 4600 1759 4600 \r\nQ 2128 4600 2406 4451 \r\nQ 2684 4303 2865 4023 \r\nQ 3047 3744 3150 3342 \r\nQ 3253 2941 3253 2259 \r\nQ 3253 1453 3087 958 \r\nQ 2922 463 2592 192 \r\nQ 2263 -78 1759 -78 \r\nQ 1097 -78 719 397 \r\nQ 266 969 266 2259 \r\nz\r\nM 844 2259 \r\nQ 844 1131 1108 757 \r\nQ 1372 384 1759 384 \r\nQ 2147 384 2411 759 \r\nQ 2675 1134 2675 2259 \r\nQ 2675 3391 2411 3762 \r\nQ 2147 4134 1753 4134 \r\nQ 1366 4134 1134 3806 \r\nQ 844 3388 844 2259 \r\nz\r\n\" id=\"ArialMT-30\" transform=\"scale(0.015625)\"/>\r\n       </defs>\r\n       <use xlink:href=\"#ArialMT-30\"/>\r\n      </g>\r\n     </g>\r\n    </g>\r\n    <g id=\"ytick_2\">\r\n     <g id=\"line2d_4\">\r\n      <g>\r\n       <use style=\"fill:#262626;stroke:#262626;stroke-width:1.25;\" x=\"50.025469\" xlink:href=\"#me3fa505113\" y=\"209.389935\"/>\r\n      </g>\r\n     </g>\r\n     <g id=\"text_5\">\r\n      <!-- 50 -->\r\n      <g style=\"fill:#262626;\" transform=\"translate(28.291406 213.326732)scale(0.11 -0.11)\">\r\n       <defs>\r\n        <path d=\"M 266 1200 \r\nL 856 1250 \r\nQ 922 819 1161 601 \r\nQ 1400 384 1738 384 \r\nQ 2144 384 2425 690 \r\nQ 2706 997 2706 1503 \r\nQ 2706 1984 2436 2262 \r\nQ 2166 2541 1728 2541 \r\nQ 1456 2541 1237 2417 \r\nQ 1019 2294 894 2097 \r\nL 366 2166 \r\nL 809 4519 \r\nL 3088 4519 \r\nL 3088 3981 \r\nL 1259 3981 \r\nL 1013 2750 \r\nQ 1425 3038 1878 3038 \r\nQ 2478 3038 2890 2622 \r\nQ 3303 2206 3303 1553 \r\nQ 3303 931 2941 478 \r\nQ 2500 -78 1738 -78 \r\nQ 1113 -78 717 272 \r\nQ 322 622 266 1200 \r\nz\r\n\" id=\"ArialMT-35\" transform=\"scale(0.015625)\"/>\r\n       </defs>\r\n       <use xlink:href=\"#ArialMT-35\"/>\r\n       <use x=\"55.615234\" xlink:href=\"#ArialMT-30\"/>\r\n      </g>\r\n     </g>\r\n    </g>\r\n    <g id=\"ytick_3\">\r\n     <g id=\"line2d_5\">\r\n      <g>\r\n       <use style=\"fill:#262626;stroke:#262626;stroke-width:1.25;\" x=\"50.025469\" xlink:href=\"#me3fa505113\" y=\"179.550495\"/>\r\n      </g>\r\n     </g>\r\n     <g id=\"text_6\">\r\n      <!-- 100 -->\r\n      <g style=\"fill:#262626;\" transform=\"translate(22.174375 183.487292)scale(0.11 -0.11)\">\r\n       <defs>\r\n        <path d=\"M 2384 0 \r\nL 1822 0 \r\nL 1822 3584 \r\nQ 1619 3391 1289 3197 \r\nQ 959 3003 697 2906 \r\nL 697 3450 \r\nQ 1169 3672 1522 3987 \r\nQ 1875 4303 2022 4600 \r\nL 2384 4600 \r\nL 2384 0 \r\nz\r\n\" id=\"ArialMT-31\" transform=\"scale(0.015625)\"/>\r\n       </defs>\r\n       <use xlink:href=\"#ArialMT-31\"/>\r\n       <use x=\"55.615234\" xlink:href=\"#ArialMT-30\"/>\r\n       <use x=\"111.230469\" xlink:href=\"#ArialMT-30\"/>\r\n      </g>\r\n     </g>\r\n    </g>\r\n    <g id=\"ytick_4\">\r\n     <g id=\"line2d_6\">\r\n      <g>\r\n       <use style=\"fill:#262626;stroke:#262626;stroke-width:1.25;\" x=\"50.025469\" xlink:href=\"#me3fa505113\" y=\"149.711055\"/>\r\n      </g>\r\n     </g>\r\n     <g id=\"text_7\">\r\n      <!-- 150 -->\r\n      <g style=\"fill:#262626;\" transform=\"translate(22.174375 153.647852)scale(0.11 -0.11)\">\r\n       <use xlink:href=\"#ArialMT-31\"/>\r\n       <use x=\"55.615234\" xlink:href=\"#ArialMT-35\"/>\r\n       <use x=\"111.230469\" xlink:href=\"#ArialMT-30\"/>\r\n      </g>\r\n     </g>\r\n    </g>\r\n    <g id=\"ytick_5\">\r\n     <g id=\"line2d_7\">\r\n      <g>\r\n       <use style=\"fill:#262626;stroke:#262626;stroke-width:1.25;\" x=\"50.025469\" xlink:href=\"#me3fa505113\" y=\"119.871615\"/>\r\n      </g>\r\n     </g>\r\n     <g id=\"text_8\">\r\n      <!-- 200 -->\r\n      <g style=\"fill:#262626;\" transform=\"translate(22.174375 123.808411)scale(0.11 -0.11)\">\r\n       <defs>\r\n        <path d=\"M 3222 541 \r\nL 3222 0 \r\nL 194 0 \r\nQ 188 203 259 391 \r\nQ 375 700 629 1000 \r\nQ 884 1300 1366 1694 \r\nQ 2113 2306 2375 2664 \r\nQ 2638 3022 2638 3341 \r\nQ 2638 3675 2398 3904 \r\nQ 2159 4134 1775 4134 \r\nQ 1369 4134 1125 3890 \r\nQ 881 3647 878 3216 \r\nL 300 3275 \r\nQ 359 3922 746 4261 \r\nQ 1134 4600 1788 4600 \r\nQ 2447 4600 2831 4234 \r\nQ 3216 3869 3216 3328 \r\nQ 3216 3053 3103 2787 \r\nQ 2991 2522 2730 2228 \r\nQ 2469 1934 1863 1422 \r\nQ 1356 997 1212 845 \r\nQ 1069 694 975 541 \r\nL 3222 541 \r\nz\r\n\" id=\"ArialMT-32\" transform=\"scale(0.015625)\"/>\r\n       </defs>\r\n       <use xlink:href=\"#ArialMT-32\"/>\r\n       <use x=\"55.615234\" xlink:href=\"#ArialMT-30\"/>\r\n       <use x=\"111.230469\" xlink:href=\"#ArialMT-30\"/>\r\n      </g>\r\n     </g>\r\n    </g>\r\n    <g id=\"ytick_6\">\r\n     <g id=\"line2d_8\">\r\n      <g>\r\n       <use style=\"fill:#262626;stroke:#262626;stroke-width:1.25;\" x=\"50.025469\" xlink:href=\"#me3fa505113\" y=\"90.032175\"/>\r\n      </g>\r\n     </g>\r\n     <g id=\"text_9\">\r\n      <!-- 250 -->\r\n      <g style=\"fill:#262626;\" transform=\"translate(22.174375 93.968971)scale(0.11 -0.11)\">\r\n       <use xlink:href=\"#ArialMT-32\"/>\r\n       <use x=\"55.615234\" xlink:href=\"#ArialMT-35\"/>\r\n       <use x=\"111.230469\" xlink:href=\"#ArialMT-30\"/>\r\n      </g>\r\n     </g>\r\n    </g>\r\n    <g id=\"ytick_7\">\r\n     <g id=\"line2d_9\">\r\n      <g>\r\n       <use style=\"fill:#262626;stroke:#262626;stroke-width:1.25;\" x=\"50.025469\" xlink:href=\"#me3fa505113\" y=\"60.192734\"/>\r\n      </g>\r\n     </g>\r\n     <g id=\"text_10\">\r\n      <!-- 300 -->\r\n      <g style=\"fill:#262626;\" transform=\"translate(22.174375 64.129531)scale(0.11 -0.11)\">\r\n       <defs>\r\n        <path d=\"M 269 1209 \r\nL 831 1284 \r\nQ 928 806 1161 595 \r\nQ 1394 384 1728 384 \r\nQ 2125 384 2398 659 \r\nQ 2672 934 2672 1341 \r\nQ 2672 1728 2419 1979 \r\nQ 2166 2231 1775 2231 \r\nQ 1616 2231 1378 2169 \r\nL 1441 2663 \r\nQ 1497 2656 1531 2656 \r\nQ 1891 2656 2178 2843 \r\nQ 2466 3031 2466 3422 \r\nQ 2466 3731 2256 3934 \r\nQ 2047 4138 1716 4138 \r\nQ 1388 4138 1169 3931 \r\nQ 950 3725 888 3313 \r\nL 325 3413 \r\nQ 428 3978 793 4289 \r\nQ 1159 4600 1703 4600 \r\nQ 2078 4600 2393 4439 \r\nQ 2709 4278 2876 4000 \r\nQ 3044 3722 3044 3409 \r\nQ 3044 3113 2884 2869 \r\nQ 2725 2625 2413 2481 \r\nQ 2819 2388 3044 2092 \r\nQ 3269 1797 3269 1353 \r\nQ 3269 753 2831 336 \r\nQ 2394 -81 1725 -81 \r\nQ 1122 -81 723 278 \r\nQ 325 638 269 1209 \r\nz\r\n\" id=\"ArialMT-33\" transform=\"scale(0.015625)\"/>\r\n       </defs>\r\n       <use xlink:href=\"#ArialMT-33\"/>\r\n       <use x=\"55.615234\" xlink:href=\"#ArialMT-30\"/>\r\n       <use x=\"111.230469\" xlink:href=\"#ArialMT-30\"/>\r\n      </g>\r\n     </g>\r\n    </g>\r\n    <g id=\"ytick_8\">\r\n     <g id=\"line2d_10\">\r\n      <g>\r\n       <use style=\"fill:#262626;stroke:#262626;stroke-width:1.25;\" x=\"50.025469\" xlink:href=\"#me3fa505113\" y=\"30.353294\"/>\r\n      </g>\r\n     </g>\r\n     <g id=\"text_11\">\r\n      <!-- 350 -->\r\n      <g style=\"fill:#262626;\" transform=\"translate(22.174375 34.290091)scale(0.11 -0.11)\">\r\n       <use xlink:href=\"#ArialMT-33\"/>\r\n       <use x=\"55.615234\" xlink:href=\"#ArialMT-35\"/>\r\n       <use x=\"111.230469\" xlink:href=\"#ArialMT-30\"/>\r\n      </g>\r\n     </g>\r\n    </g>\r\n    <g id=\"text_12\">\r\n     <!-- count -->\r\n     <g style=\"fill:#262626;\" transform=\"translate(15.789375 145.185938)rotate(-90)scale(0.12 -0.12)\">\r\n      <defs>\r\n       <path d=\"M 2588 1216 \r\nL 3141 1144 \r\nQ 3050 572 2676 248 \r\nQ 2303 -75 1759 -75 \r\nQ 1078 -75 664 370 \r\nQ 250 816 250 1647 \r\nQ 250 2184 428 2587 \r\nQ 606 2991 970 3192 \r\nQ 1334 3394 1763 3394 \r\nQ 2303 3394 2647 3120 \r\nQ 2991 2847 3088 2344 \r\nL 2541 2259 \r\nQ 2463 2594 2264 2762 \r\nQ 2066 2931 1784 2931 \r\nQ 1359 2931 1093 2626 \r\nQ 828 2322 828 1663 \r\nQ 828 994 1084 691 \r\nQ 1341 388 1753 388 \r\nQ 2084 388 2306 591 \r\nQ 2528 794 2588 1216 \r\nz\r\n\" id=\"ArialMT-63\" transform=\"scale(0.015625)\"/>\r\n       <path d=\"M 213 1659 \r\nQ 213 2581 725 3025 \r\nQ 1153 3394 1769 3394 \r\nQ 2453 3394 2887 2945 \r\nQ 3322 2497 3322 1706 \r\nQ 3322 1066 3130 698 \r\nQ 2938 331 2570 128 \r\nQ 2203 -75 1769 -75 \r\nQ 1072 -75 642 372 \r\nQ 213 819 213 1659 \r\nz\r\nM 791 1659 \r\nQ 791 1022 1069 705 \r\nQ 1347 388 1769 388 \r\nQ 2188 388 2466 706 \r\nQ 2744 1025 2744 1678 \r\nQ 2744 2294 2464 2611 \r\nQ 2184 2928 1769 2928 \r\nQ 1347 2928 1069 2612 \r\nQ 791 2297 791 1659 \r\nz\r\n\" id=\"ArialMT-6f\" transform=\"scale(0.015625)\"/>\r\n       <path d=\"M 2597 0 \r\nL 2597 488 \r\nQ 2209 -75 1544 -75 \r\nQ 1250 -75 995 37 \r\nQ 741 150 617 320 \r\nQ 494 491 444 738 \r\nQ 409 903 409 1263 \r\nL 409 3319 \r\nL 972 3319 \r\nL 972 1478 \r\nQ 972 1038 1006 884 \r\nQ 1059 663 1231 536 \r\nQ 1403 409 1656 409 \r\nQ 1909 409 2131 539 \r\nQ 2353 669 2445 892 \r\nQ 2538 1116 2538 1541 \r\nL 2538 3319 \r\nL 3100 3319 \r\nL 3100 0 \r\nL 2597 0 \r\nz\r\n\" id=\"ArialMT-75\" transform=\"scale(0.015625)\"/>\r\n       <path d=\"M 422 0 \r\nL 422 3319 \r\nL 928 3319 \r\nL 928 2847 \r\nQ 1294 3394 1984 3394 \r\nQ 2284 3394 2536 3286 \r\nQ 2788 3178 2913 3003 \r\nQ 3038 2828 3088 2588 \r\nQ 3119 2431 3119 2041 \r\nL 3119 0 \r\nL 2556 0 \r\nL 2556 2019 \r\nQ 2556 2363 2490 2533 \r\nQ 2425 2703 2258 2804 \r\nQ 2091 2906 1866 2906 \r\nQ 1506 2906 1245 2678 \r\nQ 984 2450 984 1813 \r\nL 984 0 \r\nL 422 0 \r\nz\r\n\" id=\"ArialMT-6e\" transform=\"scale(0.015625)\"/>\r\n       <path d=\"M 1650 503 \r\nL 1731 6 \r\nQ 1494 -44 1306 -44 \r\nQ 1000 -44 831 53 \r\nQ 663 150 594 308 \r\nQ 525 466 525 972 \r\nL 525 2881 \r\nL 113 2881 \r\nL 113 3319 \r\nL 525 3319 \r\nL 525 4141 \r\nL 1084 4478 \r\nL 1084 3319 \r\nL 1650 3319 \r\nL 1650 2881 \r\nL 1084 2881 \r\nL 1084 941 \r\nQ 1084 700 1114 631 \r\nQ 1144 563 1211 522 \r\nQ 1278 481 1403 481 \r\nQ 1497 481 1650 503 \r\nz\r\n\" id=\"ArialMT-74\" transform=\"scale(0.015625)\"/>\r\n      </defs>\r\n      <use xlink:href=\"#ArialMT-63\"/>\r\n      <use x=\"50\" xlink:href=\"#ArialMT-6f\"/>\r\n      <use x=\"105.615234\" xlink:href=\"#ArialMT-75\"/>\r\n      <use x=\"161.230469\" xlink:href=\"#ArialMT-6e\"/>\r\n      <use x=\"216.845703\" xlink:href=\"#ArialMT-74\"/>\r\n     </g>\r\n    </g>\r\n   </g>\r\n   <g id=\"patch_3\">\r\n    <path clip-path=\"url(#pc674d1e2c1)\" d=\"M 66.765469 239.229375 \r\nL 111.405469 239.229375 \r\nL 111.405469 166.421141 \r\nL 66.765469 166.421141 \r\nz\r\n\" style=\"fill:#5875a4;stroke:#ffffff;stroke-linejoin:miter;\"/>\r\n   </g>\r\n   <g id=\"patch_4\">\r\n    <path clip-path=\"url(#pc674d1e2c1)\" d=\"M 234.165469 239.229375 \r\nL 278.805469 239.229375 \r\nL 278.805469 183.131228 \r\nL 234.165469 183.131228 \r\nz\r\n\" style=\"fill:#5875a4;stroke:#ffffff;stroke-linejoin:miter;\"/>\r\n   </g>\r\n   <g id=\"patch_5\">\r\n    <path clip-path=\"url(#pc674d1e2c1)\" d=\"M 111.405469 239.229375 \r\nL 156.045469 239.229375 \r\nL 156.045469 174.776184 \r\nL 111.405469 174.776184 \r\nz\r\n\" style=\"fill:#cc8963;stroke:#ffffff;stroke-linejoin:miter;\"/>\r\n   </g>\r\n   <g id=\"patch_6\">\r\n    <path clip-path=\"url(#pc674d1e2c1)\" d=\"M 278.805469 239.229375 \r\nL 323.445469 239.229375 \r\nL 323.445469 193.873426 \r\nL 278.805469 193.873426 \r\nz\r\n\" style=\"fill:#cc8963;stroke:#ffffff;stroke-linejoin:miter;\"/>\r\n   </g>\r\n   <g id=\"patch_7\">\r\n    <path clip-path=\"url(#pc674d1e2c1)\" d=\"M 156.045469 239.229375 \r\nL 200.685469 239.229375 \r\nL 200.685469 32.143661 \r\nL 156.045469 32.143661 \r\nz\r\n\" style=\"fill:#5f9e6e;stroke:#ffffff;stroke-linejoin:miter;\"/>\r\n   </g>\r\n   <g id=\"patch_8\">\r\n    <path clip-path=\"url(#pc674d1e2c1)\" d=\"M 323.445469 239.229375 \r\nL 368.085469 239.229375 \r\nL 368.085469 153.291788 \r\nL 323.445469 153.291788 \r\nz\r\n\" style=\"fill:#5f9e6e;stroke:#ffffff;stroke-linejoin:miter;\"/>\r\n   </g>\r\n   <g id=\"patch_9\">\r\n    <path d=\"M 50.025469 239.229375 \r\nL 50.025469 21.789375 \r\n\" style=\"fill:none;stroke:#262626;stroke-linecap:square;stroke-linejoin:miter;stroke-width:1.25;\"/>\r\n   </g>\r\n   <g id=\"patch_10\">\r\n    <path d=\"M 384.825469 239.229375 \r\nL 384.825469 21.789375 \r\n\" style=\"fill:none;stroke:#262626;stroke-linecap:square;stroke-linejoin:miter;stroke-width:1.25;\"/>\r\n   </g>\r\n   <g id=\"patch_11\">\r\n    <path d=\"M 50.025469 239.229375 \r\nL 384.825469 239.229375 \r\n\" style=\"fill:none;stroke:#262626;stroke-linecap:square;stroke-linejoin:miter;stroke-width:1.25;\"/>\r\n   </g>\r\n   <g id=\"patch_12\">\r\n    <path d=\"M 50.025469 21.789375 \r\nL 384.825469 21.789375 \r\n\" style=\"fill:none;stroke:#262626;stroke-linecap:square;stroke-linejoin:miter;stroke-width:1.25;\"/>\r\n   </g>\r\n   <g id=\"text_13\">\r\n    <!-- counting plot -->\r\n    <g style=\"fill:#262626;\" transform=\"translate(183.402656 15.789375)scale(0.12 -0.12)\">\r\n     <defs>\r\n      <path d=\"M 425 3934 \r\nL 425 4581 \r\nL 988 4581 \r\nL 988 3934 \r\nL 425 3934 \r\nz\r\nM 425 0 \r\nL 425 3319 \r\nL 988 3319 \r\nL 988 0 \r\nL 425 0 \r\nz\r\n\" id=\"ArialMT-69\" transform=\"scale(0.015625)\"/>\r\n      <path d=\"M 319 -275 \r\nL 866 -356 \r\nQ 900 -609 1056 -725 \r\nQ 1266 -881 1628 -881 \r\nQ 2019 -881 2231 -725 \r\nQ 2444 -569 2519 -288 \r\nQ 2563 -116 2559 434 \r\nQ 2191 0 1641 0 \r\nQ 956 0 581 494 \r\nQ 206 988 206 1678 \r\nQ 206 2153 378 2554 \r\nQ 550 2956 876 3175 \r\nQ 1203 3394 1644 3394 \r\nQ 2231 3394 2613 2919 \r\nL 2613 3319 \r\nL 3131 3319 \r\nL 3131 450 \r\nQ 3131 -325 2973 -648 \r\nQ 2816 -972 2473 -1159 \r\nQ 2131 -1347 1631 -1347 \r\nQ 1038 -1347 672 -1080 \r\nQ 306 -813 319 -275 \r\nz\r\nM 784 1719 \r\nQ 784 1066 1043 766 \r\nQ 1303 466 1694 466 \r\nQ 2081 466 2343 764 \r\nQ 2606 1063 2606 1700 \r\nQ 2606 2309 2336 2618 \r\nQ 2066 2928 1684 2928 \r\nQ 1309 2928 1046 2623 \r\nQ 784 2319 784 1719 \r\nz\r\n\" id=\"ArialMT-67\" transform=\"scale(0.015625)\"/>\r\n      <path id=\"ArialMT-20\" transform=\"scale(0.015625)\"/>\r\n      <path d=\"M 422 -1272 \r\nL 422 3319 \r\nL 934 3319 \r\nL 934 2888 \r\nQ 1116 3141 1344 3267 \r\nQ 1572 3394 1897 3394 \r\nQ 2322 3394 2647 3175 \r\nQ 2972 2956 3137 2557 \r\nQ 3303 2159 3303 1684 \r\nQ 3303 1175 3120 767 \r\nQ 2938 359 2589 142 \r\nQ 2241 -75 1856 -75 \r\nQ 1575 -75 1351 44 \r\nQ 1128 163 984 344 \r\nL 984 -1272 \r\nL 422 -1272 \r\nz\r\nM 931 1641 \r\nQ 931 1000 1190 694 \r\nQ 1450 388 1819 388 \r\nQ 2194 388 2461 705 \r\nQ 2728 1022 2728 1688 \r\nQ 2728 2322 2467 2637 \r\nQ 2206 2953 1844 2953 \r\nQ 1484 2953 1207 2617 \r\nQ 931 2281 931 1641 \r\nz\r\n\" id=\"ArialMT-70\" transform=\"scale(0.015625)\"/>\r\n     </defs>\r\n     <use xlink:href=\"#ArialMT-63\"/>\r\n     <use x=\"50\" xlink:href=\"#ArialMT-6f\"/>\r\n     <use x=\"105.615234\" xlink:href=\"#ArialMT-75\"/>\r\n     <use x=\"161.230469\" xlink:href=\"#ArialMT-6e\"/>\r\n     <use x=\"216.845703\" xlink:href=\"#ArialMT-74\"/>\r\n     <use x=\"244.628906\" xlink:href=\"#ArialMT-69\"/>\r\n     <use x=\"266.845703\" xlink:href=\"#ArialMT-6e\"/>\r\n     <use x=\"322.460938\" xlink:href=\"#ArialMT-67\"/>\r\n     <use x=\"378.076172\" xlink:href=\"#ArialMT-20\"/>\r\n     <use x=\"405.859375\" xlink:href=\"#ArialMT-70\"/>\r\n     <use x=\"461.474609\" xlink:href=\"#ArialMT-6c\"/>\r\n     <use x=\"483.691406\" xlink:href=\"#ArialMT-6f\"/>\r\n     <use x=\"539.306641\" xlink:href=\"#ArialMT-74\"/>\r\n    </g>\r\n   </g>\r\n   <g id=\"legend_1\">\r\n    <g id=\"patch_13\">\r\n     <path d=\"M 304.62 93.743281 \r\nL 377.125469 93.743281 \r\nQ 379.325469 93.743281 379.325469 91.543281 \r\nL 379.325469 29.489375 \r\nQ 379.325469 27.289375 377.125469 27.289375 \r\nL 304.62 27.289375 \r\nQ 302.42 27.289375 302.42 29.489375 \r\nL 302.42 91.543281 \r\nQ 302.42 93.743281 304.62 93.743281 \r\nz\r\n\" style=\"fill:#ffffff;opacity:0.8;stroke:#cccccc;stroke-linejoin:miter;\"/>\r\n    </g>\r\n    <g id=\"text_14\">\r\n     <!-- class -->\r\n     <g style=\"fill:#262626;\" transform=\"translate(327.203047 40.27875)scale(0.12 -0.12)\">\r\n      <use xlink:href=\"#ArialMT-63\"/>\r\n      <use x=\"50\" xlink:href=\"#ArialMT-6c\"/>\r\n      <use x=\"72.216797\" xlink:href=\"#ArialMT-61\"/>\r\n      <use x=\"127.832031\" xlink:href=\"#ArialMT-73\"/>\r\n      <use x=\"177.832031\" xlink:href=\"#ArialMT-73\"/>\r\n     </g>\r\n    </g>\r\n    <g id=\"patch_14\">\r\n     <path d=\"M 306.82 56.037344 \r\nL 328.82 56.037344 \r\nL 328.82 48.337344 \r\nL 306.82 48.337344 \r\nz\r\n\" style=\"fill:#5875a4;stroke:#ffffff;stroke-linejoin:miter;\"/>\r\n    </g>\r\n    <g id=\"text_15\">\r\n     <!-- First -->\r\n     <g style=\"fill:#262626;\" transform=\"translate(337.62 56.037344)scale(0.11 -0.11)\">\r\n      <defs>\r\n       <path d=\"M 525 0 \r\nL 525 4581 \r\nL 3616 4581 \r\nL 3616 4041 \r\nL 1131 4041 \r\nL 1131 2622 \r\nL 3281 2622 \r\nL 3281 2081 \r\nL 1131 2081 \r\nL 1131 0 \r\nL 525 0 \r\nz\r\n\" id=\"ArialMT-46\" transform=\"scale(0.015625)\"/>\r\n       <path d=\"M 416 0 \r\nL 416 3319 \r\nL 922 3319 \r\nL 922 2816 \r\nQ 1116 3169 1280 3281 \r\nQ 1444 3394 1641 3394 \r\nQ 1925 3394 2219 3213 \r\nL 2025 2691 \r\nQ 1819 2813 1613 2813 \r\nQ 1428 2813 1281 2702 \r\nQ 1134 2591 1072 2394 \r\nQ 978 2094 978 1738 \r\nL 978 0 \r\nL 416 0 \r\nz\r\n\" id=\"ArialMT-72\" transform=\"scale(0.015625)\"/>\r\n      </defs>\r\n      <use xlink:href=\"#ArialMT-46\"/>\r\n      <use x=\"61.083984\" xlink:href=\"#ArialMT-69\"/>\r\n      <use x=\"83.300781\" xlink:href=\"#ArialMT-72\"/>\r\n      <use x=\"116.601562\" xlink:href=\"#ArialMT-73\"/>\r\n      <use x=\"166.601562\" xlink:href=\"#ArialMT-74\"/>\r\n     </g>\r\n    </g>\r\n    <g id=\"patch_15\">\r\n     <path d=\"M 306.82 71.597188 \r\nL 328.82 71.597188 \r\nL 328.82 63.897188 \r\nL 306.82 63.897188 \r\nz\r\n\" style=\"fill:#cc8963;stroke:#ffffff;stroke-linejoin:miter;\"/>\r\n    </g>\r\n    <g id=\"text_16\">\r\n     <!-- Second -->\r\n     <g style=\"fill:#262626;\" transform=\"translate(337.62 71.597188)scale(0.11 -0.11)\">\r\n      <defs>\r\n       <path d=\"M 288 1472 \r\nL 859 1522 \r\nQ 900 1178 1048 958 \r\nQ 1197 738 1509 602 \r\nQ 1822 466 2213 466 \r\nQ 2559 466 2825 569 \r\nQ 3091 672 3220 851 \r\nQ 3350 1031 3350 1244 \r\nQ 3350 1459 3225 1620 \r\nQ 3100 1781 2813 1891 \r\nQ 2628 1963 1997 2114 \r\nQ 1366 2266 1113 2400 \r\nQ 784 2572 623 2826 \r\nQ 463 3081 463 3397 \r\nQ 463 3744 659 4045 \r\nQ 856 4347 1234 4503 \r\nQ 1613 4659 2075 4659 \r\nQ 2584 4659 2973 4495 \r\nQ 3363 4331 3572 4012 \r\nQ 3781 3694 3797 3291 \r\nL 3216 3247 \r\nQ 3169 3681 2898 3903 \r\nQ 2628 4125 2100 4125 \r\nQ 1550 4125 1298 3923 \r\nQ 1047 3722 1047 3438 \r\nQ 1047 3191 1225 3031 \r\nQ 1400 2872 2139 2705 \r\nQ 2878 2538 3153 2413 \r\nQ 3553 2228 3743 1945 \r\nQ 3934 1663 3934 1294 \r\nQ 3934 928 3725 604 \r\nQ 3516 281 3123 101 \r\nQ 2731 -78 2241 -78 \r\nQ 1619 -78 1198 103 \r\nQ 778 284 539 648 \r\nQ 300 1013 288 1472 \r\nz\r\n\" id=\"ArialMT-53\" transform=\"scale(0.015625)\"/>\r\n       <path d=\"M 2575 0 \r\nL 2575 419 \r\nQ 2259 -75 1647 -75 \r\nQ 1250 -75 917 144 \r\nQ 584 363 401 755 \r\nQ 219 1147 219 1656 \r\nQ 219 2153 384 2558 \r\nQ 550 2963 881 3178 \r\nQ 1213 3394 1622 3394 \r\nQ 1922 3394 2156 3267 \r\nQ 2391 3141 2538 2938 \r\nL 2538 4581 \r\nL 3097 4581 \r\nL 3097 0 \r\nL 2575 0 \r\nz\r\nM 797 1656 \r\nQ 797 1019 1065 703 \r\nQ 1334 388 1700 388 \r\nQ 2069 388 2326 689 \r\nQ 2584 991 2584 1609 \r\nQ 2584 2291 2321 2609 \r\nQ 2059 2928 1675 2928 \r\nQ 1300 2928 1048 2622 \r\nQ 797 2316 797 1656 \r\nz\r\n\" id=\"ArialMT-64\" transform=\"scale(0.015625)\"/>\r\n      </defs>\r\n      <use xlink:href=\"#ArialMT-53\"/>\r\n      <use x=\"66.699219\" xlink:href=\"#ArialMT-65\"/>\r\n      <use x=\"122.314453\" xlink:href=\"#ArialMT-63\"/>\r\n      <use x=\"172.314453\" xlink:href=\"#ArialMT-6f\"/>\r\n      <use x=\"227.929688\" xlink:href=\"#ArialMT-6e\"/>\r\n      <use x=\"283.544922\" xlink:href=\"#ArialMT-64\"/>\r\n     </g>\r\n    </g>\r\n    <g id=\"patch_16\">\r\n     <path d=\"M 306.82 87.157031 \r\nL 328.82 87.157031 \r\nL 328.82 79.457031 \r\nL 306.82 79.457031 \r\nz\r\n\" style=\"fill:#5f9e6e;stroke:#ffffff;stroke-linejoin:miter;\"/>\r\n    </g>\r\n    <g id=\"text_17\">\r\n     <!-- Third -->\r\n     <g style=\"fill:#262626;\" transform=\"translate(337.62 87.157031)scale(0.11 -0.11)\">\r\n      <defs>\r\n       <path d=\"M 1659 0 \r\nL 1659 4041 \r\nL 150 4041 \r\nL 150 4581 \r\nL 3781 4581 \r\nL 3781 4041 \r\nL 2266 4041 \r\nL 2266 0 \r\nL 1659 0 \r\nz\r\n\" id=\"ArialMT-54\" transform=\"scale(0.015625)\"/>\r\n       <path d=\"M 422 0 \r\nL 422 4581 \r\nL 984 4581 \r\nL 984 2938 \r\nQ 1378 3394 1978 3394 \r\nQ 2347 3394 2619 3248 \r\nQ 2891 3103 3008 2847 \r\nQ 3125 2591 3125 2103 \r\nL 3125 0 \r\nL 2563 0 \r\nL 2563 2103 \r\nQ 2563 2525 2380 2717 \r\nQ 2197 2909 1863 2909 \r\nQ 1613 2909 1392 2779 \r\nQ 1172 2650 1078 2428 \r\nQ 984 2206 984 1816 \r\nL 984 0 \r\nL 422 0 \r\nz\r\n\" id=\"ArialMT-68\" transform=\"scale(0.015625)\"/>\r\n      </defs>\r\n      <use xlink:href=\"#ArialMT-54\"/>\r\n      <use x=\"61.083984\" xlink:href=\"#ArialMT-68\"/>\r\n      <use x=\"116.699219\" xlink:href=\"#ArialMT-69\"/>\r\n      <use x=\"138.916016\" xlink:href=\"#ArialMT-72\"/>\r\n      <use x=\"172.216797\" xlink:href=\"#ArialMT-64\"/>\r\n     </g>\r\n    </g>\r\n   </g>\r\n  </g>\r\n </g>\r\n <defs>\r\n  <clipPath id=\"pc674d1e2c1\">\r\n   <rect height=\"217.44\" width=\"334.8\" x=\"50.025469\" y=\"21.789375\"/>\r\n  </clipPath>\r\n </defs>\r\n</svg>\r\n",
      "text/plain": [
       "<Figure size 432x288 with 1 Axes>"
      ]
     },
     "metadata": {},
     "output_type": "display_data"
    }
   ],
   "source": [
    "p1=sns.countplot(x='sex',data=titanic,hue='class')\n",
    "p1.set_title('counting plot')\n",
    "plt.show()"
   ]
  },
  {
   "cell_type": "code",
   "execution_count": 5,
   "metadata": {},
   "outputs": [
    {
     "data": {
      "image/png": "[encoded data removed]",
      "image/svg+xml": "<?xml version=\"1.0\" encoding=\"utf-8\" standalone=\"no\"?>\r\n<!DOCTYPE svg PUBLIC \"-//W3C//DTD SVG 1.1//EN\"\r\n  \"http://www.w3.org/Graphics/SVG/1.1/DTD/svg11.dtd\">\r\n<svg height=\"422.103594pt\" version=\"1.1\" viewBox=\"0 0 262.396477 422.103594\" width=\"262.396477pt\" xmlns=\"http://www.w3.org/2000/svg\" xmlns:xlink=\"http://www.w3.org/1999/xlink\">\r\n <metadata>\r\n  <rdf:RDF xmlns:cc=\"http://creativecommons.org/ns#\" xmlns:dc=\"http://purl.org/dc/elements/1.1/\" xmlns:rdf=\"http://www.w3.org/1999/02/22-rdf-syntax-ns#\">\r\n   <cc:Work>\r\n    <dc:type rdf:resource=\"http://purl.org/dc/dcmitype/StillImage\"/>\r\n    <dc:date>2022-02-04T22:30:43.474055</dc:date>\r\n    <dc:format>image/svg+xml</dc:format>\r\n    <dc:creator>\r\n     <cc:Agent>\r\n      <dc:title>Matplotlib v3.4.3, https://matplotlib.org/</dc:title>\r\n     </cc:Agent>\r\n    </dc:creator>\r\n   </cc:Work>\r\n  </rdf:RDF>\r\n </metadata>\r\n <defs>\r\n  <style type=\"text/css\">*{stroke-linecap:butt;stroke-linejoin:round;}</style>\r\n </defs>\r\n <g id=\"figure_1\">\r\n  <g id=\"patch_1\">\r\n   <path d=\"M 0 422.103594 \r\nL 262.396477 422.103594 \r\nL 262.396477 0 \r\nL 0 0 \r\nz\r\n\" style=\"fill:#ffffff;\"/>\r\n  </g>\r\n  <g id=\"axes_1\">\r\n   <g id=\"patch_2\">\r\n    <path d=\"M 50.025469 184.599375 \r\nL 191.522977 184.599375 \r\nL 191.522977 21.789375 \r\nL 50.025469 21.789375 \r\nz\r\n\" style=\"fill:#ffffff;\"/>\r\n   </g>\r\n   <g id=\"matplotlib.axis_1\">\r\n    <g id=\"xtick_1\">\r\n     <g id=\"line2d_1\">\r\n      <defs>\r\n       <path d=\"M 0 0 \r\nL 0 6 \r\n\" id=\"mdf070368e5\" style=\"stroke:#262626;stroke-width:1.25;\"/>\r\n      </defs>\r\n      <g>\r\n       <use style=\"fill:#262626;stroke:#262626;stroke-width:1.25;\" x=\"55.77828\" xlink:href=\"#mdf070368e5\" y=\"184.599375\"/>\r\n      </g>\r\n     </g>\r\n    </g>\r\n    <g id=\"xtick_2\">\r\n     <g id=\"line2d_2\">\r\n      <g>\r\n       <use style=\"fill:#262626;stroke:#262626;stroke-width:1.25;\" x=\"96.18859\" xlink:href=\"#mdf070368e5\" y=\"184.599375\"/>\r\n      </g>\r\n     </g>\r\n    </g>\r\n    <g id=\"xtick_3\">\r\n     <g id=\"line2d_3\">\r\n      <g>\r\n       <use style=\"fill:#262626;stroke:#262626;stroke-width:1.25;\" x=\"136.5989\" xlink:href=\"#mdf070368e5\" y=\"184.599375\"/>\r\n      </g>\r\n     </g>\r\n    </g>\r\n    <g id=\"xtick_4\">\r\n     <g id=\"line2d_4\">\r\n      <g>\r\n       <use style=\"fill:#262626;stroke:#262626;stroke-width:1.25;\" x=\"177.00921\" xlink:href=\"#mdf070368e5\" y=\"184.599375\"/>\r\n      </g>\r\n     </g>\r\n    </g>\r\n   </g>\r\n   <g id=\"matplotlib.axis_2\">\r\n    <g id=\"ytick_1\">\r\n     <g id=\"line2d_5\">\r\n      <defs>\r\n       <path d=\"M 0 0 \r\nL -6 0 \r\n\" id=\"m804d60cada\" style=\"stroke:#262626;stroke-width:1.25;\"/>\r\n      </defs>\r\n      <g>\r\n       <use style=\"fill:#262626;stroke:#262626;stroke-width:1.25;\" x=\"50.025469\" xlink:href=\"#m804d60cada\" y=\"177.19892\"/>\r\n      </g>\r\n     </g>\r\n     <g id=\"text_1\">\r\n      <!-- 0 -->\r\n      <g style=\"fill:#262626;\" transform=\"translate(34.408438 181.135717)scale(0.11 -0.11)\">\r\n       <defs>\r\n        <path d=\"M 266 2259 \r\nQ 266 3072 433 3567 \r\nQ 600 4063 929 4331 \r\nQ 1259 4600 1759 4600 \r\nQ 2128 4600 2406 4451 \r\nQ 2684 4303 2865 4023 \r\nQ 3047 3744 3150 3342 \r\nQ 3253 2941 3253 2259 \r\nQ 3253 1453 3087 958 \r\nQ 2922 463 2592 192 \r\nQ 2263 -78 1759 -78 \r\nQ 1097 -78 719 397 \r\nQ 266 969 266 2259 \r\nz\r\nM 844 2259 \r\nQ 844 1131 1108 757 \r\nQ 1372 384 1759 384 \r\nQ 2147 384 2411 759 \r\nQ 2675 1134 2675 2259 \r\nQ 2675 3391 2411 3762 \r\nQ 2147 4134 1753 4134 \r\nQ 1366 4134 1134 3806 \r\nQ 844 3388 844 2259 \r\nz\r\n\" id=\"ArialMT-30\" transform=\"scale(0.015625)\"/>\r\n       </defs>\r\n       <use xlink:href=\"#ArialMT-30\"/>\r\n      </g>\r\n     </g>\r\n    </g>\r\n    <g id=\"ytick_2\">\r\n     <g id=\"line2d_6\">\r\n      <g>\r\n       <use style=\"fill:#262626;stroke:#262626;stroke-width:1.25;\" x=\"50.025469\" xlink:href=\"#m804d60cada\" y=\"148.30947\"/>\r\n      </g>\r\n     </g>\r\n     <g id=\"text_2\">\r\n      <!-- 100 -->\r\n      <g style=\"fill:#262626;\" transform=\"translate(22.174375 152.246267)scale(0.11 -0.11)\">\r\n       <defs>\r\n        <path d=\"M 2384 0 \r\nL 1822 0 \r\nL 1822 3584 \r\nQ 1619 3391 1289 3197 \r\nQ 959 3003 697 2906 \r\nL 697 3450 \r\nQ 1169 3672 1522 3987 \r\nQ 1875 4303 2022 4600 \r\nL 2384 4600 \r\nL 2384 0 \r\nz\r\n\" id=\"ArialMT-31\" transform=\"scale(0.015625)\"/>\r\n       </defs>\r\n       <use xlink:href=\"#ArialMT-31\"/>\r\n       <use x=\"55.615234\" xlink:href=\"#ArialMT-30\"/>\r\n       <use x=\"111.230469\" xlink:href=\"#ArialMT-30\"/>\r\n      </g>\r\n     </g>\r\n    </g>\r\n    <g id=\"ytick_3\">\r\n     <g id=\"line2d_7\">\r\n      <g>\r\n       <use style=\"fill:#262626;stroke:#262626;stroke-width:1.25;\" x=\"50.025469\" xlink:href=\"#m804d60cada\" y=\"119.420019\"/>\r\n      </g>\r\n     </g>\r\n     <g id=\"text_3\">\r\n      <!-- 200 -->\r\n      <g style=\"fill:#262626;\" transform=\"translate(22.174375 123.356816)scale(0.11 -0.11)\">\r\n       <defs>\r\n        <path d=\"M 3222 541 \r\nL 3222 0 \r\nL 194 0 \r\nQ 188 203 259 391 \r\nQ 375 700 629 1000 \r\nQ 884 1300 1366 1694 \r\nQ 2113 2306 2375 2664 \r\nQ 2638 3022 2638 3341 \r\nQ 2638 3675 2398 3904 \r\nQ 2159 4134 1775 4134 \r\nQ 1369 4134 1125 3890 \r\nQ 881 3647 878 3216 \r\nL 300 3275 \r\nQ 359 3922 746 4261 \r\nQ 1134 4600 1788 4600 \r\nQ 2447 4600 2831 4234 \r\nQ 3216 3869 3216 3328 \r\nQ 3216 3053 3103 2787 \r\nQ 2991 2522 2730 2228 \r\nQ 2469 1934 1863 1422 \r\nQ 1356 997 1212 845 \r\nQ 1069 694 975 541 \r\nL 3222 541 \r\nz\r\n\" id=\"ArialMT-32\" transform=\"scale(0.015625)\"/>\r\n       </defs>\r\n       <use xlink:href=\"#ArialMT-32\"/>\r\n       <use x=\"55.615234\" xlink:href=\"#ArialMT-30\"/>\r\n       <use x=\"111.230469\" xlink:href=\"#ArialMT-30\"/>\r\n      </g>\r\n     </g>\r\n    </g>\r\n    <g id=\"ytick_4\">\r\n     <g id=\"line2d_8\">\r\n      <g>\r\n       <use style=\"fill:#262626;stroke:#262626;stroke-width:1.25;\" x=\"50.025469\" xlink:href=\"#m804d60cada\" y=\"90.530569\"/>\r\n      </g>\r\n     </g>\r\n     <g id=\"text_4\">\r\n      <!-- 300 -->\r\n      <g style=\"fill:#262626;\" transform=\"translate(22.174375 94.467366)scale(0.11 -0.11)\">\r\n       <defs>\r\n        <path d=\"M 269 1209 \r\nL 831 1284 \r\nQ 928 806 1161 595 \r\nQ 1394 384 1728 384 \r\nQ 2125 384 2398 659 \r\nQ 2672 934 2672 1341 \r\nQ 2672 1728 2419 1979 \r\nQ 2166 2231 1775 2231 \r\nQ 1616 2231 1378 2169 \r\nL 1441 2663 \r\nQ 1497 2656 1531 2656 \r\nQ 1891 2656 2178 2843 \r\nQ 2466 3031 2466 3422 \r\nQ 2466 3731 2256 3934 \r\nQ 2047 4138 1716 4138 \r\nQ 1388 4138 1169 3931 \r\nQ 950 3725 888 3313 \r\nL 325 3413 \r\nQ 428 3978 793 4289 \r\nQ 1159 4600 1703 4600 \r\nQ 2078 4600 2393 4439 \r\nQ 2709 4278 2876 4000 \r\nQ 3044 3722 3044 3409 \r\nQ 3044 3113 2884 2869 \r\nQ 2725 2625 2413 2481 \r\nQ 2819 2388 3044 2092 \r\nQ 3269 1797 3269 1353 \r\nQ 3269 753 2831 336 \r\nQ 2394 -81 1725 -81 \r\nQ 1122 -81 723 278 \r\nQ 325 638 269 1209 \r\nz\r\n\" id=\"ArialMT-33\" transform=\"scale(0.015625)\"/>\r\n       </defs>\r\n       <use xlink:href=\"#ArialMT-33\"/>\r\n       <use x=\"55.615234\" xlink:href=\"#ArialMT-30\"/>\r\n       <use x=\"111.230469\" xlink:href=\"#ArialMT-30\"/>\r\n      </g>\r\n     </g>\r\n    </g>\r\n    <g id=\"ytick_5\">\r\n     <g id=\"line2d_9\">\r\n      <g>\r\n       <use style=\"fill:#262626;stroke:#262626;stroke-width:1.25;\" x=\"50.025469\" xlink:href=\"#m804d60cada\" y=\"61.641118\"/>\r\n      </g>\r\n     </g>\r\n     <g id=\"text_5\">\r\n      <!-- 400 -->\r\n      <g style=\"fill:#262626;\" transform=\"translate(22.174375 65.577915)scale(0.11 -0.11)\">\r\n       <defs>\r\n        <path d=\"M 2069 0 \r\nL 2069 1097 \r\nL 81 1097 \r\nL 81 1613 \r\nL 2172 4581 \r\nL 2631 4581 \r\nL 2631 1613 \r\nL 3250 1613 \r\nL 3250 1097 \r\nL 2631 1097 \r\nL 2631 0 \r\nL 2069 0 \r\nz\r\nM 2069 1613 \r\nL 2069 3678 \r\nL 634 1613 \r\nL 2069 1613 \r\nz\r\n\" id=\"ArialMT-34\" transform=\"scale(0.015625)\"/>\r\n       </defs>\r\n       <use xlink:href=\"#ArialMT-34\"/>\r\n       <use x=\"55.615234\" xlink:href=\"#ArialMT-30\"/>\r\n       <use x=\"111.230469\" xlink:href=\"#ArialMT-30\"/>\r\n      </g>\r\n     </g>\r\n    </g>\r\n    <g id=\"ytick_6\">\r\n     <g id=\"line2d_10\">\r\n      <g>\r\n       <use style=\"fill:#262626;stroke:#262626;stroke-width:1.25;\" x=\"50.025469\" xlink:href=\"#m804d60cada\" y=\"32.751668\"/>\r\n      </g>\r\n     </g>\r\n     <g id=\"text_6\">\r\n      <!-- 500 -->\r\n      <g style=\"fill:#262626;\" transform=\"translate(22.174375 36.688465)scale(0.11 -0.11)\">\r\n       <defs>\r\n        <path d=\"M 266 1200 \r\nL 856 1250 \r\nQ 922 819 1161 601 \r\nQ 1400 384 1738 384 \r\nQ 2144 384 2425 690 \r\nQ 2706 997 2706 1503 \r\nQ 2706 1984 2436 2262 \r\nQ 2166 2541 1728 2541 \r\nQ 1456 2541 1237 2417 \r\nQ 1019 2294 894 2097 \r\nL 366 2166 \r\nL 809 4519 \r\nL 3088 4519 \r\nL 3088 3981 \r\nL 1259 3981 \r\nL 1013 2750 \r\nQ 1425 3038 1878 3038 \r\nQ 2478 3038 2890 2622 \r\nQ 3303 2206 3303 1553 \r\nQ 3303 931 2941 478 \r\nQ 2500 -78 1738 -78 \r\nQ 1113 -78 717 272 \r\nQ 322 622 266 1200 \r\nz\r\n\" id=\"ArialMT-35\" transform=\"scale(0.015625)\"/>\r\n       </defs>\r\n       <use xlink:href=\"#ArialMT-35\"/>\r\n       <use x=\"55.615234\" xlink:href=\"#ArialMT-30\"/>\r\n       <use x=\"111.230469\" xlink:href=\"#ArialMT-30\"/>\r\n      </g>\r\n     </g>\r\n    </g>\r\n    <g id=\"text_7\">\r\n     <!-- fare -->\r\n     <g style=\"fill:#262626;\" transform=\"translate(15.789375 113.532187)rotate(-90)scale(0.12 -0.12)\">\r\n      <defs>\r\n       <path d=\"M 556 0 \r\nL 556 2881 \r\nL 59 2881 \r\nL 59 3319 \r\nL 556 3319 \r\nL 556 3672 \r\nQ 556 4006 616 4169 \r\nQ 697 4388 901 4523 \r\nQ 1106 4659 1475 4659 \r\nQ 1713 4659 2000 4603 \r\nL 1916 4113 \r\nQ 1741 4144 1584 4144 \r\nQ 1328 4144 1222 4034 \r\nQ 1116 3925 1116 3625 \r\nL 1116 3319 \r\nL 1763 3319 \r\nL 1763 2881 \r\nL 1116 2881 \r\nL 1116 0 \r\nL 556 0 \r\nz\r\n\" id=\"ArialMT-66\" transform=\"scale(0.015625)\"/>\r\n       <path d=\"M 2588 409 \r\nQ 2275 144 1986 34 \r\nQ 1697 -75 1366 -75 \r\nQ 819 -75 525 192 \r\nQ 231 459 231 875 \r\nQ 231 1119 342 1320 \r\nQ 453 1522 633 1644 \r\nQ 813 1766 1038 1828 \r\nQ 1203 1872 1538 1913 \r\nQ 2219 1994 2541 2106 \r\nQ 2544 2222 2544 2253 \r\nQ 2544 2597 2384 2738 \r\nQ 2169 2928 1744 2928 \r\nQ 1347 2928 1158 2789 \r\nQ 969 2650 878 2297 \r\nL 328 2372 \r\nQ 403 2725 575 2942 \r\nQ 747 3159 1072 3276 \r\nQ 1397 3394 1825 3394 \r\nQ 2250 3394 2515 3294 \r\nQ 2781 3194 2906 3042 \r\nQ 3031 2891 3081 2659 \r\nQ 3109 2516 3109 2141 \r\nL 3109 1391 \r\nQ 3109 606 3145 398 \r\nQ 3181 191 3288 0 \r\nL 2700 0 \r\nQ 2613 175 2588 409 \r\nz\r\nM 2541 1666 \r\nQ 2234 1541 1622 1453 \r\nQ 1275 1403 1131 1340 \r\nQ 988 1278 909 1158 \r\nQ 831 1038 831 891 \r\nQ 831 666 1001 516 \r\nQ 1172 366 1500 366 \r\nQ 1825 366 2078 508 \r\nQ 2331 650 2450 897 \r\nQ 2541 1088 2541 1459 \r\nL 2541 1666 \r\nz\r\n\" id=\"ArialMT-61\" transform=\"scale(0.015625)\"/>\r\n       <path d=\"M 416 0 \r\nL 416 3319 \r\nL 922 3319 \r\nL 922 2816 \r\nQ 1116 3169 1280 3281 \r\nQ 1444 3394 1641 3394 \r\nQ 1925 3394 2219 3213 \r\nL 2025 2691 \r\nQ 1819 2813 1613 2813 \r\nQ 1428 2813 1281 2702 \r\nQ 1134 2591 1072 2394 \r\nQ 978 2094 978 1738 \r\nL 978 0 \r\nL 416 0 \r\nz\r\n\" id=\"ArialMT-72\" transform=\"scale(0.015625)\"/>\r\n       <path d=\"M 2694 1069 \r\nL 3275 997 \r\nQ 3138 488 2766 206 \r\nQ 2394 -75 1816 -75 \r\nQ 1088 -75 661 373 \r\nQ 234 822 234 1631 \r\nQ 234 2469 665 2931 \r\nQ 1097 3394 1784 3394 \r\nQ 2450 3394 2872 2941 \r\nQ 3294 2488 3294 1666 \r\nQ 3294 1616 3291 1516 \r\nL 816 1516 \r\nQ 847 969 1125 678 \r\nQ 1403 388 1819 388 \r\nQ 2128 388 2347 550 \r\nQ 2566 713 2694 1069 \r\nz\r\nM 847 1978 \r\nL 2700 1978 \r\nQ 2663 2397 2488 2606 \r\nQ 2219 2931 1791 2931 \r\nQ 1403 2931 1139 2672 \r\nQ 875 2413 847 1978 \r\nz\r\n\" id=\"ArialMT-65\" transform=\"scale(0.015625)\"/>\r\n      </defs>\r\n      <use xlink:href=\"#ArialMT-66\"/>\r\n      <use x=\"27.783203\" xlink:href=\"#ArialMT-61\"/>\r\n      <use x=\"83.398438\" xlink:href=\"#ArialMT-72\"/>\r\n      <use x=\"116.699219\" xlink:href=\"#ArialMT-65\"/>\r\n     </g>\r\n    </g>\r\n   </g>\r\n   <g id=\"PathCollection_1\">\r\n    <defs>\r\n     <path d=\"M 0 3 \r\nC 0.795609 3 1.55874 2.683901 2.12132 2.12132 \r\nC 2.683901 1.55874 3 0.795609 3 0 \r\nC 3 -0.795609 2.683901 -1.55874 2.12132 -2.12132 \r\nC 1.55874 -2.683901 0.795609 -3 0 -3 \r\nC -0.795609 -3 -1.55874 -2.683901 -2.12132 -2.12132 \r\nC -2.683901 -1.55874 -3 -0.795609 -3 0 \r\nC -3 0.795609 -2.683901 1.55874 -2.12132 2.12132 \r\nC -1.55874 2.683901 -0.795609 3 0 3 \r\nz\r\n\" id=\"mf2c7982576\" style=\"stroke:#4c72b0;\"/>\r\n    </defs>\r\n    <g clip-path=\"url(#pd195c8c973)\">\r\n     <use style=\"fill:#4c72b0;stroke:#4c72b0;\" x=\"91.339353\" xlink:href=\"#mf2c7982576\" y=\"175.104435\"/>\r\n     <use style=\"fill:#4c72b0;stroke:#4c72b0;\" x=\"59.011105\" xlink:href=\"#mf2c7982576\" y=\"171.110469\"/>\r\n     <use style=\"fill:#4c72b0;stroke:#4c72b0;\" x=\"118.818364\" xlink:href=\"#mf2c7982576\" y=\"168.163745\"/>\r\n     <use style=\"fill:#4c72b0;stroke:#4c72b0;\" x=\"59.011105\" xlink:href=\"#mf2c7982576\" y=\"168.784868\"/>\r\n     <use style=\"fill:#4c72b0;stroke:#4c72b0;\" x=\"86.490116\" xlink:href=\"#mf2c7982576\" y=\"101.219665\"/>\r\n     <use style=\"fill:#4c72b0;stroke:#4c72b0;\" x=\"101.037827\" xlink:href=\"#mf2c7982576\" y=\"153.460228\"/>\r\n     <use style=\"fill:#4c72b0;stroke:#4c72b0;\" x=\"123.667601\" xlink:href=\"#mf2c7982576\" y=\"162.176406\"/>\r\n     <use style=\"fill:#4c72b0;stroke:#4c72b0;\" x=\"67.093167\" xlink:href=\"#mf2c7982576\" y=\"165.73342\"/>\r\n     <use style=\"fill:#4c72b0;stroke:#4c72b0;\" x=\"160.845086\" xlink:href=\"#mf2c7982576\" y=\"159.29347\"/>\r\n     <use style=\"fill:#4c72b0;stroke:#4c72b0;\" x=\"73.558817\" xlink:href=\"#mf2c7982576\" y=\"163.649768\"/>\r\n     <use style=\"fill:#4c72b0;stroke:#4c72b0;\" x=\"128.516838\" xlink:href=\"#mf2c7982576\" y=\"153.083452\"/>\r\n     <use style=\"fill:#4c72b0;stroke:#4c72b0;\" x=\"62.24393\" xlink:href=\"#mf2c7982576\" y=\"169.138764\"/>\r\n     <use style=\"fill:#4c72b0;stroke:#4c72b0;\" x=\"97.805003\" xlink:href=\"#mf2c7982576\" y=\"174.696372\"/>\r\n     <use style=\"fill:#4c72b0;stroke:#4c72b0;\" x=\"97.805003\" xlink:href=\"#mf2c7982576\" y=\"173.023181\"/>\r\n     <use style=\"fill:#4c72b0;stroke:#4c72b0;\" x=\"57.119903\" xlink:href=\"#mf2c7982576\" y=\"168.82098\"/>\r\n     <use style=\"fill:#4c72b0;stroke:#4c72b0;\" x=\"81.640879\" xlink:href=\"#mf2c7982576\" y=\"167.268172\"/>\r\n     <use style=\"fill:#4c72b0;stroke:#4c72b0;\" x=\"130.133251\" xlink:href=\"#mf2c7982576\" y=\"159.525799\"/>\r\n     <use style=\"fill:#4c72b0;stroke:#4c72b0;\" x=\"97.805003\" xlink:href=\"#mf2c7982576\" y=\"171.254916\"/>\r\n     <use style=\"fill:#4c72b0;stroke:#4c72b0;\" x=\"92.955766\" xlink:href=\"#mf2c7982576\" y=\"158.895056\"/>\r\n     <use style=\"fill:#4c72b0;stroke:#4c72b0;\" x=\"110.736302\" xlink:href=\"#mf2c7982576\" y=\"169.687663\"/>\r\n     <use style=\"fill:#4c72b0;stroke:#4c72b0;\" x=\"89.722941\" xlink:href=\"#mf2c7982576\" y=\"154.870986\"/>\r\n     <use style=\"fill:#4c72b0;stroke:#4c72b0;\" x=\"115.585539\" xlink:href=\"#mf2c7982576\" y=\"174.909431\"/>\r\n     <use style=\"fill:#4c72b0;stroke:#4c72b0;\" x=\"102.65424\" xlink:href=\"#mf2c7982576\" y=\"171.132136\"/>\r\n     <use style=\"fill:#4c72b0;stroke:#4c72b0;\" x=\"94.572178\" xlink:href=\"#mf2c7982576\" y=\"105.691521\"/>\r\n     <use style=\"fill:#4c72b0;stroke:#4c72b0;\" x=\"89.722941\" xlink:href=\"#mf2c7982576\" y=\"155.965174\"/>\r\n     <use style=\"fill:#4c72b0;stroke:#4c72b0;\" x=\"108.311683\" xlink:href=\"#mf2c7982576\" y=\"168.511632\"/>\r\n     <use style=\"fill:#4c72b0;stroke:#4c72b0;\" x=\"143.06455\" xlink:href=\"#mf2c7982576\" y=\"154.870986\"/>\r\n     <use style=\"fill:#4c72b0;stroke:#4c72b0;\" x=\"75.175229\" xlink:href=\"#mf2c7982576\" y=\"173.951255\"/>\r\n     <use style=\"fill:#4c72b0;stroke:#4c72b0;\" x=\"115.585539\" xlink:href=\"#mf2c7982576\" y=\"161.858622\"/>\r\n     <use style=\"fill:#4c72b0;stroke:#4c72b0;\" x=\"86.490116\" xlink:href=\"#mf2c7982576\" y=\"166.582047\"/>\r\n     <use style=\"fill:#4c72b0;stroke:#4c72b0;\" x=\"114.777333\" xlink:href=\"#mf2c7982576\" y=\"169.687663\"/>\r\n     <use style=\"fill:#4c72b0;stroke:#4c72b0;\" x=\"121.242982\" xlink:href=\"#mf2c7982576\" y=\"173.00995\"/>\r\n     <use style=\"fill:#4c72b0;stroke:#4c72b0;\" x=\"138.215313\" xlink:href=\"#mf2c7982576\" y=\"159.466807\"/>\r\n     <use style=\"fill:#4c72b0;stroke:#4c72b0;\" x=\"126.900426\" xlink:href=\"#mf2c7982576\" y=\"172.547719\"/>\r\n     <use style=\"fill:#4c72b0;stroke:#4c72b0;\" x=\"57.394693\" xlink:href=\"#mf2c7982576\" y=\"165.73342\"/>\r\n     <use style=\"fill:#4c72b0;stroke:#4c72b0;\" x=\"70.325992\" xlink:href=\"#mf2c7982576\" y=\"171.269361\"/>\r\n     <use style=\"fill:#4c72b0;stroke:#4c72b0;\" x=\"62.24393\" xlink:href=\"#mf2c7982576\" y=\"168.784868\"/>\r\n     <use style=\"fill:#4c72b0;stroke:#4c72b0;\" x=\"84.873704\" xlink:href=\"#mf2c7982576\" y=\"174.929885\"/>\r\n     <use style=\"fill:#4c72b0;stroke:#4c72b0;\" x=\"70.325992\" xlink:href=\"#mf2c7982576\" y=\"168.131244\"/>\r\n     <use style=\"fill:#4c72b0;stroke:#4c72b0;\" x=\"57.394693\" xlink:href=\"#mf2c7982576\" y=\"165.932035\"/>\r\n     <use style=\"fill:#4c72b0;stroke:#4c72b0;\" x=\"120.434776\" xlink:href=\"#mf2c7982576\" y=\"172.721056\"/>\r\n     <use style=\"fill:#4c72b0;stroke:#4c72b0;\" x=\"60.627518\" xlink:href=\"#mf2c7982576\" y=\"169.687663\"/>\r\n     <use style=\"fill:#4c72b0;stroke:#4c72b0;\" x=\"123.667601\" xlink:href=\"#mf2c7982576\" y=\"174.770993\"/>\r\n     <use style=\"fill:#4c72b0;stroke:#4c72b0;\" x=\"107.503477\" xlink:href=\"#mf2c7982576\" y=\"172.619943\"/>\r\n     <use style=\"fill:#4c72b0;stroke:#4c72b0;\" x=\"123.667601\" xlink:href=\"#mf2c7982576\" y=\"169.398769\"/>\r\n     <use style=\"fill:#4c72b0;stroke:#4c72b0;\" x=\"117.201951\" xlink:href=\"#mf2c7982576\" y=\"151.198415\"/>\r\n     <use style=\"fill:#4c72b0;stroke:#4c72b0;\" x=\"126.900426\" xlink:href=\"#mf2c7982576\" y=\"169.687663\"/>\r\n     <use style=\"fill:#4c72b0;stroke:#4c72b0;\" x=\"126.900426\" xlink:href=\"#mf2c7982576\" y=\"151.198415\"/>\r\n     <use style=\"fill:#4c72b0;stroke:#4c72b0;\" x=\"115.585539\" xlink:href=\"#mf2c7982576\" y=\"162.016301\"/>\r\n     <use style=\"fill:#4c72b0;stroke:#4c72b0;\" x=\"143.06455\" xlink:href=\"#mf2c7982576\" y=\"169.687663\"/>\r\n     <use style=\"fill:#4c72b0;stroke:#4c72b0;\" x=\"104.270652\" xlink:href=\"#mf2c7982576\" y=\"172.547719\"/>\r\n     <use style=\"fill:#4c72b0;stroke:#4c72b0;\" x=\"60.627518\" xlink:href=\"#mf2c7982576\" y=\"168.131244\"/>\r\n     <use style=\"fill:#4c72b0;stroke:#4c72b0;\" x=\"139.831725\" xlink:href=\"#mf2c7982576\" y=\"154.188473\"/>\r\n     <use style=\"fill:#4c72b0;stroke:#4c72b0;\" x=\"81.640879\" xlink:href=\"#mf2c7982576\" y=\"165.73342\"/>\r\n     <use style=\"fill:#4c72b0;stroke:#4c72b0;\" x=\"96.18859\" xlink:href=\"#mf2c7982576\" y=\"174.952766\"/>\r\n     <use style=\"fill:#4c72b0;stroke:#4c72b0;\" x=\"115.585539\" xlink:href=\"#mf2c7982576\" y=\"168.618754\"/>\r\n     <use style=\"fill:#4c72b0;stroke:#4c72b0;\" x=\"67.093167\" xlink:href=\"#mf2c7982576\" y=\"168.784868\"/>\r\n     <use style=\"fill:#4c72b0;stroke:#4c72b0;\" x=\"57.26538\" xlink:href=\"#mf2c7982576\" y=\"133.416958\"/>\r\n     <use style=\"fill:#4c72b0;stroke:#4c72b0;\" x=\"104.270652\" xlink:href=\"#mf2c7982576\" y=\"170.265452\"/>\r\n     <use style=\"fill:#4c72b0;stroke:#4c72b0;\" x=\"125.284013\" xlink:href=\"#mf2c7982576\" y=\"169.61544\"/>\r\n     <use style=\"fill:#4c72b0;stroke:#4c72b0;\" x=\"117.201951\" xlink:href=\"#mf2c7982576\" y=\"132.864447\"/>\r\n     <use style=\"fill:#4c72b0;stroke:#4c72b0;\" x=\"81.640879\" xlink:href=\"#mf2c7982576\" y=\"171.998819\"/>\r\n     <use style=\"fill:#4c72b0;stroke:#4c72b0;\" x=\"102.65424\" xlink:href=\"#mf2c7982576\" y=\"157.958546\"/>\r\n     <use style=\"fill:#4c72b0;stroke:#4c72b0;\" x=\"59.011105\" xlink:href=\"#mf2c7982576\" y=\"169.687663\"/>\r\n     <use style=\"fill:#4c72b0;stroke:#4c72b0;\" x=\"60.627518\" xlink:href=\"#mf2c7982576\" y=\"172.605498\"/>\r\n     <use style=\"fill:#4c72b0;stroke:#4c72b0;\" x=\"80.024466\" xlink:href=\"#mf2c7982576\" y=\"175.110444\"/>\r\n     <use style=\"fill:#4c72b0;stroke:#4c72b0;\" x=\"96.18859\" xlink:href=\"#mf2c7982576\" y=\"172.056598\"/>\r\n     <use style=\"fill:#4c72b0;stroke:#4c72b0;\" x=\"120.434776\" xlink:href=\"#mf2c7982576\" y=\"169.138764\"/>\r\n     <use style=\"fill:#4c72b0;stroke:#4c72b0;\" x=\"102.65424\" xlink:href=\"#mf2c7982576\" y=\"169.190534\"/>\r\n     <use style=\"fill:#4c72b0;stroke:#4c72b0;\" x=\"96.18859\" xlink:href=\"#mf2c7982576\" y=\"161.182118\"/>\r\n     <use style=\"fill:#4c72b0;stroke:#4c72b0;\" x=\"84.873704\" xlink:href=\"#mf2c7982576\" y=\"175.32232\"/>\r\n     <use style=\"fill:#4c72b0;stroke:#4c72b0;\" x=\"99.421415\" xlink:href=\"#mf2c7982576\" y=\"116.097733\"/>\r\n     <use style=\"fill:#4c72b0;stroke:#4c72b0;\" x=\"57.394693\" xlink:href=\"#mf2c7982576\" y=\"163.649768\"/>\r\n     <use style=\"fill:#4c72b0;stroke:#4c72b0;\" x=\"113.969127\" xlink:href=\"#mf2c7982576\" y=\"142.53158\"/>\r\n     <use style=\"fill:#4c72b0;stroke:#4c72b0;\" x=\"101.037827\" xlink:href=\"#mf2c7982576\" y=\"174.909431\"/>\r\n     <use style=\"fill:#4c72b0;stroke:#4c72b0;\" x=\"101.037827\" xlink:href=\"#mf2c7982576\" y=\"172.619943\"/>\r\n     <use style=\"fill:#4c72b0;stroke:#4c72b0;\" x=\"110.736302\" xlink:href=\"#mf2c7982576\" y=\"171.132136\"/>\r\n     <use style=\"fill:#4c72b0;stroke:#4c72b0;\" x=\"60.627518\" xlink:href=\"#mf2c7982576\" y=\"171.782148\"/>\r\n     <use style=\"fill:#4c72b0;stroke:#4c72b0;\" x=\"84.873704\" xlink:href=\"#mf2c7982576\" y=\"171.35964\"/>\r\n     <use style=\"fill:#4c72b0;stroke:#4c72b0;\" x=\"136.5989\" xlink:href=\"#mf2c7982576\" y=\"161.049718\"/>\r\n     <use style=\"fill:#4c72b0;stroke:#4c72b0;\" x=\"159.228674\" xlink:href=\"#mf2c7982576\" y=\"101.219665\"/>\r\n     <use style=\"fill:#4c72b0;stroke:#4c72b0;\" x=\"96.18859\" xlink:href=\"#mf2c7982576\" y=\"174.952766\"/>\r\n     <use style=\"fill:#4c72b0;stroke:#4c72b0;\" x=\"62.24393\" xlink:href=\"#mf2c7982576\" y=\"153.550507\"/>\r\n     <use style=\"fill:#4c72b0;stroke:#4c72b0;\" x=\"113.969127\" xlink:href=\"#mf2c7982576\" y=\"169.182098\"/>\r\n     <use style=\"fill:#4c72b0;stroke:#4c72b0;\" x=\"134.982488\" xlink:href=\"#mf2c7982576\" y=\"151.457207\"/>\r\n     <use style=\"fill:#4c72b0;stroke:#4c72b0;\" x=\"110.736302\" xlink:href=\"#mf2c7982576\" y=\"171.132136\"/>\r\n     <use style=\"fill:#4c72b0;stroke:#4c72b0;\" x=\"102.65424\" xlink:href=\"#mf2c7982576\" y=\"175.163428\"/>\r\n     <use style=\"fill:#4c72b0;stroke:#4c72b0;\" x=\"70.325992\" xlink:href=\"#mf2c7982576\" y=\"163.649768\"/>\r\n     <use style=\"fill:#4c72b0;stroke:#4c72b0;\" x=\"96.18859\" xlink:href=\"#mf2c7982576\" y=\"150.88664\"/>\r\n     <use style=\"fill:#4c72b0;stroke:#4c72b0;\" x=\"70.325992\" xlink:href=\"#mf2c7982576\" y=\"172.605498\"/>\r\n     <use style=\"fill:#4c72b0;stroke:#4c72b0;\" x=\"84.873704\" xlink:href=\"#mf2c7982576\" y=\"145.738309\"/>\r\n     <use style=\"fill:#4c72b0;stroke:#4c72b0;\" x=\"92.955766\" xlink:href=\"#mf2c7982576\" y=\"173.876634\"/>\r\n     <use style=\"fill:#4c72b0;stroke:#4c72b0;\" x=\"83.257291\" xlink:href=\"#mf2c7982576\" y=\"175.110444\"/>\r\n     <use style=\"fill:#4c72b0;stroke:#4c72b0;\" x=\"107.503477\" xlink:href=\"#mf2c7982576\" y=\"169.687663\"/>\r\n     <use style=\"fill:#4c72b0;stroke:#4c72b0;\" x=\"136.5989\" xlink:href=\"#mf2c7982576\" y=\"146.453323\"/>\r\n     <use style=\"fill:#4c72b0;stroke:#4c72b0;\" x=\"109.119889\" xlink:href=\"#mf2c7982576\" y=\"171.269361\"/>\r\n     <use style=\"fill:#4c72b0;stroke:#4c72b0;\" x=\"68.70958\" xlink:href=\"#mf2c7982576\" y=\"166.582047\"/>\r\n     <use style=\"fill:#4c72b0;stroke:#4c72b0;\" x=\"83.257291\" xlink:href=\"#mf2c7982576\" y=\"145.165344\"/>\r\n     <use style=\"fill:#4c72b0;stroke:#4c72b0;\" x=\"94.572178\" xlink:href=\"#mf2c7982576\" y=\"170.222118\"/>\r\n     <use style=\"fill:#4c72b0;stroke:#4c72b0;\" x=\"152.763024\" xlink:href=\"#mf2c7982576\" y=\"154.318476\"/>\r\n     <use style=\"fill:#4c72b0;stroke:#4c72b0;\" x=\"115.585539\" xlink:href=\"#mf2c7982576\" y=\"169.687663\"/>\r\n     <use style=\"fill:#4c72b0;stroke:#4c72b0;\" x=\"113.969127\" xlink:href=\"#mf2c7982576\" y=\"170.222118\"/>\r\n     <use style=\"fill:#4c72b0;stroke:#4c72b0;\" x=\"134.982488\" xlink:href=\"#mf2c7982576\" y=\"160.752387\"/>\r\n     <use style=\"fill:#4c72b0;stroke:#4c72b0;\" x=\"113.969127\" xlink:href=\"#mf2c7982576\" y=\"172.706611\"/>\r\n     <use style=\"fill:#4c72b0;stroke:#4c72b0;\" x=\"110.736302\" xlink:href=\"#mf2c7982576\" y=\"173.03884\"/>\r\n     <use style=\"fill:#4c72b0;stroke:#4c72b0;\" x=\"99.421415\" xlink:href=\"#mf2c7982576\" y=\"173.023181\"/>\r\n     <use style=\"fill:#4c72b0;stroke:#4c72b0;\" x=\"123.667601\" xlink:href=\"#mf2c7982576\" y=\"162.016301\"/>\r\n     <use style=\"fill:#4c72b0;stroke:#4c72b0;\" x=\"88.106528\" xlink:href=\"#mf2c7982576\" y=\"172.65123\"/>\r\n     <use style=\"fill:#4c72b0;stroke:#4c72b0;\" x=\"105.887065\" xlink:href=\"#mf2c7982576\" y=\"169.61544\"/>\r\n     <use style=\"fill:#4c72b0;stroke:#4c72b0;\" x=\"133.366075\" xlink:href=\"#mf2c7982576\" y=\"155.032276\"/>\r\n     <use style=\"fill:#4c72b0;stroke:#4c72b0;\" x=\"94.572178\" xlink:href=\"#mf2c7982576\" y=\"155.965174\"/>\r\n     <use style=\"fill:#4c72b0;stroke:#4c72b0;\" x=\"149.530199\" xlink:href=\"#mf2c7982576\" y=\"144.474395\"/>\r\n     <use style=\"fill:#4c72b0;stroke:#4c72b0;\" x=\"136.5989\" xlink:href=\"#mf2c7982576\" y=\"138.58817\"/>\r\n     <use style=\"fill:#4c72b0;stroke:#4c72b0;\" x=\"88.106528\" xlink:href=\"#mf2c7982576\" y=\"174.909431\"/>\r\n     <use style=\"fill:#4c72b0;stroke:#4c72b0;\" x=\"107.503477\" xlink:href=\"#mf2c7982576\" y=\"155.965174\"/>\r\n     <use style=\"fill:#4c72b0;stroke:#4c72b0;\" x=\"105.887065\" xlink:href=\"#mf2c7982576\" y=\"162.176406\"/>\r\n     <use style=\"fill:#4c72b0;stroke:#4c72b0;\" x=\"113.969127\" xlink:href=\"#mf2c7982576\" y=\"29.18983\"/>\r\n     <use style=\"fill:#4c72b0;stroke:#4c72b0;\" x=\"78.408054\" xlink:href=\"#mf2c7982576\" y=\"163.649768\"/>\r\n     <use style=\"fill:#4c72b0;stroke:#4c72b0;\" x=\"152.763024\" xlink:href=\"#mf2c7982576\" y=\"165.932035\"/>\r\n     <use style=\"fill:#4c72b0;stroke:#4c72b0;\" x=\"96.18859\" xlink:href=\"#mf2c7982576\" y=\"165.186918\"/>\r\n     <use style=\"fill:#4c72b0;stroke:#4c72b0;\" x=\"78.408054\" xlink:href=\"#mf2c7982576\" y=\"165.73342\"/>\r\n     <use style=\"fill:#4c72b0;stroke:#4c72b0;\" x=\"105.887065\" xlink:href=\"#mf2c7982576\" y=\"160.731934\"/>\r\n     <use style=\"fill:#4c72b0;stroke:#4c72b0;\" x=\"134.982488\" xlink:href=\"#mf2c7982576\" y=\"145.165344\"/>\r\n     <use style=\"fill:#4c72b0;stroke:#4c72b0;\" x=\"97.805003\" xlink:href=\"#mf2c7982576\" y=\"174.929885\"/>\r\n     <use style=\"fill:#4c72b0;stroke:#4c72b0;\" x=\"133.366075\" xlink:href=\"#mf2c7982576\" y=\"162.176406\"/>\r\n     <use style=\"fill:#4c72b0;stroke:#4c72b0;\" x=\"83.257291\" xlink:href=\"#mf2c7982576\" y=\"175.161001\"/>\r\n     <use style=\"fill:#4c72b0;stroke:#4c72b0;\" x=\"99.421415\" xlink:href=\"#mf2c7982576\" y=\"161.858622\"/>\r\n     <use style=\"fill:#4c72b0;stroke:#4c72b0;\" x=\"96.18859\" xlink:href=\"#mf2c7982576\" y=\"169.687663\"/>\r\n     <use style=\"fill:#4c72b0;stroke:#4c72b0;\" x=\"113.969127\" xlink:href=\"#mf2c7982576\" y=\"154.419589\"/>\r\n     <use style=\"fill:#4c72b0;stroke:#4c72b0;\" x=\"94.572178\" xlink:href=\"#mf2c7982576\" y=\"172.547719\"/>\r\n     <use style=\"fill:#4c72b0;stroke:#4c72b0;\" x=\"168.927148\" xlink:href=\"#mf2c7982576\" y=\"156.687411\"/>\r\n     <use style=\"fill:#4c72b0;stroke:#4c72b0;\" x=\"81.640879\" xlink:href=\"#mf2c7982576\" y=\"171.348807\"/>\r\n     <use style=\"fill:#4c72b0;stroke:#4c72b0;\" x=\"86.490116\" xlink:href=\"#mf2c7982576\" y=\"161.858622\"/>\r\n     <use style=\"fill:#4c72b0;stroke:#4c72b0;\" x=\"65.476755\" xlink:href=\"#mf2c7982576\" y=\"173.594961\"/>\r\n     <use style=\"fill:#4c72b0;stroke:#4c72b0;\" x=\"56.861277\" xlink:href=\"#mf2c7982576\" y=\"173.00995\"/>\r\n     <use style=\"fill:#4c72b0;stroke:#4c72b0;\" x=\"68.70958\" xlink:href=\"#mf2c7982576\" y=\"168.784868\"/>\r\n     <use style=\"fill:#4c72b0;stroke:#4c72b0;\" x=\"57.394693\" xlink:href=\"#mf2c7982576\" y=\"171.254916\"/>\r\n     <use style=\"fill:#4c72b0;stroke:#4c72b0;\" x=\"73.558817\" xlink:href=\"#mf2c7982576\" y=\"142.53158\"/>\r\n     <use style=\"fill:#4c72b0;stroke:#4c72b0;\" x=\"56.457174\" xlink:href=\"#mf2c7982576\" y=\"174.738493\"/>\r\n     <use style=\"fill:#4c72b0;stroke:#4c72b0;\" x=\"105.887065\" xlink:href=\"#mf2c7982576\" y=\"166.50861\"/>\r\n     <use style=\"fill:#4c72b0;stroke:#4c72b0;\" x=\"71.942404\" xlink:href=\"#mf2c7982576\" y=\"169.138764\"/>\r\n     <use style=\"fill:#4c72b0;stroke:#4c72b0;\" x=\"59.011105\" xlink:href=\"#mf2c7982576\" y=\"165.73342\"/>\r\n     <use style=\"fill:#4c72b0;stroke:#4c72b0;\" x=\"57.394693\" xlink:href=\"#mf2c7982576\" y=\"166.50861\"/>\r\n     <use style=\"fill:#4c72b0;stroke:#4c72b0;\" x=\"57.119903\" xlink:href=\"#mf2c7982576\" y=\"171.782148\"/>\r\n     <use style=\"fill:#4c72b0;stroke:#4c72b0;\" x=\"101.037827\" xlink:href=\"#mf2c7982576\" y=\"167.665402\"/>\r\n     <use style=\"fill:#4c72b0;stroke:#4c72b0;\" x=\"62.24393\" xlink:href=\"#mf2c7982576\" y=\"168.163745\"/>\r\n     <use style=\"fill:#4c72b0;stroke:#4c72b0;\" x=\"122.051189\" xlink:href=\"#mf2c7982576\" y=\"173.12311\"/>\r\n     <use style=\"fill:#4c72b0;stroke:#4c72b0;\" x=\"89.722941\" xlink:href=\"#mf2c7982576\" y=\"173.876634\"/>\r\n     <use style=\"fill:#4c72b0;stroke:#4c72b0;\" x=\"62.24393\" xlink:href=\"#mf2c7982576\" y=\"173.982571\"/>\r\n    </g>\r\n   </g>\r\n   <g id=\"PathCollection_2\">\r\n    <defs>\r\n     <path d=\"M 0 3 \r\nC 0.795609 3 1.55874 2.683901 2.12132 2.12132 \r\nC 2.683901 1.55874 3 0.795609 3 0 \r\nC 3 -0.795609 2.683901 -1.55874 2.12132 -2.12132 \r\nC 1.55874 -2.683901 0.795609 -3 0 -3 \r\nC -0.795609 -3 -1.55874 -2.683901 -2.12132 -2.12132 \r\nC -2.683901 -1.55874 -3 -0.795609 -3 0 \r\nC -3 0.795609 -2.683901 1.55874 -2.12132 2.12132 \r\nC -1.55874 2.683901 -0.795609 3 0 3 \r\nz\r\n\" id=\"mb9d72cfe03\" style=\"stroke:#dd8452;\"/>\r\n    </defs>\r\n    <g clip-path=\"url(#pd195c8c973)\">\r\n     <use style=\"fill:#dd8452;stroke:#dd8452;\" x=\"112.352714\" xlink:href=\"#mb9d72cfe03\" y=\"174.87332\"/>\r\n     <use style=\"fill:#dd8452;stroke:#dd8452;\" x=\"143.06455\" xlink:href=\"#mb9d72cfe03\" y=\"162.216129\"/>\r\n     <use style=\"fill:#dd8452;stroke:#dd8452;\" x=\"88.106528\" xlink:href=\"#mb9d72cfe03\" y=\"174.87332\"/>\r\n     <use style=\"fill:#dd8452;stroke:#dd8452;\" x=\"112.352714\" xlink:href=\"#mb9d72cfe03\" y=\"169.687663\"/>\r\n     <use style=\"fill:#dd8452;stroke:#dd8452;\" x=\"110.736302\" xlink:href=\"#mb9d72cfe03\" y=\"173.443292\"/>\r\n     <use style=\"fill:#dd8452;stroke:#dd8452;\" x=\"101.037827\" xlink:href=\"#mb9d72cfe03\" y=\"166.943166\"/>\r\n     <use style=\"fill:#dd8452;stroke:#dd8452;\" x=\"120.434776\" xlink:href=\"#mb9d72cfe03\" y=\"169.190534\"/>\r\n     <use style=\"fill:#dd8452;stroke:#dd8452;\" x=\"162.461498\" xlink:href=\"#mb9d72cfe03\" y=\"174.165528\"/>\r\n     <use style=\"fill:#dd8452;stroke:#dd8452;\" x=\"89.722941\" xlink:href=\"#mb9d72cfe03\" y=\"174.87332\"/>\r\n     <use style=\"fill:#dd8452;stroke:#dd8452;\" x=\"89.722941\" xlink:href=\"#mb9d72cfe03\" y=\"174.945543\"/>\r\n     <use style=\"fill:#dd8452;stroke:#dd8452;\" x=\"101.846034\" xlink:href=\"#mb9d72cfe03\" y=\"175.110444\"/>\r\n     <use style=\"fill:#dd8452;stroke:#dd8452;\" x=\"91.339353\" xlink:href=\"#mb9d72cfe03\" y=\"175.110444\"/>\r\n     <use style=\"fill:#dd8452;stroke:#dd8452;\" x=\"86.490116\" xlink:href=\"#mb9d72cfe03\" y=\"174.842032\"/>\r\n     <use style=\"fill:#dd8452;stroke:#dd8452;\" x=\"107.503477\" xlink:href=\"#mb9d72cfe03\" y=\"174.165528\"/>\r\n     <use style=\"fill:#dd8452;stroke:#dd8452;\" x=\"89.722941\" xlink:href=\"#mb9d72cfe03\" y=\"155.965174\"/>\r\n     <use style=\"fill:#dd8452;stroke:#dd8452;\" x=\"107.503477\" xlink:href=\"#mb9d72cfe03\" y=\"160.877594\"/>\r\n     <use style=\"fill:#dd8452;stroke:#dd8452;\" x=\"96.18859\" xlink:href=\"#mb9d72cfe03\" y=\"174.988877\"/>\r\n     <use style=\"fill:#dd8452;stroke:#dd8452;\" x=\"91.339353\" xlink:href=\"#mb9d72cfe03\" y=\"174.59887\"/>\r\n     <use style=\"fill:#dd8452;stroke:#dd8452;\" x=\"102.65424\" xlink:href=\"#mb9d72cfe03\" y=\"174.454423\"/>\r\n     <use style=\"fill:#dd8452;stroke:#dd8452;\" x=\"101.037827\" xlink:href=\"#mb9d72cfe03\" y=\"163.591989\"/>\r\n     <use style=\"fill:#dd8452;stroke:#dd8452;\" x=\"94.572178\" xlink:href=\"#mb9d72cfe03\" y=\"174.87332\"/>\r\n     <use style=\"fill:#dd8452;stroke:#dd8452;\" x=\"102.65424\" xlink:href=\"#mb9d72cfe03\" y=\"174.87332\"/>\r\n     <use style=\"fill:#dd8452;stroke:#dd8452;\" x=\"88.106528\" xlink:href=\"#mb9d72cfe03\" y=\"174.929885\"/>\r\n     <use style=\"fill:#dd8452;stroke:#dd8452;\" x=\"151.146612\" xlink:href=\"#mb9d72cfe03\" y=\"175.104435\"/>\r\n     <use style=\"fill:#dd8452;stroke:#dd8452;\" x=\"170.54356\" xlink:href=\"#mb9d72cfe03\" y=\"167.187512\"/>\r\n     <use style=\"fill:#dd8452;stroke:#dd8452;\" x=\"109.119889\" xlink:href=\"#mb9d72cfe03\" y=\"174.69877\"/>\r\n     <use style=\"fill:#dd8452;stroke:#dd8452;\" x=\"101.037827\" xlink:href=\"#mb9d72cfe03\" y=\"174.917867\"/>\r\n     <use style=\"fill:#dd8452;stroke:#dd8452;\" x=\"117.201951\" xlink:href=\"#mb9d72cfe03\" y=\"174.917867\"/>\r\n     <use style=\"fill:#dd8452;stroke:#dd8452;\" x=\"131.749663\" xlink:href=\"#mb9d72cfe03\" y=\"162.176406\"/>\r\n     <use style=\"fill:#dd8452;stroke:#dd8452;\" x=\"91.339353\" xlink:href=\"#mb9d72cfe03\" y=\"174.87332\"/>\r\n     <use style=\"fill:#dd8452;stroke:#dd8452;\" x=\"89.722941\" xlink:href=\"#mb9d72cfe03\" y=\"174.909431\"/>\r\n     <use style=\"fill:#dd8452;stroke:#dd8452;\" x=\"169.735354\" xlink:href=\"#mb9d72cfe03\" y=\"174.959988\"/>\r\n     <use style=\"fill:#dd8452;stroke:#dd8452;\" x=\"94.572178\" xlink:href=\"#mb9d72cfe03\" y=\"175.135723\"/>\r\n     <use style=\"fill:#dd8452;stroke:#dd8452;\" x=\"128.516838\" xlink:href=\"#mb9d72cfe03\" y=\"175.183881\"/>\r\n     <use style=\"fill:#dd8452;stroke:#dd8452;\" x=\"109.119889\" xlink:href=\"#mb9d72cfe03\" y=\"174.917867\"/>\r\n     <use style=\"fill:#dd8452;stroke:#dd8452;\" x=\"88.106528\" xlink:href=\"#mb9d72cfe03\" y=\"175.162214\"/>\r\n     <use style=\"fill:#dd8452;stroke:#dd8452;\" x=\"96.18859\" xlink:href=\"#mb9d72cfe03\" y=\"173.443292\"/>\r\n     <use style=\"fill:#dd8452;stroke:#dd8452;\" x=\"92.955766\" xlink:href=\"#mb9d72cfe03\" y=\"172.852272\"/>\r\n     <use style=\"fill:#dd8452;stroke:#dd8452;\" x=\"81.640879\" xlink:href=\"#mb9d72cfe03\" y=\"174.536266\"/>\r\n     <use style=\"fill:#dd8452;stroke:#dd8452;\" x=\"94.572178\" xlink:href=\"#mb9d72cfe03\" y=\"154.318476\"/>\r\n     <use style=\"fill:#dd8452;stroke:#dd8452;\" x=\"86.490116\" xlink:href=\"#mb9d72cfe03\" y=\"175.248883\"/>\r\n     <use style=\"fill:#dd8452;stroke:#dd8452;\" x=\"84.873704\" xlink:href=\"#mb9d72cfe03\" y=\"173.876634\"/>\r\n     <use style=\"fill:#dd8452;stroke:#dd8452;\" x=\"99.421415\" xlink:href=\"#mb9d72cfe03\" y=\"174.946757\"/>\r\n     <use style=\"fill:#dd8452;stroke:#dd8452;\" x=\"123.667601\" xlink:href=\"#mb9d72cfe03\" y=\"173.443292\"/>\r\n     <use style=\"fill:#dd8452;stroke:#dd8452;\" x=\"138.215313\" xlink:href=\"#mb9d72cfe03\" y=\"173.580517\"/>\r\n     <use style=\"fill:#dd8452;stroke:#dd8452;\" x=\"145.489168\" xlink:href=\"#mb9d72cfe03\" y=\"174.87332\"/>\r\n     <use style=\"fill:#dd8452;stroke:#dd8452;\" x=\"104.270652\" xlink:href=\"#mb9d72cfe03\" y=\"174.87332\"/>\r\n     <use style=\"fill:#dd8452;stroke:#dd8452;\" x=\"97.805003\" xlink:href=\"#mb9d72cfe03\" y=\"174.952766\"/>\r\n     <use style=\"fill:#dd8452;stroke:#dd8452;\" x=\"83.257291\" xlink:href=\"#mb9d72cfe03\" y=\"174.696372\"/>\r\n     <use style=\"fill:#dd8452;stroke:#dd8452;\" x=\"101.037827\" xlink:href=\"#mb9d72cfe03\" y=\"160.877594\"/>\r\n     <use style=\"fill:#dd8452;stroke:#dd8452;\" x=\"154.379436\" xlink:href=\"#mb9d72cfe03\" y=\"167.520955\"/>\r\n     <use style=\"fill:#dd8452;stroke:#dd8452;\" x=\"89.722941\" xlink:href=\"#mb9d72cfe03\" y=\"174.909431\"/>\r\n     <use style=\"fill:#dd8452;stroke:#dd8452;\" x=\"146.297374\" xlink:href=\"#mb9d72cfe03\" y=\"168.331072\"/>\r\n     <use style=\"fill:#dd8452;stroke:#dd8452;\" x=\"104.270652\" xlink:href=\"#mb9d72cfe03\" y=\"173.443292\"/>\r\n     <use style=\"fill:#dd8452;stroke:#dd8452;\" x=\"113.969127\" xlink:href=\"#mb9d72cfe03\" y=\"177.19892\"/>\r\n     <use style=\"fill:#dd8452;stroke:#dd8452;\" x=\"128.516838\" xlink:href=\"#mb9d72cfe03\" y=\"169.528771\"/>\r\n     <use style=\"fill:#dd8452;stroke:#dd8452;\" x=\"113.969127\" xlink:href=\"#mb9d72cfe03\" y=\"174.917867\"/>\r\n     <use style=\"fill:#dd8452;stroke:#dd8452;\" x=\"86.490116\" xlink:href=\"#mb9d72cfe03\" y=\"173.443292\"/>\r\n     <use style=\"fill:#dd8452;stroke:#dd8452;\" x=\"101.037827\" xlink:href=\"#mb9d72cfe03\" y=\"174.454423\"/>\r\n     <use style=\"fill:#dd8452;stroke:#dd8452;\" x=\"110.736302\" xlink:href=\"#mb9d72cfe03\" y=\"175.32232\"/>\r\n     <use style=\"fill:#dd8452;stroke:#dd8452;\" x=\"129.325044\" xlink:href=\"#mb9d72cfe03\" y=\"175.111658\"/>\r\n     <use style=\"fill:#dd8452;stroke:#dd8452;\" x=\"84.873704\" xlink:href=\"#mb9d72cfe03\" y=\"174.87332\"/>\r\n     <use style=\"fill:#dd8452;stroke:#dd8452;\" x=\"97.805003\" xlink:href=\"#mb9d72cfe03\" y=\"171.771315\"/>\r\n     <use style=\"fill:#dd8452;stroke:#dd8452;\" x=\"120.434776\" xlink:href=\"#mb9d72cfe03\" y=\"168.243191\"/>\r\n     <use style=\"fill:#dd8452;stroke:#dd8452;\" x=\"94.572178\" xlink:href=\"#mb9d72cfe03\" y=\"175.162214\"/>\r\n     <use style=\"fill:#dd8452;stroke:#dd8452;\" x=\"91.339353\" xlink:href=\"#mb9d72cfe03\" y=\"175.104435\"/>\r\n     <use style=\"fill:#dd8452;stroke:#dd8452;\" x=\"104.270652\" xlink:href=\"#mb9d72cfe03\" y=\"173.443292\"/>\r\n     <use style=\"fill:#dd8452;stroke:#dd8452;\" x=\"104.270652\" xlink:href=\"#mb9d72cfe03\" y=\"174.165528\"/>\r\n     <use style=\"fill:#dd8452;stroke:#dd8452;\" x=\"81.640879\" xlink:href=\"#mb9d72cfe03\" y=\"174.87332\"/>\r\n     <use style=\"fill:#dd8452;stroke:#dd8452;\" x=\"99.421415\" xlink:href=\"#mb9d72cfe03\" y=\"173.443292\"/>\r\n     <use style=\"fill:#dd8452;stroke:#dd8452;\" x=\"138.215313\" xlink:href=\"#mb9d72cfe03\" y=\"174.87332\"/>\r\n     <use style=\"fill:#dd8452;stroke:#dd8452;\" x=\"91.339353\" xlink:href=\"#mb9d72cfe03\" y=\"174.497757\"/>\r\n     <use style=\"fill:#dd8452;stroke:#dd8452;\" x=\"86.490116\" xlink:href=\"#mb9d72cfe03\" y=\"174.165528\"/>\r\n     <use style=\"fill:#dd8452;stroke:#dd8452;\" x=\"88.914735\" xlink:href=\"#mb9d72cfe03\" y=\"175.104435\"/>\r\n     <use style=\"fill:#dd8452;stroke:#dd8452;\" x=\"84.873704\" xlink:href=\"#mb9d72cfe03\" y=\"173.443292\"/>\r\n     <use style=\"fill:#dd8452;stroke:#dd8452;\" x=\"102.65424\" xlink:href=\"#mb9d72cfe03\" y=\"174.952766\"/>\r\n     <use style=\"fill:#dd8452;stroke:#dd8452;\" x=\"151.146612\" xlink:href=\"#mb9d72cfe03\" y=\"173.298845\"/>\r\n     <use style=\"fill:#dd8452;stroke:#dd8452;\" x=\"94.572178\" xlink:href=\"#mb9d72cfe03\" y=\"174.165528\"/>\r\n     <use style=\"fill:#dd8452;stroke:#dd8452;\" x=\"86.490116\" xlink:href=\"#mb9d72cfe03\" y=\"174.165528\"/>\r\n     <use style=\"fill:#dd8452;stroke:#dd8452;\" x=\"109.119889\" xlink:href=\"#mb9d72cfe03\" y=\"173.65274\"/>\r\n     <use style=\"fill:#dd8452;stroke:#dd8452;\" x=\"102.65424\" xlink:href=\"#mb9d72cfe03\" y=\"174.165528\"/>\r\n     <use style=\"fill:#dd8452;stroke:#dd8452;\" x=\"91.339353\" xlink:href=\"#mb9d72cfe03\" y=\"175.140547\"/>\r\n     <use style=\"fill:#dd8452;stroke:#dd8452;\" x=\"104.270652\" xlink:href=\"#mb9d72cfe03\" y=\"175.111658\"/>\r\n     <use style=\"fill:#dd8452;stroke:#dd8452;\" x=\"155.995849\" xlink:href=\"#mb9d72cfe03\" y=\"169.528771\"/>\r\n     <use style=\"fill:#dd8452;stroke:#dd8452;\" x=\"120.434776\" xlink:href=\"#mb9d72cfe03\" y=\"177.19892\"/>\r\n     <use style=\"fill:#dd8452;stroke:#dd8452;\" x=\"113.969127\" xlink:href=\"#mb9d72cfe03\" y=\"174.165528\"/>\r\n     <use style=\"fill:#dd8452;stroke:#dd8452;\" x=\"96.18859\" xlink:href=\"#mb9d72cfe03\" y=\"177.19892\"/>\r\n     <use style=\"fill:#dd8452;stroke:#dd8452;\" x=\"160.845086\" xlink:href=\"#mb9d72cfe03\" y=\"174.959988\"/>\r\n     <use style=\"fill:#dd8452;stroke:#dd8452;\" x=\"101.037827\" xlink:href=\"#mb9d72cfe03\" y=\"174.929885\"/>\r\n     <use style=\"fill:#dd8452;stroke:#dd8452;\" x=\"81.640879\" xlink:href=\"#mb9d72cfe03\" y=\"174.454423\"/>\r\n     <use style=\"fill:#dd8452;stroke:#dd8452;\" x=\"86.490116\" xlink:href=\"#mb9d72cfe03\" y=\"174.87332\"/>\r\n     <use style=\"fill:#dd8452;stroke:#dd8452;\" x=\"109.119889\" xlink:href=\"#mb9d72cfe03\" y=\"174.696372\"/>\r\n     <use style=\"fill:#dd8452;stroke:#dd8452;\" x=\"104.270652\" xlink:href=\"#mb9d72cfe03\" y=\"174.454423\"/>\r\n     <use style=\"fill:#dd8452;stroke:#dd8452;\" x=\"91.339353\" xlink:href=\"#mb9d72cfe03\" y=\"174.917867\"/>\r\n     <use style=\"fill:#dd8452;stroke:#dd8452;\" x=\"123.667601\" xlink:href=\"#mb9d72cfe03\" y=\"173.443292\"/>\r\n     <use style=\"fill:#dd8452;stroke:#dd8452;\" x=\"113.969127\" xlink:href=\"#mb9d72cfe03\" y=\"173.479404\"/>\r\n     <use style=\"fill:#dd8452;stroke:#dd8452;\" x=\"94.572178\" xlink:href=\"#mb9d72cfe03\" y=\"174.917867\"/>\r\n     <use style=\"fill:#dd8452;stroke:#dd8452;\" x=\"93.763972\" xlink:href=\"#mb9d72cfe03\" y=\"175.110444\"/>\r\n     <use style=\"fill:#dd8452;stroke:#dd8452;\" x=\"86.490116\" xlink:href=\"#mb9d72cfe03\" y=\"177.19892\"/>\r\n     <use style=\"fill:#dd8452;stroke:#dd8452;\" x=\"101.037827\" xlink:href=\"#mb9d72cfe03\" y=\"174.917867\"/>\r\n     <use style=\"fill:#dd8452;stroke:#dd8452;\" x=\"143.06455\" xlink:href=\"#mb9d72cfe03\" y=\"173.154397\"/>\r\n     <use style=\"fill:#dd8452;stroke:#dd8452;\" x=\"91.339353\" xlink:href=\"#mb9d72cfe03\" y=\"175.104435\"/>\r\n     <use style=\"fill:#dd8452;stroke:#dd8452;\" x=\"99.421415\" xlink:href=\"#mb9d72cfe03\" y=\"174.917867\"/>\r\n     <use style=\"fill:#dd8452;stroke:#dd8452;\" x=\"154.379436\" xlink:href=\"#mb9d72cfe03\" y=\"175.396941\"/>\r\n     <use style=\"fill:#dd8452;stroke:#dd8452;\" x=\"129.325044\" xlink:href=\"#mb9d72cfe03\" y=\"168.965427\"/>\r\n     <use style=\"fill:#dd8452;stroke:#dd8452;\" x=\"128.516838\" xlink:href=\"#mb9d72cfe03\" y=\"174.87332\"/>\r\n     <use style=\"fill:#dd8452;stroke:#dd8452;\" x=\"128.516838\" xlink:href=\"#mb9d72cfe03\" y=\"166.943166\"/>\r\n     <use style=\"fill:#dd8452;stroke:#dd8452;\" x=\"101.037827\" xlink:href=\"#mb9d72cfe03\" y=\"173.443292\"/>\r\n     <use style=\"fill:#dd8452;stroke:#dd8452;\" x=\"96.18859\" xlink:href=\"#mb9d72cfe03\" y=\"173.443292\"/>\r\n     <use style=\"fill:#dd8452;stroke:#dd8452;\" x=\"113.969127\" xlink:href=\"#mb9d72cfe03\" y=\"173.443292\"/>\r\n     <use style=\"fill:#dd8452;stroke:#dd8452;\" x=\"123.667601\" xlink:href=\"#mb9d72cfe03\" y=\"174.696372\"/>\r\n     <use style=\"fill:#dd8452;stroke:#dd8452;\" x=\"92.955766\" xlink:href=\"#mb9d72cfe03\" y=\"174.533869\"/>\r\n     <use style=\"fill:#dd8452;stroke:#dd8452;\" x=\"101.037827\" xlink:href=\"#mb9d72cfe03\" y=\"174.454423\"/>\r\n     <use style=\"fill:#dd8452;stroke:#dd8452;\" x=\"112.352714\" xlink:href=\"#mb9d72cfe03\" y=\"175.162214\"/>\r\n     <use style=\"fill:#dd8452;stroke:#dd8452;\" x=\"104.270652\" xlink:href=\"#mb9d72cfe03\" y=\"175.104435\"/>\r\n     <use style=\"fill:#dd8452;stroke:#dd8452;\" x=\"86.490116\" xlink:href=\"#mb9d72cfe03\" y=\"174.87332\"/>\r\n     <use style=\"fill:#dd8452;stroke:#dd8452;\" x=\"91.339353\" xlink:href=\"#mb9d72cfe03\" y=\"138.015205\"/>\r\n     <use style=\"fill:#dd8452;stroke:#dd8452;\" x=\"88.106528\" xlink:href=\"#mb9d72cfe03\" y=\"176.039731\"/>\r\n     <use style=\"fill:#dd8452;stroke:#dd8452;\" x=\"86.490116\" xlink:href=\"#mb9d72cfe03\" y=\"174.952766\"/>\r\n     <use style=\"fill:#dd8452;stroke:#dd8452;\" x=\"107.503477\" xlink:href=\"#mb9d72cfe03\" y=\"174.909431\"/>\r\n     <use style=\"fill:#dd8452;stroke:#dd8452;\" x=\"84.873704\" xlink:href=\"#mb9d72cfe03\" y=\"155.965174\"/>\r\n     <use style=\"fill:#dd8452;stroke:#dd8452;\" x=\"89.722941\" xlink:href=\"#mb9d72cfe03\" y=\"174.946757\"/>\r\n     <use style=\"fill:#dd8452;stroke:#dd8452;\" x=\"91.339353\" xlink:href=\"#mb9d72cfe03\" y=\"174.946757\"/>\r\n     <use style=\"fill:#dd8452;stroke:#dd8452;\" x=\"130.133251\" xlink:href=\"#mb9d72cfe03\" y=\"169.687663\"/>\r\n     <use style=\"fill:#dd8452;stroke:#dd8452;\" x=\"92.955766\" xlink:href=\"#mb9d72cfe03\" y=\"174.165528\"/>\r\n     <use style=\"fill:#dd8452;stroke:#dd8452;\" x=\"118.818364\" xlink:href=\"#mb9d72cfe03\" y=\"174.909431\"/>\r\n     <use style=\"fill:#dd8452;stroke:#dd8452;\" x=\"97.805003\" xlink:href=\"#mb9d72cfe03\" y=\"174.87332\"/>\r\n     <use style=\"fill:#dd8452;stroke:#dd8452;\" x=\"138.215313\" xlink:href=\"#mb9d72cfe03\" y=\"174.959988\"/>\r\n     <use style=\"fill:#dd8452;stroke:#dd8452;\" x=\"89.722941\" xlink:href=\"#mb9d72cfe03\" y=\"174.952766\"/>\r\n     <use style=\"fill:#dd8452;stroke:#dd8452;\" x=\"126.900426\" xlink:href=\"#mb9d72cfe03\" y=\"174.909431\"/>\r\n     <use style=\"fill:#dd8452;stroke:#dd8452;\" x=\"104.270652\" xlink:href=\"#mb9d72cfe03\" y=\"173.443292\"/>\r\n     <use style=\"fill:#dd8452;stroke:#dd8452;\" x=\"89.722941\" xlink:href=\"#mb9d72cfe03\" y=\"174.964813\"/>\r\n     <use style=\"fill:#dd8452;stroke:#dd8452;\" x=\"102.65424\" xlink:href=\"#mb9d72cfe03\" y=\"174.923876\"/>\r\n     <use style=\"fill:#dd8452;stroke:#dd8452;\" x=\"107.503477\" xlink:href=\"#mb9d72cfe03\" y=\"174.87332\"/>\r\n     <use style=\"fill:#dd8452;stroke:#dd8452;\" x=\"101.037827\" xlink:href=\"#mb9d72cfe03\" y=\"169.528771\"/>\r\n     <use style=\"fill:#dd8452;stroke:#dd8452;\" x=\"83.257291\" xlink:href=\"#mb9d72cfe03\" y=\"175.140547\"/>\r\n     <use style=\"fill:#dd8452;stroke:#dd8452;\" x=\"105.887065\" xlink:href=\"#mb9d72cfe03\" y=\"174.165528\"/>\r\n     <use style=\"fill:#dd8452;stroke:#dd8452;\" x=\"88.106528\" xlink:href=\"#mb9d72cfe03\" y=\"174.454423\"/>\r\n     <use style=\"fill:#dd8452;stroke:#dd8452;\" x=\"110.736302\" xlink:href=\"#mb9d72cfe03\" y=\"169.528771\"/>\r\n     <use style=\"fill:#dd8452;stroke:#dd8452;\" x=\"139.831725\" xlink:href=\"#mb9d72cfe03\" y=\"168.387638\"/>\r\n     <use style=\"fill:#dd8452;stroke:#dd8452;\" x=\"104.270652\" xlink:href=\"#mb9d72cfe03\" y=\"169.182098\"/>\r\n     <use style=\"fill:#dd8452;stroke:#dd8452;\" x=\"102.65424\" xlink:href=\"#mb9d72cfe03\" y=\"174.917867\"/>\r\n     <use style=\"fill:#dd8452;stroke:#dd8452;\" x=\"160.845086\" xlink:href=\"#mb9d72cfe03\" y=\"169.528771\"/>\r\n     <use style=\"fill:#dd8452;stroke:#dd8452;\" x=\"133.366075\" xlink:href=\"#mb9d72cfe03\" y=\"169.528771\"/>\r\n     <use style=\"fill:#dd8452;stroke:#dd8452;\" x=\"110.736302\" xlink:href=\"#mb9d72cfe03\" y=\"174.87332\"/>\r\n     <use style=\"fill:#dd8452;stroke:#dd8452;\" x=\"131.749663\" xlink:href=\"#mb9d72cfe03\" y=\"166.076482\"/>\r\n     <use style=\"fill:#dd8452;stroke:#dd8452;\" x=\"133.366075\" xlink:href=\"#mb9d72cfe03\" y=\"173.443292\"/>\r\n     <use style=\"fill:#dd8452;stroke:#dd8452;\" x=\"117.201951\" xlink:href=\"#mb9d72cfe03\" y=\"175.162214\"/>\r\n     <use style=\"fill:#dd8452;stroke:#dd8452;\" x=\"146.297374\" xlink:href=\"#mb9d72cfe03\" y=\"169.528771\"/>\r\n     <use style=\"fill:#dd8452;stroke:#dd8452;\" x=\"117.201951\" xlink:href=\"#mb9d72cfe03\" y=\"174.696372\"/>\r\n     <use style=\"fill:#dd8452;stroke:#dd8452;\" x=\"91.339353\" xlink:href=\"#mb9d72cfe03\" y=\"175.026203\"/>\r\n     <use style=\"fill:#dd8452;stroke:#dd8452;\" x=\"136.5989\" xlink:href=\"#mb9d72cfe03\" y=\"174.87332\"/>\r\n     <use style=\"fill:#dd8452;stroke:#dd8452;\" x=\"149.530199\" xlink:href=\"#mb9d72cfe03\" y=\"168.618754\"/>\r\n     <use style=\"fill:#dd8452;stroke:#dd8452;\" x=\"104.270652\" xlink:href=\"#mb9d72cfe03\" y=\"174.87332\"/>\r\n     <use style=\"fill:#dd8452;stroke:#dd8452;\" x=\"89.722941\" xlink:href=\"#mb9d72cfe03\" y=\"175.104435\"/>\r\n     <use style=\"fill:#dd8452;stroke:#dd8452;\" x=\"144.680962\" xlink:href=\"#mb9d72cfe03\" y=\"168.387638\"/>\r\n     <use style=\"fill:#dd8452;stroke:#dd8452;\" x=\"170.54356\" xlink:href=\"#mb9d72cfe03\" y=\"162.897429\"/>\r\n     <use style=\"fill:#dd8452;stroke:#dd8452;\" x=\"89.722941\" xlink:href=\"#mb9d72cfe03\" y=\"174.87332\"/>\r\n     <use style=\"fill:#dd8452;stroke:#dd8452;\" x=\"94.572178\" xlink:href=\"#mb9d72cfe03\" y=\"174.946757\"/>\r\n     <use style=\"fill:#dd8452;stroke:#dd8452;\" x=\"83.257291\" xlink:href=\"#mb9d72cfe03\" y=\"174.696372\"/>\r\n     <use style=\"fill:#dd8452;stroke:#dd8452;\" x=\"101.037827\" xlink:href=\"#mb9d72cfe03\" y=\"170.691572\"/>\r\n     <use style=\"fill:#dd8452;stroke:#dd8452;\" x=\"97.805003\" xlink:href=\"#mb9d72cfe03\" y=\"160.877594\"/>\r\n     <use style=\"fill:#dd8452;stroke:#dd8452;\" x=\"102.65424\" xlink:href=\"#mb9d72cfe03\" y=\"174.959988\"/>\r\n     <use style=\"fill:#dd8452;stroke:#dd8452;\" x=\"113.969127\" xlink:href=\"#mb9d72cfe03\" y=\"169.604606\"/>\r\n     <use style=\"fill:#dd8452;stroke:#dd8452;\" x=\"94.572178\" xlink:href=\"#mb9d72cfe03\" y=\"175.033425\"/>\r\n     <use style=\"fill:#dd8452;stroke:#dd8452;\" x=\"131.749663\" xlink:href=\"#mb9d72cfe03\" y=\"167.370498\"/>\r\n     <use style=\"fill:#dd8452;stroke:#dd8452;\" x=\"107.503477\" xlink:href=\"#mb9d72cfe03\" y=\"174.917867\"/>\r\n     <use style=\"fill:#dd8452;stroke:#dd8452;\" x=\"91.339353\" xlink:href=\"#mb9d72cfe03\" y=\"174.917867\"/>\r\n     <use style=\"fill:#dd8452;stroke:#dd8452;\" x=\"121.242982\" xlink:href=\"#mb9d72cfe03\" y=\"174.959988\"/>\r\n     <use style=\"fill:#dd8452;stroke:#dd8452;\" x=\"118.818364\" xlink:href=\"#mb9d72cfe03\" y=\"174.909431\"/>\r\n     <use style=\"fill:#dd8452;stroke:#dd8452;\" x=\"128.516838\" xlink:href=\"#mb9d72cfe03\" y=\"169.528771\"/>\r\n     <use style=\"fill:#dd8452;stroke:#dd8452;\" x=\"159.228674\" xlink:href=\"#mb9d72cfe03\" y=\"169.687663\"/>\r\n     <use style=\"fill:#dd8452;stroke:#dd8452;\" x=\"99.421415\" xlink:href=\"#mb9d72cfe03\" y=\"169.687663\"/>\r\n     <use style=\"fill:#dd8452;stroke:#dd8452;\" x=\"91.339353\" xlink:href=\"#mb9d72cfe03\" y=\"175.111658\"/>\r\n     <use style=\"fill:#dd8452;stroke:#dd8452;\" x=\"155.995849\" xlink:href=\"#mb9d72cfe03\" y=\"169.528771\"/>\r\n     <use style=\"fill:#dd8452;stroke:#dd8452;\" x=\"120.434776\" xlink:href=\"#mb9d72cfe03\" y=\"174.917867\"/>\r\n     <use style=\"fill:#dd8452;stroke:#dd8452;\" x=\"101.037827\" xlink:href=\"#mb9d72cfe03\" y=\"173.298845\"/>\r\n     <use style=\"fill:#dd8452;stroke:#dd8452;\" x=\"86.490116\" xlink:href=\"#mb9d72cfe03\" y=\"174.917867\"/>\r\n     <use style=\"fill:#dd8452;stroke:#dd8452;\" x=\"107.503477\" xlink:href=\"#mb9d72cfe03\" y=\"174.929885\"/>\r\n     <use style=\"fill:#dd8452;stroke:#dd8452;\" x=\"155.995849\" xlink:href=\"#mb9d72cfe03\" y=\"174.165528\"/>\r\n     <use style=\"fill:#dd8452;stroke:#dd8452;\" x=\"113.969127\" xlink:href=\"#mb9d72cfe03\" y=\"169.575717\"/>\r\n     <use style=\"fill:#dd8452;stroke:#dd8452;\" x=\"81.640879\" xlink:href=\"#mb9d72cfe03\" y=\"174.87332\"/>\r\n     <use style=\"fill:#dd8452;stroke:#dd8452;\" x=\"86.490116\" xlink:href=\"#mb9d72cfe03\" y=\"173.00995\"/>\r\n     <use style=\"fill:#dd8452;stroke:#dd8452;\" x=\"107.503477\" xlink:href=\"#mb9d72cfe03\" y=\"174.909431\"/>\r\n     <use style=\"fill:#dd8452;stroke:#dd8452;\" x=\"143.06455\" xlink:href=\"#mb9d72cfe03\" y=\"169.687663\"/>\r\n     <use style=\"fill:#dd8452;stroke:#dd8452;\" x=\"113.969127\" xlink:href=\"#mb9d72cfe03\" y=\"165.607028\"/>\r\n     <use style=\"fill:#dd8452;stroke:#dd8452;\" x=\"131.749663\" xlink:href=\"#mb9d72cfe03\" y=\"172.865503\"/>\r\n     <use style=\"fill:#dd8452;stroke:#dd8452;\" x=\"91.339353\" xlink:href=\"#mb9d72cfe03\" y=\"174.87332\"/>\r\n     <use style=\"fill:#dd8452;stroke:#dd8452;\" x=\"112.352714\" xlink:href=\"#mb9d72cfe03\" y=\"175.140547\"/>\r\n     <use style=\"fill:#dd8452;stroke:#dd8452;\" x=\"131.749663\" xlink:href=\"#mb9d72cfe03\" y=\"175.104435\"/>\r\n     <use style=\"fill:#dd8452;stroke:#dd8452;\" x=\"134.982488\" xlink:href=\"#mb9d72cfe03\" y=\"177.19892\"/>\r\n     <use style=\"fill:#dd8452;stroke:#dd8452;\" x=\"126.900426\" xlink:href=\"#mb9d72cfe03\" y=\"174.87332\"/>\r\n     <use style=\"fill:#dd8452;stroke:#dd8452;\" x=\"112.352714\" xlink:href=\"#mb9d72cfe03\" y=\"169.528771\"/>\r\n     <use style=\"fill:#dd8452;stroke:#dd8452;\" x=\"104.270652\" xlink:href=\"#mb9d72cfe03\" y=\"174.917867\"/>\r\n     <use style=\"fill:#dd8452;stroke:#dd8452;\" x=\"99.421415\" xlink:href=\"#mb9d72cfe03\" y=\"168.387638\"/>\r\n     <use style=\"fill:#dd8452;stroke:#dd8452;\" x=\"112.352714\" xlink:href=\"#mb9d72cfe03\" y=\"174.87332\"/>\r\n     <use style=\"fill:#dd8452;stroke:#dd8452;\" x=\"97.805003\" xlink:href=\"#mb9d72cfe03\" y=\"174.165528\"/>\r\n     <use style=\"fill:#dd8452;stroke:#dd8452;\" x=\"89.722941\" xlink:href=\"#mb9d72cfe03\" y=\"174.929885\"/>\r\n     <use style=\"fill:#dd8452;stroke:#dd8452;\" x=\"89.722941\" xlink:href=\"#mb9d72cfe03\" y=\"172.547719\"/>\r\n     <use style=\"fill:#dd8452;stroke:#dd8452;\" x=\"154.379436\" xlink:href=\"#mb9d72cfe03\" y=\"167.861619\"/>\r\n     <use style=\"fill:#dd8452;stroke:#dd8452;\" x=\"147.913787\" xlink:href=\"#mb9d72cfe03\" y=\"173.631073\"/>\r\n     <use style=\"fill:#dd8452;stroke:#dd8452;\" x=\"97.805003\" xlink:href=\"#mb9d72cfe03\" y=\"174.917867\"/>\r\n     <use style=\"fill:#dd8452;stroke:#dd8452;\" x=\"185.091272\" xlink:href=\"#mb9d72cfe03\" y=\"168.532085\"/>\r\n     <use style=\"fill:#dd8452;stroke:#dd8452;\" x=\"138.215313\" xlink:href=\"#mb9d72cfe03\" y=\"175.161001\"/>\r\n     <use style=\"fill:#dd8452;stroke:#dd8452;\" x=\"107.503477\" xlink:href=\"#mb9d72cfe03\" y=\"168.387638\"/>\r\n     <use style=\"fill:#dd8452;stroke:#dd8452;\" x=\"107.503477\" xlink:href=\"#mb9d72cfe03\" y=\"174.909431\"/>\r\n     <use style=\"fill:#dd8452;stroke:#dd8452;\" x=\"88.106528\" xlink:href=\"#mb9d72cfe03\" y=\"174.929885\"/>\r\n     <use style=\"fill:#dd8452;stroke:#dd8452;\" x=\"86.490116\" xlink:href=\"#mb9d72cfe03\" y=\"174.917867\"/>\r\n     <use style=\"fill:#dd8452;stroke:#dd8452;\" x=\"146.297374\" xlink:href=\"#mb9d72cfe03\" y=\"166.943166\"/>\r\n     <use style=\"fill:#dd8452;stroke:#dd8452;\" x=\"89.722941\" xlink:href=\"#mb9d72cfe03\" y=\"174.762586\"/>\r\n     <use style=\"fill:#dd8452;stroke:#dd8452;\" x=\"92.955766\" xlink:href=\"#mb9d72cfe03\" y=\"173.443292\"/>\r\n     <use style=\"fill:#dd8452;stroke:#dd8452;\" x=\"120.434776\" xlink:href=\"#mb9d72cfe03\" y=\"175.111658\"/>\r\n     <use style=\"fill:#dd8452;stroke:#dd8452;\" x=\"131.749663\" xlink:href=\"#mb9d72cfe03\" y=\"169.806832\"/>\r\n     <use style=\"fill:#dd8452;stroke:#dd8452;\" x=\"113.969127\" xlink:href=\"#mb9d72cfe03\" y=\"175.033425\"/>\r\n     <use style=\"fill:#dd8452;stroke:#dd8452;\" x=\"96.18859\" xlink:href=\"#mb9d72cfe03\" y=\"173.443292\"/>\r\n     <use style=\"fill:#dd8452;stroke:#dd8452;\" x=\"125.284013\" xlink:href=\"#mb9d72cfe03\" y=\"174.87332\"/>\r\n     <use style=\"fill:#dd8452;stroke:#dd8452;\" x=\"168.927148\" xlink:href=\"#mb9d72cfe03\" y=\"174.165528\"/>\r\n     <use style=\"fill:#dd8452;stroke:#dd8452;\" x=\"105.887065\" xlink:href=\"#mb9d72cfe03\" y=\"173.443292\"/>\r\n     <use style=\"fill:#dd8452;stroke:#dd8452;\" x=\"84.873704\" xlink:href=\"#mb9d72cfe03\" y=\"174.952766\"/>\r\n     <use style=\"fill:#dd8452;stroke:#dd8452;\" x=\"95.380384\" xlink:href=\"#mb9d72cfe03\" y=\"174.87332\"/>\r\n     <use style=\"fill:#dd8452;stroke:#dd8452;\" x=\"99.421415\" xlink:href=\"#mb9d72cfe03\" y=\"155.032276\"/>\r\n     <use style=\"fill:#dd8452;stroke:#dd8452;\" x=\"88.106528\" xlink:href=\"#mb9d72cfe03\" y=\"174.533869\"/>\r\n     <use style=\"fill:#dd8452;stroke:#dd8452;\" x=\"86.490116\" xlink:href=\"#mb9d72cfe03\" y=\"174.260632\"/>\r\n     <use style=\"fill:#dd8452;stroke:#dd8452;\" x=\"84.873704\" xlink:href=\"#mb9d72cfe03\" y=\"174.946757\"/>\r\n     <use style=\"fill:#dd8452;stroke:#dd8452;\" x=\"96.18859\" xlink:href=\"#mb9d72cfe03\" y=\"175.111658\"/>\r\n     <use style=\"fill:#dd8452;stroke:#dd8452;\" x=\"152.763024\" xlink:href=\"#mb9d72cfe03\" y=\"169.528771\"/>\r\n     <use style=\"fill:#dd8452;stroke:#dd8452;\" x=\"139.831725\" xlink:href=\"#mb9d72cfe03\" y=\"173.298845\"/>\r\n     <use style=\"fill:#dd8452;stroke:#dd8452;\" x=\"126.900426\" xlink:href=\"#mb9d72cfe03\" y=\"174.87332\"/>\r\n     <use style=\"fill:#dd8452;stroke:#dd8452;\" x=\"123.667601\" xlink:href=\"#mb9d72cfe03\" y=\"174.988877\"/>\r\n     <use style=\"fill:#dd8452;stroke:#dd8452;\" x=\"112.352714\" xlink:href=\"#mb9d72cfe03\" y=\"169.604606\"/>\r\n     <use style=\"fill:#dd8452;stroke:#dd8452;\" x=\"96.18859\" xlink:href=\"#mb9d72cfe03\" y=\"174.962386\"/>\r\n     <use style=\"fill:#dd8452;stroke:#dd8452;\" x=\"118.818364\" xlink:href=\"#mb9d72cfe03\" y=\"169.687663\"/>\r\n     <use style=\"fill:#dd8452;stroke:#dd8452;\" x=\"123.667601\" xlink:href=\"#mb9d72cfe03\" y=\"169.604606\"/>\r\n     <use style=\"fill:#dd8452;stroke:#dd8452;\" x=\"102.65424\" xlink:href=\"#mb9d72cfe03\" y=\"174.459247\"/>\r\n     <use style=\"fill:#dd8452;stroke:#dd8452;\" x=\"139.831725\" xlink:href=\"#mb9d72cfe03\" y=\"173.443292\"/>\r\n     <use style=\"fill:#dd8452;stroke:#dd8452;\" x=\"86.490116\" xlink:href=\"#mb9d72cfe03\" y=\"174.988877\"/>\r\n     <use style=\"fill:#dd8452;stroke:#dd8452;\" x=\"109.119889\" xlink:href=\"#mb9d72cfe03\" y=\"174.952766\"/>\r\n     <use style=\"fill:#dd8452;stroke:#dd8452;\" x=\"110.736302\" xlink:href=\"#mb9d72cfe03\" y=\"173.443292\"/>\r\n     <use style=\"fill:#dd8452;stroke:#dd8452;\" x=\"136.5989\" xlink:href=\"#mb9d72cfe03\" y=\"173.443292\"/>\r\n     <use style=\"fill:#dd8452;stroke:#dd8452;\" x=\"88.106528\" xlink:href=\"#mb9d72cfe03\" y=\"174.696372\"/>\r\n     <use style=\"fill:#dd8452;stroke:#dd8452;\" x=\"73.558817\" xlink:href=\"#mb9d72cfe03\" y=\"171.771315\"/>\r\n     <use style=\"fill:#dd8452;stroke:#dd8452;\" x=\"92.955766\" xlink:href=\"#mb9d72cfe03\" y=\"173.443292\"/>\r\n     <use style=\"fill:#dd8452;stroke:#dd8452;\" x=\"92.955766\" xlink:href=\"#mb9d72cfe03\" y=\"173.443292\"/>\r\n     <use style=\"fill:#dd8452;stroke:#dd8452;\" x=\"101.846034\" xlink:href=\"#mb9d72cfe03\" y=\"172.547719\"/>\r\n     <use style=\"fill:#dd8452;stroke:#dd8452;\" x=\"112.352714\" xlink:href=\"#mb9d72cfe03\" y=\"29.18983\"/>\r\n     <use style=\"fill:#dd8452;stroke:#dd8452;\" x=\"105.887065\" xlink:href=\"#mb9d72cfe03\" y=\"174.909431\"/>\r\n     <use style=\"fill:#dd8452;stroke:#dd8452;\" x=\"105.887065\" xlink:href=\"#mb9d72cfe03\" y=\"174.959988\"/>\r\n     <use style=\"fill:#dd8452;stroke:#dd8452;\" x=\"109.119889\" xlink:href=\"#mb9d72cfe03\" y=\"174.454423\"/>\r\n     <use style=\"fill:#dd8452;stroke:#dd8452;\" x=\"92.955766\" xlink:href=\"#mb9d72cfe03\" y=\"174.917867\"/>\r\n     <use style=\"fill:#dd8452;stroke:#dd8452;\" x=\"101.037827\" xlink:href=\"#mb9d72cfe03\" y=\"174.946757\"/>\r\n     <use style=\"fill:#dd8452;stroke:#dd8452;\" x=\"84.873704\" xlink:href=\"#mb9d72cfe03\" y=\"173.876634\"/>\r\n     <use style=\"fill:#dd8452;stroke:#dd8452;\" x=\"110.736302\" xlink:href=\"#mb9d72cfe03\" y=\"174.87332\"/>\r\n     <use style=\"fill:#dd8452;stroke:#dd8452;\" x=\"122.051189\" xlink:href=\"#mb9d72cfe03\" y=\"175.140547\"/>\r\n     <use style=\"fill:#dd8452;stroke:#dd8452;\" x=\"88.106528\" xlink:href=\"#mb9d72cfe03\" y=\"175.110444\"/>\r\n     <use style=\"fill:#dd8452;stroke:#dd8452;\" x=\"81.640879\" xlink:href=\"#mb9d72cfe03\" y=\"174.952766\"/>\r\n     <use style=\"fill:#dd8452;stroke:#dd8452;\" x=\"107.503477\" xlink:href=\"#mb9d72cfe03\" y=\"174.78304\"/>\r\n     <use style=\"fill:#dd8452;stroke:#dd8452;\" x=\"94.572178\" xlink:href=\"#mb9d72cfe03\" y=\"174.454423\"/>\r\n     <use style=\"fill:#dd8452;stroke:#dd8452;\" x=\"133.366075\" xlink:href=\"#mb9d72cfe03\" y=\"174.929885\"/>\r\n     <use style=\"fill:#dd8452;stroke:#dd8452;\" x=\"84.873704\" xlink:href=\"#mb9d72cfe03\" y=\"174.959988\"/>\r\n     <use style=\"fill:#dd8452;stroke:#dd8452;\" x=\"102.65424\" xlink:href=\"#mb9d72cfe03\" y=\"168.532085\"/>\r\n     <use style=\"fill:#dd8452;stroke:#dd8452;\" x=\"96.18859\" xlink:href=\"#mb9d72cfe03\" y=\"175.162214\"/>\r\n     <use style=\"fill:#dd8452;stroke:#dd8452;\" x=\"96.18859\" xlink:href=\"#mb9d72cfe03\" y=\"175.104435\"/>\r\n     <use style=\"fill:#dd8452;stroke:#dd8452;\" x=\"130.133251\" xlink:href=\"#mb9d72cfe03\" y=\"154.318476\"/>\r\n     <use style=\"fill:#dd8452;stroke:#dd8452;\" x=\"81.640879\" xlink:href=\"#mb9d72cfe03\" y=\"169.687663\"/>\r\n     <use style=\"fill:#dd8452;stroke:#dd8452;\" x=\"96.18859\" xlink:href=\"#mb9d72cfe03\" y=\"174.917867\"/>\r\n     <use style=\"fill:#dd8452;stroke:#dd8452;\" x=\"118.818364\" xlink:href=\"#mb9d72cfe03\" y=\"173.443292\"/>\r\n     <use style=\"fill:#dd8452;stroke:#dd8452;\" x=\"104.270652\" xlink:href=\"#mb9d72cfe03\" y=\"175.110444\"/>\r\n     <use style=\"fill:#dd8452;stroke:#dd8452;\" x=\"110.736302\" xlink:href=\"#mb9d72cfe03\" y=\"173.443292\"/>\r\n     <use style=\"fill:#dd8452;stroke:#dd8452;\" x=\"99.421415\" xlink:href=\"#mb9d72cfe03\" y=\"175.183881\"/>\r\n     <use style=\"fill:#dd8452;stroke:#dd8452;\" x=\"105.887065\" xlink:href=\"#mb9d72cfe03\" y=\"174.952766\"/>\r\n     <use style=\"fill:#dd8452;stroke:#dd8452;\" x=\"118.818364\" xlink:href=\"#mb9d72cfe03\" y=\"177.19892\"/>\r\n     <use style=\"fill:#dd8452;stroke:#dd8452;\" x=\"118.818364\" xlink:href=\"#mb9d72cfe03\" y=\"173.443292\"/>\r\n     <use style=\"fill:#dd8452;stroke:#dd8452;\" x=\"97.805003\" xlink:href=\"#mb9d72cfe03\" y=\"174.920265\"/>\r\n     <use style=\"fill:#dd8452;stroke:#dd8452;\" x=\"118.818364\" xlink:href=\"#mb9d72cfe03\" y=\"170.222118\"/>\r\n     <use style=\"fill:#dd8452;stroke:#dd8452;\" x=\"112.352714\" xlink:href=\"#mb9d72cfe03\" y=\"174.165528\"/>\r\n     <use style=\"fill:#dd8452;stroke:#dd8452;\" x=\"105.078858\" xlink:href=\"#mb9d72cfe03\" y=\"174.87332\"/>\r\n     <use style=\"fill:#dd8452;stroke:#dd8452;\" x=\"125.284013\" xlink:href=\"#mb9d72cfe03\" y=\"175.335551\"/>\r\n     <use style=\"fill:#dd8452;stroke:#dd8452;\" x=\"99.421415\" xlink:href=\"#mb9d72cfe03\" y=\"174.696372\"/>\r\n     <use style=\"fill:#dd8452;stroke:#dd8452;\" x=\"117.201951\" xlink:href=\"#mb9d72cfe03\" y=\"177.19892\"/>\r\n     <use style=\"fill:#dd8452;stroke:#dd8452;\" x=\"92.955766\" xlink:href=\"#mb9d72cfe03\" y=\"174.929885\"/>\r\n     <use style=\"fill:#dd8452;stroke:#dd8452;\" x=\"84.873704\" xlink:href=\"#mb9d72cfe03\" y=\"174.801096\"/>\r\n     <use style=\"fill:#dd8452;stroke:#dd8452;\" x=\"89.722941\" xlink:href=\"#mb9d72cfe03\" y=\"174.696372\"/>\r\n     <use style=\"fill:#dd8452;stroke:#dd8452;\" x=\"107.503477\" xlink:href=\"#mb9d72cfe03\" y=\"160.877594\"/>\r\n     <use style=\"fill:#dd8452;stroke:#dd8452;\" x=\"88.106528\" xlink:href=\"#mb9d72cfe03\" y=\"174.909431\"/>\r\n     <use style=\"fill:#dd8452;stroke:#dd8452;\" x=\"81.640879\" xlink:href=\"#mb9d72cfe03\" y=\"174.165528\"/>\r\n     <use style=\"fill:#dd8452;stroke:#dd8452;\" x=\"111.544508\" xlink:href=\"#mb9d72cfe03\" y=\"175.339162\"/>\r\n     <use style=\"fill:#dd8452;stroke:#dd8452;\" x=\"83.257291\" xlink:href=\"#mb9d72cfe03\" y=\"174.696372\"/>\r\n     <use style=\"fill:#dd8452;stroke:#dd8452;\" x=\"123.667601\" xlink:href=\"#mb9d72cfe03\" y=\"175.017767\"/>\r\n     <use style=\"fill:#dd8452;stroke:#dd8452;\" x=\"112.352714\" xlink:href=\"#mb9d72cfe03\" y=\"174.917867\"/>\r\n     <use style=\"fill:#dd8452;stroke:#dd8452;\" x=\"175.392798\" xlink:href=\"#mb9d72cfe03\" y=\"174.952766\"/>\r\n     <use style=\"fill:#dd8452;stroke:#dd8452;\" x=\"138.215313\" xlink:href=\"#mb9d72cfe03\" y=\"169.528771\"/>\r\n     <use style=\"fill:#dd8452;stroke:#dd8452;\" x=\"94.572178\" xlink:href=\"#mb9d72cfe03\" y=\"173.443292\"/>\r\n     <use style=\"fill:#dd8452;stroke:#dd8452;\" x=\"105.887065\" xlink:href=\"#mb9d72cfe03\" y=\"162.610961\"/>\r\n     <use style=\"fill:#dd8452;stroke:#dd8452;\" x=\"97.805003\" xlink:href=\"#mb9d72cfe03\" y=\"174.917867\"/>\r\n     <use style=\"fill:#dd8452;stroke:#dd8452;\" x=\"109.119889\" xlink:href=\"#mb9d72cfe03\" y=\"175.754448\"/>\r\n     <use style=\"fill:#dd8452;stroke:#dd8452;\" x=\"131.749663\" xlink:href=\"#mb9d72cfe03\" y=\"174.59887\"/>\r\n     <use style=\"fill:#dd8452;stroke:#dd8452;\" x=\"88.106528\" xlink:href=\"#mb9d72cfe03\" y=\"174.354523\"/>\r\n     <use style=\"fill:#dd8452;stroke:#dd8452;\" x=\"86.490116\" xlink:href=\"#mb9d72cfe03\" y=\"174.917867\"/>\r\n     <use style=\"fill:#dd8452;stroke:#dd8452;\" x=\"109.119889\" xlink:href=\"#mb9d72cfe03\" y=\"174.917867\"/>\r\n     <use style=\"fill:#dd8452;stroke:#dd8452;\" x=\"101.037827\" xlink:href=\"#mb9d72cfe03\" y=\"174.165528\"/>\r\n     <use style=\"fill:#dd8452;stroke:#dd8452;\" x=\"96.18859\" xlink:href=\"#mb9d72cfe03\" y=\"175.162214\"/>\r\n     <use style=\"fill:#dd8452;stroke:#dd8452;\" x=\"99.421415\" xlink:href=\"#mb9d72cfe03\" y=\"173.443292\"/>\r\n     <use style=\"fill:#dd8452;stroke:#dd8452;\" x=\"97.805003\" xlink:href=\"#mb9d72cfe03\" y=\"168.532085\"/>\r\n     <use style=\"fill:#dd8452;stroke:#dd8452;\" x=\"107.503477\" xlink:href=\"#mb9d72cfe03\" y=\"174.959988\"/>\r\n    </g>\r\n   </g>\r\n   <g id=\"patch_3\">\r\n    <path d=\"M 50.025469 184.599375 \r\nL 50.025469 21.789375 \r\n\" style=\"fill:none;stroke:#262626;stroke-linecap:square;stroke-linejoin:miter;stroke-width:1.25;\"/>\r\n   </g>\r\n   <g id=\"patch_4\">\r\n    <path d=\"M 50.025469 184.599375 \r\nL 191.522977 184.599375 \r\n\" style=\"fill:none;stroke:#262626;stroke-linecap:square;stroke-linejoin:miter;stroke-width:1.25;\"/>\r\n   </g>\r\n   <g id=\"text_8\">\r\n    <!-- sex = male -->\r\n    <g style=\"fill:#262626;\" transform=\"translate(91.595473 15.789375)scale(0.12 -0.12)\">\r\n     <defs>\r\n      <path d=\"M 197 991 \r\nL 753 1078 \r\nQ 800 744 1014 566 \r\nQ 1228 388 1613 388 \r\nQ 2000 388 2187 545 \r\nQ 2375 703 2375 916 \r\nQ 2375 1106 2209 1216 \r\nQ 2094 1291 1634 1406 \r\nQ 1016 1563 777 1677 \r\nQ 538 1791 414 1992 \r\nQ 291 2194 291 2438 \r\nQ 291 2659 392 2848 \r\nQ 494 3038 669 3163 \r\nQ 800 3259 1026 3326 \r\nQ 1253 3394 1513 3394 \r\nQ 1903 3394 2198 3281 \r\nQ 2494 3169 2634 2976 \r\nQ 2775 2784 2828 2463 \r\nL 2278 2388 \r\nQ 2241 2644 2061 2787 \r\nQ 1881 2931 1553 2931 \r\nQ 1166 2931 1000 2803 \r\nQ 834 2675 834 2503 \r\nQ 834 2394 903 2306 \r\nQ 972 2216 1119 2156 \r\nQ 1203 2125 1616 2013 \r\nQ 2213 1853 2448 1751 \r\nQ 2684 1650 2818 1456 \r\nQ 2953 1263 2953 975 \r\nQ 2953 694 2789 445 \r\nQ 2625 197 2315 61 \r\nQ 2006 -75 1616 -75 \r\nQ 969 -75 630 194 \r\nQ 291 463 197 991 \r\nz\r\n\" id=\"ArialMT-73\" transform=\"scale(0.015625)\"/>\r\n      <path d=\"M 47 0 \r\nL 1259 1725 \r\nL 138 3319 \r\nL 841 3319 \r\nL 1350 2541 \r\nQ 1494 2319 1581 2169 \r\nQ 1719 2375 1834 2534 \r\nL 2394 3319 \r\nL 3066 3319 \r\nL 1919 1756 \r\nL 3153 0 \r\nL 2463 0 \r\nL 1781 1031 \r\nL 1600 1309 \r\nL 728 0 \r\nL 47 0 \r\nz\r\n\" id=\"ArialMT-78\" transform=\"scale(0.015625)\"/>\r\n      <path id=\"ArialMT-20\" transform=\"scale(0.015625)\"/>\r\n      <path d=\"M 3381 2694 \r\nL 356 2694 \r\nL 356 3219 \r\nL 3381 3219 \r\nL 3381 2694 \r\nz\r\nM 3381 1303 \r\nL 356 1303 \r\nL 356 1828 \r\nL 3381 1828 \r\nL 3381 1303 \r\nz\r\n\" id=\"ArialMT-3d\" transform=\"scale(0.015625)\"/>\r\n      <path d=\"M 422 0 \r\nL 422 3319 \r\nL 925 3319 \r\nL 925 2853 \r\nQ 1081 3097 1340 3245 \r\nQ 1600 3394 1931 3394 \r\nQ 2300 3394 2536 3241 \r\nQ 2772 3088 2869 2813 \r\nQ 3263 3394 3894 3394 \r\nQ 4388 3394 4653 3120 \r\nQ 4919 2847 4919 2278 \r\nL 4919 0 \r\nL 4359 0 \r\nL 4359 2091 \r\nQ 4359 2428 4304 2576 \r\nQ 4250 2725 4106 2815 \r\nQ 3963 2906 3769 2906 \r\nQ 3419 2906 3187 2673 \r\nQ 2956 2441 2956 1928 \r\nL 2956 0 \r\nL 2394 0 \r\nL 2394 2156 \r\nQ 2394 2531 2256 2718 \r\nQ 2119 2906 1806 2906 \r\nQ 1569 2906 1367 2781 \r\nQ 1166 2656 1075 2415 \r\nQ 984 2175 984 1722 \r\nL 984 0 \r\nL 422 0 \r\nz\r\n\" id=\"ArialMT-6d\" transform=\"scale(0.015625)\"/>\r\n      <path d=\"M 409 0 \r\nL 409 4581 \r\nL 972 4581 \r\nL 972 0 \r\nL 409 0 \r\nz\r\n\" id=\"ArialMT-6c\" transform=\"scale(0.015625)\"/>\r\n     </defs>\r\n     <use xlink:href=\"#ArialMT-73\"/>\r\n     <use x=\"50\" xlink:href=\"#ArialMT-65\"/>\r\n     <use x=\"105.615234\" xlink:href=\"#ArialMT-78\"/>\r\n     <use x=\"155.615234\" xlink:href=\"#ArialMT-20\"/>\r\n     <use x=\"183.398438\" xlink:href=\"#ArialMT-3d\"/>\r\n     <use x=\"241.796875\" xlink:href=\"#ArialMT-20\"/>\r\n     <use x=\"269.580078\" xlink:href=\"#ArialMT-6d\"/>\r\n     <use x=\"352.880859\" xlink:href=\"#ArialMT-61\"/>\r\n     <use x=\"408.496094\" xlink:href=\"#ArialMT-6c\"/>\r\n     <use x=\"430.712891\" xlink:href=\"#ArialMT-65\"/>\r\n    </g>\r\n   </g>\r\n  </g>\r\n  <g id=\"axes_2\">\r\n   <g id=\"patch_5\">\r\n    <path d=\"M 50.025469 380.369375 \r\nL 191.522977 380.369375 \r\nL 191.522977 217.559375 \r\nL 50.025469 217.559375 \r\nz\r\n\" style=\"fill:#ffffff;\"/>\r\n   </g>\r\n   <g id=\"matplotlib.axis_3\">\r\n    <g id=\"xtick_5\">\r\n     <g id=\"line2d_11\">\r\n      <g>\r\n       <use style=\"fill:#262626;stroke:#262626;stroke-width:1.25;\" x=\"55.77828\" xlink:href=\"#mdf070368e5\" y=\"380.369375\"/>\r\n      </g>\r\n     </g>\r\n     <g id=\"text_9\">\r\n      <!-- 0 -->\r\n      <g style=\"fill:#262626;\" transform=\"translate(52.719765 397.742969)scale(0.11 -0.11)\">\r\n       <use xlink:href=\"#ArialMT-30\"/>\r\n      </g>\r\n     </g>\r\n    </g>\r\n    <g id=\"xtick_6\">\r\n     <g id=\"line2d_12\">\r\n      <g>\r\n       <use style=\"fill:#262626;stroke:#262626;stroke-width:1.25;\" x=\"96.18859\" xlink:href=\"#mdf070368e5\" y=\"380.369375\"/>\r\n      </g>\r\n     </g>\r\n     <g id=\"text_10\">\r\n      <!-- 25 -->\r\n      <g style=\"fill:#262626;\" transform=\"translate(90.071559 397.742969)scale(0.11 -0.11)\">\r\n       <use xlink:href=\"#ArialMT-32\"/>\r\n       <use x=\"55.615234\" xlink:href=\"#ArialMT-35\"/>\r\n      </g>\r\n     </g>\r\n    </g>\r\n    <g id=\"xtick_7\">\r\n     <g id=\"line2d_13\">\r\n      <g>\r\n       <use style=\"fill:#262626;stroke:#262626;stroke-width:1.25;\" x=\"136.5989\" xlink:href=\"#mdf070368e5\" y=\"380.369375\"/>\r\n      </g>\r\n     </g>\r\n     <g id=\"text_11\">\r\n      <!-- 50 -->\r\n      <g style=\"fill:#262626;\" transform=\"translate(130.481869 397.742969)scale(0.11 -0.11)\">\r\n       <use xlink:href=\"#ArialMT-35\"/>\r\n       <use x=\"55.615234\" xlink:href=\"#ArialMT-30\"/>\r\n      </g>\r\n     </g>\r\n    </g>\r\n    <g id=\"xtick_8\">\r\n     <g id=\"line2d_14\">\r\n      <g>\r\n       <use style=\"fill:#262626;stroke:#262626;stroke-width:1.25;\" x=\"177.00921\" xlink:href=\"#mdf070368e5\" y=\"380.369375\"/>\r\n      </g>\r\n     </g>\r\n     <g id=\"text_12\">\r\n      <!-- 75 -->\r\n      <g style=\"fill:#262626;\" transform=\"translate(170.892179 397.742969)scale(0.11 -0.11)\">\r\n       <defs>\r\n        <path d=\"M 303 3981 \r\nL 303 4522 \r\nL 3269 4522 \r\nL 3269 4084 \r\nQ 2831 3619 2401 2847 \r\nQ 1972 2075 1738 1259 \r\nQ 1569 684 1522 0 \r\nL 944 0 \r\nQ 953 541 1156 1306 \r\nQ 1359 2072 1739 2783 \r\nQ 2119 3494 2547 3981 \r\nL 303 3981 \r\nz\r\n\" id=\"ArialMT-37\" transform=\"scale(0.015625)\"/>\r\n       </defs>\r\n       <use xlink:href=\"#ArialMT-37\"/>\r\n       <use x=\"55.615234\" xlink:href=\"#ArialMT-35\"/>\r\n      </g>\r\n     </g>\r\n    </g>\r\n    <g id=\"text_13\">\r\n     <!-- age -->\r\n     <g style=\"fill:#262626;\" transform=\"translate(110.764535 412.377969)scale(0.12 -0.12)\">\r\n      <defs>\r\n       <path d=\"M 319 -275 \r\nL 866 -356 \r\nQ 900 -609 1056 -725 \r\nQ 1266 -881 1628 -881 \r\nQ 2019 -881 2231 -725 \r\nQ 2444 -569 2519 -288 \r\nQ 2563 -116 2559 434 \r\nQ 2191 0 1641 0 \r\nQ 956 0 581 494 \r\nQ 206 988 206 1678 \r\nQ 206 2153 378 2554 \r\nQ 550 2956 876 3175 \r\nQ 1203 3394 1644 3394 \r\nQ 2231 3394 2613 2919 \r\nL 2613 3319 \r\nL 3131 3319 \r\nL 3131 450 \r\nQ 3131 -325 2973 -648 \r\nQ 2816 -972 2473 -1159 \r\nQ 2131 -1347 1631 -1347 \r\nQ 1038 -1347 672 -1080 \r\nQ 306 -813 319 -275 \r\nz\r\nM 784 1719 \r\nQ 784 1066 1043 766 \r\nQ 1303 466 1694 466 \r\nQ 2081 466 2343 764 \r\nQ 2606 1063 2606 1700 \r\nQ 2606 2309 2336 2618 \r\nQ 2066 2928 1684 2928 \r\nQ 1309 2928 1046 2623 \r\nQ 784 2319 784 1719 \r\nz\r\n\" id=\"ArialMT-67\" transform=\"scale(0.015625)\"/>\r\n      </defs>\r\n      <use xlink:href=\"#ArialMT-61\"/>\r\n      <use x=\"55.615234\" xlink:href=\"#ArialMT-67\"/>\r\n      <use x=\"111.230469\" xlink:href=\"#ArialMT-65\"/>\r\n     </g>\r\n    </g>\r\n   </g>\r\n   <g id=\"matplotlib.axis_4\">\r\n    <g id=\"ytick_7\">\r\n     <g id=\"line2d_15\">\r\n      <g>\r\n       <use style=\"fill:#262626;stroke:#262626;stroke-width:1.25;\" x=\"50.025469\" xlink:href=\"#m804d60cada\" y=\"372.96892\"/>\r\n      </g>\r\n     </g>\r\n     <g id=\"text_14\">\r\n      <!-- 0 -->\r\n      <g style=\"fill:#262626;\" transform=\"translate(34.408438 376.905717)scale(0.11 -0.11)\">\r\n       <use xlink:href=\"#ArialMT-30\"/>\r\n      </g>\r\n     </g>\r\n    </g>\r\n    <g id=\"ytick_8\">\r\n     <g id=\"line2d_16\">\r\n      <g>\r\n       <use style=\"fill:#262626;stroke:#262626;stroke-width:1.25;\" x=\"50.025469\" xlink:href=\"#m804d60cada\" y=\"344.07947\"/>\r\n      </g>\r\n     </g>\r\n     <g id=\"text_15\">\r\n      <!-- 100 -->\r\n      <g style=\"fill:#262626;\" transform=\"translate(22.174375 348.016267)scale(0.11 -0.11)\">\r\n       <use xlink:href=\"#ArialMT-31\"/>\r\n       <use x=\"55.615234\" xlink:href=\"#ArialMT-30\"/>\r\n       <use x=\"111.230469\" xlink:href=\"#ArialMT-30\"/>\r\n      </g>\r\n     </g>\r\n    </g>\r\n    <g id=\"ytick_9\">\r\n     <g id=\"line2d_17\">\r\n      <g>\r\n       <use style=\"fill:#262626;stroke:#262626;stroke-width:1.25;\" x=\"50.025469\" xlink:href=\"#m804d60cada\" y=\"315.190019\"/>\r\n      </g>\r\n     </g>\r\n     <g id=\"text_16\">\r\n      <!-- 200 -->\r\n      <g style=\"fill:#262626;\" transform=\"translate(22.174375 319.126816)scale(0.11 -0.11)\">\r\n       <use xlink:href=\"#ArialMT-32\"/>\r\n       <use x=\"55.615234\" xlink:href=\"#ArialMT-30\"/>\r\n       <use x=\"111.230469\" xlink:href=\"#ArialMT-30\"/>\r\n      </g>\r\n     </g>\r\n    </g>\r\n    <g id=\"ytick_10\">\r\n     <g id=\"line2d_18\">\r\n      <g>\r\n       <use style=\"fill:#262626;stroke:#262626;stroke-width:1.25;\" x=\"50.025469\" xlink:href=\"#m804d60cada\" y=\"286.300569\"/>\r\n      </g>\r\n     </g>\r\n     <g id=\"text_17\">\r\n      <!-- 300 -->\r\n      <g style=\"fill:#262626;\" transform=\"translate(22.174375 290.237366)scale(0.11 -0.11)\">\r\n       <use xlink:href=\"#ArialMT-33\"/>\r\n       <use x=\"55.615234\" xlink:href=\"#ArialMT-30\"/>\r\n       <use x=\"111.230469\" xlink:href=\"#ArialMT-30\"/>\r\n      </g>\r\n     </g>\r\n    </g>\r\n    <g id=\"ytick_11\">\r\n     <g id=\"line2d_19\">\r\n      <g>\r\n       <use style=\"fill:#262626;stroke:#262626;stroke-width:1.25;\" x=\"50.025469\" xlink:href=\"#m804d60cada\" y=\"257.411118\"/>\r\n      </g>\r\n     </g>\r\n     <g id=\"text_18\">\r\n      <!-- 400 -->\r\n      <g style=\"fill:#262626;\" transform=\"translate(22.174375 261.347915)scale(0.11 -0.11)\">\r\n       <use xlink:href=\"#ArialMT-34\"/>\r\n       <use x=\"55.615234\" xlink:href=\"#ArialMT-30\"/>\r\n       <use x=\"111.230469\" xlink:href=\"#ArialMT-30\"/>\r\n      </g>\r\n     </g>\r\n    </g>\r\n    <g id=\"ytick_12\">\r\n     <g id=\"line2d_20\">\r\n      <g>\r\n       <use style=\"fill:#262626;stroke:#262626;stroke-width:1.25;\" x=\"50.025469\" xlink:href=\"#m804d60cada\" y=\"228.521668\"/>\r\n      </g>\r\n     </g>\r\n     <g id=\"text_19\">\r\n      <!-- 500 -->\r\n      <g style=\"fill:#262626;\" transform=\"translate(22.174375 232.458465)scale(0.11 -0.11)\">\r\n       <use xlink:href=\"#ArialMT-35\"/>\r\n       <use x=\"55.615234\" xlink:href=\"#ArialMT-30\"/>\r\n       <use x=\"111.230469\" xlink:href=\"#ArialMT-30\"/>\r\n      </g>\r\n     </g>\r\n    </g>\r\n    <g id=\"text_20\">\r\n     <!-- fare -->\r\n     <g style=\"fill:#262626;\" transform=\"translate(15.789375 309.302187)rotate(-90)scale(0.12 -0.12)\">\r\n      <use xlink:href=\"#ArialMT-66\"/>\r\n      <use x=\"27.783203\" xlink:href=\"#ArialMT-61\"/>\r\n      <use x=\"83.398438\" xlink:href=\"#ArialMT-72\"/>\r\n      <use x=\"116.699219\" xlink:href=\"#ArialMT-65\"/>\r\n     </g>\r\n    </g>\r\n   </g>\r\n   <g id=\"PathCollection_3\">\r\n    <g clip-path=\"url(#p181d684778)\">\r\n     <use style=\"fill:#4c72b0;stroke:#4c72b0;\" x=\"117.201951\" xlink:href=\"#mf2c7982576\" y=\"352.375567\"/>\r\n     <use style=\"fill:#4c72b0;stroke:#4c72b0;\" x=\"112.352714\" xlink:href=\"#mf2c7982576\" y=\"357.628622\"/>\r\n     <use style=\"fill:#4c72b0;stroke:#4c72b0;\" x=\"99.421415\" xlink:href=\"#mf2c7982576\" y=\"369.752571\"/>\r\n     <use style=\"fill:#4c72b0;stroke:#4c72b0;\" x=\"78.408054\" xlink:href=\"#mf2c7982576\" y=\"364.281632\"/>\r\n     <use style=\"fill:#4c72b0;stroke:#4c72b0;\" x=\"62.24393\" xlink:href=\"#mf2c7982576\" y=\"368.144382\"/>\r\n     <use style=\"fill:#4c72b0;stroke:#4c72b0;\" x=\"105.887065\" xlink:href=\"#mf2c7982576\" y=\"367.768819\"/>\r\n     <use style=\"fill:#4c72b0;stroke:#4c72b0;\" x=\"68.70958\" xlink:href=\"#mf2c7982576\" y=\"366.880469\"/>\r\n     <use style=\"fill:#4c72b0;stroke:#4c72b0;\" x=\"117.201951\" xlink:href=\"#mf2c7982576\" y=\"363.901244\"/>\r\n     <use style=\"fill:#4c72b0;stroke:#4c72b0;\" x=\"84.873704\" xlink:href=\"#mf2c7982576\" y=\"367.768819\"/>\r\n     <use style=\"fill:#4c72b0;stroke:#4c72b0;\" x=\"78.408054\" xlink:href=\"#mf2c7982576\" y=\"369.721255\"/>\r\n     <use style=\"fill:#4c72b0;stroke:#4c72b0;\" x=\"120.434776\" xlink:href=\"#mf2c7982576\" y=\"370.231645\"/>\r\n     <use style=\"fill:#4c72b0;stroke:#4c72b0;\" x=\"99.421415\" xlink:href=\"#mf2c7982576\" y=\"366.902136\"/>\r\n     <use style=\"fill:#4c72b0;stroke:#4c72b0;\" x=\"60.627518\" xlink:href=\"#mf2c7982576\" y=\"360.956918\"/>\r\n     <use style=\"fill:#4c72b0;stroke:#4c72b0;\" x=\"84.873704\" xlink:href=\"#mf2c7982576\" y=\"367.826598\"/>\r\n     <use style=\"fill:#4c72b0;stroke:#4c72b0;\" x=\"134.982488\" xlink:href=\"#mf2c7982576\" y=\"350.802276\"/>\r\n     <use style=\"fill:#4c72b0;stroke:#4c72b0;\" x=\"102.65424\" xlink:href=\"#mf2c7982576\" y=\"365.457663\"/>\r\n     <use style=\"fill:#4c72b0;stroke:#4c72b0;\" x=\"63.860342\" xlink:href=\"#mf2c7982576\" y=\"364.952098\"/>\r\n     <use style=\"fill:#4c72b0;stroke:#4c72b0;\" x=\"83.257291\" xlink:href=\"#mf2c7982576\" y=\"370.679431\"/>\r\n     <use style=\"fill:#4c72b0;stroke:#4c72b0;\" x=\"81.640879\" xlink:href=\"#mf2c7982576\" y=\"359.419768\"/>\r\n     <use style=\"fill:#4c72b0;stroke:#4c72b0;\" x=\"109.119889\" xlink:href=\"#mf2c7982576\" y=\"368.389943\"/>\r\n     <use style=\"fill:#4c72b0;stroke:#4c72b0;\" x=\"92.955766\" xlink:href=\"#mf2c7982576\" y=\"296.989665\"/>\r\n     <use style=\"fill:#4c72b0;stroke:#4c72b0;\" x=\"110.736302\" xlink:href=\"#mf2c7982576\" y=\"366.324347\"/>\r\n     <use style=\"fill:#4c72b0;stroke:#4c72b0;\" x=\"79.21626\" xlink:href=\"#mf2c7982576\" y=\"368.793181\"/>\r\n     <use style=\"fill:#4c72b0;stroke:#4c72b0;\" x=\"88.106528\" xlink:href=\"#mf2c7982576\" y=\"370.130532\"/>\r\n     <use style=\"fill:#4c72b0;stroke:#4c72b0;\" x=\"59.011105\" xlink:href=\"#mf2c7982576\" y=\"363.933745\"/>\r\n     <use style=\"fill:#4c72b0;stroke:#4c72b0;\" x=\"131.749663\" xlink:href=\"#mf2c7982576\" y=\"368.77995\"/>\r\n     <use style=\"fill:#4c72b0;stroke:#4c72b0;\" x=\"102.65424\" xlink:href=\"#mf2c7982576\" y=\"365.457663\"/>\r\n     <use style=\"fill:#4c72b0;stroke:#4c72b0;\" x=\"86.490116\" xlink:href=\"#mf2c7982576\" y=\"365.375819\"/>\r\n     <use style=\"fill:#4c72b0;stroke:#4c72b0;\" x=\"94.572178\" xlink:href=\"#mf2c7982576\" y=\"368.389943\"/>\r\n     <use style=\"fill:#4c72b0;stroke:#4c72b0;\" x=\"70.325992\" xlink:href=\"#mf2c7982576\" y=\"363.038172\"/>\r\n     <use style=\"fill:#4c72b0;stroke:#4c72b0;\" x=\"91.339353\" xlink:href=\"#mf2c7982576\" y=\"353.728546\"/>\r\n     <use style=\"fill:#4c72b0;stroke:#4c72b0;\" x=\"128.516838\" xlink:href=\"#mf2c7982576\" y=\"364.908764\"/>\r\n     <use style=\"fill:#4c72b0;stroke:#4c72b0;\" x=\"57.394693\" xlink:href=\"#mf2c7982576\" y=\"369.752571\"/>\r\n     <use style=\"fill:#4c72b0;stroke:#4c72b0;\" x=\"62.24393\" xlink:href=\"#mf2c7982576\" y=\"366.606019\"/>\r\n     <use style=\"fill:#4c72b0;stroke:#4c72b0;\" x=\"86.490116\" xlink:href=\"#mf2c7982576\" y=\"370.699885\"/>\r\n     <use style=\"fill:#4c72b0;stroke:#4c72b0;\" x=\"59.011105\" xlink:href=\"#mf2c7982576\" y=\"369.946362\"/>\r\n     <use style=\"fill:#4c72b0;stroke:#4c72b0;\" x=\"105.887065\" xlink:href=\"#mf2c7982576\" y=\"340.244395\"/>\r\n     <use style=\"fill:#4c72b0;stroke:#4c72b0;\" x=\"112.352714\" xlink:href=\"#mf2c7982576\" y=\"348.853452\"/>\r\n     <use style=\"fill:#4c72b0;stroke:#4c72b0;\" x=\"63.860342\" xlink:href=\"#mf2c7982576\" y=\"363.901244\"/>\r\n     <use style=\"fill:#4c72b0;stroke:#4c72b0;\" x=\"68.70958\" xlink:href=\"#mf2c7982576\" y=\"365.38544\"/>\r\n     <use style=\"fill:#4c72b0;stroke:#4c72b0;\" x=\"94.572178\" xlink:href=\"#mf2c7982576\" y=\"368.77995\"/>\r\n     <use style=\"fill:#4c72b0;stroke:#4c72b0;\" x=\"102.65424\" xlink:href=\"#mf2c7982576\" y=\"369.946362\"/>\r\n     <use style=\"fill:#4c72b0;stroke:#4c72b0;\" x=\"122.051189\" xlink:href=\"#mf2c7982576\" y=\"367.12964\"/>\r\n     <use style=\"fill:#4c72b0;stroke:#4c72b0;\" x=\"102.65424\" xlink:href=\"#mf2c7982576\" y=\"368.564493\"/>\r\n     <use style=\"fill:#4c72b0;stroke:#4c72b0;\" x=\"136.5989\" xlink:href=\"#mf2c7982576\" y=\"365.457663\"/>\r\n     <use style=\"fill:#4c72b0;stroke:#4c72b0;\" x=\"149.530199\" xlink:href=\"#mf2c7982576\" y=\"328.634447\"/>\r\n     <use style=\"fill:#4c72b0;stroke:#4c72b0;\" x=\"122.051189\" xlink:href=\"#mf2c7982576\" y=\"367.335478\"/>\r\n     <use style=\"fill:#4c72b0;stroke:#4c72b0;\" x=\"157.612261\" xlink:href=\"#mf2c7982576\" y=\"350.447196\"/>\r\n     <use style=\"fill:#4c72b0;stroke:#4c72b0;\" x=\"112.352714\" xlink:href=\"#mf2c7982576\" y=\"367.118807\"/>\r\n     <use style=\"fill:#4c72b0;stroke:#4c72b0;\" x=\"86.490116\" xlink:href=\"#mf2c7982576\" y=\"346.65664\"/>\r\n     <use style=\"fill:#4c72b0;stroke:#4c72b0;\" x=\"59.011105\" xlink:href=\"#mf2c7982576\" y=\"329.186958\"/>\r\n     <use style=\"fill:#4c72b0;stroke:#4c72b0;\" x=\"136.5989\" xlink:href=\"#mf2c7982576\" y=\"301.461521\"/>\r\n     <use style=\"fill:#4c72b0;stroke:#4c72b0;\" x=\"83.257291\" xlink:href=\"#mf2c7982576\" y=\"341.508309\"/>\r\n     <use style=\"fill:#4c72b0;stroke:#4c72b0;\" x=\"84.873704\" xlink:href=\"#mf2c7982576\" y=\"297.170225\"/>\r\n     <use style=\"fill:#4c72b0;stroke:#4c72b0;\" x=\"97.805003\" xlink:href=\"#mf2c7982576\" y=\"365.457663\"/>\r\n     <use style=\"fill:#4c72b0;stroke:#4c72b0;\" x=\"94.572178\" xlink:href=\"#mf2c7982576\" y=\"365.457663\"/>\r\n     <use style=\"fill:#4c72b0;stroke:#4c72b0;\" x=\"105.887065\" xlink:href=\"#mf2c7982576\" y=\"325.339837\"/>\r\n     <use style=\"fill:#4c72b0;stroke:#4c72b0;\" x=\"120.434776\" xlink:href=\"#mf2c7982576\" y=\"334.112609\"/>\r\n     <use style=\"fill:#4c72b0;stroke:#4c72b0;\" x=\"91.339353\" xlink:href=\"#mf2c7982576\" y=\"364.59098\"/>\r\n     <use style=\"fill:#4c72b0;stroke:#4c72b0;\" x=\"105.887065\" xlink:href=\"#mf2c7982576\" y=\"367.039361\"/>\r\n     <use style=\"fill:#4c72b0;stroke:#4c72b0;\" x=\"81.640879\" xlink:href=\"#mf2c7982576\" y=\"356.219048\"/>\r\n     <use style=\"fill:#4c72b0;stroke:#4c72b0;\" x=\"94.572178\" xlink:href=\"#mf2c7982576\" y=\"296.989665\"/>\r\n     <use style=\"fill:#4c72b0;stroke:#4c72b0;\" x=\"91.339353\" xlink:href=\"#mf2c7982576\" y=\"357.079723\"/>\r\n     <use style=\"fill:#4c72b0;stroke:#4c72b0;\" x=\"128.516838\" xlink:href=\"#mf2c7982576\" y=\"368.793181\"/>\r\n     <use style=\"fill:#4c72b0;stroke:#4c72b0;\" x=\"152.763024\" xlink:href=\"#mf2c7982576\" y=\"351.229609\"/>\r\n     <use style=\"fill:#4c72b0;stroke:#4c72b0;\" x=\"60.627518\" xlink:href=\"#mf2c7982576\" y=\"366.880469\"/>\r\n     <use style=\"fill:#4c72b0;stroke:#4c72b0;\" x=\"57.394693\" xlink:href=\"#mf2c7982576\" y=\"368.42123\"/>\r\n     <use style=\"fill:#4c72b0;stroke:#4c72b0;\" x=\"112.352714\" xlink:href=\"#mf2c7982576\" y=\"357.946406\"/>\r\n     <use style=\"fill:#4c72b0;stroke:#4c72b0;\" x=\"92.955766\" xlink:href=\"#mf2c7982576\" y=\"340.244395\"/>\r\n     <use style=\"fill:#4c72b0;stroke:#4c72b0;\" x=\"94.572178\" xlink:href=\"#mf2c7982576\" y=\"368.144382\"/>\r\n     <use style=\"fill:#4c72b0;stroke:#4c72b0;\" x=\"89.722941\" xlink:href=\"#mf2c7982576\" y=\"370.130532\"/>\r\n     <use style=\"fill:#4c72b0;stroke:#4c72b0;\" x=\"109.119889\" xlink:href=\"#mf2c7982576\" y=\"346.968415\"/>\r\n     <use style=\"fill:#4c72b0;stroke:#4c72b0;\" x=\"110.736302\" xlink:href=\"#mf2c7982576\" y=\"363.579849\"/>\r\n     <use style=\"fill:#4c72b0;stroke:#4c72b0;\" x=\"84.873704\" xlink:href=\"#mf2c7982576\" y=\"369.213292\"/>\r\n     <use style=\"fill:#4c72b0;stroke:#4c72b0;\" x=\"71.942404\" xlink:href=\"#mf2c7982576\" y=\"365.992118\"/>\r\n     <use style=\"fill:#4c72b0;stroke:#4c72b0;\" x=\"101.037827\" xlink:href=\"#mf2c7982576\" y=\"368.80884\"/>\r\n     <use style=\"fill:#4c72b0;stroke:#4c72b0;\" x=\"101.037827\" xlink:href=\"#mf2c7982576\" y=\"365.457663\"/>\r\n     <use style=\"fill:#4c72b0;stroke:#4c72b0;\" x=\"123.667601\" xlink:href=\"#mf2c7982576\" y=\"365.457663\"/>\r\n     <use style=\"fill:#4c72b0;stroke:#4c72b0;\" x=\"78.408054\" xlink:href=\"#mf2c7982576\" y=\"338.30158\"/>\r\n     <use style=\"fill:#4c72b0;stroke:#4c72b0;\" x=\"89.722941\" xlink:href=\"#mf2c7982576\" y=\"363.038172\"/>\r\n     <use style=\"fill:#4c72b0;stroke:#4c72b0;\" x=\"94.572178\" xlink:href=\"#mf2c7982576\" y=\"367.552148\"/>\r\n     <use style=\"fill:#4c72b0;stroke:#4c72b0;\" x=\"128.516838\" xlink:href=\"#mf2c7982576\" y=\"365.38544\"/>\r\n     <use style=\"fill:#4c72b0;stroke:#4c72b0;\" x=\"76.791642\" xlink:href=\"#mf2c7982576\" y=\"367.335478\"/>\r\n     <use style=\"fill:#4c72b0;stroke:#4c72b0;\" x=\"63.860342\" xlink:href=\"#mf2c7982576\" y=\"367.405303\"/>\r\n     <use style=\"fill:#4c72b0;stroke:#4c72b0;\" x=\"56.99059\" xlink:href=\"#mf2c7982576\" y=\"367.405303\"/>\r\n     <use style=\"fill:#4c72b0;stroke:#4c72b0;\" x=\"109.119889\" xlink:href=\"#mf2c7982576\" y=\"364.952098\"/>\r\n     <use style=\"fill:#4c72b0;stroke:#4c72b0;\" x=\"59.011105\" xlink:href=\"#mf2c7982576\" y=\"369.419129\"/>\r\n     <use style=\"fill:#4c72b0;stroke:#4c72b0;\" x=\"112.352714\" xlink:href=\"#mf2c7982576\" y=\"346.968415\"/>\r\n     <use style=\"fill:#4c72b0;stroke:#4c72b0;\" x=\"143.06455\" xlink:href=\"#mf2c7982576\" y=\"350.358101\"/>\r\n     <use style=\"fill:#4c72b0;stroke:#4c72b0;\" x=\"96.18859\" xlink:href=\"#mf2c7982576\" y=\"329.186958\"/>\r\n     <use style=\"fill:#4c72b0;stroke:#4c72b0;\" x=\"109.119889\" xlink:href=\"#mf2c7982576\" y=\"365.457663\"/>\r\n     <use style=\"fill:#4c72b0;stroke:#4c72b0;\" x=\"143.06455\" xlink:href=\"#mf2c7982576\" y=\"355.808587\"/>\r\n     <use style=\"fill:#4c72b0;stroke:#4c72b0;\" x=\"113.969127\" xlink:href=\"#mf2c7982576\" y=\"365.457663\"/>\r\n     <use style=\"fill:#4c72b0;stroke:#4c72b0;\" x=\"126.900426\" xlink:href=\"#mf2c7982576\" y=\"356.219048\"/>\r\n     <use style=\"fill:#4c72b0;stroke:#4c72b0;\" x=\"59.011105\" xlink:href=\"#mf2c7982576\" y=\"365.457663\"/>\r\n     <use style=\"fill:#4c72b0;stroke:#4c72b0;\" x=\"67.093167\" xlink:href=\"#mf2c7982576\" y=\"365.38544\"/>\r\n     <use style=\"fill:#4c72b0;stroke:#4c72b0;\" x=\"91.339353\" xlink:href=\"#mf2c7982576\" y=\"358.668642\"/>\r\n     <use style=\"fill:#4c72b0;stroke:#4c72b0;\" x=\"113.969127\" xlink:href=\"#mf2c7982576\" y=\"352.457411\"/>\r\n     <use style=\"fill:#4c72b0;stroke:#4c72b0;\" x=\"70.325992\" xlink:href=\"#mf2c7982576\" y=\"363.933745\"/>\r\n     <use style=\"fill:#4c72b0;stroke:#4c72b0;\" x=\"73.558817\" xlink:href=\"#mf2c7982576\" y=\"363.933745\"/>\r\n     <use style=\"fill:#4c72b0;stroke:#4c72b0;\" x=\"86.490116\" xlink:href=\"#mf2c7982576\" y=\"365.457663\"/>\r\n     <use style=\"fill:#4c72b0;stroke:#4c72b0;\" x=\"133.366075\" xlink:href=\"#mf2c7982576\" y=\"361.528698\"/>\r\n     <use style=\"fill:#4c72b0;stroke:#4c72b0;\" x=\"118.818364\" xlink:href=\"#mf2c7982576\" y=\"349.958473\"/>\r\n     <use style=\"fill:#4c72b0;stroke:#4c72b0;\" x=\"113.969127\" xlink:href=\"#mf2c7982576\" y=\"367.942156\"/>\r\n     <use style=\"fill:#4c72b0;stroke:#4c72b0;\" x=\"102.65424\" xlink:href=\"#mf2c7982576\" y=\"366.880469\"/>\r\n     <use style=\"fill:#4c72b0;stroke:#4c72b0;\" x=\"141.448137\" xlink:href=\"#mf2c7982576\" y=\"358.096862\"/>\r\n     <use style=\"fill:#4c72b0;stroke:#4c72b0;\" x=\"118.818364\" xlink:href=\"#mf2c7982576\" y=\"356.819718\"/>\r\n     <use style=\"fill:#4c72b0;stroke:#4c72b0;\" x=\"96.18859\" xlink:href=\"#mf2c7982576\" y=\"364.302085\"/>\r\n     <use style=\"fill:#4c72b0;stroke:#4c72b0;\" x=\"118.818364\" xlink:href=\"#mf2c7982576\" y=\"340.935344\"/>\r\n     <use style=\"fill:#4c72b0;stroke:#4c72b0;\" x=\"84.873704\" xlink:href=\"#mf2c7982576\" y=\"349.958473\"/>\r\n     <use style=\"fill:#4c72b0;stroke:#4c72b0;\" x=\"139.831725\" xlink:href=\"#mf2c7982576\" y=\"350.358101\"/>\r\n     <use style=\"fill:#4c72b0;stroke:#4c72b0;\" x=\"94.572178\" xlink:href=\"#mf2c7982576\" y=\"365.168769\"/>\r\n     <use style=\"fill:#4c72b0;stroke:#4c72b0;\" x=\"91.339353\" xlink:href=\"#mf2c7982576\" y=\"360.956918\"/>\r\n     <use style=\"fill:#4c72b0;stroke:#4c72b0;\" x=\"118.818364\" xlink:href=\"#mf2c7982576\" y=\"363.933745\"/>\r\n     <use style=\"fill:#4c72b0;stroke:#4c72b0;\" x=\"94.572178\" xlink:href=\"#mf2c7982576\" y=\"354.190778\"/>\r\n     <use style=\"fill:#4c72b0;stroke:#4c72b0;\" x=\"97.805003\" xlink:href=\"#mf2c7982576\" y=\"368.317719\"/>\r\n     <use style=\"fill:#4c72b0;stroke:#4c72b0;\" x=\"62.24393\" xlink:href=\"#mf2c7982576\" y=\"361.702035\"/>\r\n     <use style=\"fill:#4c72b0;stroke:#4c72b0;\" x=\"70.325992\" xlink:href=\"#mf2c7982576\" y=\"364.908764\"/>\r\n     <use style=\"fill:#4c72b0;stroke:#4c72b0;\" x=\"122.051189\" xlink:href=\"#mf2c7982576\" y=\"361.50342\"/>\r\n     <use style=\"fill:#4c72b0;stroke:#4c72b0;\" x=\"59.011105\" xlink:href=\"#mf2c7982576\" y=\"364.908764\"/>\r\n     <use style=\"fill:#4c72b0;stroke:#4c72b0;\" x=\"56.99059\" xlink:href=\"#mf2c7982576\" y=\"367.405303\"/>\r\n     <use style=\"fill:#4c72b0;stroke:#4c72b0;\" x=\"84.873704\" xlink:href=\"#mf2c7982576\" y=\"366.324347\"/>\r\n     <use style=\"fill:#4c72b0;stroke:#4c72b0;\" x=\"107.503477\" xlink:href=\"#mf2c7982576\" y=\"368.491056\"/>\r\n     <use style=\"fill:#4c72b0;stroke:#4c72b0;\" x=\"120.434776\" xlink:href=\"#mf2c7982576\" y=\"361.702035\"/>\r\n     <use style=\"fill:#4c72b0;stroke:#4c72b0;\" x=\"125.284013\" xlink:href=\"#mf2c7982576\" y=\"359.419768\"/>\r\n     <use style=\"fill:#4c72b0;stroke:#4c72b0;\" x=\"80.024466\" xlink:href=\"#mf2c7982576\" y=\"311.914678\"/>\r\n     <use style=\"fill:#4c72b0;stroke:#4c72b0;\" x=\"62.24393\" xlink:href=\"#mf2c7982576\" y=\"369.09291\"/>\r\n     <use style=\"fill:#4c72b0;stroke:#4c72b0;\" x=\"84.873704\" xlink:href=\"#mf2c7982576\" y=\"307.238198\"/>\r\n     <use style=\"fill:#4c72b0;stroke:#4c72b0;\" x=\"84.873704\" xlink:href=\"#mf2c7982576\" y=\"368.793181\"/>\r\n     <use style=\"fill:#4c72b0;stroke:#4c72b0;\" x=\"65.476755\" xlink:href=\"#mf2c7982576\" y=\"363.435402\"/>\r\n     <use style=\"fill:#4c72b0;stroke:#4c72b0;\" x=\"104.270652\" xlink:href=\"#mf2c7982576\" y=\"366.902136\"/>\r\n     <use style=\"fill:#4c72b0;stroke:#4c72b0;\" x=\"96.18859\" xlink:href=\"#mf2c7982576\" y=\"370.679431\"/>\r\n     <use style=\"fill:#4c72b0;stroke:#4c72b0;\" x=\"133.366075\" xlink:href=\"#mf2c7982576\" y=\"363.038172\"/>\r\n     <use style=\"fill:#4c72b0;stroke:#4c72b0;\" x=\"89.722941\" xlink:href=\"#mf2c7982576\" y=\"297.170225\"/>\r\n     <use style=\"fill:#4c72b0;stroke:#4c72b0;\" x=\"62.24393\" xlink:href=\"#mf2c7982576\" y=\"366.324347\"/>\r\n     <use style=\"fill:#4c72b0;stroke:#4c72b0;\" x=\"133.366075\" xlink:href=\"#mf2c7982576\" y=\"354.190778\"/>\r\n     <use style=\"fill:#4c72b0;stroke:#4c72b0;\" x=\"113.969127\" xlink:href=\"#mf2c7982576\" y=\"338.30158\"/>\r\n     <use style=\"fill:#4c72b0;stroke:#4c72b0;\" x=\"138.215313\" xlink:href=\"#mf2c7982576\" y=\"350.447196\"/>\r\n     <use style=\"fill:#4c72b0;stroke:#4c72b0;\" x=\"143.06455\" xlink:href=\"#mf2c7982576\" y=\"366.324347\"/>\r\n     <use style=\"fill:#4c72b0;stroke:#4c72b0;\" x=\"125.284013\" xlink:href=\"#mf2c7982576\" y=\"311.914678\"/>\r\n     <use style=\"fill:#4c72b0;stroke:#4c72b0;\" x=\"83.257291\" xlink:href=\"#mf2c7982576\" y=\"356.501934\"/>\r\n     <use style=\"fill:#4c72b0;stroke:#4c72b0;\" x=\"104.270652\" xlink:href=\"#mf2c7982576\" y=\"365.992118\"/>\r\n     <use style=\"fill:#4c72b0;stroke:#4c72b0;\" x=\"105.887065\" xlink:href=\"#mf2c7982576\" y=\"365.38544\"/>\r\n     <use style=\"fill:#4c72b0;stroke:#4c72b0;\" x=\"109.119889\" xlink:href=\"#mf2c7982576\" y=\"357.628622\"/>\r\n     <use style=\"fill:#4c72b0;stroke:#4c72b0;\" x=\"65.476755\" xlink:href=\"#mf2c7982576\" y=\"363.933745\"/>\r\n     <use style=\"fill:#4c72b0;stroke:#4c72b0;\" x=\"139.831725\" xlink:href=\"#mf2c7982576\" y=\"345.957284\"/>\r\n     <use style=\"fill:#4c72b0;stroke:#4c72b0;\" x=\"99.421415\" xlink:href=\"#mf2c7982576\" y=\"369.364961\"/>\r\n     <use style=\"fill:#4c72b0;stroke:#4c72b0;\" x=\"80.024466\" xlink:href=\"#mf2c7982576\" y=\"368.793181\"/>\r\n     <use style=\"fill:#4c72b0;stroke:#4c72b0;\" x=\"118.818364\" xlink:href=\"#mf2c7982576\" y=\"348.944944\"/>\r\n     <use style=\"fill:#4c72b0;stroke:#4c72b0;\" x=\"70.325992\" xlink:href=\"#mf2c7982576\" y=\"368.564493\"/>\r\n     <use style=\"fill:#4c72b0;stroke:#4c72b0;\" x=\"81.640879\" xlink:href=\"#mf2c7982576\" y=\"361.586477\"/>\r\n     <use style=\"fill:#4c72b0;stroke:#4c72b0;\" x=\"126.900426\" xlink:href=\"#mf2c7982576\" y=\"365.457663\"/>\r\n     <use style=\"fill:#4c72b0;stroke:#4c72b0;\" x=\"84.873704\" xlink:href=\"#mf2c7982576\" y=\"370.267757\"/>\r\n     <use style=\"fill:#4c72b0;stroke:#4c72b0;\" x=\"128.516838\" xlink:href=\"#mf2c7982576\" y=\"325.339837\"/>\r\n     <use style=\"fill:#4c72b0;stroke:#4c72b0;\" x=\"94.572178\" xlink:href=\"#mf2c7982576\" y=\"367.405303\"/>\r\n     <use style=\"fill:#4c72b0;stroke:#4c72b0;\" x=\"99.421415\" xlink:href=\"#mf2c7982576\" y=\"368.965334\"/>\r\n     <use style=\"fill:#4c72b0;stroke:#4c72b0;\" x=\"131.749663\" xlink:href=\"#mf2c7982576\" y=\"357.786301\"/>\r\n     <use style=\"fill:#4c72b0;stroke:#4c72b0;\" x=\"101.037827\" xlink:href=\"#mf2c7982576\" y=\"366.035452\"/>\r\n     <use style=\"fill:#4c72b0;stroke:#4c72b0;\" x=\"146.297374\" xlink:href=\"#mf2c7982576\" y=\"348.944944\"/>\r\n     <use style=\"fill:#4c72b0;stroke:#4c72b0;\" x=\"96.18859\" xlink:href=\"#mf2c7982576\" y=\"365.457663\"/>\r\n     <use style=\"fill:#4c72b0;stroke:#4c72b0;\" x=\"118.818364\" xlink:href=\"#mf2c7982576\" y=\"364.554868\"/>\r\n    </g>\r\n   </g>\r\n   <g id=\"PathCollection_4\">\r\n    <g clip-path=\"url(#p181d684778)\">\r\n     <use style=\"fill:#dd8452;stroke:#dd8452;\" x=\"97.805003\" xlink:href=\"#mb9d72cfe03\" y=\"370.679431\"/>\r\n     <use style=\"fill:#dd8452;stroke:#dd8452;\" x=\"149.530199\" xlink:href=\"#mb9d72cfe03\" y=\"365.298771\"/>\r\n     <use style=\"fill:#dd8452;stroke:#dd8452;\" x=\"78.408054\" xlink:href=\"#mb9d72cfe03\" y=\"370.699885\"/>\r\n     <use style=\"fill:#dd8452;stroke:#dd8452;\" x=\"144.680962\" xlink:href=\"#mb9d72cfe03\" y=\"368.346608\"/>\r\n     <use style=\"fill:#dd8452;stroke:#dd8452;\" x=\"80.024466\" xlink:href=\"#mb9d72cfe03\" y=\"370.649329\"/>\r\n     <use style=\"fill:#dd8452;stroke:#dd8452;\" x=\"86.490116\" xlink:href=\"#mb9d72cfe03\" y=\"370.692663\"/>\r\n     <use style=\"fill:#dd8452;stroke:#dd8452;\" x=\"89.722941\" xlink:href=\"#mb9d72cfe03\" y=\"369.935528\"/>\r\n     <use style=\"fill:#dd8452;stroke:#dd8452;\" x=\"117.201951\" xlink:href=\"#mb9d72cfe03\" y=\"349.85736\"/>\r\n     <use style=\"fill:#dd8452;stroke:#dd8452;\" x=\"102.65424\" xlink:href=\"#mb9d72cfe03\" y=\"369.935528\"/>\r\n     <use style=\"fill:#dd8452;stroke:#dd8452;\" x=\"104.270652\" xlink:href=\"#mb9d72cfe03\" y=\"369.364961\"/>\r\n     <use style=\"fill:#dd8452;stroke:#dd8452;\" x=\"83.257291\" xlink:href=\"#mb9d72cfe03\" y=\"369.935528\"/>\r\n     <use style=\"fill:#dd8452;stroke:#dd8452;\" x=\"101.037827\" xlink:href=\"#mb9d72cfe03\" y=\"370.687867\"/>\r\n     <use style=\"fill:#dd8452;stroke:#dd8452;\" x=\"89.722941\" xlink:href=\"#mb9d72cfe03\" y=\"370.758877\"/>\r\n     <use style=\"fill:#dd8452;stroke:#dd8452;\" x=\"83.257291\" xlink:href=\"#mb9d72cfe03\" y=\"368.791997\"/>\r\n     <use style=\"fill:#dd8452;stroke:#dd8452;\" x=\"108.311683\" xlink:href=\"#mb9d72cfe03\" y=\"369.213292\"/>\r\n     <use style=\"fill:#dd8452;stroke:#dd8452;\" x=\"91.339353\" xlink:href=\"#mb9d72cfe03\" y=\"370.729988\"/>\r\n     <use style=\"fill:#dd8452;stroke:#dd8452;\" x=\"81.640879\" xlink:href=\"#mb9d72cfe03\" y=\"370.734813\"/>\r\n     <use style=\"fill:#dd8452;stroke:#dd8452;\" x=\"120.434776\" xlink:href=\"#mb9d72cfe03\" y=\"368.418832\"/>\r\n     <use style=\"fill:#dd8452;stroke:#dd8452;\" x=\"136.5989\" xlink:href=\"#mb9d72cfe03\" y=\"364.674037\"/>\r\n     <use style=\"fill:#dd8452;stroke:#dd8452;\" x=\"107.503477\" xlink:href=\"#mb9d72cfe03\" y=\"369.213292\"/>\r\n     <use style=\"fill:#dd8452;stroke:#dd8452;\" x=\"126.900426\" xlink:href=\"#mb9d72cfe03\" y=\"364.960534\"/>\r\n     <use style=\"fill:#dd8452;stroke:#dd8452;\" x=\"149.530199\" xlink:href=\"#mb9d72cfe03\" y=\"330.639866\"/>\r\n     <use style=\"fill:#dd8452;stroke:#dd8452;\" x=\"94.572178\" xlink:href=\"#mb9d72cfe03\" y=\"369.213292\"/>\r\n     <use style=\"fill:#dd8452;stroke:#dd8452;\" x=\"81.640879\" xlink:href=\"#mb9d72cfe03\" y=\"370.729988\"/>\r\n     <use style=\"fill:#dd8452;stroke:#dd8452;\" x=\"112.352714\" xlink:href=\"#mb9d72cfe03\" y=\"366.902136\"/>\r\n     <use style=\"fill:#dd8452;stroke:#dd8452;\" x=\"99.421415\" xlink:href=\"#mb9d72cfe03\" y=\"370.679431\"/>\r\n     <use style=\"fill:#dd8452;stroke:#dd8452;\" x=\"107.503477\" xlink:href=\"#mb9d72cfe03\" y=\"350.928668\"/>\r\n     <use style=\"fill:#dd8452;stroke:#dd8452;\" x=\"96.18859\" xlink:href=\"#mb9d72cfe03\" y=\"370.722766\"/>\r\n     <use style=\"fill:#dd8452;stroke:#dd8452;\" x=\"104.270652\" xlink:href=\"#mb9d72cfe03\" y=\"347.979546\"/>\r\n     <use style=\"fill:#dd8452;stroke:#dd8452;\" x=\"112.352714\" xlink:href=\"#mb9d72cfe03\" y=\"224.95983\"/>\r\n     <use style=\"fill:#dd8452;stroke:#dd8452;\" x=\"112.352714\" xlink:href=\"#mb9d72cfe03\" y=\"333.785205\"/>\r\n     <use style=\"fill:#dd8452;stroke:#dd8452;\" x=\"128.516838\" xlink:href=\"#mb9d72cfe03\" y=\"370.729988\"/>\r\n     <use style=\"fill:#dd8452;stroke:#dd8452;\" x=\"91.339353\" xlink:href=\"#mb9d72cfe03\" y=\"370.729988\"/>\r\n     <use style=\"fill:#dd8452;stroke:#dd8452;\" x=\"97.805003\" xlink:href=\"#mb9d72cfe03\" y=\"350.189589\"/>\r\n     <use style=\"fill:#dd8452;stroke:#dd8452;\" x=\"94.572178\" xlink:href=\"#mb9d72cfe03\" y=\"370.412204\"/>\r\n     <use style=\"fill:#dd8452;stroke:#dd8452;\" x=\"104.270652\" xlink:href=\"#mb9d72cfe03\" y=\"356.522387\"/>\r\n     <use style=\"fill:#dd8452;stroke:#dd8452;\" x=\"94.572178\" xlink:href=\"#mb9d72cfe03\" y=\"348.944944\"/>\r\n     <use style=\"fill:#dd8452;stroke:#dd8452;\" x=\"97.805003\" xlink:href=\"#mb9d72cfe03\" y=\"370.699885\"/>\r\n     <use style=\"fill:#dd8452;stroke:#dd8452;\" x=\"104.270652\" xlink:href=\"#mb9d72cfe03\" y=\"369.401073\"/>\r\n     <use style=\"fill:#dd8452;stroke:#dd8452;\" x=\"113.969127\" xlink:href=\"#mb9d72cfe03\" y=\"333.785205\"/>\r\n     <use style=\"fill:#dd8452;stroke:#dd8452;\" x=\"113.969127\" xlink:href=\"#mb9d72cfe03\" y=\"369.213292\"/>\r\n     <use style=\"fill:#dd8452;stroke:#dd8452;\" x=\"122.051189\" xlink:href=\"#mb9d72cfe03\" y=\"334.112609\"/>\r\n     <use style=\"fill:#dd8452;stroke:#dd8452;\" x=\"94.572178\" xlink:href=\"#mb9d72cfe03\" y=\"369.213292\"/>\r\n     <use style=\"fill:#dd8452;stroke:#dd8452;\" x=\"120.434776\" xlink:href=\"#mb9d72cfe03\" y=\"369.213292\"/>\r\n     <use style=\"fill:#dd8452;stroke:#dd8452;\" x=\"117.201951\" xlink:href=\"#mb9d72cfe03\" y=\"369.213292\"/>\r\n     <use style=\"fill:#dd8452;stroke:#dd8452;\" x=\"94.572178\" xlink:href=\"#mb9d72cfe03\" y=\"352.948531\"/>\r\n     <use style=\"fill:#dd8452;stroke:#dd8452;\" x=\"91.339353\" xlink:href=\"#mb9d72cfe03\" y=\"370.874435\"/>\r\n     <use style=\"fill:#dd8452;stroke:#dd8452;\" x=\"123.667601\" xlink:href=\"#mb9d72cfe03\" y=\"307.238198\"/>\r\n     <use style=\"fill:#dd8452;stroke:#dd8452;\" x=\"113.969127\" xlink:href=\"#mb9d72cfe03\" y=\"369.213292\"/>\r\n     <use style=\"fill:#dd8452;stroke:#dd8452;\" x=\"83.257291\" xlink:href=\"#mb9d72cfe03\" y=\"369.502186\"/>\r\n     <use style=\"fill:#dd8452;stroke:#dd8452;\" x=\"105.887065\" xlink:href=\"#mb9d72cfe03\" y=\"370.699885\"/>\r\n     <use style=\"fill:#dd8452;stroke:#dd8452;\" x=\"101.037827\" xlink:href=\"#mb9d72cfe03\" y=\"369.314405\"/>\r\n     <use style=\"fill:#dd8452;stroke:#dd8452;\" x=\"88.106528\" xlink:href=\"#mb9d72cfe03\" y=\"370.466372\"/>\r\n     <use style=\"fill:#dd8452;stroke:#dd8452;\" x=\"86.490116\" xlink:href=\"#mb9d72cfe03\" y=\"365.457663\"/>\r\n     <use style=\"fill:#dd8452;stroke:#dd8452;\" x=\"101.037827\" xlink:href=\"#mb9d72cfe03\" y=\"369.213292\"/>\r\n     <use style=\"fill:#dd8452;stroke:#dd8452;\" x=\"136.5989\" xlink:href=\"#mb9d72cfe03\" y=\"369.935528\"/>\r\n     <use style=\"fill:#dd8452;stroke:#dd8452;\" x=\"92.955766\" xlink:href=\"#mb9d72cfe03\" y=\"368.984574\"/>\r\n     <use style=\"fill:#dd8452;stroke:#dd8452;\" x=\"91.339353\" xlink:href=\"#mb9d72cfe03\" y=\"370.126921\"/>\r\n     <use style=\"fill:#dd8452;stroke:#dd8452;\" x=\"157.612261\" xlink:href=\"#mb9d72cfe03\" y=\"370.199144\"/>\r\n     <use style=\"fill:#dd8452;stroke:#dd8452;\" x=\"89.722941\" xlink:href=\"#mb9d72cfe03\" y=\"370.729988\"/>\r\n     <use style=\"fill:#dd8452;stroke:#dd8452;\" x=\"115.585539\" xlink:href=\"#mb9d72cfe03\" y=\"370.199144\"/>\r\n     <use style=\"fill:#dd8452;stroke:#dd8452;\" x=\"81.640879\" xlink:href=\"#mb9d72cfe03\" y=\"347.979546\"/>\r\n     <use style=\"fill:#dd8452;stroke:#dd8452;\" x=\"110.736302\" xlink:href=\"#mb9d72cfe03\" y=\"369.935528\"/>\r\n     <use style=\"fill:#dd8452;stroke:#dd8452;\" x=\"104.270652\" xlink:href=\"#mb9d72cfe03\" y=\"345.957284\"/>\r\n     <use style=\"fill:#dd8452;stroke:#dd8452;\" x=\"136.5989\" xlink:href=\"#mb9d72cfe03\" y=\"369.935528\"/>\r\n     <use style=\"fill:#dd8452;stroke:#dd8452;\" x=\"104.270652\" xlink:href=\"#mb9d72cfe03\" y=\"370.466372\"/>\r\n     <use style=\"fill:#dd8452;stroke:#dd8452;\" x=\"104.270652\" xlink:href=\"#mb9d72cfe03\" y=\"342.223323\"/>\r\n     <use style=\"fill:#dd8452;stroke:#dd8452;\" x=\"91.339353\" xlink:href=\"#mb9d72cfe03\" y=\"370.722766\"/>\r\n     <use style=\"fill:#dd8452;stroke:#dd8452;\" x=\"110.736302\" xlink:href=\"#mb9d72cfe03\" y=\"369.213292\"/>\r\n     <use style=\"fill:#dd8452;stroke:#dd8452;\" x=\"120.434776\" xlink:href=\"#mb9d72cfe03\" y=\"328.634447\"/>\r\n     <use style=\"fill:#dd8452;stroke:#dd8452;\" x=\"89.722941\" xlink:href=\"#mb9d72cfe03\" y=\"350.447196\"/>\r\n     <use style=\"fill:#dd8452;stroke:#dd8452;\" x=\"101.037827\" xlink:href=\"#mb9d72cfe03\" y=\"369.213292\"/>\r\n     <use style=\"fill:#dd8452;stroke:#dd8452;\" x=\"94.572178\" xlink:href=\"#mb9d72cfe03\" y=\"352.948531\"/>\r\n     <use style=\"fill:#dd8452;stroke:#dd8452;\" x=\"92.955766\" xlink:href=\"#mb9d72cfe03\" y=\"370.787767\"/>\r\n     <use style=\"fill:#dd8452;stroke:#dd8452;\" x=\"84.873704\" xlink:href=\"#mb9d72cfe03\" y=\"371.018883\"/>\r\n     <use style=\"fill:#dd8452;stroke:#dd8452;\" x=\"84.873704\" xlink:href=\"#mb9d72cfe03\" y=\"370.125707\"/>\r\n     <use style=\"fill:#dd8452;stroke:#dd8452;\" x=\"128.516838\" xlink:href=\"#mb9d72cfe03\" y=\"369.068845\"/>\r\n     <use style=\"fill:#dd8452;stroke:#dd8452;\" x=\"91.339353\" xlink:href=\"#mb9d72cfe03\" y=\"329.186958\"/>\r\n     <use style=\"fill:#dd8452;stroke:#dd8452;\" x=\"94.572178\" xlink:href=\"#mb9d72cfe03\" y=\"358.667429\"/>\r\n     <use style=\"fill:#dd8452;stroke:#dd8452;\" x=\"117.201951\" xlink:href=\"#mb9d72cfe03\" y=\"307.238198\"/>\r\n     <use style=\"fill:#dd8452;stroke:#dd8452;\" x=\"99.421415\" xlink:href=\"#mb9d72cfe03\" y=\"369.935528\"/>\r\n     <use style=\"fill:#dd8452;stroke:#dd8452;\" x=\"102.65424\" xlink:href=\"#mb9d72cfe03\" y=\"311.914678\"/>\r\n     <use style=\"fill:#dd8452;stroke:#dd8452;\" x=\"104.270652\" xlink:href=\"#mb9d72cfe03\" y=\"369.213292\"/>\r\n     <use style=\"fill:#dd8452;stroke:#dd8452;\" x=\"109.119889\" xlink:href=\"#mb9d72cfe03\" y=\"347.979546\"/>\r\n     <use style=\"fill:#dd8452;stroke:#dd8452;\" x=\"105.078858\" xlink:href=\"#mb9d72cfe03\" y=\"370.729988\"/>\r\n     <use style=\"fill:#dd8452;stroke:#dd8452;\" x=\"147.913787\" xlink:href=\"#mb9d72cfe03\" y=\"369.935528\"/>\r\n     <use style=\"fill:#dd8452;stroke:#dd8452;\" x=\"63.860342\" xlink:href=\"#mb9d72cfe03\" y=\"369.364961\"/>\r\n     <use style=\"fill:#dd8452;stroke:#dd8452;\" x=\"76.791642\" xlink:href=\"#mb9d72cfe03\" y=\"370.880444\"/>\r\n     <use style=\"fill:#dd8452;stroke:#dd8452;\" x=\"84.873704\" xlink:href=\"#mb9d72cfe03\" y=\"370.803425\"/>\r\n     <use style=\"fill:#dd8452;stroke:#dd8452;\" x=\"134.982488\" xlink:href=\"#mb9d72cfe03\" y=\"365.478117\"/>\r\n     <use style=\"fill:#dd8452;stroke:#dd8452;\" x=\"105.887065\" xlink:href=\"#mb9d72cfe03\" y=\"370.460363\"/>\r\n     <use style=\"fill:#dd8452;stroke:#dd8452;\" x=\"84.873704\" xlink:href=\"#mb9d72cfe03\" y=\"370.722766\"/>\r\n     <use style=\"fill:#dd8452;stroke:#dd8452;\" x=\"92.955766\" xlink:href=\"#mb9d72cfe03\" y=\"370.679431\"/>\r\n     <use style=\"fill:#dd8452;stroke:#dd8452;\" x=\"155.995849\" xlink:href=\"#mb9d72cfe03\" y=\"349.85736\"/>\r\n     <use style=\"fill:#dd8452;stroke:#dd8452;\" x=\"104.270652\" xlink:href=\"#mb9d72cfe03\" y=\"364.013191\"/>\r\n     <use style=\"fill:#dd8452;stroke:#dd8452;\" x=\"133.366075\" xlink:href=\"#mb9d72cfe03\" y=\"365.478117\"/>\r\n     <use style=\"fill:#dd8452;stroke:#dd8452;\" x=\"123.667601\" xlink:href=\"#mb9d72cfe03\" y=\"369.213292\"/>\r\n     <use style=\"fill:#dd8452;stroke:#dd8452;\" x=\"80.024466\" xlink:href=\"#mb9d72cfe03\" y=\"370.881658\"/>\r\n     <use style=\"fill:#dd8452;stroke:#dd8452;\" x=\"91.339353\" xlink:href=\"#mb9d72cfe03\" y=\"369.930704\"/>\r\n     <use style=\"fill:#dd8452;stroke:#dd8452;\" x=\"86.490116\" xlink:href=\"#mb9d72cfe03\" y=\"364.302085\"/>\r\n    </g>\r\n   </g>\r\n   <g id=\"patch_6\">\r\n    <path d=\"M 50.025469 380.369375 \r\nL 50.025469 217.559375 \r\n\" style=\"fill:none;stroke:#262626;stroke-linecap:square;stroke-linejoin:miter;stroke-width:1.25;\"/>\r\n   </g>\r\n   <g id=\"patch_7\">\r\n    <path d=\"M 50.025469 380.369375 \r\nL 191.522977 380.369375 \r\n\" style=\"fill:none;stroke:#262626;stroke-linecap:square;stroke-linejoin:miter;stroke-width:1.25;\"/>\r\n   </g>\r\n   <g id=\"text_21\">\r\n    <!-- sex = female -->\r\n    <g style=\"fill:#262626;\" transform=\"translate(86.592035 211.559375)scale(0.12 -0.12)\">\r\n     <use xlink:href=\"#ArialMT-73\"/>\r\n     <use x=\"50\" xlink:href=\"#ArialMT-65\"/>\r\n     <use x=\"105.615234\" xlink:href=\"#ArialMT-78\"/>\r\n     <use x=\"155.615234\" xlink:href=\"#ArialMT-20\"/>\r\n     <use x=\"183.398438\" xlink:href=\"#ArialMT-3d\"/>\r\n     <use x=\"241.796875\" xlink:href=\"#ArialMT-20\"/>\r\n     <use x=\"269.580078\" xlink:href=\"#ArialMT-66\"/>\r\n     <use x=\"297.363281\" xlink:href=\"#ArialMT-65\"/>\r\n     <use x=\"352.978516\" xlink:href=\"#ArialMT-6d\"/>\r\n     <use x=\"436.279297\" xlink:href=\"#ArialMT-61\"/>\r\n     <use x=\"491.894531\" xlink:href=\"#ArialMT-6c\"/>\r\n     <use x=\"514.111328\" xlink:href=\"#ArialMT-65\"/>\r\n    </g>\r\n   </g>\r\n  </g>\r\n  <g id=\"legend_1\">\r\n   <g id=\"text_22\">\r\n    <!-- alone -->\r\n    <g style=\"fill:#262626;\" transform=\"translate(208.968742 198.594141)scale(0.12 -0.12)\">\r\n     <defs>\r\n      <path d=\"M 213 1659 \r\nQ 213 2581 725 3025 \r\nQ 1153 3394 1769 3394 \r\nQ 2453 3394 2887 2945 \r\nQ 3322 2497 3322 1706 \r\nQ 3322 1066 3130 698 \r\nQ 2938 331 2570 128 \r\nQ 2203 -75 1769 -75 \r\nQ 1072 -75 642 372 \r\nQ 213 819 213 1659 \r\nz\r\nM 791 1659 \r\nQ 791 1022 1069 705 \r\nQ 1347 388 1769 388 \r\nQ 2188 388 2466 706 \r\nQ 2744 1025 2744 1678 \r\nQ 2744 2294 2464 2611 \r\nQ 2184 2928 1769 2928 \r\nQ 1347 2928 1069 2612 \r\nQ 791 2297 791 1659 \r\nz\r\n\" id=\"ArialMT-6f\" transform=\"scale(0.015625)\"/>\r\n      <path d=\"M 422 0 \r\nL 422 3319 \r\nL 928 3319 \r\nL 928 2847 \r\nQ 1294 3394 1984 3394 \r\nQ 2284 3394 2536 3286 \r\nQ 2788 3178 2913 3003 \r\nQ 3038 2828 3088 2588 \r\nQ 3119 2431 3119 2041 \r\nL 3119 0 \r\nL 2556 0 \r\nL 2556 2019 \r\nQ 2556 2363 2490 2533 \r\nQ 2425 2703 2258 2804 \r\nQ 2091 2906 1866 2906 \r\nQ 1506 2906 1245 2678 \r\nQ 984 2450 984 1813 \r\nL 984 0 \r\nL 422 0 \r\nz\r\n\" id=\"ArialMT-6e\" transform=\"scale(0.015625)\"/>\r\n     </defs>\r\n     <use xlink:href=\"#ArialMT-61\"/>\r\n     <use x=\"55.615234\" xlink:href=\"#ArialMT-6c\"/>\r\n     <use x=\"77.832031\" xlink:href=\"#ArialMT-6f\"/>\r\n     <use x=\"133.447266\" xlink:href=\"#ArialMT-6e\"/>\r\n     <use x=\"189.0625\" xlink:href=\"#ArialMT-65\"/>\r\n    </g>\r\n   </g>\r\n   <g id=\"PathCollection_5\">\r\n    <g>\r\n     <use style=\"fill:#4c72b0;stroke:#4c72b0;\" x=\"205.799758\" xlink:href=\"#mf2c7982576\" y=\"211.465234\"/>\r\n    </g>\r\n   </g>\r\n   <g id=\"text_23\">\r\n    <!-- False -->\r\n    <g style=\"fill:#262626;\" transform=\"translate(225.599758 214.352734)scale(0.11 -0.11)\">\r\n     <defs>\r\n      <path d=\"M 525 0 \r\nL 525 4581 \r\nL 3616 4581 \r\nL 3616 4041 \r\nL 1131 4041 \r\nL 1131 2622 \r\nL 3281 2622 \r\nL 3281 2081 \r\nL 1131 2081 \r\nL 1131 0 \r\nL 525 0 \r\nz\r\n\" id=\"ArialMT-46\" transform=\"scale(0.015625)\"/>\r\n     </defs>\r\n     <use xlink:href=\"#ArialMT-46\"/>\r\n     <use x=\"61.083984\" xlink:href=\"#ArialMT-61\"/>\r\n     <use x=\"116.699219\" xlink:href=\"#ArialMT-6c\"/>\r\n     <use x=\"138.916016\" xlink:href=\"#ArialMT-73\"/>\r\n     <use x=\"188.916016\" xlink:href=\"#ArialMT-65\"/>\r\n    </g>\r\n   </g>\r\n   <g id=\"PathCollection_6\">\r\n    <g>\r\n     <use style=\"fill:#dd8452;stroke:#dd8452;\" x=\"205.799758\" xlink:href=\"#mb9d72cfe03\" y=\"227.025078\"/>\r\n    </g>\r\n   </g>\r\n   <g id=\"text_24\">\r\n    <!-- True -->\r\n    <g style=\"fill:#262626;\" transform=\"translate(225.599758 229.912578)scale(0.11 -0.11)\">\r\n     <defs>\r\n      <path d=\"M 1659 0 \r\nL 1659 4041 \r\nL 150 4041 \r\nL 150 4581 \r\nL 3781 4581 \r\nL 3781 4041 \r\nL 2266 4041 \r\nL 2266 0 \r\nL 1659 0 \r\nz\r\n\" id=\"ArialMT-54\" transform=\"scale(0.015625)\"/>\r\n      <path d=\"M 2597 0 \r\nL 2597 488 \r\nQ 2209 -75 1544 -75 \r\nQ 1250 -75 995 37 \r\nQ 741 150 617 320 \r\nQ 494 491 444 738 \r\nQ 409 903 409 1263 \r\nL 409 3319 \r\nL 972 3319 \r\nL 972 1478 \r\nQ 972 1038 1006 884 \r\nQ 1059 663 1231 536 \r\nQ 1403 409 1656 409 \r\nQ 1909 409 2131 539 \r\nQ 2353 669 2445 892 \r\nQ 2538 1116 2538 1541 \r\nL 2538 3319 \r\nL 3100 3319 \r\nL 3100 0 \r\nL 2597 0 \r\nz\r\n\" id=\"ArialMT-75\" transform=\"scale(0.015625)\"/>\r\n     </defs>\r\n     <use xlink:href=\"#ArialMT-54\"/>\r\n     <use x=\"57.333984\" xlink:href=\"#ArialMT-72\"/>\r\n     <use x=\"90.634766\" xlink:href=\"#ArialMT-75\"/>\r\n     <use x=\"146.25\" xlink:href=\"#ArialMT-65\"/>\r\n    </g>\r\n   </g>\r\n  </g>\r\n </g>\r\n <defs>\r\n  <clipPath id=\"pd195c8c973\">\r\n   <rect height=\"162.81\" width=\"141.497508\" x=\"50.025469\" y=\"21.789375\"/>\r\n  </clipPath>\r\n  <clipPath id=\"p181d684778\">\r\n   <rect height=\"162.81\" width=\"141.497508\" x=\"50.025469\" y=\"217.559375\"/>\r\n  </clipPath>\r\n </defs>\r\n</svg>\r\n",
      "text/plain": [
       "<Figure size 282.35x432 with 2 Axes>"
      ]
     },
     "metadata": {},
     "output_type": "display_data"
    }
   ],
   "source": [
    "g= sns.FacetGrid(titanic, row=\"sex\",hue='alone')\n",
    "g=(g.map(plt.scatter, 'age','fare').add_legend())\n",
    "plt.show()"
   ]
  },
  {
   "cell_type": "markdown",
   "metadata": {},
   "source": [
    "# NumPy \n",
    "- Numerical Python\n",
    "- NumPy is the fundamental package for scientific computing in Python that provides (Open-Source)\n",
    "- Library that provides a multidimensional array object, various derived objects(Universal standard for working with numerical data)\n",
    "- and an assortment of routines for fast operations on arrays,\n",
    "- including mathematical, \n",
    "- logical, shape manipulation,\n",
    "- sorting, selecting, I/O, \n",
    "- discrete Fourier transforms, \n",
    "- basic linear algebra, \n",
    "- basic statistical operations, \n",
    "- random simulation and many more like them.\n",
    "\n",
    "## NumPy Installation \n",
    "* conda install numpy- In command prompt\n",
    "* pip install numpy - In VsCode\n",
    "- Both of the above command can be used for installation \n",
    "\n",
    "###### LIST vs Numpy\n",
    "- similar to list in shape \n",
    "- Faster than List\n",
    "- less memory consumable\n",
    "- Numpy works on same data type while list can work with different data type\n",
    "- for short code list can be used"
   ]
  },
  {
   "cell_type": "code",
   "execution_count": 1,
   "metadata": {},
   "outputs": [
    {
     "data": {
      "text/plain": [
       "['islam', 'khan', 1, 2, 3, 2.4]"
      ]
     },
     "execution_count": 1,
     "metadata": {},
     "output_type": "execute_result"
    }
   ],
   "source": [
    "#list\n",
    "aa=['islam','khan',1,2,3,2.4]\n",
    "aa\n"
   ]
  },
  {
   "cell_type": "code",
   "execution_count": 3,
   "metadata": {},
   "outputs": [
    {
     "data": {
      "text/plain": [
       "array([1, 2, 3, 4, 5, 6, 7])"
      ]
     },
     "execution_count": 3,
     "metadata": {},
     "output_type": "execute_result"
    }
   ],
   "source": [
    "#numpy\n",
    "import numpy as np \n",
    "a=np.array([1,2,3,4,5,6,7])\n",
    "a"
   ]
  },
  {
   "cell_type": "code",
   "execution_count": 4,
   "metadata": {},
   "outputs": [
    {
     "data": {
      "text/plain": [
       "array([1, 1, 1, 1, 1], dtype=int16)"
      ]
     },
     "execution_count": 4,
     "metadata": {},
     "output_type": "execute_result"
    }
   ],
   "source": [
    "k=np.ones(5, dtype=np.int16)\n",
    "k"
   ]
  },
  {
   "cell_type": "code",
   "execution_count": 5,
   "metadata": {},
   "outputs": [
    {
     "data": {
      "text/plain": [
       "array([1, 1, 1, 1, 1], dtype=int8)"
      ]
     },
     "execution_count": 5,
     "metadata": {},
     "output_type": "execute_result"
    }
   ],
   "source": [
    "k=np.ones(5, dtype=np.int8)\n",
    "k"
   ]
  },
  {
   "cell_type": "code",
   "execution_count": 6,
   "metadata": {},
   "outputs": [
    {
     "data": {
      "text/plain": [
       "array([1, 1, 1, 1, 1])"
      ]
     },
     "execution_count": 6,
     "metadata": {},
     "output_type": "execute_result"
    }
   ],
   "source": [
    "k=np.ones(5, dtype=np.int32)\n",
    "k"
   ]
  },
  {
   "cell_type": "code",
   "execution_count": 7,
   "metadata": {},
   "outputs": [
    {
     "data": {
      "text/plain": [
       "list"
      ]
     },
     "execution_count": 7,
     "metadata": {},
     "output_type": "execute_result"
    }
   ],
   "source": [
    "type(aa)"
   ]
  },
  {
   "cell_type": "markdown",
   "metadata": {},
   "source": [
    "### Statring with our first line of code in numpy\n",
    "- the first step is to import the numpy library \n",
    "- let gets started with an example"
   ]
  },
  {
   "cell_type": "code",
   "execution_count": 8,
   "metadata": {},
   "outputs": [
    {
     "name": "stdout",
     "output_type": "stream",
     "text": [
      "[0 1 2 3 4 5 6 7 8 9]\n"
     ]
    }
   ],
   "source": [
    "#Importing the numpy library\n",
    "import numpy as np\n",
    "\n",
    "#now we are going to print some number using numpy let's see how it works\n",
    "a=np.arange(10)\n",
    "print(a)"
   ]
  },
  {
   "cell_type": "markdown",
   "metadata": {},
   "source": [
    "- In the above example we just use a single of code to print first 10 positive integers\n",
    "  \n",
    "#### Array\n",
    "- Array is a data structure which can store data of same data type like string, integer, float etc.\n",
    "\n"
   ]
  },
  {
   "cell_type": "code",
   "execution_count": 9,
   "metadata": {},
   "outputs": [
    {
     "data": {
      "text/plain": [
       "array(['Sami khan', 'Amir', ' Xeshan', 'Fawad', 'Abdullah'], dtype='<U9')"
      ]
     },
     "execution_count": 9,
     "metadata": {},
     "output_type": "execute_result"
    }
   ],
   "source": [
    "#Example of an array\n",
    "#array conataing names of my friends \n",
    "my_friends=np.array(['Sami khan','Amir', ' Xeshan','Fawad','Abdullah'])\n",
    "my_friends"
   ]
  },
  {
   "cell_type": "code",
   "execution_count": 10,
   "metadata": {},
   "outputs": [
    {
     "data": {
      "text/plain": [
       "array([1, 2, 3, 4, 5, 6])"
      ]
     },
     "execution_count": 10,
     "metadata": {},
     "output_type": "execute_result"
    }
   ],
   "source": [
    "num=np.array([1,2,3,4,5,6])\n",
    "num"
   ]
  },
  {
   "cell_type": "markdown",
   "metadata": {},
   "source": [
    "##### Dimensions of  array\n",
    "- 1D\n",
    "- 2D\n",
    "- 3D\n"
   ]
  },
  {
   "cell_type": "code",
   "execution_count": 11,
   "metadata": {},
   "outputs": [
    {
     "data": {
      "text/plain": [
       "array([1, 2, 3, 4, 5, 6])"
      ]
     },
     "execution_count": 11,
     "metadata": {},
     "output_type": "execute_result"
    }
   ],
   "source": [
    "#1Dimensional array\n",
    "num=np.array([1,2,3,4,5,6])\n",
    "num"
   ]
  },
  {
   "cell_type": "code",
   "execution_count": 12,
   "metadata": {},
   "outputs": [
    {
     "data": {
      "text/plain": [
       "array([[ 1,  2,  3,  4],\n",
       "       [ 5,  6,  7,  8],\n",
       "       [ 9, 10, 11, 12]])"
      ]
     },
     "execution_count": 12,
     "metadata": {},
     "output_type": "execute_result"
    }
   ],
   "source": [
    "#2Dimensional array\n",
    "a = np.array([[1, 2, 3, 4], [5, 6, 7, 8], [9, 10, 11, 12]])\n",
    "a"
   ]
  },
  {
   "cell_type": "markdown",
   "metadata": {},
   "source": [
    "### Tensors \n",
    "- 3D is known as tensor "
   ]
  },
  {
   "cell_type": "code",
   "execution_count": 13,
   "metadata": {},
   "outputs": [
    {
     "data": {
      "text/plain": [
       "array([[[0, 1, 2, 3],\n",
       "        [4, 5, 6, 7]],\n",
       "\n",
       "       [[0, 1, 2, 3],\n",
       "        [4, 5, 6, 7]],\n",
       "\n",
       "       [[0, 1, 2, 3],\n",
       "        [4, 5, 6, 7]]])"
      ]
     },
     "execution_count": 13,
     "metadata": {},
     "output_type": "execute_result"
    }
   ],
   "source": [
    "#3Dimensional array - tensor\n",
    "N3_d= np.array([[[0, 1, 2, 3],\n",
    "                           [4, 5, 6, 7]],\n",
    "\n",
    "                          [[0, 1, 2, 3],\n",
    "                           [4, 5, 6, 7]],\n",
    "\n",
    "                          [[0 ,1 ,2, 3],\n",
    "                           [4, 5, 6, 7]]])\n",
    "N3_d\n"
   ]
  },
  {
   "cell_type": "code",
   "execution_count": 14,
   "metadata": {},
   "outputs": [
    {
     "data": {
      "text/plain": [
       "array([[[ 0,  1],\n",
       "        [ 2,  3],\n",
       "        [ 4,  5],\n",
       "        [ 6,  7]],\n",
       "\n",
       "       [[ 8,  9],\n",
       "        [10, 11],\n",
       "        [12, 13],\n",
       "        [14, 15]],\n",
       "\n",
       "       [[16, 17],\n",
       "        [18, 19],\n",
       "        [20, 21],\n",
       "        [22, 23]]])"
      ]
     },
     "execution_count": 14,
     "metadata": {},
     "output_type": "execute_result"
    }
   ],
   "source": [
    "#Assignment of making 3d array\n",
    "assign_chilla=np.arange(24).reshape(3,4,2)\n",
    "assign_chilla"
   ]
  },
  {
   "cell_type": "code",
   "execution_count": 15,
   "metadata": {},
   "outputs": [
    {
     "data": {
      "text/plain": [
       "array([[[0, 1, 2, 3],\n",
       "        [4, 5, 6, 7]]])"
      ]
     },
     "execution_count": 15,
     "metadata": {},
     "output_type": "execute_result"
    }
   ],
   "source": [
    "N3_d[1:2:3]"
   ]
  },
  {
   "cell_type": "markdown",
   "metadata": {},
   "source": [
    "- Arrays of different type using various function. \n",
    "- let's see few example\n",
    "\n",
    "### Vector\n",
    "- one dimensional array is known as Vector \n"
   ]
  },
  {
   "cell_type": "code",
   "execution_count": 16,
   "metadata": {},
   "outputs": [
    {
     "data": {
      "text/plain": [
       "array([1, 2, 3, 4, 5, 6, 7])"
      ]
     },
     "execution_count": 16,
     "metadata": {},
     "output_type": "execute_result"
    }
   ],
   "source": [
    "#vector\n",
    "vector=np.array([1,2,3,4,5,6,7])\n",
    "vector"
   ]
  },
  {
   "cell_type": "markdown",
   "metadata": {},
   "source": [
    "### matrix\n",
    "- An array with two dimension is know as matrix"
   ]
  },
  {
   "cell_type": "code",
   "execution_count": 17,
   "metadata": {},
   "outputs": [
    {
     "data": {
      "text/plain": [
       "array([[ 1,  2,  3,  4,  5],\n",
       "       [ 6,  7,  8,  9,  0],\n",
       "       [11, 22, 33, 44, 55]])"
      ]
     },
     "execution_count": 17,
     "metadata": {},
     "output_type": "execute_result"
    }
   ],
   "source": [
    "#matrix\n",
    "matrix=np.array([[1,2,3,4,5],[6,7,8,9,0],[11,22,33,44,55]])\n",
    "matrix"
   ]
  },
  {
   "cell_type": "markdown",
   "metadata": {},
   "source": [
    "## Functions of an array\n"
   ]
  },
  {
   "cell_type": "code",
   "execution_count": 18,
   "metadata": {},
   "outputs": [
    {
     "data": {
      "text/plain": [
       "array([1, 2, 3, 4, 5])"
      ]
     },
     "execution_count": 18,
     "metadata": {},
     "output_type": "execute_result"
    }
   ],
   "source": [
    "import numpy as np \n",
    "n=np.array([1,2,3,4,5])\n",
    "n"
   ]
  },
  {
   "cell_type": "code",
   "execution_count": 19,
   "metadata": {},
   "outputs": [
    {
     "data": {
      "text/plain": [
       "array([0., 0., 0., 0., 0., 0.])"
      ]
     },
     "execution_count": 19,
     "metadata": {},
     "output_type": "execute_result"
    }
   ],
   "source": [
    "#array of zeros\n",
    "zero_array= np.zeros(6)\n",
    "zero_array"
   ]
  },
  {
   "cell_type": "code",
   "execution_count": 20,
   "metadata": {},
   "outputs": [
    {
     "data": {
      "text/plain": [
       "array([1., 1., 1., 1., 1.])"
      ]
     },
     "execution_count": 20,
     "metadata": {},
     "output_type": "execute_result"
    }
   ],
   "source": [
    "#array of ones\n",
    "\n",
    "one_array=np.ones(5) \n",
    "#(5) this argument specify how much time you want to print the one\n",
    "\n",
    "one_array"
   ]
  },
  {
   "cell_type": "code",
   "execution_count": 21,
   "metadata": {},
   "outputs": [
    {
     "data": {
      "text/plain": [
       "3"
      ]
     },
     "execution_count": 21,
     "metadata": {},
     "output_type": "execute_result"
    }
   ],
   "source": [
    "len(a)"
   ]
  },
  {
   "cell_type": "code",
   "execution_count": 22,
   "metadata": {},
   "outputs": [
    {
     "data": {
      "text/plain": [
       "numpy.ndarray"
      ]
     },
     "execution_count": 22,
     "metadata": {},
     "output_type": "execute_result"
    }
   ],
   "source": [
    "type(a)"
   ]
  },
  {
   "cell_type": "code",
   "execution_count": 23,
   "metadata": {},
   "outputs": [
    {
     "data": {
      "text/plain": [
       "array([1.33511018e-306, 1.33511969e-306])"
      ]
     },
     "execution_count": 23,
     "metadata": {},
     "output_type": "execute_result"
    }
   ],
   "source": [
    "#empty array\n",
    "empty_array=np.empty(2)\n",
    "#it will produce an array with any random two numbers\n",
    "empty_array\n",
    "\n",
    "#your results can be differnt than this "
   ]
  },
  {
   "cell_type": "markdown",
   "metadata": {},
   "source": [
    "## Arange function \n",
    "- with arange function one can create a range of elements\n",
    "- with in arange we can also specify limits\n",
    "- even, odd and many other let see with examples\n",
    "- To do this, you will specify the first number, last number, and the step size."
   ]
  },
  {
   "cell_type": "code",
   "execution_count": 8,
   "metadata": {},
   "outputs": [
    {
     "data": {
      "text/plain": [
       "array([0, 1, 2, 3, 4])"
      ]
     },
     "execution_count": 8,
     "metadata": {},
     "output_type": "execute_result"
    }
   ],
   "source": [
    "import numpy as np \n",
    "np.arange(5)"
   ]
  },
  {
   "cell_type": "code",
   "execution_count": 9,
   "metadata": {},
   "outputs": [
    {
     "data": {
      "text/plain": [
       "array([0, 2, 4, 6])"
      ]
     },
     "execution_count": 9,
     "metadata": {},
     "output_type": "execute_result"
    }
   ],
   "source": [
    "np.arange(start = 0, stop = 8, step = 2)"
   ]
  },
  {
   "cell_type": "code",
   "execution_count": 10,
   "metadata": {},
   "outputs": [
    {
     "data": {
      "text/plain": [
       "array([1., 2., 3., 4.])"
      ]
     },
     "execution_count": 10,
     "metadata": {},
     "output_type": "execute_result"
    }
   ],
   "source": [
    "np.arange(start = 1, stop = 5, dtype = 'float')"
   ]
  },
  {
   "cell_type": "code",
   "execution_count": 11,
   "metadata": {},
   "outputs": [
    {
     "data": {
      "text/plain": [
       "array([1, 2, 3, 4, 5, 6, 7, 8, 9])"
      ]
     },
     "execution_count": 11,
     "metadata": {},
     "output_type": "execute_result"
    }
   ],
   "source": [
    "np.arange(start = 1, stop = 10, step = 1)"
   ]
  },
  {
   "cell_type": "code",
   "execution_count": 12,
   "metadata": {},
   "outputs": [
    {
     "data": {
      "text/plain": [
       "array([[1, 2, 3],\n",
       "       [4, 5, 6],\n",
       "       [7, 8, 9]])"
      ]
     },
     "execution_count": 12,
     "metadata": {},
     "output_type": "execute_result"
    }
   ],
   "source": [
    "np.arange(start = 1, stop = 10, step = 1).reshape((3,3))"
   ]
  },
  {
   "cell_type": "code",
   "execution_count": 13,
   "metadata": {},
   "outputs": [
    {
     "data": {
      "text/plain": [
       "array([ 1,  3,  5,  7,  9, 11, 13, 15, 17, 19])"
      ]
     },
     "execution_count": 13,
     "metadata": {},
     "output_type": "execute_result"
    }
   ],
   "source": [
    "#specifying odd numbers \n",
    "odd=np.arange(1,20,2)\n",
    "odd"
   ]
  },
  {
   "cell_type": "code",
   "execution_count": 14,
   "metadata": {},
   "outputs": [
    {
     "data": {
      "text/plain": [
       "array([ 6, 12, 18, 24, 30, 36, 42, 48, 54, 60, 66, 72, 78, 84, 90, 96])"
      ]
     },
     "execution_count": 14,
     "metadata": {},
     "output_type": "execute_result"
    }
   ],
   "source": [
    "#multiples of 6\n",
    "multiple_of_6= np.arange(6,100,6)\n",
    "multiple_of_6"
   ]
  },
  {
   "cell_type": "markdown",
   "metadata": {},
   "source": [
    "## linspace()\n",
    "- linspace function print numbers that are equally spaced"
   ]
  },
  {
   "cell_type": "code",
   "execution_count": 15,
   "metadata": {},
   "outputs": [
    {
     "data": {
      "text/plain": [
       "array([4.        , 4.57142857, 5.14285714, 5.71428571, 6.28571429,\n",
       "       6.85714286, 7.42857143, 8.        ])"
      ]
     },
     "execution_count": 15,
     "metadata": {},
     "output_type": "execute_result"
    }
   ],
   "source": [
    "#using lispace to print 8 nums btw 4 and 8 that are equally spaced\n",
    "k=np.linspace(4, 8, num=8)\n",
    "k"
   ]
  },
  {
   "cell_type": "markdown",
   "metadata": {},
   "source": [
    "## Soting an Array\n",
    "- Adding, \n",
    "- removing, \n",
    "- sorting elements"
   ]
  },
  {
   "cell_type": "code",
   "execution_count": 16,
   "metadata": {},
   "outputs": [
    {
     "data": {
      "text/plain": [
       "array([ 0,  1,  2,  3,  4,  5,  6,  7,  8,  9, 10, 11, 12, 13, 14, 15, 16,\n",
       "       17, 18, 19, 20])"
      ]
     },
     "execution_count": 16,
     "metadata": {},
     "output_type": "execute_result"
    }
   ],
   "source": [
    "#sorting first 20  numbers in accending order\n",
    "arr_1 = np.array([2, 16, 5, 3,13, 17, 4,19, 6, 8,12,11,9,15,20,10,14,1,7,0,18])\n",
    "np.sort(arr_1)"
   ]
  },
  {
   "cell_type": "markdown",
   "metadata": {},
   "source": [
    "## Desecnding order \n",
    "- there is no actual function but with the help of reverse() method we can reverse the sorted array to a different order. "
   ]
  },
  {
   "cell_type": "code",
   "execution_count": 17,
   "metadata": {},
   "outputs": [
    {
     "data": {
      "text/plain": [
       "[20, 19, 18, 17, 16, 15, 14, 13, 12, 11, 10, 9, 8, 7, 6, 5, 4, 3, 2, 1, 0]"
      ]
     },
     "execution_count": 17,
     "metadata": {},
     "output_type": "execute_result"
    }
   ],
   "source": [
    "#bring the sorted array and apply the reverse method on that to print it in reversed order\n",
    "arr_2=([ 0,  1,  2,  3,  4,  5,  6,  7,  8,  9, 10, 11, 12, 13, 14, 15, 16,\n",
    "       17, 18, 19, 20])\n",
    "arr_2.reverse()\n",
    "arr_2"
   ]
  },
  {
   "cell_type": "markdown",
   "metadata": {},
   "source": [
    "# Adding\n",
    "- with help of concatenate() function we can concatenate two arrays"
   ]
  },
  {
   "cell_type": "code",
   "execution_count": 18,
   "metadata": {},
   "outputs": [
    {
     "data": {
      "text/plain": [
       "array([ 0,  1,  2,  3,  4,  5,  6,  7,  8,  9, 10, 11])"
      ]
     },
     "execution_count": 18,
     "metadata": {},
     "output_type": "execute_result"
    }
   ],
   "source": [
    "#adding 2 arrays with the help of concatenate()\n",
    "a = np.array([1, 2, 3, 4,0,11])\n",
    "b = np.array([5, 6, 7, 8,9,10])\n",
    "\n",
    "arr_3=np.concatenate((a,b))\n",
    "#just to sort them as well we just asign it to a new variable\n",
    "np.sort(arr_3)"
   ]
  },
  {
   "cell_type": "code",
   "execution_count": 19,
   "metadata": {},
   "outputs": [
    {
     "data": {
      "text/plain": [
       "array([[1, 2],\n",
       "       [3, 4],\n",
       "       [5, 6]])"
      ]
     },
     "execution_count": 19,
     "metadata": {},
     "output_type": "execute_result"
    }
   ],
   "source": [
    "#adding in a specific order Assignment\n",
    "x = np.array([[1, 2], [3, 4]])\n",
    "y = np.array([[5, 6]])\n",
    "\n",
    "np.concatenate((x,y), axis=0)"
   ]
  },
  {
   "cell_type": "markdown",
   "metadata": {},
   "source": [
    "## Shape, Size of an array "
   ]
  },
  {
   "cell_type": "code",
   "execution_count": 20,
   "metadata": {},
   "outputs": [
    {
     "data": {
      "text/plain": [
       "array([[[0, 0, 0],\n",
       "        [4, 4, 4]],\n",
       "\n",
       "       [[1, 1, 1],\n",
       "        [5, 5, 5]],\n",
       "\n",
       "       [[2, 2, 2],\n",
       "        [6, 6, 6]],\n",
       "\n",
       "       [[3, 3, 3],\n",
       "        [7, 7, 7]]])"
      ]
     },
     "execution_count": 20,
     "metadata": {},
     "output_type": "execute_result"
    }
   ],
   "source": [
    "arr_5 = np.array([[[0, 1, 2, 3],\n",
    "                           [4, 5, 6, 7]],\n",
    "\n",
    "                          [[0, 1, 2, 3],\n",
    "                           [4, 5, 6, 7]],\n",
    "\n",
    "                          [[0 ,1 ,2, 3],\n",
    "                           [4, 5, 6, 7]]])\n",
    "\n",
    "np.transpose(arr_5)                           "
   ]
  },
  {
   "cell_type": "code",
   "execution_count": 21,
   "metadata": {},
   "outputs": [
    {
     "data": {
      "text/plain": [
       "3"
      ]
     },
     "execution_count": 21,
     "metadata": {},
     "output_type": "execute_result"
    }
   ],
   "source": [
    "#for dimension \n",
    "arr_5.ndim"
   ]
  },
  {
   "cell_type": "code",
   "execution_count": 22,
   "metadata": {},
   "outputs": [
    {
     "data": {
      "text/plain": [
       "(3, 2, 4)"
      ]
     },
     "execution_count": 22,
     "metadata": {},
     "output_type": "execute_result"
    }
   ],
   "source": [
    "#for shape\n",
    "arr_5.shape"
   ]
  },
  {
   "cell_type": "code",
   "execution_count": 23,
   "metadata": {},
   "outputs": [
    {
     "data": {
      "text/plain": [
       "24"
      ]
     },
     "execution_count": 23,
     "metadata": {},
     "output_type": "execute_result"
    }
   ],
   "source": [
    "#for size\n",
    "arr_5.size"
   ]
  },
  {
   "cell_type": "markdown",
   "metadata": {},
   "source": [
    "## Reshape\n",
    "- the flexablilty of numpy that even you can reshape an array using reshape() function "
   ]
  },
  {
   "cell_type": "code",
   "execution_count": 24,
   "metadata": {},
   "outputs": [
    {
     "data": {
      "text/plain": [
       "array([[0, 1, 2, 3],\n",
       "       [4, 5, 6, 7],\n",
       "       [0, 1, 2, 3],\n",
       "       [4, 5, 6, 7],\n",
       "       [0, 1, 2, 3],\n",
       "       [4, 5, 6, 7]])"
      ]
     },
     "execution_count": 24,
     "metadata": {},
     "output_type": "execute_result"
    }
   ],
   "source": [
    "#working of reshape\n",
    "arr_5 = np.array([[[0, 1, 2, 3],\n",
    "                           [4, 5, 6, 7]],\n",
    "\n",
    "                          [[0, 1, 2, 3],\n",
    "                           [4, 5, 6, 7]],\n",
    "\n",
    "                          [[0 ,1 ,2, 3],\n",
    "                           [4, 5, 6, 7]]])\n",
    "arr_5.reshape(6,4)"
   ]
  },
  {
   "cell_type": "code",
   "execution_count": 25,
   "metadata": {},
   "outputs": [
    {
     "data": {
      "text/plain": [
       "array([[0, 1],\n",
       "       [2, 3],\n",
       "       [4, 5],\n",
       "       [6, 7],\n",
       "       [0, 1],\n",
       "       [2, 3],\n",
       "       [4, 5],\n",
       "       [6, 7],\n",
       "       [0, 1],\n",
       "       [2, 3],\n",
       "       [4, 5],\n",
       "       [6, 7]])"
      ]
     },
     "execution_count": 25,
     "metadata": {},
     "output_type": "execute_result"
    }
   ],
   "source": [
    "arr_5.reshape(12,2)"
   ]
  },
  {
   "cell_type": "code",
   "execution_count": 26,
   "metadata": {},
   "outputs": [
    {
     "data": {
      "text/plain": [
       "array([0, 1, 2, 3, 4, 5, 6, 7, 0, 1, 2, 3, 4, 5, 6, 7, 0, 1, 2, 3, 4, 5,\n",
       "       6, 7])"
      ]
     },
     "execution_count": 26,
     "metadata": {},
     "output_type": "execute_result"
    }
   ],
   "source": [
    "#to make it a vector\n",
    "arr_5.reshape(24)"
   ]
  },
  {
   "cell_type": "markdown",
   "metadata": {},
   "source": [
    "# Indexing in Numpy"
   ]
  },
  {
   "cell_type": "code",
   "execution_count": 27,
   "metadata": {},
   "outputs": [
    {
     "data": {
      "text/plain": [
       "array([0, 3, 6, 1, 4, 7, 2, 5])"
      ]
     },
     "execution_count": 27,
     "metadata": {},
     "output_type": "execute_result"
    }
   ],
   "source": [
    "index_array=np.array([0, 1, 2, 3, 4, 5, 6, 7, 0, 1, 2, 3, 4, 5, 6, 7, 0, 1, 2, 3, 4, 5,\n",
    "       6, 7])\n",
    "index_array[:23:3]"
   ]
  },
  {
   "cell_type": "code",
   "execution_count": 28,
   "metadata": {},
   "outputs": [
    {
     "data": {
      "text/plain": [
       "array([ 0,  3,  6,  9, 12, 15, 18])"
      ]
     },
     "execution_count": 28,
     "metadata": {},
     "output_type": "execute_result"
    }
   ],
   "source": [
    "idx=np.array([ 0,  1,  2,  3,  4,  5,  6,  7,  8,  9, 10, 11, 12, 13, 14, 15, 16,\n",
    "       17, 18, 19, 20])\n",
    "idx[:20:3]"
   ]
  },
  {
   "cell_type": "markdown",
   "metadata": {},
   "source": [
    "## Creating array with sequence and other functions"
   ]
  },
  {
   "cell_type": "code",
   "execution_count": 29,
   "metadata": {},
   "outputs": [
    {
     "data": {
      "text/plain": [
       "array([ 127, -128, -127], dtype=int8)"
      ]
     },
     "execution_count": 29,
     "metadata": {},
     "output_type": "execute_result"
    }
   ],
   "source": [
    "a = np.array([127, 128, 129], dtype=np.int8)\n",
    "a"
   ]
  },
  {
   "cell_type": "code",
   "execution_count": 30,
   "metadata": {},
   "outputs": [
    {
     "data": {
      "text/plain": [
       "array([127, 128, 129])"
      ]
     },
     "execution_count": 30,
     "metadata": {},
     "output_type": "execute_result"
    }
   ],
   "source": [
    "a = np.array([127, 128, 129], dtype=np.int32)\n",
    "a"
   ]
  },
  {
   "cell_type": "code",
   "execution_count": 31,
   "metadata": {},
   "outputs": [
    {
     "data": {
      "text/plain": [
       "array([127, 128, 129], dtype=int16)"
      ]
     },
     "execution_count": 31,
     "metadata": {},
     "output_type": "execute_result"
    }
   ],
   "source": [
    "a = np.array([127, 128, 129], dtype=np.int16)\n",
    "a"
   ]
  },
  {
   "cell_type": "code",
   "execution_count": 32,
   "metadata": {},
   "outputs": [
    {
     "data": {
      "text/plain": [
       "array([2., 3., 4., 5., 6., 7., 8., 9.])"
      ]
     },
     "execution_count": 32,
     "metadata": {},
     "output_type": "execute_result"
    }
   ],
   "source": [
    "a=np.arange(2, 10, dtype=float)\n",
    "a"
   ]
  },
  {
   "cell_type": "code",
   "execution_count": 33,
   "metadata": {},
   "outputs": [
    {
     "data": {
      "text/plain": [
       "array([[1., 0., 0.],\n",
       "       [0., 1., 0.],\n",
       "       [0., 0., 1.]])"
      ]
     },
     "execution_count": 33,
     "metadata": {},
     "output_type": "execute_result"
    }
   ],
   "source": [
    "#eye function to print identity \n",
    "a=np.eye(3)\n",
    "a\n"
   ]
  },
  {
   "cell_type": "code",
   "execution_count": 34,
   "metadata": {},
   "outputs": [
    {
     "data": {
      "text/plain": [
       "array([[1., 0., 0., 0.],\n",
       "       [0., 1., 0., 0.],\n",
       "       [0., 0., 1., 0.],\n",
       "       [0., 0., 0., 1.]])"
      ]
     },
     "execution_count": 34,
     "metadata": {},
     "output_type": "execute_result"
    }
   ],
   "source": [
    "a=np.eye(4)\n",
    "a"
   ]
  },
  {
   "cell_type": "code",
   "execution_count": 35,
   "metadata": {},
   "outputs": [
    {
     "data": {
      "text/plain": [
       "array([[1., 0., 0., 0., 0.],\n",
       "       [0., 1., 0., 0., 0.],\n",
       "       [0., 0., 1., 0., 0.],\n",
       "       [0., 0., 0., 1., 0.],\n",
       "       [0., 0., 0., 0., 1.]])"
      ]
     },
     "execution_count": 35,
     "metadata": {},
     "output_type": "execute_result"
    }
   ],
   "source": [
    "a=np.eye(5)\n",
    "a"
   ]
  },
  {
   "cell_type": "code",
   "execution_count": 36,
   "metadata": {},
   "outputs": [
    {
     "data": {
      "text/plain": [
       "array([[1., 0., 0., 0., 0., 0.],\n",
       "       [0., 1., 0., 0., 0., 0.],\n",
       "       [0., 0., 1., 0., 0., 0.]])"
      ]
     },
     "execution_count": 36,
     "metadata": {},
     "output_type": "execute_result"
    }
   ],
   "source": [
    "a=np.eye(3,6)\n",
    "a"
   ]
  },
  {
   "cell_type": "code",
   "execution_count": 37,
   "metadata": {},
   "outputs": [
    {
     "data": {
      "text/plain": [
       "array([[1, 0, 0, 0, 0],\n",
       "       [0, 2, 0, 0, 0],\n",
       "       [0, 0, 3, 0, 0],\n",
       "       [0, 0, 0, 4, 0],\n",
       "       [0, 0, 0, 0, 5]])"
      ]
     },
     "execution_count": 37,
     "metadata": {},
     "output_type": "execute_result"
    }
   ],
   "source": [
    "#diagnol matrix \n",
    "a=np.diag([1,2,3,4,5])\n",
    "a"
   ]
  },
  {
   "cell_type": "code",
   "execution_count": 38,
   "metadata": {},
   "outputs": [
    {
     "data": {
      "text/plain": [
       "array([[1, 0, 0],\n",
       "       [0, 2, 0],\n",
       "       [0, 0, 3]])"
      ]
     },
     "execution_count": 38,
     "metadata": {},
     "output_type": "execute_result"
    }
   ],
   "source": [
    "a=np.diag([1,2,3])\n",
    "a"
   ]
  },
  {
   "cell_type": "code",
   "execution_count": 39,
   "metadata": {},
   "outputs": [
    {
     "data": {
      "text/plain": [
       "array([0, 3])"
      ]
     },
     "execution_count": 39,
     "metadata": {},
     "output_type": "execute_result"
    }
   ],
   "source": [
    "a=np.array([[0, 1],\n",
    "       [2, 3],\n",
    "       [4, 5],\n",
    "       [6, 7],\n",
    "       [0, 1],\n",
    "       [2, 3],\n",
    "       [4, 5],\n",
    "       [6, 7],\n",
    "       [0, 1],\n",
    "       [2, 3],\n",
    "       [4, 5],\n",
    "       [6, 7]])\n",
    "np.diag(a)"
   ]
  },
  {
   "cell_type": "code",
   "execution_count": 40,
   "metadata": {},
   "outputs": [
    {
     "data": {
      "text/plain": [
       "array([[1, 1],\n",
       "       [2, 1],\n",
       "       [3, 1],\n",
       "       [4, 1]])"
      ]
     },
     "execution_count": 40,
     "metadata": {},
     "output_type": "execute_result"
    }
   ],
   "source": [
    "#vander function\n",
    "a=np.vander([1, 2, 3, 4], 2)\n",
    "a"
   ]
  },
  {
   "cell_type": "code",
   "execution_count": 41,
   "metadata": {},
   "outputs": [
    {
     "data": {
      "text/plain": [
       "array([[1, 1, 1, 1],\n",
       "       [8, 4, 2, 1],\n",
       "       [8, 4, 2, 1],\n",
       "       [8, 4, 2, 1]])"
      ]
     },
     "execution_count": 41,
     "metadata": {},
     "output_type": "execute_result"
    }
   ],
   "source": [
    "a=np.vander([1, 2, 2, 2], 4)\n",
    "a"
   ]
  },
  {
   "cell_type": "markdown",
   "metadata": {},
   "source": [
    "# Basic Data Structure in Python\n",
    "\n",
    "1.Tuple\n",
    "\n",
    "2.List\n",
    "\n",
    "3.Dictionaries\n",
    "\n",
    "4.Set\n",
    "\n",
    "## Tuple\n",
    "\n",
    "> ordered collections of elements\n",
    "\n",
    ">Enclosed in round braces()\n",
    "\n",
    ">different kind of elements can be stored\n",
    "\n",
    ">once eleemnts are stored you can not change there (unmutable)"
   ]
  },
  {
   "cell_type": "code",
   "execution_count": 42,
   "metadata": {},
   "outputs": [
    {
     "data": {
      "text/plain": [
       "(1, 'Python', True, 4.5)"
      ]
     },
     "execution_count": 42,
     "metadata": {},
     "output_type": "execute_result"
    }
   ],
   "source": [
    "tupl=(1,\"Python\",True,4.5)\n",
    "tupl"
   ]
  },
  {
   "cell_type": "code",
   "execution_count": 43,
   "metadata": {},
   "outputs": [
    {
     "data": {
      "text/plain": [
       "tuple"
      ]
     },
     "execution_count": 43,
     "metadata": {},
     "output_type": "execute_result"
    }
   ],
   "source": [
    "#type of a tuple\n",
    "type(tupl)"
   ]
  },
  {
   "cell_type": "code",
   "execution_count": 44,
   "metadata": {},
   "outputs": [
    {
     "data": {
      "text/plain": [
       "'Python'"
      ]
     },
     "execution_count": 44,
     "metadata": {},
     "output_type": "execute_result"
    }
   ],
   "source": [
    "# indexing\n",
    "tupl[1]"
   ]
  },
  {
   "cell_type": "code",
   "execution_count": 45,
   "metadata": {},
   "outputs": [
    {
     "data": {
      "text/plain": [
       "True"
      ]
     },
     "execution_count": 45,
     "metadata": {},
     "output_type": "execute_result"
    }
   ],
   "source": [
    "tupl[2]"
   ]
  },
  {
   "cell_type": "code",
   "execution_count": 46,
   "metadata": {},
   "outputs": [
    {
     "data": {
      "text/plain": [
       "(1, 'Python', True)"
      ]
     },
     "execution_count": 46,
     "metadata": {},
     "output_type": "execute_result"
    }
   ],
   "source": [
    "#final element is exclusive\n",
    "tupl[0:3]"
   ]
  },
  {
   "cell_type": "code",
   "execution_count": 47,
   "metadata": {},
   "outputs": [
    {
     "data": {
      "text/plain": [
       "4"
      ]
     },
     "execution_count": 47,
     "metadata": {},
     "output_type": "execute_result"
    }
   ],
   "source": [
    "#count of elements in tuple\n",
    "len(tupl)"
   ]
  },
  {
   "cell_type": "code",
   "execution_count": 48,
   "metadata": {},
   "outputs": [
    {
     "data": {
      "text/plain": [
       "(2, 'Mr Khan ', 3, 1.3, True)"
      ]
     },
     "execution_count": 48,
     "metadata": {},
     "output_type": "execute_result"
    }
   ],
   "source": [
    "tup2=(2,\"Mr Khan \",3, 1.3,True)\n",
    "tup2"
   ]
  },
  {
   "cell_type": "code",
   "execution_count": 49,
   "metadata": {},
   "outputs": [
    {
     "data": {
      "text/plain": [
       "(1, 'Python', True, 4.5, 2, 'Mr Khan ', 3, 1.3, True)"
      ]
     },
     "execution_count": 49,
     "metadata": {},
     "output_type": "execute_result"
    }
   ],
   "source": [
    "# concatenate\n",
    "tupl+tup2"
   ]
  },
  {
   "cell_type": "code",
   "execution_count": 50,
   "metadata": {},
   "outputs": [
    {
     "data": {
      "text/plain": [
       "(1, 'Python', True, 4.5, 1, 'Python', True, 4.5, 2, 'Mr Khan ', 3, 1.3, True)"
      ]
     },
     "execution_count": 50,
     "metadata": {},
     "output_type": "execute_result"
    }
   ],
   "source": [
    "tupl*2+tup2"
   ]
  },
  {
   "cell_type": "code",
   "execution_count": 51,
   "metadata": {},
   "outputs": [
    {
     "data": {
      "text/plain": [
       "(20, 30, 40, 50, 60)"
      ]
     },
     "execution_count": 51,
     "metadata": {},
     "output_type": "execute_result"
    }
   ],
   "source": [
    "tup3=(20,30,40,50,60)\n",
    "tup3"
   ]
  },
  {
   "cell_type": "code",
   "execution_count": 52,
   "metadata": {},
   "outputs": [
    {
     "data": {
      "text/plain": [
       "20"
      ]
     },
     "execution_count": 52,
     "metadata": {},
     "output_type": "execute_result"
    }
   ],
   "source": [
    "min(tup3)"
   ]
  },
  {
   "cell_type": "code",
   "execution_count": 53,
   "metadata": {},
   "outputs": [
    {
     "data": {
      "text/plain": [
       "60"
      ]
     },
     "execution_count": 53,
     "metadata": {},
     "output_type": "execute_result"
    }
   ],
   "source": [
    "max(tup3)"
   ]
  },
  {
   "cell_type": "code",
   "execution_count": 54,
   "metadata": {},
   "outputs": [
    {
     "data": {
      "text/plain": [
       "(20, 30, 40, 50, 60, 20, 30, 40, 50, 60)"
      ]
     },
     "execution_count": 54,
     "metadata": {},
     "output_type": "execute_result"
    }
   ],
   "source": [
    "#sclar multiplication\n",
    "tup3*2"
   ]
  },
  {
   "cell_type": "markdown",
   "metadata": {},
   "source": [
    "# List\n",
    "\n",
    "1. ordered collection of elements\n",
    "\n",
    "2. enclosed in [] square brackets\n",
    "\n",
    "3. mutatable,you can change the values"
   ]
  },
  {
   "cell_type": "code",
   "execution_count": 55,
   "metadata": {},
   "outputs": [
    {
     "data": {
      "text/plain": [
       "[2, 'Islam ', 3, False]"
      ]
     },
     "execution_count": 55,
     "metadata": {},
     "output_type": "execute_result"
    }
   ],
   "source": [
    "list1=[2, 'Islam ', 3, False]\n",
    "list1"
   ]
  },
  {
   "cell_type": "code",
   "execution_count": 56,
   "metadata": {},
   "outputs": [
    {
     "data": {
      "text/plain": [
       "list"
      ]
     },
     "execution_count": 56,
     "metadata": {},
     "output_type": "execute_result"
    }
   ],
   "source": [
    "type(list1)"
   ]
  },
  {
   "cell_type": "code",
   "execution_count": 57,
   "metadata": {},
   "outputs": [
    {
     "data": {
      "text/plain": [
       "4"
      ]
     },
     "execution_count": 57,
     "metadata": {},
     "output_type": "execute_result"
    }
   ],
   "source": [
    "len(list1)"
   ]
  },
  {
   "cell_type": "code",
   "execution_count": 58,
   "metadata": {},
   "outputs": [
    {
     "data": {
      "text/plain": [
       "3"
      ]
     },
     "execution_count": 58,
     "metadata": {},
     "output_type": "execute_result"
    }
   ],
   "source": [
    "list1[2]"
   ]
  },
  {
   "cell_type": "code",
   "execution_count": 60,
   "metadata": {},
   "outputs": [
    {
     "data": {
      "text/plain": [
       "[3, 5, 'Pakistan', 'codanics', 456, 53, False]"
      ]
     },
     "execution_count": 60,
     "metadata": {},
     "output_type": "execute_result"
    }
   ],
   "source": [
    "list2=[3,5,\"Pakistan\",\"codanics\",456,53,False]\n",
    "list2"
   ]
  },
  {
   "cell_type": "code",
   "execution_count": 61,
   "metadata": {},
   "outputs": [
    {
     "data": {
      "text/plain": [
       "[2, 'Islam ', 3, False, 3, 5, 'Pakistan', 'codanics', 456, 53, False]"
      ]
     },
     "execution_count": 61,
     "metadata": {},
     "output_type": "execute_result"
    }
   ],
   "source": [
    "list1+list2"
   ]
  },
  {
   "cell_type": "code",
   "execution_count": 62,
   "metadata": {},
   "outputs": [
    {
     "data": {
      "text/plain": [
       "[2, 'Islam ', 3, False, 2, 'Islam ', 3, False]"
      ]
     },
     "execution_count": 62,
     "metadata": {},
     "output_type": "execute_result"
    }
   ],
   "source": [
    "list1*2"
   ]
  },
  {
   "cell_type": "code",
   "execution_count": 63,
   "metadata": {},
   "outputs": [
    {
     "data": {
      "text/plain": [
       "[2, 'Islam ', 3, False, 'codanics youtube']"
      ]
     },
     "execution_count": 63,
     "metadata": {},
     "output_type": "execute_result"
    }
   ],
   "source": [
    "list1.append(\"codanics youtube\")\n",
    "list1"
   ]
  },
  {
   "cell_type": "code",
   "execution_count": 64,
   "metadata": {},
   "outputs": [
    {
     "data": {
      "text/plain": [
       "[20, 30, 11, 14, 15, 16]"
      ]
     },
     "execution_count": 64,
     "metadata": {},
     "output_type": "execute_result"
    }
   ],
   "source": [
    "list3=[20,30,11,14,15,16]\n",
    "list3"
   ]
  },
  {
   "cell_type": "code",
   "execution_count": 65,
   "metadata": {},
   "outputs": [
    {
     "data": {
      "text/plain": [
       "6"
      ]
     },
     "execution_count": 65,
     "metadata": {},
     "output_type": "execute_result"
    }
   ],
   "source": [
    "len(list3)"
   ]
  },
  {
   "cell_type": "code",
   "execution_count": 66,
   "metadata": {},
   "outputs": [
    {
     "data": {
      "text/plain": [
       "[11, 14, 15, 16, 20, 30]"
      ]
     },
     "execution_count": 66,
     "metadata": {},
     "output_type": "execute_result"
    }
   ],
   "source": [
    "list3.sort()\n",
    "list3"
   ]
  },
  {
   "cell_type": "code",
   "execution_count": 67,
   "metadata": {},
   "outputs": [
    {
     "data": {
      "text/plain": [
       "[2,\n",
       " 'Islam ',\n",
       " 3,\n",
       " False,\n",
       " 'codanics youtube',\n",
       " 3,\n",
       " 5,\n",
       " 'Pakistan',\n",
       " 'codanics',\n",
       " 456,\n",
       " 53,\n",
       " False]"
      ]
     },
     "execution_count": 67,
     "metadata": {},
     "output_type": "execute_result"
    }
   ],
   "source": [
    "lists=list1+list2\n",
    "lists"
   ]
  },
  {
   "cell_type": "markdown",
   "metadata": {},
   "source": [
    "# Dictionaries\n",
    "\n",
    "1. an unordered collection of elements\n",
    "\n",
    "2. key and values\n",
    "\n",
    "3. curly brace{}\n",
    "\n",
    "4. mutatable/change the values"
   ]
  },
  {
   "cell_type": "code",
   "execution_count": 68,
   "metadata": {},
   "outputs": [
    {
     "data": {
      "text/plain": [
       "{'samosa': 30, 'pakora': 100, 'raita': 50, 'chicken rolls': 30}"
      ]
     },
     "execution_count": 68,
     "metadata": {},
     "output_type": "execute_result"
    }
   ],
   "source": [
    "#food and their prices\n",
    "food1={\"samosa\":30,\"pakora\":100,\"raita\":50,\"chicken rolls\":30}\n",
    "food1\n",
    "\n"
   ]
  },
  {
   "cell_type": "code",
   "execution_count": 69,
   "metadata": {},
   "outputs": [
    {
     "data": {
      "text/plain": [
       "dict"
      ]
     },
     "execution_count": 69,
     "metadata": {},
     "output_type": "execute_result"
    }
   ],
   "source": [
    "type(food1)"
   ]
  },
  {
   "cell_type": "code",
   "execution_count": 71,
   "metadata": {},
   "outputs": [
    {
     "data": {
      "text/plain": [
       "dict_keys(['samosa', 'pakora', 'raita', 'chicken rolls'])"
      ]
     },
     "execution_count": 71,
     "metadata": {},
     "output_type": "execute_result"
    }
   ],
   "source": [
    "#print data\n",
    "keys1=food1.keys()\n",
    "keys1"
   ]
  },
  {
   "cell_type": "code",
   "execution_count": 72,
   "metadata": {},
   "outputs": [
    {
     "data": {
      "text/plain": [
       "dict_values([30, 100, 50, 30])"
      ]
     },
     "execution_count": 72,
     "metadata": {},
     "output_type": "execute_result"
    }
   ],
   "source": [
    "values1=food1.values()\n",
    "values1\n"
   ]
  },
  {
   "cell_type": "code",
   "execution_count": 73,
   "metadata": {},
   "outputs": [
    {
     "data": {
      "text/plain": [
       "{'samosa': 30, 'pakora': 100, 'raita': 50, 'chicken rolls': 30, 'tiiki': 10}"
      ]
     },
     "execution_count": 73,
     "metadata": {},
     "output_type": "execute_result"
    }
   ],
   "source": [
    "#adding new element\n",
    "food1[\"tiiki\"]=10\n",
    "food1\n"
   ]
  },
  {
   "cell_type": "code",
   "execution_count": 74,
   "metadata": {},
   "outputs": [
    {
     "data": {
      "text/plain": [
       "{'samosa': 30, 'pakora': 100, 'raita': 50, 'chicken rolls': 30, 'tiiki': 15}"
      ]
     },
     "execution_count": 74,
     "metadata": {},
     "output_type": "execute_result"
    }
   ],
   "source": [
    "# update the values\n",
    "food1[\"tiiki\"]=15\n",
    "food1"
   ]
  },
  {
   "cell_type": "code",
   "execution_count": 75,
   "metadata": {},
   "outputs": [
    {
     "data": {
      "text/plain": [
       "{'dates': 50, 'badam': 100}"
      ]
     },
     "execution_count": 75,
     "metadata": {},
     "output_type": "execute_result"
    }
   ],
   "source": [
    "food2={\"dates\":50,\"badam\":100}\n",
    "food2"
   ]
  },
  {
   "cell_type": "code",
   "execution_count": 76,
   "metadata": {},
   "outputs": [],
   "source": [
    "food1.update(food2)\n"
   ]
  },
  {
   "cell_type": "code",
   "execution_count": 77,
   "metadata": {},
   "outputs": [
    {
     "data": {
      "text/plain": [
       "{'samosa': 30,\n",
       " 'pakora': 100,\n",
       " 'raita': 50,\n",
       " 'chicken rolls': 30,\n",
       " 'tiiki': 15,\n",
       " 'dates': 50,\n",
       " 'badam': 100}"
      ]
     },
     "execution_count": 77,
     "metadata": {},
     "output_type": "execute_result"
    }
   ],
   "source": [
    "food1"
   ]
  },
  {
   "cell_type": "markdown",
   "metadata": {},
   "source": [
    "# Set\n",
    "\n",
    "1. unordered and un indexed\n",
    "\n",
    "2. used with curly braces\n",
    "\n",
    "3. no duplicates allowed"
   ]
  },
  {
   "cell_type": "code",
   "execution_count": 82,
   "metadata": {},
   "outputs": [
    {
     "data": {
      "text/plain": [
       "{1, 2.1, 5.2, 'codanics', 'mesho', 'swat'}"
      ]
     },
     "execution_count": 82,
     "metadata": {},
     "output_type": "execute_result"
    }
   ],
   "source": [
    "s1={1,2.1,5.2,\"mesho\",\"codanics\",\"swat\"}\n",
    "s1"
   ]
  },
  {
   "cell_type": "code",
   "execution_count": 83,
   "metadata": {},
   "outputs": [
    {
     "data": {
      "text/plain": [
       "{1, 2.1, 5.2, 'Islam', 'codanics', 'mesho', 'swat'}"
      ]
     },
     "execution_count": 83,
     "metadata": {},
     "output_type": "execute_result"
    }
   ],
   "source": [
    "s1.add(\"Islam\")\n",
    "s1"
   ]
  },
  {
   "cell_type": "code",
   "execution_count": 84,
   "metadata": {},
   "outputs": [
    {
     "data": {
      "text/plain": [
       "{1, 2.1, 5.2, 'Islam', 'codanics', 'swat'}"
      ]
     },
     "execution_count": 84,
     "metadata": {},
     "output_type": "execute_result"
    }
   ],
   "source": [
    "s1.remove(\"mesho\")\n",
    "s1"
   ]
  },
  {
   "cell_type": "code",
   "execution_count": null,
   "metadata": {},
   "outputs": [],
   "source": []
  }
 ],
 "metadata": {
  "interpreter": {
   "hash": "5ce1028be8e515692f6fd691475cddc273996f1e08399b9033d41b7f6acd6d03"
  },
  "kernelspec": {
   "display_name": "Python 3.9.7 64-bit ('base': conda)",
   "language": "python",
   "name": "python3"
  },
  "language_info": {
   "codemirror_mode": {
    "name": "ipython",
    "version": 3
   },
   "file_extension": ".py",
   "mimetype": "text/x-python",
   "name": "python",
   "nbconvert_exporter": "python",
   "pygments_lexer": "ipython3",
   "version": "3.9.7"
  },
  "orig_nbformat": 4
 },
 "nbformat": 4,
 "nbformat_minor": 2
}
