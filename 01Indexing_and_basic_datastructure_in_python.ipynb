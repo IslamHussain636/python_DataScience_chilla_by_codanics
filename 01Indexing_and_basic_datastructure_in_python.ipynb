{
 "cells": [
  {
   "cell_type": "markdown",
   "id": "9526efb8",
   "metadata": {},
   "source": [
    "          -Indexing "
   ]
  },
  {
   "cell_type": "code",
   "execution_count": 2,
   "id": "c6aa6798",
   "metadata": {},
   "outputs": [
    {
     "data": {
      "text/plain": [
       "'samosa pakora'"
      ]
     },
     "execution_count": 2,
     "metadata": {},
     "output_type": "execute_result"
    }
   ],
   "source": [
    "s= 'samosa pakora'\n",
    "s"
   ]
  },
  {
   "cell_type": "code",
   "execution_count": 2,
   "id": "a0f740b1",
   "metadata": {},
   "outputs": [
    {
     "data": {
      "text/plain": [
       "'s'"
      ]
     },
     "execution_count": 2,
     "metadata": {},
     "output_type": "execute_result"
    }
   ],
   "source": [
    "s[0]"
   ]
  },
  {
   "cell_type": "code",
   "execution_count": 3,
   "id": "9f3302fb",
   "metadata": {},
   "outputs": [
    {
     "data": {
      "text/plain": [
       "'a'"
      ]
     },
     "execution_count": 3,
     "metadata": {},
     "output_type": "execute_result"
    }
   ],
   "source": [
    "s[1]"
   ]
  },
  {
   "cell_type": "code",
   "execution_count": 4,
   "id": "1245b12c",
   "metadata": {},
   "outputs": [
    {
     "data": {
      "text/plain": [
       "'a'"
      ]
     },
     "execution_count": 4,
     "metadata": {},
     "output_type": "execute_result"
    }
   ],
   "source": [
    "s[12]"
   ]
  },
  {
   "cell_type": "code",
   "execution_count": 5,
   "id": "dfa8efcb",
   "metadata": {},
   "outputs": [
    {
     "data": {
      "text/plain": [
       "13"
      ]
     },
     "execution_count": 5,
     "metadata": {},
     "output_type": "execute_result"
    }
   ],
   "source": [
    "len(s)"
   ]
  },
  {
   "cell_type": "code",
   "execution_count": 6,
   "id": "f3924bda",
   "metadata": {},
   "outputs": [
    {
     "data": {
      "text/plain": [
       "'a'"
      ]
     },
     "execution_count": 6,
     "metadata": {},
     "output_type": "execute_result"
    }
   ],
   "source": [
    "s[12]"
   ]
  },
  {
   "cell_type": "code",
   "execution_count": 7,
   "id": "ead13810",
   "metadata": {},
   "outputs": [
    {
     "data": {
      "text/plain": [
       "'samos'"
      ]
     },
     "execution_count": 7,
     "metadata": {},
     "output_type": "execute_result"
    }
   ],
   "source": [
    "s[0:5]"
   ]
  },
  {
   "cell_type": "code",
   "execution_count": 8,
   "id": "f8ec5184",
   "metadata": {},
   "outputs": [
    {
     "data": {
      "text/plain": [
       "'sms ao'"
      ]
     },
     "execution_count": 8,
     "metadata": {},
     "output_type": "execute_result"
    }
   ],
   "source": [
    "s[:12:2]"
   ]
  },
  {
   "cell_type": "code",
   "execution_count": 9,
   "id": "c46b136d",
   "metadata": {},
   "outputs": [
    {
     "data": {
      "text/plain": [
       "'r'"
      ]
     },
     "execution_count": 9,
     "metadata": {},
     "output_type": "execute_result"
    }
   ],
   "source": [
    "s[-2]"
   ]
  },
  {
   "cell_type": "code",
   "execution_count": 10,
   "id": "3a3cb893",
   "metadata": {},
   "outputs": [
    {
     "data": {
      "text/plain": [
       "'a'"
      ]
     },
     "execution_count": 10,
     "metadata": {},
     "output_type": "execute_result"
    }
   ],
   "source": [
    "s[-1]"
   ]
  },
  {
   "cell_type": "code",
   "execution_count": 11,
   "id": "9647c0d6",
   "metadata": {},
   "outputs": [
    {
     "data": {
      "text/plain": [
       "'s'"
      ]
     },
     "execution_count": 11,
     "metadata": {},
     "output_type": "execute_result"
    }
   ],
   "source": [
    "s[-13]"
   ]
  },
  {
   "cell_type": "code",
   "execution_count": 3,
   "id": "17f3f1b5",
   "metadata": {
    "scrolled": true
   },
   "outputs": [
    {
     "data": {
      "text/plain": [
       "'pakora'"
      ]
     },
     "execution_count": 3,
     "metadata": {},
     "output_type": "execute_result"
    }
   ],
   "source": [
    "s[-6:13]"
   ]
  },
  {
   "cell_type": "code",
   "execution_count": 13,
   "id": "6a5545eb",
   "metadata": {},
   "outputs": [
    {
     "data": {
      "text/plain": [
       "'pakora'"
      ]
     },
     "execution_count": 13,
     "metadata": {},
     "output_type": "execute_result"
    }
   ],
   "source": [
    "s[-6:13]"
   ]
  },
  {
   "cell_type": "code",
   "execution_count": 7,
   "id": "369134d7",
   "metadata": {},
   "outputs": [
    {
     "data": {
      "text/plain": [
       "'cricket'"
      ]
     },
     "execution_count": 7,
     "metadata": {},
     "output_type": "execute_result"
    }
   ],
   "source": [
    "game = 'cricket'\n",
    "game"
   ]
  },
  {
   "cell_type": "code",
   "execution_count": null,
   "id": "502d2b91",
   "metadata": {},
   "outputs": [],
   "source": [
    "#Sting Methods "
   ]
  },
  {
   "cell_type": "code",
   "execution_count": 15,
   "id": "66b3b437",
   "metadata": {},
   "outputs": [
    {
     "data": {
      "text/plain": [
       "'cricket'"
      ]
     },
     "execution_count": 15,
     "metadata": {},
     "output_type": "execute_result"
    }
   ],
   "source": [
    "game \n"
   ]
  },
  {
   "cell_type": "code",
   "execution_count": 16,
   "id": "949bf84e",
   "metadata": {},
   "outputs": [
    {
     "data": {
      "text/plain": [
       "7"
      ]
     },
     "execution_count": 16,
     "metadata": {},
     "output_type": "execute_result"
    }
   ],
   "source": [
    "len(game )"
   ]
  },
  {
   "cell_type": "code",
   "execution_count": 8,
   "id": "78b4e95a",
   "metadata": {},
   "outputs": [
    {
     "data": {
      "text/plain": [
       "'Cricket'"
      ]
     },
     "execution_count": 8,
     "metadata": {},
     "output_type": "execute_result"
    }
   ],
   "source": [
    "game.capitalize()"
   ]
  },
  {
   "cell_type": "code",
   "execution_count": 18,
   "id": "da95bbe4",
   "metadata": {},
   "outputs": [
    {
     "data": {
      "text/plain": [
       "'Cricket'"
      ]
     },
     "execution_count": 18,
     "metadata": {},
     "output_type": "execute_result"
    }
   ],
   "source": [
    "game.capitalize()"
   ]
  },
  {
   "cell_type": "code",
   "execution_count": 19,
   "id": "8ec279a5",
   "metadata": {},
   "outputs": [
    {
     "data": {
      "text/plain": [
       "'CRICKET'"
      ]
     },
     "execution_count": 19,
     "metadata": {},
     "output_type": "execute_result"
    }
   ],
   "source": [
    "game.upper()"
   ]
  },
  {
   "cell_type": "code",
   "execution_count": 20,
   "id": "b60418a6",
   "metadata": {},
   "outputs": [
    {
     "data": {
      "text/plain": [
       "'cricket'"
      ]
     },
     "execution_count": 20,
     "metadata": {},
     "output_type": "execute_result"
    }
   ],
   "source": [
    "game.lower()"
   ]
  },
  {
   "cell_type": "code",
   "execution_count": 21,
   "id": "73f8eadb",
   "metadata": {},
   "outputs": [
    {
     "data": {
      "text/plain": [
       "'mricket'"
      ]
     },
     "execution_count": 21,
     "metadata": {},
     "output_type": "execute_result"
    }
   ],
   "source": [
    "game.replace('cri','mri')"
   ]
  },
  {
   "cell_type": "code",
   "execution_count": 9,
   "id": "ead23338",
   "metadata": {},
   "outputs": [
    {
     "data": {
      "text/plain": [
       "'Islam Hussain'"
      ]
     },
     "execution_count": 9,
     "metadata": {},
     "output_type": "execute_result"
    }
   ],
   "source": [
    "#counting a specific albaphet in a string\n",
    "khan='Islam Hussain'\n",
    "khan"
   ]
  },
  {
   "cell_type": "code",
   "execution_count": 23,
   "id": "f0b34d0e",
   "metadata": {},
   "outputs": [
    {
     "data": {
      "text/plain": [
       "3"
      ]
     },
     "execution_count": 23,
     "metadata": {},
     "output_type": "execute_result"
    }
   ],
   "source": [
    "khan.count('s')"
   ]
  },
  {
   "cell_type": "code",
   "execution_count": 10,
   "id": "1c8dbe71",
   "metadata": {},
   "outputs": [
    {
     "data": {
      "text/plain": [
       "2"
      ]
     },
     "execution_count": 10,
     "metadata": {},
     "output_type": "execute_result"
    }
   ],
   "source": [
    "khan.count('a')"
   ]
  },
  {
   "cell_type": "code",
   "execution_count": 25,
   "id": "f9268e56",
   "metadata": {},
   "outputs": [
    {
     "data": {
      "text/plain": [
       "2"
      ]
     },
     "execution_count": 25,
     "metadata": {},
     "output_type": "execute_result"
    }
   ],
   "source": [
    "khan.count('a')"
   ]
  },
  {
   "cell_type": "markdown",
   "id": "956eedc5",
   "metadata": {},
   "source": [
    "#how to found index number in larger strings\n"
   ]
  },
  {
   "cell_type": "code",
   "execution_count": 26,
   "id": "a8c35342",
   "metadata": {},
   "outputs": [
    {
     "data": {
      "text/plain": [
       "' I am Islam Hussain '"
      ]
     },
     "execution_count": 26,
     "metadata": {},
     "output_type": "execute_result"
    }
   ],
   "source": [
    "s=' I am Islam Hussain '\n",
    "s"
   ]
  },
  {
   "cell_type": "code",
   "execution_count": 27,
   "id": "2a41a529",
   "metadata": {},
   "outputs": [
    {
     "data": {
      "text/plain": [
       "18"
      ]
     },
     "execution_count": 27,
     "metadata": {},
     "output_type": "execute_result"
    }
   ],
   "source": [
    "s.find('n')"
   ]
  },
  {
   "cell_type": "code",
   "execution_count": 28,
   "id": "f14cfd13",
   "metadata": {},
   "outputs": [
    {
     "data": {
      "text/plain": [
       "14"
      ]
     },
     "execution_count": 28,
     "metadata": {},
     "output_type": "execute_result"
    }
   ],
   "source": [
    "s.find('ss')"
   ]
  },
  {
   "cell_type": "code",
   "execution_count": 29,
   "id": "dc182547",
   "metadata": {},
   "outputs": [
    {
     "data": {
      "text/plain": [
       "17"
      ]
     },
     "execution_count": 29,
     "metadata": {},
     "output_type": "execute_result"
    }
   ],
   "source": [
    "s.find('i')"
   ]
  },
  {
   "cell_type": "code",
   "execution_count": 30,
   "id": "720915d1",
   "metadata": {},
   "outputs": [],
   "source": [
    "#How to split a string"
   ]
  },
  {
   "cell_type": "code",
   "execution_count": 31,
   "id": "3cf54981",
   "metadata": {},
   "outputs": [
    {
     "data": {
      "text/plain": [
       "'I love everykind of food, specially, I love fast food like burger,'"
      ]
     },
     "execution_count": 31,
     "metadata": {},
     "output_type": "execute_result"
    }
   ],
   "source": [
    "we=\"I love everykind of food, specially, I love fast food like burger,\"\n",
    "we"
   ]
  },
  {
   "cell_type": "code",
   "execution_count": 32,
   "id": "afdbd7a7",
   "metadata": {},
   "outputs": [
    {
     "data": {
      "text/plain": [
       "['I love everykind of food', ' specially', ' I love fast food like burger', '']"
      ]
     },
     "execution_count": 32,
     "metadata": {},
     "output_type": "execute_result"
    }
   ],
   "source": [
    "we.split(',')"
   ]
  },
  {
   "cell_type": "code",
   "execution_count": 33,
   "id": "065cc16e",
   "metadata": {},
   "outputs": [
    {
     "data": {
      "text/plain": [
       "'khan'"
      ]
     },
     "execution_count": 33,
     "metadata": {},
     "output_type": "execute_result"
    }
   ],
   "source": [
    "o='khan'\n",
    "o"
   ]
  },
  {
   "cell_type": "markdown",
   "id": "25bec1af",
   "metadata": {},
   "source": [
    "#python ka chilla with baba Ammar\n",
    "#How to use jupyter nootebook\n",
    "#Islam"
   ]
  },
  {
   "cell_type": "markdown",
   "id": "56d0aeeb",
   "metadata": {},
   "source": [
    "# Basci Data structure in Python "
   ]
  },
  {
   "cell_type": "markdown",
   "id": "046bad01",
   "metadata": {},
   "source": [
    "##Tuple\n",
    "#list\n",
    "#dictionaries\n",
    "#set\n"
   ]
  },
  {
   "cell_type": "markdown",
   "id": "bee38731",
   "metadata": {},
   "source": [
    "#ordered collection of element\n",
    "#enclosed in braces()\n",
    "#different kind of element can be sotred\n",
    "#Immutebale\n"
   ]
  },
  {
   "cell_type": "code",
   "execution_count": 12,
   "id": "d509abe9",
   "metadata": {},
   "outputs": [
    {
     "data": {
      "text/plain": [
       "('islam', 'sami', 'amir', 2)"
      ]
     },
     "execution_count": 12,
     "metadata": {},
     "output_type": "execute_result"
    }
   ],
   "source": [
    "tup1=('islam','sami','amir',2)\n",
    "tup1"
   ]
  },
  {
   "cell_type": "code",
   "execution_count": 38,
   "id": "bca9d29e",
   "metadata": {},
   "outputs": [
    {
     "data": {
      "text/plain": [
       "tuple"
      ]
     },
     "execution_count": 38,
     "metadata": {},
     "output_type": "execute_result"
    }
   ],
   "source": [
    "type(tup1)"
   ]
  },
  {
   "cell_type": "code",
   "execution_count": 39,
   "id": "7f209e4a",
   "metadata": {},
   "outputs": [
    {
     "data": {
      "text/plain": [
       "'sami'"
      ]
     },
     "execution_count": 39,
     "metadata": {},
     "output_type": "execute_result"
    }
   ],
   "source": [
    "tup1[1]"
   ]
  },
  {
   "cell_type": "code",
   "execution_count": 40,
   "id": "2b35bf98",
   "metadata": {},
   "outputs": [
    {
     "data": {
      "text/plain": [
       "('islam', 'sami', 'amir', 2)"
      ]
     },
     "execution_count": 40,
     "metadata": {},
     "output_type": "execute_result"
    }
   ],
   "source": [
    "tup1[:4]"
   ]
  },
  {
   "cell_type": "code",
   "execution_count": 41,
   "id": "30c96792",
   "metadata": {},
   "outputs": [
    {
     "data": {
      "text/plain": [
       "('islam', 'amir')"
      ]
     },
     "execution_count": 41,
     "metadata": {},
     "output_type": "execute_result"
    }
   ],
   "source": [
    "tup1[:4:2]"
   ]
  },
  {
   "cell_type": "code",
   "execution_count": 42,
   "id": "6b6fa6da",
   "metadata": {},
   "outputs": [
    {
     "data": {
      "text/plain": [
       "4"
      ]
     },
     "execution_count": 42,
     "metadata": {},
     "output_type": "execute_result"
    }
   ],
   "source": [
    "len(tup1)"
   ]
  },
  {
   "cell_type": "code",
   "execution_count": 13,
   "id": "ba1a7793",
   "metadata": {},
   "outputs": [
    {
     "data": {
      "text/plain": [
       "('khan', 3, 'banana', 'hello')"
      ]
     },
     "execution_count": 13,
     "metadata": {},
     "output_type": "execute_result"
    }
   ],
   "source": [
    "tup2=('khan',3,'banana','hello')\n",
    "tup2"
   ]
  },
  {
   "cell_type": "code",
   "execution_count": 44,
   "id": "f9306f25",
   "metadata": {},
   "outputs": [
    {
     "data": {
      "text/plain": [
       "('islam', 'sami', 'amir', 2, 'khan', 3, 'banana', 'hello')"
      ]
     },
     "execution_count": 44,
     "metadata": {},
     "output_type": "execute_result"
    }
   ],
   "source": [
    "tup1+tup2"
   ]
  },
  {
   "cell_type": "code",
   "execution_count": 14,
   "id": "e9ae6657",
   "metadata": {},
   "outputs": [
    {
     "data": {
      "text/plain": [
       "('islam',\n",
       " 'sami',\n",
       " 'amir',\n",
       " 2,\n",
       " 'islam',\n",
       " 'sami',\n",
       " 'amir',\n",
       " 2,\n",
       " 'khan',\n",
       " 3,\n",
       " 'banana',\n",
       " 'hello')"
      ]
     },
     "execution_count": 14,
     "metadata": {},
     "output_type": "execute_result"
    }
   ],
   "source": [
    "tup1*2+tup2"
   ]
  },
  {
   "cell_type": "code",
   "execution_count": 46,
   "id": "cc2a0760",
   "metadata": {},
   "outputs": [
    {
     "data": {
      "text/plain": [
       "('islam',\n",
       " 'sami',\n",
       " 'amir',\n",
       " 2,\n",
       " 'islam',\n",
       " 'sami',\n",
       " 'amir',\n",
       " 2,\n",
       " 'khan',\n",
       " 3,\n",
       " 'banana',\n",
       " 'hello')"
      ]
     },
     "execution_count": 46,
     "metadata": {},
     "output_type": "execute_result"
    }
   ],
   "source": [
    "tup1*2 +tup2"
   ]
  },
  {
   "cell_type": "code",
   "execution_count": 15,
   "id": "828f51b4",
   "metadata": {},
   "outputs": [
    {
     "data": {
      "text/plain": [
       "(12, 13, 14, 15, 16)"
      ]
     },
     "execution_count": 15,
     "metadata": {},
     "output_type": "execute_result"
    }
   ],
   "source": [
    "tup3=(12,13,14,15,16)\n",
    "tup3."
   ]
  },
  {
   "cell_type": "code",
   "execution_count": 48,
   "id": "60954a9f",
   "metadata": {},
   "outputs": [
    {
     "data": {
      "text/plain": [
       "12"
      ]
     },
     "execution_count": 48,
     "metadata": {},
     "output_type": "execute_result"
    }
   ],
   "source": [
    "min(tup3)"
   ]
  },
  {
   "cell_type": "code",
   "execution_count": 131,
   "id": "ccd13f9d",
   "metadata": {},
   "outputs": [
    {
     "data": {
      "text/plain": [
       "(12, 13, 14, 15)"
      ]
     },
     "execution_count": 131,
     "metadata": {},
     "output_type": "execute_result"
    }
   ],
   "source": [
    "tup3[:4]"
   ]
  },
  {
   "cell_type": "code",
   "execution_count": 16,
   "id": "096a7849",
   "metadata": {},
   "outputs": [
    {
     "data": {
      "text/plain": [
       "16"
      ]
     },
     "execution_count": 16,
     "metadata": {},
     "output_type": "execute_result"
    }
   ],
   "source": [
    "max(tup3)"
   ]
  },
  {
   "cell_type": "code",
   "execution_count": 51,
   "id": "e320a2c1",
   "metadata": {},
   "outputs": [
    {
     "data": {
      "text/plain": [
       "16"
      ]
     },
     "execution_count": 51,
     "metadata": {},
     "output_type": "execute_result"
    }
   ],
   "source": [
    "max(tup3)"
   ]
  },
  {
   "cell_type": "code",
   "execution_count": 132,
   "id": "bcdce5a8",
   "metadata": {},
   "outputs": [
    {
     "data": {
      "text/plain": [
       "(12, 13, 14, 15, 16, 12, 13, 14, 15, 16, 12, 13, 14, 15, 16)"
      ]
     },
     "execution_count": 132,
     "metadata": {},
     "output_type": "execute_result"
    }
   ],
   "source": [
    "tup3*3"
   ]
  },
  {
   "cell_type": "markdown",
   "id": "ba8e118f",
   "metadata": {},
   "source": [
    "---"
   ]
  },
  {
   "cell_type": "code",
   "execution_count": 135,
   "id": "fee410f5",
   "metadata": {},
   "outputs": [
    {
     "data": {
      "text/plain": [
       "0"
      ]
     },
     "execution_count": 135,
     "metadata": {},
     "output_type": "execute_result"
    }
   ],
   "source": [
    "tup3.index(12)"
   ]
  },
  {
   "cell_type": "markdown",
   "id": "40f9cd4a",
   "metadata": {},
   "source": [
    "##-- List \n",
    "-order collection of elements\n",
    "-enclosed in [] squred braces\n",
    "-mutable value can be changed"
   ]
  },
  {
   "cell_type": "code",
   "execution_count": null,
   "id": "31b1cfc0",
   "metadata": {},
   "outputs": [],
   "source": []
  },
  {
   "cell_type": "code",
   "execution_count": 17,
   "id": "5fad8d17",
   "metadata": {},
   "outputs": [
    {
     "data": {
      "text/plain": [
       "['khan', 3, 'banana', 'hello']"
      ]
     },
     "execution_count": 17,
     "metadata": {},
     "output_type": "execute_result"
    }
   ],
   "source": [
    "list1=['khan',3,'banana','hello']\n",
    "list1"
   ]
  },
  {
   "cell_type": "code",
   "execution_count": 54,
   "id": "96760bb3",
   "metadata": {},
   "outputs": [
    {
     "data": {
      "text/plain": [
       "tuple"
      ]
     },
     "execution_count": 54,
     "metadata": {},
     "output_type": "execute_result"
    }
   ],
   "source": [
    "type(list1)"
   ]
  },
  {
   "cell_type": "code",
   "execution_count": 55,
   "id": "df15f8bb",
   "metadata": {},
   "outputs": [
    {
     "data": {
      "text/plain": [
       "4"
      ]
     },
     "execution_count": 55,
     "metadata": {},
     "output_type": "execute_result"
    }
   ],
   "source": [
    "len(list1)"
   ]
  },
  {
   "cell_type": "code",
   "execution_count": 137,
   "id": "2708cd4f",
   "metadata": {},
   "outputs": [
    {
     "data": {
      "text/plain": [
       "'hello'"
      ]
     },
     "execution_count": 137,
     "metadata": {},
     "output_type": "execute_result"
    }
   ],
   "source": [
    "list1[3]"
   ]
  },
  {
   "cell_type": "code",
   "execution_count": 58,
   "id": "59953570",
   "metadata": {},
   "outputs": [
    {
     "data": {
      "text/plain": [
       "'banana'"
      ]
     },
     "execution_count": 58,
     "metadata": {},
     "output_type": "execute_result"
    }
   ],
   "source": [
    "list1[2]"
   ]
  },
  {
   "cell_type": "code",
   "execution_count": 2,
   "id": "5bfb581f",
   "metadata": {},
   "outputs": [
    {
     "data": {
      "text/plain": [
       "['islam', 'sami', 'amir', 2]"
      ]
     },
     "execution_count": 2,
     "metadata": {},
     "output_type": "execute_result"
    }
   ],
   "source": [
    "list2=['islam','sami','amir',2]\n",
    "list2"
   ]
  },
  {
   "cell_type": "code",
   "execution_count": 60,
   "id": "d0612eef",
   "metadata": {},
   "outputs": [
    {
     "data": {
      "text/plain": [
       "('khan', 3, 'banana', 'hello', 'islam', 'sami', 'amir', 2)"
      ]
     },
     "execution_count": 60,
     "metadata": {},
     "output_type": "execute_result"
    }
   ],
   "source": [
    "list1 + list2"
   ]
  },
  {
   "cell_type": "code",
   "execution_count": 61,
   "id": "3c5fa882",
   "metadata": {},
   "outputs": [
    {
     "data": {
      "text/plain": [
       "('islam', 'sami', 'amir', 2, 'islam', 'sami', 'amir', 2)"
      ]
     },
     "execution_count": 61,
     "metadata": {},
     "output_type": "execute_result"
    }
   ],
   "source": [
    "list2*2"
   ]
  },
  {
   "cell_type": "code",
   "execution_count": 65,
   "id": "c0d68694",
   "metadata": {},
   "outputs": [],
   "source": [
    "list1.reverse() "
   ]
  },
  {
   "cell_type": "code",
   "execution_count": 66,
   "id": "57db2ad1",
   "metadata": {},
   "outputs": [],
   "source": [
    "list2.reverse()"
   ]
  },
  {
   "cell_type": "code",
   "execution_count": 67,
   "id": "20a26633",
   "metadata": {},
   "outputs": [
    {
     "data": {
      "text/plain": [
       "['khan', 3, 'banana', 'hello']"
      ]
     },
     "execution_count": 67,
     "metadata": {},
     "output_type": "execute_result"
    }
   ],
   "source": [
    "list1"
   ]
  },
  {
   "cell_type": "code",
   "execution_count": 68,
   "id": "f2f1bf8b",
   "metadata": {},
   "outputs": [
    {
     "data": {
      "text/plain": [
       "[2, 'amir', 'sami', 'islam']"
      ]
     },
     "execution_count": 68,
     "metadata": {},
     "output_type": "execute_result"
    }
   ],
   "source": [
    "list2"
   ]
  },
  {
   "cell_type": "code",
   "execution_count": 69,
   "id": "7e94b9a6",
   "metadata": {},
   "outputs": [
    {
     "data": {
      "text/plain": [
       "[2, 'amir', 'sami', 'islam', 'I am from Swat']"
      ]
     },
     "execution_count": 69,
     "metadata": {},
     "output_type": "execute_result"
    }
   ],
   "source": [
    "list2.append(\"I am from Swat\")\n",
    "list2"
   ]
  },
  {
   "cell_type": "code",
   "execution_count": 3,
   "id": "0a0d3afa",
   "metadata": {},
   "outputs": [
    {
     "data": {
      "text/plain": [
       "1"
      ]
     },
     "execution_count": 3,
     "metadata": {},
     "output_type": "execute_result"
    }
   ],
   "source": [
    "#Assignment of lists \n",
    "list2.count('sami')"
   ]
  },
  {
   "cell_type": "code",
   "execution_count": 73,
   "id": "486eda17",
   "metadata": {},
   "outputs": [
    {
     "data": {
      "text/plain": [
       "[12, 23, 54, 65, 76, 878, 90]"
      ]
     },
     "execution_count": 73,
     "metadata": {},
     "output_type": "execute_result"
    }
   ],
   "source": [
    "list3=[12,23,54,65,76,878,90]\n",
    "list3"
   ]
  },
  {
   "cell_type": "code",
   "execution_count": 74,
   "id": "d265a5c4",
   "metadata": {},
   "outputs": [],
   "source": [
    "list3.sort()"
   ]
  },
  {
   "cell_type": "code",
   "execution_count": 75,
   "id": "31e27e6c",
   "metadata": {},
   "outputs": [
    {
     "data": {
      "text/plain": [
       "[12, 23, 54, 65, 76, 90, 878]"
      ]
     },
     "execution_count": 75,
     "metadata": {},
     "output_type": "execute_result"
    }
   ],
   "source": [
    "list3"
   ]
  },
  {
   "cell_type": "code",
   "execution_count": 76,
   "id": "d52bed52",
   "metadata": {},
   "outputs": [
    {
     "data": {
      "text/plain": [
       "[12, 23, 54, 65, 76, 90, 878, 12, 23, 54, 65, 76, 90, 878]"
      ]
     },
     "execution_count": 76,
     "metadata": {},
     "output_type": "execute_result"
    }
   ],
   "source": [
    "list3*2"
   ]
  },
  {
   "cell_type": "code",
   "execution_count": 77,
   "id": "579ae869",
   "metadata": {},
   "outputs": [
    {
     "data": {
      "text/plain": [
       "['khan', 3, 'banana', 'hello', 2, 'amir', 'sami', 'islam', 'I am from Swat']"
      ]
     },
     "execution_count": 77,
     "metadata": {},
     "output_type": "execute_result"
    }
   ],
   "source": [
    "list1+ list2"
   ]
  },
  {
   "cell_type": "code",
   "execution_count": 78,
   "id": "99818af2",
   "metadata": {},
   "outputs": [
    {
     "data": {
      "text/plain": [
       "[2, 'amir', 'sami', 'islam', 'I am from Swat', 12, 23, 54, 65, 76, 90, 878]"
      ]
     },
     "execution_count": 78,
     "metadata": {},
     "output_type": "execute_result"
    }
   ],
   "source": [
    "list2+list3"
   ]
  },
  {
   "cell_type": "code",
   "execution_count": 79,
   "id": "acf450d6",
   "metadata": {},
   "outputs": [],
   "source": [
    "lists= list1+list2+list3"
   ]
  },
  {
   "cell_type": "code",
   "execution_count": 80,
   "id": "cbcd9767",
   "metadata": {},
   "outputs": [
    {
     "data": {
      "text/plain": [
       "['khan',\n",
       " 3,\n",
       " 'banana',\n",
       " 'hello',\n",
       " 2,\n",
       " 'amir',\n",
       " 'sami',\n",
       " 'islam',\n",
       " 'I am from Swat',\n",
       " 12,\n",
       " 23,\n",
       " 54,\n",
       " 65,\n",
       " 76,\n",
       " 90,\n",
       " 878]"
      ]
     },
     "execution_count": 80,
     "metadata": {},
     "output_type": "execute_result"
    }
   ],
   "source": [
    "lists"
   ]
  },
  {
   "cell_type": "markdown",
   "id": "c8df5820",
   "metadata": {},
   "source": [
    "##-3 Distionaries \n",
    "- unorederd collection of elements\n",
    "- key and value\n",
    "- curly baraces {}\n",
    "- mutatable "
   ]
  },
  {
   "cell_type": "code",
   "execution_count": 81,
   "id": "121d5b63",
   "metadata": {},
   "outputs": [
    {
     "data": {
      "text/plain": [
       "{'apple': 30, 'Bananas': 20, 'chartsmsala': 10, 'Milk': 40}"
      ]
     },
     "execution_count": 81,
     "metadata": {},
     "output_type": "execute_result"
    }
   ],
   "source": [
    "dic1={\"apple\":30,'Bananas':20,\"chartsmsala\":10,\"Milk\":40}\n",
    "dic1"
   ]
  },
  {
   "cell_type": "code",
   "execution_count": 82,
   "id": "d04e75e8",
   "metadata": {},
   "outputs": [
    {
     "data": {
      "text/plain": [
       "dict"
      ]
     },
     "execution_count": 82,
     "metadata": {},
     "output_type": "execute_result"
    }
   ],
   "source": [
    "type(dic1)"
   ]
  },
  {
   "cell_type": "code",
   "execution_count": 87,
   "id": "51963785",
   "metadata": {},
   "outputs": [
    {
     "data": {
      "text/plain": [
       "dict_keys(['apple', 'Bananas', 'chartsmsala', 'Milk'])"
      ]
     },
     "execution_count": 87,
     "metadata": {},
     "output_type": "execute_result"
    }
   ],
   "source": [
    "keys=dic1.keys()\n",
    "keys"
   ]
  },
  {
   "cell_type": "code",
   "execution_count": 88,
   "id": "52578bb4",
   "metadata": {},
   "outputs": [
    {
     "data": {
      "text/plain": [
       "dict_values([30, 20, 10, 40])"
      ]
     },
     "execution_count": 88,
     "metadata": {},
     "output_type": "execute_result"
    }
   ],
   "source": [
    "values=dic1.values()\n",
    "values"
   ]
  },
  {
   "cell_type": "code",
   "execution_count": 90,
   "id": "dfdb3141",
   "metadata": {},
   "outputs": [
    {
     "data": {
      "text/plain": [
       "{'apple': 30, 'Bananas': 20, 'chartsmsala': 10, 'Milk': 40, 'tikki': 13}"
      ]
     },
     "execution_count": 90,
     "metadata": {},
     "output_type": "execute_result"
    }
   ],
   "source": [
    "dic1['tikki']=13\n",
    "dic1"
   ]
  },
  {
   "cell_type": "code",
   "execution_count": 91,
   "id": "c14145f1",
   "metadata": {},
   "outputs": [],
   "source": [
    "dic2= {'dates':20,'choclates':40,'sweia':90}"
   ]
  },
  {
   "cell_type": "code",
   "execution_count": 92,
   "id": "0d6455aa",
   "metadata": {},
   "outputs": [
    {
     "data": {
      "text/plain": [
       "{'dates': 20, 'choclates': 40, 'sweia': 90}"
      ]
     },
     "execution_count": 92,
     "metadata": {},
     "output_type": "execute_result"
    }
   ],
   "source": [
    "dic2"
   ]
  },
  {
   "cell_type": "code",
   "execution_count": 94,
   "id": "7002966a",
   "metadata": {},
   "outputs": [],
   "source": [
    "dic1.update(dic2)"
   ]
  },
  {
   "cell_type": "code",
   "execution_count": 95,
   "id": "bfaacbd5",
   "metadata": {},
   "outputs": [
    {
     "data": {
      "text/plain": [
       "{'apple': 30,\n",
       " 'Bananas': 20,\n",
       " 'chartsmsala': 10,\n",
       " 'Milk': 40,\n",
       " 'tikki': 13,\n",
       " 'dates': 20,\n",
       " 'choclates': 40,\n",
       " 'sweia': 90}"
      ]
     },
     "execution_count": 95,
     "metadata": {},
     "output_type": "execute_result"
    }
   ],
   "source": [
    "dic1"
   ]
  },
  {
   "cell_type": "markdown",
   "id": "c68c1bed",
   "metadata": {},
   "source": [
    "## --- 3 Sets \n",
    "- unorderd and unindexed collection of elements\n",
    "- curly braces {}\n",
    "- no dulicats "
   ]
  },
  {
   "cell_type": "code",
   "execution_count": 96,
   "id": "09639267",
   "metadata": {},
   "outputs": [
    {
     "data": {
      "text/plain": [
       "{1, 2.1, 3, 90, 'beauty', 'khan', 'swat'}"
      ]
     },
     "execution_count": 96,
     "metadata": {},
     "output_type": "execute_result"
    }
   ],
   "source": [
    "s1={1,2.1,3,'khan','swat','beauty',90}\n",
    "s1"
   ]
  },
  {
   "cell_type": "code",
   "execution_count": 97,
   "id": "4bbdb175",
   "metadata": {},
   "outputs": [],
   "source": [
    "s1.add(\"islam\")"
   ]
  },
  {
   "cell_type": "code",
   "execution_count": 98,
   "id": "3c159165",
   "metadata": {},
   "outputs": [
    {
     "data": {
      "text/plain": [
       "{1, 2.1, 3, 90, 'beauty', 'islam', 'khan', 'swat'}"
      ]
     },
     "execution_count": 98,
     "metadata": {},
     "output_type": "execute_result"
    }
   ],
   "source": [
    "s1"
   ]
  },
  {
   "cell_type": "code",
   "execution_count": 100,
   "id": "3ca58748",
   "metadata": {},
   "outputs": [
    {
     "data": {
      "text/plain": [
       "{1, 2.1, 3, 90, 'beauty', 'islam', 'khan', 'swat'}"
      ]
     },
     "execution_count": 100,
     "metadata": {},
     "output_type": "execute_result"
    }
   ],
   "source": [
    "#copy Function in sets\n",
    "s2= s1.copy()\n",
    "\n",
    "s2."
   ]
  },
  {
   "cell_type": "code",
   "execution_count": 102,
   "id": "b7643028",
   "metadata": {},
   "outputs": [
    {
     "data": {
      "text/plain": [
       "{1, 2, 3, 4, 5, 6}"
      ]
     },
     "execution_count": 102,
     "metadata": {},
     "output_type": "execute_result"
    }
   ],
   "source": [
    "#add function \n",
    "s3={1,2,3,4,5,6}\n",
    "s3"
   ]
  },
  {
   "cell_type": "code",
   "execution_count": 103,
   "id": "43fc4795",
   "metadata": {},
   "outputs": [
    {
     "data": {
      "text/plain": [
       "{1, 2, 3, 4, 5, 6, 'Islam'}"
      ]
     },
     "execution_count": 103,
     "metadata": {},
     "output_type": "execute_result"
    }
   ],
   "source": [
    "#adding values\n",
    "s3.add(\"Islam\")\n",
    "s3"
   ]
  },
  {
   "cell_type": "code",
   "execution_count": 104,
   "id": "cfb347a9",
   "metadata": {},
   "outputs": [],
   "source": [
    "s3.clear()"
   ]
  },
  {
   "cell_type": "code",
   "execution_count": 105,
   "id": "a307da87",
   "metadata": {},
   "outputs": [
    {
     "data": {
      "text/plain": [
       "set()"
      ]
     },
     "execution_count": 105,
     "metadata": {},
     "output_type": "execute_result"
    }
   ],
   "source": [
    "s3"
   ]
  },
  {
   "cell_type": "code",
   "execution_count": 106,
   "id": "d889a911",
   "metadata": {},
   "outputs": [
    {
     "data": {
      "text/plain": [
       "{1, 2, 3, 4, 5, 6}"
      ]
     },
     "execution_count": 106,
     "metadata": {},
     "output_type": "execute_result"
    }
   ],
   "source": [
    "s3={1,2,3,4,5,6}\n",
    "s3"
   ]
  },
  {
   "cell_type": "code",
   "execution_count": 108,
   "id": "ba0c5497",
   "metadata": {},
   "outputs": [
    {
     "data": {
      "text/plain": [
       "{1, 2, 3, 6}"
      ]
     },
     "execution_count": 108,
     "metadata": {},
     "output_type": "execute_result"
    }
   ],
   "source": [
    "#diiference function in sets \n",
    "s3={1,2,3,4,5,6}\n",
    "\n",
    "s4={9,4,5,7,0}\n",
    "s3.difference(s4)\n",
    "#s4.difference(s3)"
   ]
  },
  {
   "cell_type": "code",
   "execution_count": 109,
   "id": "820f1c9a",
   "metadata": {},
   "outputs": [
    {
     "data": {
      "text/plain": [
       "{0, 7, 9}"
      ]
     },
     "execution_count": 109,
     "metadata": {},
     "output_type": "execute_result"
    }
   ],
   "source": [
    "s3={1,2,3,4,5,6}\n",
    "s4={9,4,5,7,0}\n",
    "#s3.difference(s4)\n",
    "s4.difference(s3)"
   ]
  },
  {
   "cell_type": "code",
   "execution_count": 111,
   "id": "72731770",
   "metadata": {},
   "outputs": [
    {
     "data": {
      "text/plain": [
       "{1, 2, 3, 6}"
      ]
     },
     "execution_count": 111,
     "metadata": {},
     "output_type": "execute_result"
    }
   ],
   "source": [
    "s3={1,2,3,4,5,6}\n",
    "s4={9,4,5,7,0}\n",
    "s3.difference_update(s4)\n",
    "s3\n",
    "#Remove that element which is common both"
   ]
  },
  {
   "cell_type": "code",
   "execution_count": 115,
   "id": "29b3bb4c",
   "metadata": {},
   "outputs": [
    {
     "data": {
      "text/plain": [
       "{4, 5}"
      ]
     },
     "execution_count": 115,
     "metadata": {},
     "output_type": "execute_result"
    }
   ],
   "source": [
    "s3={1,2,3,4,5,6}\n",
    "s4={9,4,5,7,0}\n",
    "s3.intersection(s4)\n"
   ]
  },
  {
   "cell_type": "code",
   "execution_count": 116,
   "id": "80777706",
   "metadata": {},
   "outputs": [],
   "source": [
    "s3={1,2,3,4,5,6}\n",
    "s4={9,4,5,7,0}\n",
    "s3.intersection_update(s4)"
   ]
  },
  {
   "cell_type": "code",
   "execution_count": 117,
   "id": "0c7d4eb0",
   "metadata": {},
   "outputs": [
    {
     "data": {
      "text/plain": [
       "{4, 5}"
      ]
     },
     "execution_count": 117,
     "metadata": {},
     "output_type": "execute_result"
    }
   ],
   "source": [
    "s3"
   ]
  },
  {
   "cell_type": "code",
   "execution_count": 118,
   "id": "46e1aaea",
   "metadata": {},
   "outputs": [
    {
     "data": {
      "text/plain": [
       "False"
      ]
     },
     "execution_count": 118,
     "metadata": {},
     "output_type": "execute_result"
    }
   ],
   "source": [
    "s3={1,2,3,4,5,6}\n",
    "s4={9,4,5,7,0}\n",
    "s3.isdisjoint(s4)"
   ]
  },
  {
   "cell_type": "code",
   "execution_count": 119,
   "id": "81dbb120",
   "metadata": {},
   "outputs": [
    {
     "data": {
      "text/plain": [
       "False"
      ]
     },
     "execution_count": 119,
     "metadata": {},
     "output_type": "execute_result"
    }
   ],
   "source": [
    "s3={1,2,3,4,5,6}\n",
    "s4={9,4,5,7,0}\n",
    "s3.issubset(s4)"
   ]
  },
  {
   "cell_type": "code",
   "execution_count": 120,
   "id": "1890d99a",
   "metadata": {},
   "outputs": [
    {
     "data": {
      "text/plain": [
       "False"
      ]
     },
     "execution_count": 120,
     "metadata": {},
     "output_type": "execute_result"
    }
   ],
   "source": [
    "s5={1,2,4}\n",
    "s3.issubset(s5)\n"
   ]
  },
  {
   "cell_type": "code",
   "execution_count": 121,
   "id": "e85f4a63",
   "metadata": {},
   "outputs": [
    {
     "data": {
      "text/plain": [
       "True"
      ]
     },
     "execution_count": 121,
     "metadata": {},
     "output_type": "execute_result"
    }
   ],
   "source": [
    "s5={1,2,4}\n",
    "s5.issubset(s3)\n"
   ]
  },
  {
   "cell_type": "code",
   "execution_count": 24,
   "id": "6026fa0f",
   "metadata": {},
   "outputs": [
    {
     "data": {
      "text/plain": [
       "1"
      ]
     },
     "execution_count": 24,
     "metadata": {},
     "output_type": "execute_result"
    }
   ],
   "source": [
    "s3={1,2,3,4,5,6}\n",
    "s4={9,4,5,7,0}\n",
    "s3.pop()"
   ]
  },
  {
   "cell_type": "code",
   "execution_count": 123,
   "id": "6377f41e",
   "metadata": {},
   "outputs": [
    {
     "data": {
      "text/plain": [
       "{2, 4}"
      ]
     },
     "execution_count": 123,
     "metadata": {},
     "output_type": "execute_result"
    }
   ],
   "source": [
    "s5={1,2,4} #Pop in sets \n",
    "s5.pop()\n",
    "s5"
   ]
  },
  {
   "cell_type": "code",
   "execution_count": 124,
   "id": "f02eceba",
   "metadata": {},
   "outputs": [],
   "source": [
    "s5={1,2,4} #remove function in sets \n",
    "s5.remove(1)"
   ]
  },
  {
   "cell_type": "code",
   "execution_count": 125,
   "id": "b733aaed",
   "metadata": {},
   "outputs": [
    {
     "data": {
      "text/plain": [
       "{2, 4}"
      ]
     },
     "execution_count": 125,
     "metadata": {},
     "output_type": "execute_result"
    }
   ],
   "source": [
    "s5"
   ]
  },
  {
   "cell_type": "code",
   "execution_count": 126,
   "id": "e19efc6a",
   "metadata": {},
   "outputs": [],
   "source": [
    "s3={1,2,3,4,5,6} #discard function in sets \n",
    "s3.discard(6)"
   ]
  },
  {
   "cell_type": "code",
   "execution_count": 127,
   "id": "60f55156",
   "metadata": {},
   "outputs": [
    {
     "data": {
      "text/plain": [
       "{1, 2, 3, 4, 5}"
      ]
     },
     "execution_count": 127,
     "metadata": {},
     "output_type": "execute_result"
    }
   ],
   "source": [
    "s3"
   ]
  },
  {
   "cell_type": "code",
   "execution_count": 128,
   "id": "25b89aad",
   "metadata": {},
   "outputs": [
    {
     "data": {
      "text/plain": [
       "{0, 1, 2, 3, 6, 7, 9}"
      ]
     },
     "execution_count": 128,
     "metadata": {},
     "output_type": "execute_result"
    }
   ],
   "source": [
    "#Symetric differnce\n",
    "s3={1,2,3,4,5,6}\n",
    "s4={9,4,5,7,0}\n",
    "s3.symmetric_difference(s4)"
   ]
  },
  {
   "cell_type": "code",
   "execution_count": 129,
   "id": "a02ca3bc",
   "metadata": {},
   "outputs": [
    {
     "name": "stdout",
     "output_type": "stream",
     "text": [
      "{'a', 'b', 'e'}\n",
      "{'a', 'b', 'e'}\n",
      "{'d', 'c', 'a', 'b'}\n",
      "{'d', 'c', 'e'}\n"
     ]
    }
   ],
   "source": [
    "A = {'a', 'b', 'c', 'd'}\n",
    "B = {'c', 'd', 'e' }\n",
    "C = {}\n",
    "\n",
    "print(A.symmetric_difference(B))\n",
    "print(B.symmetric_difference(A))\n",
    "\n",
    "print(A.symmetric_difference(C))\n",
    "print(B.symmetric_difference(C))"
   ]
  },
  {
   "cell_type": "code",
   "execution_count": 130,
   "id": "06843e08",
   "metadata": {},
   "outputs": [
    {
     "name": "stdout",
     "output_type": "stream",
     "text": [
      "{'a', 'b', 'e'}\n",
      "{'a', 'b', 'e'}\n",
      "set()\n",
      "set()\n"
     ]
    }
   ],
   "source": [
    "#^ this is the operator which can also be used \n",
    "A = {'a', 'b', 'c', 'd'}\n",
    "B = {'c', 'd', 'e' }\n",
    "\n",
    "print(A ^ B)\n",
    "print(B ^ A)\n",
    "\n",
    "print(A ^ A)\n",
    "print(B ^ B)"
   ]
  }
 ],
 "metadata": {
  "kernelspec": {
   "display_name": "Python 3",
   "language": "python",
   "name": "python3"
  },
  "language_info": {
   "codemirror_mode": {
    "name": "ipython",
    "version": 3
   },
   "file_extension": ".py",
   "mimetype": "text/x-python",
   "name": "python",
   "nbconvert_exporter": "python",
   "pygments_lexer": "ipython3",
   "version": "3.9.7"
  }
 },
 "nbformat": 4,
 "nbformat_minor": 5
}
